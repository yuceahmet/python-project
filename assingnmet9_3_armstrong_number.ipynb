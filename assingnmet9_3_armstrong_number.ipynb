{
  "nbformat": 4,
  "nbformat_minor": 0,
  "metadata": {
    "colab": {
      "name": "assingnmet9/3_armstrong_number.ipynb",
      "provenance": []
    },
    "kernelspec": {
      "name": "python3",
      "display_name": "Python 3"
    },
    "language_info": {
      "name": "python"
    }
  },
  "cells": [
    {
      "cell_type": "code",
      "metadata": {
        "id": "V01UDPr13c9X",
        "colab": {
          "base_uri": "https://localhost:8080/"
        },
        "outputId": "f81302fa-f64b-4eb2-a7d5-e40662e28fd4"
      },
      "source": [
        "x = input(\"enter a positive integer number:\")\n",
        "xx = float(x)\n",
        "if xx < 0 or xx//1 != xx/1 : \n",
        "  print(\"It is an invalid entry. Don't use non-numeric, float, or negative values!\") \n",
        " \n",
        "else :  \n",
        "  liste = list(x)\n",
        "  n = len(liste)\n",
        "  y = 0\n",
        "  z = 0\n",
        "  while y < n :\n",
        "    z = z + (int(liste[y]))**n\n",
        "    y = y + 1\n",
        "  if z == int(x) : \n",
        "    print(\"{} is an armstrong number.\".format(z))\n",
        "  else :\n",
        "    print(\"{} is not an armstrong number.\".format(z))"
      ],
      "execution_count": null,
      "outputs": [
        {
          "output_type": "stream",
          "text": [
            "enter a positive integer number:9.8\n",
            "It is an invalid entry. Don't use non-numeric, float, or negative values!\n"
          ],
          "name": "stdout"
        }
      ]
    }
  ]
}