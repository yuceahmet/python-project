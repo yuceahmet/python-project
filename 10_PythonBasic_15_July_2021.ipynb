{
  "nbformat": 4,
  "nbformat_minor": 5,
  "metadata": {
    "kernelspec": {
      "display_name": "Python 3",
      "language": "python",
      "name": "python3"
    },
    "language_info": {
      "codemirror_mode": {
        "name": "ipython",
        "version": 3
      },
      "file_extension": ".py",
      "mimetype": "text/x-python",
      "name": "python",
      "nbconvert_exporter": "python",
      "pygments_lexer": "ipython3",
      "version": "3.8.8"
    },
    "colab": {
      "name": "10_PythonBasic_15-July-2021.ipynb",
      "provenance": [],
      "include_colab_link": true
    }
  },
  "cells": [
    {
      "cell_type": "markdown",
      "metadata": {
        "id": "view-in-github",
        "colab_type": "text"
      },
      "source": [
        "<a href=\"https://colab.research.google.com/github/yuceahmet/python-project/blob/main/10_PythonBasic_15_July_2021.ipynb\" target=\"_parent\"><img src=\"https://colab.research.google.com/assets/colab-badge.svg\" alt=\"Open In Colab\"/></a>"
      ]
    },
    {
      "cell_type": "markdown",
      "metadata": {
        "id": "22263af8"
      },
      "source": [
        "<h1><p style=\"text-align: center; color:darkblue\">Python In-Class, <br>15 July 2021</p><h1>"
      ],
      "id": "22263af8"
    },
    {
      "cell_type": "code",
      "metadata": {
        "id": "e07bc299",
        "outputId": "de80a8cd-5e34-4a09-bdbe-3b88c8c1d3a7"
      },
      "source": [
        "num1 = float(input(\"Enter the first number please : \"))\n",
        "num2 = float(input(\"Enter the second number please: \"))\n",
        "\n",
        "if num1 > num2 :\n",
        "    larger = num1\n",
        "else :\n",
        "    larger = num2\n",
        "    \n",
        "print(\"The larger number is :\", larger)"
      ],
      "id": "e07bc299",
      "execution_count": null,
      "outputs": [
        {
          "output_type": "stream",
          "text": [
            "Enter the first number please : 5\n",
            "Enter the second number please : 3\n",
            "The larger number is : 5.0\n"
          ],
          "name": "stdout"
        }
      ]
    },
    {
      "cell_type": "code",
      "metadata": {
        "id": "d6026fb0",
        "outputId": "d965046b-1d16-4cd1-ceed-374f00f87ff1"
      },
      "source": [
        "num1 = float(input(\"Enter the first number please : \"))\n",
        "num2 = float(input(\"Enter the second number please : \"))\n",
        "\n",
        "if num1 > num2 :\n",
        "    print(\"The larger number is :\", num1)\n",
        "else :\n",
        "    print(\"The larger number is :\", num2)"
      ],
      "id": "d6026fb0",
      "execution_count": null,
      "outputs": [
        {
          "output_type": "stream",
          "text": [
            "Enter the first number please : 5\n",
            "Enter the second number please : 3\n",
            "The larger number is : 5.0\n"
          ],
          "name": "stdout"
        }
      ]
    },
    {
      "cell_type": "code",
      "metadata": {
        "id": "f36cbcbe",
        "outputId": "dca4a2e3-1d0b-4bfa-995a-4cb919e6baeb"
      },
      "source": [
        "bool_value = False #True\n",
        "\n",
        "\n",
        "if bool_value :\n",
        "    print(\"Yes\")\n",
        "else:\n",
        "    print(\"No\")"
      ],
      "id": "f36cbcbe",
      "execution_count": null,
      "outputs": [
        {
          "output_type": "stream",
          "text": [
            "No\n"
          ],
          "name": "stdout"
        }
      ]
    },
    {
      "cell_type": "code",
      "metadata": {
        "id": "1ebb6c52",
        "outputId": "86a98520-77f6-4105-e253-e2e9d7430024"
      },
      "source": [
        "num1 = float(input(\"Enter first number : \"))\n",
        "num2 = float(input(\"Enter second number : \"))\n",
        "num3 = float(input(\"Enter third number : \"))\n",
        "\n",
        "if (num1 > num2) and (num1 > num3) :\n",
        "    largest = num1\n",
        "elif (num2 > num1) and (num2 > num3) :\n",
        "    largest = num2\n",
        "else :\n",
        "    largest = num3\n",
        "    \n",
        "print(\"The largest number is :\", largest)"
      ],
      "id": "1ebb6c52",
      "execution_count": null,
      "outputs": [
        {
          "output_type": "stream",
          "text": [
            "Enter first number : 3\n",
            "Enter second number : 4\n",
            "Enter third number : 5\n",
            "The largest number is : 5.0\n"
          ],
          "name": "stdout"
        }
      ]
    },
    {
      "cell_type": "code",
      "metadata": {
        "id": "7bc5fa2a",
        "outputId": "9f9851a1-eca5-4731-b438-5a3c495db3a5"
      },
      "source": [
        "x = 3\n",
        "\n",
        "if x == 3 :\n",
        "    print(\"üç\")\n",
        "    \n",
        "elif x == 4 :\n",
        "    print(\"dört\")\n",
        "    \n",
        "elif x == 5 :\n",
        "    print(\"beş\")\n",
        "    \n",
        "else :\n",
        "    print(\"sonsuz\")\n",
        "    \n",
        "print(\"kod sonu geldi.\")"
      ],
      "id": "7bc5fa2a",
      "execution_count": null,
      "outputs": [
        {
          "output_type": "stream",
          "text": [
            "üç\n",
            "kod sonu geldi.\n"
          ],
          "name": "stdout"
        }
      ]
    },
    {
      "cell_type": "code",
      "metadata": {
        "id": "f38a71c7",
        "outputId": "2573f91c-205f-4979-ab90-06e64ae81947"
      },
      "source": [
        "score = int(input(\"Enter your score : \"))\n",
        "\n",
        "if score >= 90 :\n",
        "    if score >= 95 :\n",
        "        score_letter = \"A+\"\n",
        "    else :\n",
        "        score_letter = \"A\"\n",
        "        \n",
        "elif score >= 80 :\n",
        "    if score >= 85 :\n",
        "        score_letter = \"B+\"\n",
        "    else :\n",
        "        score_letter = \"B\"\n",
        "        \n",
        "else :\n",
        "    score_letter = \"B-\"\n",
        "    \n",
        "print(\"Your degree is : \", score_letter)"
      ],
      "id": "f38a71c7",
      "execution_count": null,
      "outputs": [
        {
          "output_type": "stream",
          "text": [
            "Enter your score : 90\n",
            "Your degree is :  A\n"
          ],
          "name": "stdout"
        }
      ]
    },
    {
      "cell_type": "code",
      "metadata": {
        "id": "88a658a3"
      },
      "source": [
        "items = (10, 20)"
      ],
      "id": "88a658a3",
      "execution_count": null,
      "outputs": []
    },
    {
      "cell_type": "code",
      "metadata": {
        "id": "cebeb915"
      },
      "source": [
        "x, y = items"
      ],
      "id": "cebeb915",
      "execution_count": null,
      "outputs": []
    },
    {
      "cell_type": "code",
      "metadata": {
        "id": "99a42726",
        "outputId": "c495e668-f385-4578-ae6d-340cd783c026"
      },
      "source": [
        "x"
      ],
      "id": "99a42726",
      "execution_count": null,
      "outputs": [
        {
          "output_type": "execute_result",
          "data": {
            "text/plain": [
              "10"
            ]
          },
          "metadata": {
            "tags": []
          },
          "execution_count": 13
        }
      ]
    },
    {
      "cell_type": "code",
      "metadata": {
        "id": "b28392c0",
        "outputId": "b3294af2-4f75-432b-86e8-1a87213e82a1"
      },
      "source": [
        "y"
      ],
      "id": "b28392c0",
      "execution_count": null,
      "outputs": [
        {
          "output_type": "execute_result",
          "data": {
            "text/plain": [
              "20"
            ]
          },
          "metadata": {
            "tags": []
          },
          "execution_count": 14
        }
      ]
    },
    {
      "cell_type": "code",
      "metadata": {
        "id": "04bf4823"
      },
      "source": [
        "a, _, b, _ = (10, 20, 30, 40)"
      ],
      "id": "04bf4823",
      "execution_count": null,
      "outputs": []
    },
    {
      "cell_type": "code",
      "metadata": {
        "id": "6e34919d",
        "outputId": "987c4b35-c5e9-451b-d330-0828424d623f"
      },
      "source": [
        "a"
      ],
      "id": "6e34919d",
      "execution_count": null,
      "outputs": [
        {
          "output_type": "execute_result",
          "data": {
            "text/plain": [
              "10"
            ]
          },
          "metadata": {
            "tags": []
          },
          "execution_count": 17
        }
      ]
    },
    {
      "cell_type": "code",
      "metadata": {
        "id": "86aecd31",
        "outputId": "efe39ff1-da5e-4319-ced5-ca2f9bd016c3"
      },
      "source": [
        "b"
      ],
      "id": "86aecd31",
      "execution_count": null,
      "outputs": [
        {
          "output_type": "execute_result",
          "data": {
            "text/plain": [
              "30"
            ]
          },
          "metadata": {
            "tags": []
          },
          "execution_count": 18
        }
      ]
    },
    {
      "cell_type": "code",
      "metadata": {
        "id": "9a3c0867",
        "outputId": "79ec325f-7ac3-4672-d302-86f8b39547a9"
      },
      "source": [
        "print(a, b, _)"
      ],
      "id": "9a3c0867",
      "execution_count": null,
      "outputs": [
        {
          "output_type": "stream",
          "text": [
            "10 30 40\n"
          ],
          "name": "stdout"
        }
      ]
    },
    {
      "cell_type": "code",
      "metadata": {
        "id": "50925871",
        "outputId": "28ad7319-47f9-40d8-eb7d-5f02ce31a647"
      },
      "source": [
        "x, y, z = (11, 22, 33, 44, 55)"
      ],
      "id": "50925871",
      "execution_count": null,
      "outputs": [
        {
          "output_type": "error",
          "ename": "ValueError",
          "evalue": "too many values to unpack (expected 3)",
          "traceback": [
            "\u001b[0;31m---------------------------------------------------------------------------\u001b[0m",
            "\u001b[0;31mValueError\u001b[0m                                Traceback (most recent call last)",
            "\u001b[0;32m<ipython-input-20-9f0c1446e707>\u001b[0m in \u001b[0;36m<module>\u001b[0;34m\u001b[0m\n\u001b[0;32m----> 1\u001b[0;31m \u001b[0mx\u001b[0m\u001b[0;34m,\u001b[0m \u001b[0my\u001b[0m\u001b[0;34m,\u001b[0m \u001b[0mz\u001b[0m \u001b[0;34m=\u001b[0m \u001b[0;34m(\u001b[0m\u001b[0;36m11\u001b[0m\u001b[0;34m,\u001b[0m \u001b[0;36m22\u001b[0m\u001b[0;34m,\u001b[0m \u001b[0;36m33\u001b[0m\u001b[0;34m,\u001b[0m \u001b[0;36m44\u001b[0m\u001b[0;34m,\u001b[0m \u001b[0;36m55\u001b[0m\u001b[0;34m)\u001b[0m\u001b[0;34m\u001b[0m\u001b[0;34m\u001b[0m\u001b[0m\n\u001b[0m",
            "\u001b[0;31mValueError\u001b[0m: too many values to unpack (expected 3)"
          ]
        }
      ]
    },
    {
      "cell_type": "code",
      "metadata": {
        "id": "703e2628"
      },
      "source": [
        "x, y, *z = (11, 22, 33, 44, 55)"
      ],
      "id": "703e2628",
      "execution_count": null,
      "outputs": []
    },
    {
      "cell_type": "code",
      "metadata": {
        "id": "3d731c24",
        "outputId": "6805736f-698e-4366-e7ef-5c6cb1f46936"
      },
      "source": [
        "z"
      ],
      "id": "3d731c24",
      "execution_count": null,
      "outputs": [
        {
          "output_type": "execute_result",
          "data": {
            "text/plain": [
              "[33, 44, 55]"
            ]
          },
          "metadata": {
            "tags": []
          },
          "execution_count": 22
        }
      ]
    },
    {
      "cell_type": "code",
      "metadata": {
        "id": "a8be4600"
      },
      "source": [
        "x, y, *_ = (11, 22, 33, 44, 55, 66, 77)"
      ],
      "id": "a8be4600",
      "execution_count": null,
      "outputs": []
    },
    {
      "cell_type": "code",
      "metadata": {
        "id": "ba808b19",
        "outputId": "e546a5ff-d5fb-41df-dde6-3683b2f91ee2"
      },
      "source": [
        "x"
      ],
      "id": "ba808b19",
      "execution_count": null,
      "outputs": [
        {
          "output_type": "execute_result",
          "data": {
            "text/plain": [
              "11"
            ]
          },
          "metadata": {
            "tags": []
          },
          "execution_count": 25
        }
      ]
    },
    {
      "cell_type": "code",
      "metadata": {
        "id": "3f2727cf",
        "outputId": "acbe8770-61b5-4390-a9be-9eb74b279547"
      },
      "source": [
        "y"
      ],
      "id": "3f2727cf",
      "execution_count": null,
      "outputs": [
        {
          "output_type": "execute_result",
          "data": {
            "text/plain": [
              "22"
            ]
          },
          "metadata": {
            "tags": []
          },
          "execution_count": 26
        }
      ]
    },
    {
      "cell_type": "code",
      "metadata": {
        "id": "d1730c2c",
        "outputId": "09266e0f-212f-4623-f178-e6ed6cac8251"
      },
      "source": [
        "_"
      ],
      "id": "d1730c2c",
      "execution_count": null,
      "outputs": [
        {
          "output_type": "execute_result",
          "data": {
            "text/plain": [
              "[33, 44, 55, 66, 77]"
            ]
          },
          "metadata": {
            "tags": []
          },
          "execution_count": 27
        }
      ]
    },
    {
      "cell_type": "code",
      "metadata": {
        "id": "2a35f631"
      },
      "source": [
        "x, y, *z, t = (11, 22, 33, 44, 55, 66, 77)"
      ],
      "id": "2a35f631",
      "execution_count": null,
      "outputs": []
    },
    {
      "cell_type": "code",
      "metadata": {
        "id": "ab8ef7a1",
        "outputId": "909d2e03-3bc4-4f0d-fc91-9f13d6efa3d7"
      },
      "source": [
        "print(x, y, z, t)"
      ],
      "id": "ab8ef7a1",
      "execution_count": null,
      "outputs": [
        {
          "output_type": "stream",
          "text": [
            "11 22 [33, 44, 55, 66] 77\n"
          ],
          "name": "stdout"
        }
      ]
    },
    {
      "cell_type": "code",
      "metadata": {
        "id": "eac32aec"
      },
      "source": [
        "x, y, *_, t = (11, 22, 33, 44, 55, 66, 77)"
      ],
      "id": "eac32aec",
      "execution_count": null,
      "outputs": []
    },
    {
      "cell_type": "code",
      "metadata": {
        "id": "c9d71698",
        "outputId": "ea46ca6d-27fd-42cb-ca03-342e43c61b3b"
      },
      "source": [
        "print(x, y, t)"
      ],
      "id": "c9d71698",
      "execution_count": null,
      "outputs": [
        {
          "output_type": "stream",
          "text": [
            "11 22 77\n"
          ],
          "name": "stdout"
        }
      ]
    },
    {
      "cell_type": "code",
      "metadata": {
        "id": "4bc44807",
        "outputId": "218b947f-ed0a-4ee3-9299-5455c022addd"
      },
      "source": [
        "max(1,2,3)"
      ],
      "id": "4bc44807",
      "execution_count": null,
      "outputs": [
        {
          "output_type": "execute_result",
          "data": {
            "text/plain": [
              "3"
            ]
          },
          "metadata": {
            "tags": []
          },
          "execution_count": 34
        }
      ]
    },
    {
      "cell_type": "code",
      "metadata": {
        "id": "aafbd3d4"
      },
      "source": [
        "empty = []"
      ],
      "id": "aafbd3d4",
      "execution_count": null,
      "outputs": []
    },
    {
      "cell_type": "code",
      "metadata": {
        "id": "06201523",
        "outputId": "84ea64ae-f8f1-48c3-f0d4-7d3422dda434"
      },
      "source": [
        "max(empty, default=True)"
      ],
      "id": "06201523",
      "execution_count": null,
      "outputs": [
        {
          "output_type": "execute_result",
          "data": {
            "text/plain": [
              "True"
            ]
          },
          "metadata": {
            "tags": []
          },
          "execution_count": 36
        }
      ]
    },
    {
      "cell_type": "code",
      "metadata": {
        "id": "bd5d4993",
        "outputId": "7cdeda0b-5ba4-4047-da1b-7f71ff9eed37"
      },
      "source": [
        "max(empty, default=\"Boş\")"
      ],
      "id": "bd5d4993",
      "execution_count": null,
      "outputs": [
        {
          "output_type": "execute_result",
          "data": {
            "text/plain": [
              "'Boş'"
            ]
          },
          "metadata": {
            "tags": []
          },
          "execution_count": 37
        }
      ]
    },
    {
      "cell_type": "code",
      "metadata": {
        "id": "9ca2ef23"
      },
      "source": [
        "seq = [1,1,1,1,1,2,2,2,2,3,3,3,4,4]"
      ],
      "id": "9ca2ef23",
      "execution_count": null,
      "outputs": []
    },
    {
      "cell_type": "code",
      "metadata": {
        "id": "998e52cd",
        "outputId": "0dac68ba-5d69-493e-af02-dab9e1684af9"
      },
      "source": [
        "max(seq)"
      ],
      "id": "998e52cd",
      "execution_count": null,
      "outputs": [
        {
          "output_type": "execute_result",
          "data": {
            "text/plain": [
              "4"
            ]
          },
          "metadata": {
            "tags": []
          },
          "execution_count": 42
        }
      ]
    },
    {
      "cell_type": "code",
      "metadata": {
        "id": "67fe6998",
        "outputId": "c3d4a424-935c-473a-d484-ab0f74543ef1"
      },
      "source": [
        "seq.count(4)"
      ],
      "id": "67fe6998",
      "execution_count": null,
      "outputs": [
        {
          "output_type": "execute_result",
          "data": {
            "text/plain": [
              "2"
            ]
          },
          "metadata": {
            "tags": []
          },
          "execution_count": 43
        }
      ]
    },
    {
      "cell_type": "code",
      "metadata": {
        "id": "8691b669",
        "outputId": "5fd9dcd3-5aab-4f26-987a-1a060da2dbae"
      },
      "source": [
        "seq.count(max(seq))"
      ],
      "id": "8691b669",
      "execution_count": null,
      "outputs": [
        {
          "output_type": "execute_result",
          "data": {
            "text/plain": [
              "2"
            ]
          },
          "metadata": {
            "tags": []
          },
          "execution_count": 44
        }
      ]
    },
    {
      "cell_type": "code",
      "metadata": {
        "id": "e405c676",
        "outputId": "223b40e7-4149-4799-9e54-deabab0b1046"
      },
      "source": [
        "seq.count(1)"
      ],
      "id": "e405c676",
      "execution_count": null,
      "outputs": [
        {
          "output_type": "execute_result",
          "data": {
            "text/plain": [
              "5"
            ]
          },
          "metadata": {
            "tags": []
          },
          "execution_count": 45
        }
      ]
    },
    {
      "cell_type": "code",
      "metadata": {
        "id": "814ba29c"
      },
      "source": [
        "a = max(seq, key = seq.count)"
      ],
      "id": "814ba29c",
      "execution_count": null,
      "outputs": []
    },
    {
      "cell_type": "code",
      "metadata": {
        "id": "12e2ee9e"
      },
      "source": [
        "b = seq.count(max(seq, key = seq.count))"
      ],
      "id": "12e2ee9e",
      "execution_count": null,
      "outputs": []
    },
    {
      "cell_type": "code",
      "metadata": {
        "id": "c5e21bd1",
        "outputId": "1934e3fe-9868-4561-bf1e-212d0efb7521"
      },
      "source": [
        "print(\"En çok tekrar eden {} sayısıdır ve {} kere tekrar etmiştir.\".format(a,b))"
      ],
      "id": "c5e21bd1",
      "execution_count": null,
      "outputs": [
        {
          "output_type": "stream",
          "text": [
            "En çok tekrar eden 1 sayısıdır ve 5 kere tekrar etmiştir.\n"
          ],
          "name": "stdout"
        }
      ]
    },
    {
      "cell_type": "code",
      "metadata": {
        "id": "4a4aec79"
      },
      "source": [
        "left = {\"q\", \"w\", \"e\", \"r\", \"t\", \"a\", \"s\", \"d\", \"f\", \"g\", \"z\", \"x\", \"c\", \"v\", \"b\"}\n",
        "right = {\"y\", \"u\", \"i\", \"o\", \"p\", \"h\", \"j\", \"k\", \"l\", \"n\", \"m\"}\n",
        "word = \"test\""
      ],
      "id": "4a4aec79",
      "execution_count": null,
      "outputs": []
    },
    {
      "cell_type": "code",
      "metadata": {
        "id": "7925d0d2"
      },
      "source": [
        "word = \"clarusway\""
      ],
      "id": "7925d0d2",
      "execution_count": null,
      "outputs": []
    },
    {
      "cell_type": "code",
      "metadata": {
        "id": "56a6eaf3",
        "outputId": "cb65244b-2ba5-49df-9bad-133bd35aa84e"
      },
      "source": [
        "word = input(\"give me a word please :\")"
      ],
      "id": "56a6eaf3",
      "execution_count": null,
      "outputs": [
        {
          "output_type": "stream",
          "text": [
            "give me a word please :clarusway\n"
          ],
          "name": "stdout"
        }
      ]
    },
    {
      "cell_type": "code",
      "metadata": {
        "id": "b002a46e",
        "outputId": "2f38cf45-1e8e-4900-b660-9872c6828655"
      },
      "source": [
        "set_word = set(word)\n",
        "set_word"
      ],
      "id": "b002a46e",
      "execution_count": null,
      "outputs": [
        {
          "output_type": "execute_result",
          "data": {
            "text/plain": [
              "{'a', 'c', 'l', 'r', 's', 'u', 'w', 'y'}"
            ]
          },
          "metadata": {
            "tags": []
          },
          "execution_count": 66
        }
      ]
    },
    {
      "cell_type": "code",
      "metadata": {
        "id": "640b6580",
        "outputId": "094eaa89-c9c7-43e0-f52a-48e8f8e07f61"
      },
      "source": [
        "set_word - left"
      ],
      "id": "640b6580",
      "execution_count": null,
      "outputs": [
        {
          "output_type": "execute_result",
          "data": {
            "text/plain": [
              "{'l', 'u', 'y'}"
            ]
          },
          "metadata": {
            "tags": []
          },
          "execution_count": 67
        }
      ]
    },
    {
      "cell_type": "code",
      "metadata": {
        "id": "c8df84fc",
        "outputId": "0351c4b0-31c0-4349-aa78-717ea3a8ee65"
      },
      "source": [
        "set_word - right"
      ],
      "id": "c8df84fc",
      "execution_count": null,
      "outputs": [
        {
          "output_type": "execute_result",
          "data": {
            "text/plain": [
              "{'a', 'c', 'r', 's', 'w'}"
            ]
          },
          "metadata": {
            "tags": []
          },
          "execution_count": 68
        }
      ]
    },
    {
      "cell_type": "code",
      "metadata": {
        "id": "d16c8aa9",
        "outputId": "1498ead5-d19d-43ef-9acf-4f1f73ea206c"
      },
      "source": [
        "left_bool = bool(set_word - left)\n",
        "left_bool"
      ],
      "id": "d16c8aa9",
      "execution_count": null,
      "outputs": [
        {
          "output_type": "execute_result",
          "data": {
            "text/plain": [
              "True"
            ]
          },
          "metadata": {
            "tags": []
          },
          "execution_count": 69
        }
      ]
    },
    {
      "cell_type": "code",
      "metadata": {
        "id": "1c6d0b2c",
        "outputId": "d4bf9d8f-2e2f-427d-82a5-5626f9ef861e"
      },
      "source": [
        "right_bool = bool(set_word - right)\n",
        "right_bool"
      ],
      "id": "1c6d0b2c",
      "execution_count": null,
      "outputs": [
        {
          "output_type": "execute_result",
          "data": {
            "text/plain": [
              "True"
            ]
          },
          "metadata": {
            "tags": []
          },
          "execution_count": 70
        }
      ]
    },
    {
      "cell_type": "code",
      "metadata": {
        "id": "86caa020",
        "outputId": "4d6b5407-0af7-4985-d404-908f679bae59"
      },
      "source": [
        "left_bool and right_bool"
      ],
      "id": "86caa020",
      "execution_count": null,
      "outputs": [
        {
          "output_type": "execute_result",
          "data": {
            "text/plain": [
              "True"
            ]
          },
          "metadata": {
            "tags": []
          },
          "execution_count": 64
        }
      ]
    }
  ]
}
