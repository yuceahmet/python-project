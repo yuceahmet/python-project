{
  "nbformat": 4,
  "nbformat_minor": 0,
  "metadata": {
    "kernelspec": {
      "display_name": "Python 3",
      "language": "python",
      "name": "python3"
    },
    "language_info": {
      "codemirror_mode": {
        "name": "ipython",
        "version": 3
      },
      "file_extension": ".py",
      "mimetype": "text/x-python",
      "name": "python",
      "nbconvert_exporter": "python",
      "pygments_lexer": "ipython3",
      "version": "3.7.3"
    },
    "colab": {
      "name": "19_PythonBasic_23-August-2021.ipynb",
      "provenance": [],
      "include_colab_link": true
    }
  },
  "cells": [
    {
      "cell_type": "markdown",
      "metadata": {
        "id": "view-in-github",
        "colab_type": "text"
      },
      "source": [
        "<a href=\"https://colab.research.google.com/github/yuceahmet/python-project/blob/main/19_PythonBasic_23_August_2021.ipynb\" target=\"_parent\"><img src=\"https://colab.research.google.com/assets/colab-badge.svg\" alt=\"Open In Colab\"/></a>"
      ]
    },
    {
      "cell_type": "markdown",
      "metadata": {
        "id": "Nmx1TUrpqfEr"
      },
      "source": [
        "<h1><p style=\"text-align: center; color:darkblue\">Python + In-Class, <br>23 August 2021</p><h1>"
      ]
    },
    {
      "cell_type": "code",
      "metadata": {
        "id": "KoVNjxHoqfEt"
      },
      "source": [
        "import random"
      ],
      "execution_count": null,
      "outputs": []
    },
    {
      "cell_type": "code",
      "metadata": {
        "id": "VjuUgLExqfEt",
        "outputId": "5bcacbea-9b6b-4924-ca46-ac8eb63290cb"
      },
      "source": [
        "chr(68)"
      ],
      "execution_count": null,
      "outputs": [
        {
          "data": {
            "text/plain": [
              "'D'"
            ]
          },
          "execution_count": 2,
          "metadata": {},
          "output_type": "execute_result"
        }
      ]
    },
    {
      "cell_type": "code",
      "metadata": {
        "id": "HJyOauSZqfEu",
        "outputId": "a5e30a73-1cab-4c76-d93a-937b4cff69f5"
      },
      "source": [
        "random.randint(65, 90)"
      ],
      "execution_count": null,
      "outputs": [
        {
          "data": {
            "text/plain": [
              "66"
            ]
          },
          "execution_count": 11,
          "metadata": {},
          "output_type": "execute_result"
        }
      ]
    },
    {
      "cell_type": "code",
      "metadata": {
        "id": "NxHZEfwaqfEw"
      },
      "source": [
        "# ['X', 'Y', 'A']"
      ],
      "execution_count": null,
      "outputs": []
    },
    {
      "cell_type": "code",
      "metadata": {
        "id": "09XoqCo-qfEw",
        "outputId": "377055c4-a2cd-4d59-afb5-ad9e0399921c"
      },
      "source": [
        "uppers = [chr(random.randint(65, 90)) for i in range(3)]\n",
        "uppers"
      ],
      "execution_count": null,
      "outputs": [
        {
          "data": {
            "text/plain": [
              "['W', 'K', 'Y']"
            ]
          },
          "execution_count": 13,
          "metadata": {},
          "output_type": "execute_result"
        }
      ]
    },
    {
      "cell_type": "code",
      "metadata": {
        "id": "HLl75fUMqfEx",
        "outputId": "d4b3c1eb-27a7-4055-d7b4-dc10c4453448"
      },
      "source": [
        "\"\".join(uppers)"
      ],
      "execution_count": null,
      "outputs": [
        {
          "data": {
            "text/plain": [
              "'WKY'"
            ]
          },
          "execution_count": 16,
          "metadata": {},
          "output_type": "execute_result"
        }
      ]
    },
    {
      "cell_type": "code",
      "metadata": {
        "id": "SzcGUFK0qfEy",
        "outputId": "db133503-2c62-43ba-a7e3-cb4e87196820"
      },
      "source": [
        "lowers = [chr(random.randint(97, 122)) for i in range(3)]\n",
        "lowers"
      ],
      "execution_count": null,
      "outputs": [
        {
          "data": {
            "text/plain": [
              "['l', 'c', 'g']"
            ]
          },
          "execution_count": 17,
          "metadata": {},
          "output_type": "execute_result"
        }
      ]
    },
    {
      "cell_type": "code",
      "metadata": {
        "id": "eDtUFo-2qfEy",
        "outputId": "819a46fe-7670-4c13-d016-d3e3d7d6eb78"
      },
      "source": [
        "numbers = [chr(random.randint(48, 57)) for i in range(3)]\n",
        "numbers"
      ],
      "execution_count": null,
      "outputs": [
        {
          "data": {
            "text/plain": [
              "['7', '8', '2']"
            ]
          },
          "execution_count": 18,
          "metadata": {},
          "output_type": "execute_result"
        }
      ]
    },
    {
      "cell_type": "code",
      "metadata": {
        "id": "gQB_6mKUqfEz",
        "outputId": "016a67f3-6209-42ee-fe1c-adc328c8ffa0"
      },
      "source": [
        "chars = chr(random.randint(33, 47)) + chr(random.randint(58, 64))\n",
        "chars"
      ],
      "execution_count": null,
      "outputs": [
        {
          "data": {
            "text/plain": [
              "'%>'"
            ]
          },
          "execution_count": 19,
          "metadata": {},
          "output_type": "execute_result"
        }
      ]
    },
    {
      "cell_type": "code",
      "metadata": {
        "id": "Tx1NebhmqfEz",
        "outputId": "a66b6b4b-41a2-4a93-b770-f35963abafb8"
      },
      "source": [
        "password = \"\".join(uppers) + \"\".join(lowers) + \"\".join(numbers) + \"\".join(chars)\n",
        "password"
      ],
      "execution_count": null,
      "outputs": [
        {
          "data": {
            "text/plain": [
              "'WKYlcg782%>'"
            ]
          },
          "execution_count": 21,
          "metadata": {},
          "output_type": "execute_result"
        }
      ]
    },
    {
      "cell_type": "code",
      "metadata": {
        "id": "LqOFjchzqfE0"
      },
      "source": [
        "random.shuffle(uppers)"
      ],
      "execution_count": null,
      "outputs": []
    },
    {
      "cell_type": "code",
      "metadata": {
        "id": "J-ApwUKyqfE0",
        "outputId": "ed0eb5fa-d37c-4350-d8f8-06cb223ce146"
      },
      "source": [
        "uppers"
      ],
      "execution_count": null,
      "outputs": [
        {
          "data": {
            "text/plain": [
              "['Y', 'W', 'K']"
            ]
          },
          "execution_count": 24,
          "metadata": {},
          "output_type": "execute_result"
        }
      ]
    },
    {
      "cell_type": "code",
      "metadata": {
        "id": "sA8dN2FcqfE0"
      },
      "source": [
        "def shuffleit(string) :\n",
        "    tempList = list(string)\n",
        "    random.shuffle(tempList)\n",
        "    return \"\".join(tempList)"
      ],
      "execution_count": null,
      "outputs": []
    },
    {
      "cell_type": "code",
      "metadata": {
        "id": "uDgOn_bJqfE1",
        "outputId": "882594dd-c05d-449a-e36f-989ff0482d60"
      },
      "source": [
        "passw = shuffleit(password)\n",
        "passw"
      ],
      "execution_count": null,
      "outputs": [
        {
          "data": {
            "text/plain": [
              "'gY>%KlWc287'"
            ]
          },
          "execution_count": 26,
          "metadata": {},
          "output_type": "execute_result"
        }
      ]
    },
    {
      "cell_type": "code",
      "metadata": {
        "id": "0sUq5WrlqfE1"
      },
      "source": [
        "from timeit import timeit"
      ],
      "execution_count": null,
      "outputs": []
    },
    {
      "cell_type": "code",
      "metadata": {
        "id": "qqVrcJS9qfE1"
      },
      "source": [
        "def for_loop() :\n",
        "    result = []\n",
        "    \n",
        "    for i in range(1000000) :\n",
        "        result.append(i)\n",
        "    return result"
      ],
      "execution_count": null,
      "outputs": []
    },
    {
      "cell_type": "code",
      "metadata": {
        "id": "_WKgLfroqfE1"
      },
      "source": [
        "def list_comprehension() :\n",
        "    return [i for i in range(1000000)]"
      ],
      "execution_count": null,
      "outputs": []
    },
    {
      "cell_type": "code",
      "metadata": {
        "id": "RslKUMcMqfE1",
        "outputId": "402eacfe-a861-4115-ba52-76b80a9073c5"
      },
      "source": [
        "time1 = timeit(for_loop, number = 1000)\n",
        "time2 = timeit(list_comprehension, number = 1000)\n",
        "\n",
        "print(f\"List Comprehension is {round(time1/time2, 2)} times faster than for_loop.\")"
      ],
      "execution_count": null,
      "outputs": [
        {
          "name": "stdout",
          "output_type": "stream",
          "text": [
            "List Comprehension is 1.65 times faster than for_loop.\n"
          ]
        }
      ]
    },
    {
      "cell_type": "code",
      "metadata": {
        "id": "YY15_FgZqfE2"
      },
      "source": [
        "import smtplib"
      ],
      "execution_count": null,
      "outputs": []
    },
    {
      "cell_type": "code",
      "metadata": {
        "id": "r0EA88NHqfE2"
      },
      "source": [
        "server = smtplib.SMTP(\"smtp.gmail.com\", 587)"
      ],
      "execution_count": null,
      "outputs": []
    },
    {
      "cell_type": "code",
      "metadata": {
        "id": "OacsEMcdqfE2",
        "outputId": "603bb044-7d81-4a32-abb2-d507ba702003"
      },
      "source": [
        "server.starttls()"
      ],
      "execution_count": null,
      "outputs": [
        {
          "data": {
            "text/plain": [
              "(220, b'2.0.0 Ready to start TLS')"
            ]
          },
          "execution_count": 34,
          "metadata": {},
          "output_type": "execute_result"
        }
      ]
    },
    {
      "cell_type": "code",
      "metadata": {
        "id": "d6VAiZSOqfE2",
        "outputId": "5fcf87ed-9ff1-447a-929b-830c5a7431c7"
      },
      "source": [
        "server.login(\"necati.sakir.74\", my_pass)"
      ],
      "execution_count": null,
      "outputs": [
        {
          "data": {
            "text/plain": [
              "(235, b'2.7.0 Accepted')"
            ]
          },
          "execution_count": 36,
          "metadata": {},
          "output_type": "execute_result"
        }
      ]
    },
    {
      "cell_type": "code",
      "metadata": {
        "id": "8dr0hekFqfE2"
      },
      "source": [
        "message = \"\\n This is my test mail to distinguihed trainee.\\n Have a good day\""
      ],
      "execution_count": null,
      "outputs": []
    },
    {
      "cell_type": "code",
      "metadata": {
        "id": "cFJCFJZnqfE2"
      },
      "source": [
        "address = [\"sedatascientist@gmail.com\", \"halatsar35@gmail.com\", \"erensennn123@gmail.com\"]"
      ],
      "execution_count": null,
      "outputs": []
    },
    {
      "cell_type": "code",
      "metadata": {
        "id": "Tr9Hpc4DqfE2",
        "outputId": "79a2758d-b3c3-42b1-d6a1-6f939b527d3c"
      },
      "source": [
        "server.sendmail(\"necati.sakir.74@gmail.com\", address, message)\n",
        "server.quit()"
      ],
      "execution_count": null,
      "outputs": [
        {
          "data": {
            "text/plain": [
              "(221, b'2.0.0 closing connection m13sm294225edp.53 - gsmtp')"
            ]
          },
          "execution_count": 39,
          "metadata": {},
          "output_type": "execute_result"
        }
      ]
    },
    {
      "cell_type": "code",
      "metadata": {
        "id": "BEOpBvRiqfE3"
      },
      "source": [
        "\"The best IT School is Clarusway.\""
      ],
      "execution_count": null,
      "outputs": []
    },
    {
      "cell_type": "code",
      "metadata": {
        "id": "3kOybFZ1qfE3"
      },
      "source": [
        "pip list"
      ],
      "execution_count": null,
      "outputs": []
    },
    {
      "cell_type": "code",
      "metadata": {
        "id": "e-8A9YehqfE3"
      },
      "source": [
        "pip install googletrans"
      ],
      "execution_count": null,
      "outputs": []
    },
    {
      "cell_type": "code",
      "metadata": {
        "id": "of2qatfcqfE3"
      },
      "source": [
        "import googletrans"
      ],
      "execution_count": null,
      "outputs": []
    },
    {
      "cell_type": "code",
      "metadata": {
        "id": "QcDSXwlHqfE3"
      },
      "source": [
        "from googletrans import Translator"
      ],
      "execution_count": null,
      "outputs": []
    },
    {
      "cell_type": "code",
      "metadata": {
        "id": "oAGLTkRMqfE3"
      },
      "source": [
        "text = \"En iyi Bootcamp okulu Clarusway'dir.\""
      ],
      "execution_count": null,
      "outputs": []
    },
    {
      "cell_type": "code",
      "metadata": {
        "id": "iM8lobznqfE3",
        "outputId": "1bb70499-0701-4699-d696-e8fc44031fe7"
      },
      "source": [
        "status = [1]\n",
        "if status:\n",
        "\tprint(\"''HelloWorld\")\n",
        "else :\n",
        "\tprint(\"Hello Universe'\")\n"
      ],
      "execution_count": null,
      "outputs": [
        {
          "name": "stdout",
          "output_type": "stream",
          "text": [
            "''HelloWorld\n"
          ]
        }
      ]
    },
    {
      "cell_type": "code",
      "metadata": {
        "id": "lr__fPgjqfE3"
      },
      "source": [
        "x = [\"1\", \"2\", \"3\"]\n",
        "y = [\"USA\", \"Japan\", \"Spain\"]\n",
        "\n",
        "result = []\n",
        "for i in y:\n",
        "\tfor j in x:\n",
        "\t\tresult.append(i+j)"
      ],
      "execution_count": null,
      "outputs": []
    },
    {
      "cell_type": "code",
      "metadata": {
        "id": "HIV2OKTxqfE3",
        "outputId": "c611d7aa-2699-4b01-f7b2-1246ddaceac0"
      },
      "source": [
        "[i+j for i in y for j in x]"
      ],
      "execution_count": null,
      "outputs": [
        {
          "data": {
            "text/plain": [
              "['USA1',\n",
              " 'USA2',\n",
              " 'USA3',\n",
              " 'Japan1',\n",
              " 'Japan2',\n",
              " 'Japan3',\n",
              " 'Spain1',\n",
              " 'Spain2',\n",
              " 'Spain3']"
            ]
          },
          "execution_count": 22,
          "metadata": {},
          "output_type": "execute_result"
        }
      ]
    }
  ]
}