{
  "nbformat": 4,
  "nbformat_minor": 0,
  "metadata": {
    "colab": {
      "name": "Assignment-8_Count_the_letters.ipynb",
      "provenance": [],
      "authorship_tag": "ABX9TyNnYqNvIPWUaof997k+QxaV",
      "include_colab_link": true
    },
    "kernelspec": {
      "name": "python3",
      "display_name": "Python 3"
    },
    "language_info": {
      "name": "python"
    }
  },
  "cells": [
    {
      "cell_type": "markdown",
      "metadata": {
        "id": "view-in-github",
        "colab_type": "text"
      },
      "source": [
        "<a href=\"https://colab.research.google.com/github/yuceahmet/python-project/blob/main/Assignment_8_Count_the_letters.ipynb\" target=\"_parent\"><img src=\"https://colab.research.google.com/assets/colab-badge.svg\" alt=\"Open In Colab\"/></a>"
      ]
    },
    {
      "cell_type": "code",
      "metadata": {
        "colab": {
          "base_uri": "https://localhost:8080/"
        },
        "id": "wtHmxFqg1vBw",
        "outputId": "74e5b9f9-4e0a-40ab-8792-d5ba454a220e"
      },
      "source": [
        "# Assignment-8_Count_the_letters\n",
        "sentence = input(\"Enter a sentence : \").lower()\n",
        "letters_dict = {}\n",
        "for i in sentence:\n",
        "    values = 0\n",
        "    keys = i\n",
        "    values = sentence.count(i)\n",
        "    letters_dict[keys] = values\n",
        "letters_dict"
      ],
      "execution_count": 2,
      "outputs": [
        {
          "output_type": "stream",
          "text": [
            "Enter a sentence : Count all the letters in What I Say.\n"
          ],
          "name": "stdout"
        },
        {
          "output_type": "execute_result",
          "data": {
            "text/plain": [
              "{' ': 7,\n",
              " '.': 1,\n",
              " 'a': 3,\n",
              " 'c': 1,\n",
              " 'e': 3,\n",
              " 'h': 2,\n",
              " 'i': 2,\n",
              " 'l': 3,\n",
              " 'n': 2,\n",
              " 'o': 1,\n",
              " 'r': 1,\n",
              " 's': 2,\n",
              " 't': 5,\n",
              " 'u': 1,\n",
              " 'w': 1,\n",
              " 'y': 1}"
            ]
          },
          "metadata": {},
          "execution_count": 2
        }
      ]
    }
  ]
}