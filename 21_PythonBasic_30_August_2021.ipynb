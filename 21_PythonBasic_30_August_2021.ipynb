{
  "nbformat": 4,
  "nbformat_minor": 5,
  "metadata": {
    "kernelspec": {
      "display_name": "Python 3",
      "language": "python",
      "name": "python3"
    },
    "language_info": {
      "codemirror_mode": {
        "name": "ipython",
        "version": 3
      },
      "file_extension": ".py",
      "mimetype": "text/x-python",
      "name": "python",
      "nbconvert_exporter": "python",
      "pygments_lexer": "ipython3",
      "version": "3.8.8"
    },
    "colab": {
      "name": "21_PythonBasic_30-August-2021.ipynb",
      "provenance": [],
      "include_colab_link": true
    }
  },
  "cells": [
    {
      "cell_type": "markdown",
      "metadata": {
        "id": "view-in-github",
        "colab_type": "text"
      },
      "source": [
        "<a href=\"https://colab.research.google.com/github/yuceahmet/python-project/blob/main/21_PythonBasic_30_August_2021.ipynb\" target=\"_parent\"><img src=\"https://colab.research.google.com/assets/colab-badge.svg\" alt=\"Open In Colab\"/></a>"
      ]
    },
    {
      "cell_type": "markdown",
      "metadata": {
        "id": "22263af8"
      },
      "source": [
        "<h1><p style=\"text-align: center; color:darkblue\">Python + In-Class, <br>26 August 2021</p><h1>"
      ],
      "id": "22263af8"
    },
    {
      "cell_type": "code",
      "metadata": {
        "id": "9741ef81",
        "outputId": "9d8e0ed9-1755-4724-e78b-30a3020ea32b"
      },
      "source": [
        "while True:\n",
        "    \n",
        "    no_one = int(input(\"The first number please : \"))\n",
        "    no_two = int(input(\"The second number please : \"))\n",
        "    \n",
        "    try:\n",
        "        division = no_one / no_two  # normal part of the program\n",
        "    except ZeroDivisionError:\n",
        "        print(\"You can't divide by zero! Try again.\")  # executes when division by zero\n",
        "    else:\n",
        "        print(\"The result of the division is: \", division)  # executes if there is no exception\n",
        "    finally:\n",
        "        print(\"Thanks for using our mini divison calculator! Come again!\")\n",
        "        break  # exits the while loop\n"
      ],
      "id": "9741ef81",
      "execution_count": null,
      "outputs": [
        {
          "name": "stdout",
          "output_type": "stream",
          "text": [
            "The first number please : 7\n",
            "The second number please : 0\n",
            "You can't divide by zero! Try again.\n",
            "Thanks for using our mini divison calculator! Come again!\n"
          ]
        }
      ]
    },
    {
      "cell_type": "code",
      "metadata": {
        "id": "310e6a70",
        "outputId": "f30c85ff-d6ac-43e7-bfac-be4e1b05db2b"
      },
      "source": [
        "while True:\n",
        "    no_one = int(input(\"The first number please : \"))\n",
        "    no_two = int(input(\"The second number please : \"))\n",
        "    try:\n",
        "        division = no_one / no_two  # normal part of the program\n",
        "    except ZeroDivisionError:\n",
        "        print(\"You can't divide by zero! Try again.\")  # executes when division by zero\n",
        "    else:\n",
        "        print(\"The result of the division is : \", division)  # executes if there is no exception\n",
        "    finally:\n",
        "        print(\"Thanks for using our mini divison calculator! Come again!\")\n",
        "        break  # exits the while loop\n"
      ],
      "id": "310e6a70",
      "execution_count": null,
      "outputs": [
        {
          "name": "stdout",
          "output_type": "stream",
          "text": [
            "The first number please : 7\n",
            "The second number please : k\n"
          ]
        },
        {
          "ename": "ValueError",
          "evalue": "invalid literal for int() with base 10: 'k'",
          "output_type": "error",
          "traceback": [
            "\u001b[0;31m---------------------------------------------------------------------------\u001b[0m",
            "\u001b[0;31mValueError\u001b[0m                                Traceback (most recent call last)",
            "\u001b[0;32m<ipython-input-3-5fd297d1c219>\u001b[0m in \u001b[0;36m<module>\u001b[0;34m\u001b[0m\n\u001b[1;32m      1\u001b[0m \u001b[0;32mwhile\u001b[0m \u001b[0;32mTrue\u001b[0m\u001b[0;34m:\u001b[0m\u001b[0;34m\u001b[0m\u001b[0;34m\u001b[0m\u001b[0m\n\u001b[1;32m      2\u001b[0m     \u001b[0mno_one\u001b[0m \u001b[0;34m=\u001b[0m \u001b[0mint\u001b[0m\u001b[0;34m(\u001b[0m\u001b[0minput\u001b[0m\u001b[0;34m(\u001b[0m\u001b[0;34m\"The first number please : \"\u001b[0m\u001b[0;34m)\u001b[0m\u001b[0;34m)\u001b[0m\u001b[0;34m\u001b[0m\u001b[0;34m\u001b[0m\u001b[0m\n\u001b[0;32m----> 3\u001b[0;31m     \u001b[0mno_two\u001b[0m \u001b[0;34m=\u001b[0m \u001b[0mint\u001b[0m\u001b[0;34m(\u001b[0m\u001b[0minput\u001b[0m\u001b[0;34m(\u001b[0m\u001b[0;34m\"The second number please : \"\u001b[0m\u001b[0;34m)\u001b[0m\u001b[0;34m)\u001b[0m\u001b[0;34m\u001b[0m\u001b[0;34m\u001b[0m\u001b[0m\n\u001b[0m\u001b[1;32m      4\u001b[0m     \u001b[0;32mtry\u001b[0m\u001b[0;34m:\u001b[0m\u001b[0;34m\u001b[0m\u001b[0;34m\u001b[0m\u001b[0m\n\u001b[1;32m      5\u001b[0m         \u001b[0mdivision\u001b[0m \u001b[0;34m=\u001b[0m \u001b[0mno_one\u001b[0m \u001b[0;34m/\u001b[0m \u001b[0mno_two\u001b[0m  \u001b[0;31m# normal part of the program\u001b[0m\u001b[0;34m\u001b[0m\u001b[0;34m\u001b[0m\u001b[0m\n",
            "\u001b[0;31mValueError\u001b[0m: invalid literal for int() with base 10: 'k'"
          ]
        }
      ]
    },
    {
      "cell_type": "code",
      "metadata": {
        "id": "36342a95",
        "outputId": "7e2d59fd-1439-442b-9536-bfdef7c64878"
      },
      "source": [
        "while True:\n",
        "\n",
        "    try:\n",
        "        no_one = int(input(\"The first number please : \"))\n",
        "        no_two = int(input(\"The second number please : \"))\n",
        "        \n",
        "        division = no_one / no_two  # normal part of the program\n",
        "    except :\n",
        "        print(\"Something is wrong! Try again.\")  # executes when division by zero\n",
        "    else:\n",
        "        print(\"The result of the division is : \", division)  # executes if there is no exception\n",
        "    finally:\n",
        "        print(\"Thanks for using our mini divison calculator! Come again!\")\n",
        "        break  # exits the while loop\n"
      ],
      "id": "36342a95",
      "execution_count": null,
      "outputs": [
        {
          "name": "stdout",
          "output_type": "stream",
          "text": [
            "The first number please : 5\n",
            "The second number please : m\n",
            "Something is wrong! Try again.\n",
            "Thanks for using our mini divison calculator! Come again!\n"
          ]
        }
      ]
    },
    {
      "cell_type": "code",
      "metadata": {
        "id": "f2ee659a",
        "outputId": "04caff03-8ff4-46e1-cf16-28bc2f443121"
      },
      "source": [
        "while True:\n",
        "    no_one = int(input(\"The first number please : \"))\n",
        "    no_two = int(input(\"The second number please : \"))\n",
        "    try:\n",
        "        division = no_one / no_two\n",
        "        print(\"The result of the division is : \", division)\n",
        "        break\n",
        "    except Exception as fırfırik:\n",
        "        print(\"Something went wrong...Try again.\")\n",
        "        print(\"Probably it is because of '{}' error\".format(fırfırik))\n",
        "        break\n"
      ],
      "id": "f2ee659a",
      "execution_count": null,
      "outputs": [
        {
          "name": "stdout",
          "output_type": "stream",
          "text": [
            "The first number please : 7\n",
            "The second number please : 0\n",
            "Something went wrong...Try again.\n",
            "Probably it is because of 'division by zero' error\n"
          ]
        }
      ]
    },
    {
      "cell_type": "code",
      "metadata": {
        "id": "7ad1dd9f",
        "outputId": "99dd19f6-9c05-4c16-a10e-bba5fc255505"
      },
      "source": [
        "try:\n",
        "    x = 2/0\n",
        "\n",
        "except ZeroDivisionError:\n",
        "    print('Attempt to divide by zero')\n",
        "except:\n",
        "    print('Something else went wrong')"
      ],
      "id": "7ad1dd9f",
      "execution_count": null,
      "outputs": [
        {
          "name": "stdout",
          "output_type": "stream",
          "text": [
            "Attempt to divide by zero\n"
          ]
        }
      ]
    },
    {
      "cell_type": "code",
      "metadata": {
        "id": "828ae29f",
        "outputId": "8e8d3112-f4c6-4f2e-e7cf-823a41f613a2"
      },
      "source": [
        "try :\n",
        "    x = 2/0\n",
        "except ArithmeticError:\n",
        "    print('Attempt to divide by zero')\n",
        "except:\n",
        "    print('Something else went wrong')"
      ],
      "id": "828ae29f",
      "execution_count": null,
      "outputs": [
        {
          "name": "stdout",
          "output_type": "stream",
          "text": [
            "Attempt to divide by zero\n"
          ]
        }
      ]
    },
    {
      "cell_type": "code",
      "metadata": {
        "id": "cbe20196",
        "outputId": "46fa2716-5f64-49fb-83d3-00f05567780e"
      },
      "source": [
        "fruits = [\"banana\", \"mango\", \"pear\", \"apple\", \"kiwi\", \"grape\"]\n",
        "\n",
        "while True :\n",
        "    \n",
        "    try :\n",
        "        index = int(input(\"Pick an index number to choose your favorite fruit :\"))\n",
        "        print(\"Your favorite fruit is : \", fruits[index])\n",
        "        break\n",
        "    except IndexError :\n",
        "        print(\"There is no such an Index. Try again!\")\n",
        "        \n",
        "    except ValueError :\n",
        "        print(\"You should enter integer. Try again!\")"
      ],
      "id": "cbe20196",
      "execution_count": null,
      "outputs": [
        {
          "name": "stdout",
          "output_type": "stream",
          "text": [
            "Pick an index number to choose your favorite fruit :55\n",
            "There is no such an Index. Try again!\n",
            "Pick an index number to choose your favorite fruit :beş\n",
            "You should enter integer. Try again!\n",
            "Pick an index number to choose your favorite fruit :3\n",
            "Your favorite fruit is :  apple\n"
          ]
        }
      ]
    },
    {
      "cell_type": "code",
      "metadata": {
        "id": "6ad6b105",
        "outputId": "599e6c1c-3e39-4ce0-8aea-8fcd488665d6"
      },
      "source": [
        "count = 3\n",
        "\n",
        "while count > 0 :\n",
        "    \n",
        "    try :\n",
        "        index = int(input(\"Pick an index number to choose your favorite fruit :\"))\n",
        "        print(\"Your favorite fruit is : \", fruits[index])\n",
        "        \n",
        "    except IndexError :\n",
        "        count -= 1\n",
        "        print(f\"There is no such an Index. You have {count} tries remaining. Try again!\")\n",
        "        \n",
        "    except ValueError :\n",
        "        count -= 1\n",
        "        print(f\"You should enter integer. You have {count} tries remaining. Try again!\")\n",
        "        \n",
        "    else :\n",
        "        print(\"Congrats! You have entered a valid input.\")\n",
        "        break\n",
        "    finally :\n",
        "        print(\"Our fruits are always fresh!\")"
      ],
      "id": "6ad6b105",
      "execution_count": null,
      "outputs": [
        {
          "name": "stdout",
          "output_type": "stream",
          "text": [
            "Pick an index number to choose your favorite fruit :66\n",
            "There is no such an Index. You have 2 tries remaining. Try again!\n",
            "Our fruits are always fresh!\n",
            "Pick an index number to choose your favorite fruit :-55\n",
            "There is no such an Index. You have 1 tries remaining. Try again!\n",
            "Our fruits are always fresh!\n",
            "Pick an index number to choose your favorite fruit :beş\n",
            "You should enter integer. You have 0 tries remaining. Try again!\n",
            "Our fruits are always fresh!\n"
          ]
        }
      ]
    },
    {
      "cell_type": "code",
      "metadata": {
        "id": "04ebb4fc",
        "outputId": "de433eb1-33ac-43bd-f84c-c4932d226fa8"
      },
      "source": [
        "count = 3\n",
        "\n",
        "while count > 0 :\n",
        "    \n",
        "    try :\n",
        "        index = int(input(\"Pick an index number to choose your favorite fruit :\"))\n",
        "        print(\"Your favorite fruit is : \", fruits[index])\n",
        "        \n",
        "    except IndexError :\n",
        "        count -= 1\n",
        "        print(f\"There is no such an Index. You have {count} tries remaining. Try again!\")\n",
        "        \n",
        "    except ValueError :\n",
        "        count -= 1\n",
        "        print(f\"You should enter integer. You have {count} tries remaining. Try again!\")\n",
        "        \n",
        "    else :\n",
        "        print(\"Congrats! You have entered a valid input.\")\n",
        "        break\n",
        "    finally :\n",
        "        print(\"Our fruits are always fresh!\")"
      ],
      "id": "04ebb4fc",
      "execution_count": null,
      "outputs": [
        {
          "name": "stdout",
          "output_type": "stream",
          "text": [
            "Pick an index number to choose your favorite fruit :5\n",
            "Your favorite fruit is :  grape\n",
            "Congrats! You have entered a valid input.\n",
            "Our fruits are always fresh!\n"
          ]
        }
      ]
    },
    {
      "cell_type": "code",
      "metadata": {
        "id": "22195264"
      },
      "source": [
        "import os"
      ],
      "id": "22195264",
      "execution_count": null,
      "outputs": []
    },
    {
      "cell_type": "code",
      "metadata": {
        "id": "04bba6fb"
      },
      "source": [
        "dosya = os.listdir()"
      ],
      "id": "04bba6fb",
      "execution_count": null,
      "outputs": []
    },
    {
      "cell_type": "code",
      "metadata": {
        "id": "ecfda177",
        "outputId": "701b377d-6b86-4310-f2b8-1f65b3f3a1db"
      },
      "source": [
        "pwd"
      ],
      "id": "ecfda177",
      "execution_count": null,
      "outputs": [
        {
          "data": {
            "text/plain": [
              "'/Users/ozgurhamdullah/jobs/CW/pythonic/python_sessions/PythonSessions-Cohort-009'"
            ]
          },
          "execution_count": 21,
          "metadata": {},
          "output_type": "execute_result"
        }
      ]
    },
    {
      "cell_type": "code",
      "metadata": {
        "id": "dec43796",
        "outputId": "468e7a7d-6157-44b8-ef38-5a91495330c0"
      },
      "source": [
        "dosya"
      ],
      "id": "dec43796",
      "execution_count": null,
      "outputs": [
        {
          "data": {
            "text/plain": [
              "['20_PythonBasic_26-August-2021.ipynb',\n",
              " '03_PythonBasic_17-June-2021.ipynb',\n",
              " 'WorkShops',\n",
              " 'dummy.txt',\n",
              " '06_PythonBasic_28-June-2021.ipynb',\n",
              " '.DS_Store',\n",
              " 'my_csv_file.csv',\n",
              " 'hata1.txt',\n",
              " '21_PythonBasic_30-August-2021.ipynb',\n",
              " 'fruits.txt',\n",
              " '10_PythonBasic_15-July-2021.ipynb',\n",
              " 'fishes.txt',\n",
              " 'test.csv',\n",
              " '09_PythonBasic_12-July-2021.ipynb',\n",
              " '14_PythonBasic_5-August-2021.ipynb',\n",
              " '11_PythonBasic_26-July-2021.ipynb',\n",
              " 'flowers.txt',\n",
              " '05_PythonBasic_24-June-2021.ipynb',\n",
              " '13_PythonBasic_2-August-2021.ipynb',\n",
              " '07_PythonBasic_1-July-2021.ipynb',\n",
              " 'titanic.csv',\n",
              " '01_PythonBasic_10-June-2021.ipynb',\n",
              " 'istiklal.txt',\n",
              " 'rumi.txt',\n",
              " '12_PythonBasic_29-July-2021.ipynb',\n",
              " 'fruits_dash.csv',\n",
              " '16_PythonBasic_12-August-2021.ipynb',\n",
              " '.ipynb_checkpoints',\n",
              " '04_PythonBasic_21-June-2021.ipynb',\n",
              " '08_PythonBasic_8-July-2021.ipynb',\n",
              " 'fruits.csv',\n",
              " 'insan_siiri.txt',\n",
              " 'hata.txt',\n",
              " '02_PythonBasic_14-June-2021.ipynb']"
            ]
          },
          "execution_count": 20,
          "metadata": {},
          "output_type": "execute_result"
        }
      ]
    },
    {
      "cell_type": "code",
      "metadata": {
        "id": "23ed5aa2"
      },
      "source": [
        "import shutil"
      ],
      "id": "23ed5aa2",
      "execution_count": null,
      "outputs": []
    },
    {
      "cell_type": "code",
      "metadata": {
        "id": "bbdd6fef"
      },
      "source": [
        "# shutil.make_archive(\"mevcut_dosya_pathi\", \"zip\", \"hedef_dosya_ismi\")"
      ],
      "id": "bbdd6fef",
      "execution_count": null,
      "outputs": []
    },
    {
      "cell_type": "code",
      "metadata": {
        "id": "b4a1a440"
      },
      "source": [
        "open()"
      ],
      "id": "b4a1a440",
      "execution_count": null,
      "outputs": []
    },
    {
      "cell_type": "code",
      "metadata": {
        "id": "894502e0",
        "outputId": "f93ef74a-3a2d-4e39-b197-37140c5374cd"
      },
      "source": [
        "file = open(\"fishes.txt\", \"r\")\n",
        "\n",
        "print(file.read())\n",
        "\n",
        "file.close()"
      ],
      "id": "894502e0",
      "execution_count": null,
      "outputs": [
        {
          "name": "stdout",
          "output_type": "stream",
          "text": [
            "Orca is a kind of Dolphin.\n",
            "Blue Whale is the largest animal known on earth.\n",
            "Sharks are the sister group to the Rays (batoids).\n",
            "The Tuna Fish can weigh up to 260 kg.\n",
            "Squid and Octopus are in the same class.\n"
          ]
        }
      ]
    },
    {
      "cell_type": "code",
      "metadata": {
        "id": "e5a356ab"
      },
      "source": [
        "# C:/Users/Documents/İnsanoğlu/fishes.txt"
      ],
      "id": "e5a356ab",
      "execution_count": null,
      "outputs": []
    },
    {
      "cell_type": "code",
      "metadata": {
        "id": "bda27c1a",
        "outputId": "81244fb7-4b23-4201-ea95-7c71a5da0626"
      },
      "source": [
        "file = open(\"fishes.txt\", \"r\")\n",
        "\n",
        "print(file.read(33))\n",
        "\n",
        "file.close()"
      ],
      "id": "bda27c1a",
      "execution_count": null,
      "outputs": [
        {
          "name": "stdout",
          "output_type": "stream",
          "text": [
            "Orca is a kind of Dolphin.\n",
            "Blue W\n"
          ]
        }
      ]
    },
    {
      "cell_type": "code",
      "metadata": {
        "id": "ef7fe2d5"
      },
      "source": [
        "file = open(\"fishes.txt\", \"r\")\n",
        "\n",
        "content = file.read()\n",
        "\n",
        "file.close()"
      ],
      "id": "ef7fe2d5",
      "execution_count": null,
      "outputs": []
    },
    {
      "cell_type": "code",
      "metadata": {
        "id": "e875e834",
        "outputId": "af4e2c36-d005-44c6-9906-faeb133d7cfd"
      },
      "source": [
        "content"
      ],
      "id": "e875e834",
      "execution_count": null,
      "outputs": [
        {
          "data": {
            "text/plain": [
              "'Orca is a kind of Dolphin.\\nBlue Whale is the largest animal known on earth.\\nSharks are the sister group to the Rays (batoids).\\nThe Tuna Fish can weigh up to 260 kg.\\nSquid and Octopus are in the same class.'"
            ]
          },
          "execution_count": 32,
          "metadata": {},
          "output_type": "execute_result"
        }
      ]
    },
    {
      "cell_type": "code",
      "metadata": {
        "id": "e50c7584",
        "outputId": "9789f5b8-7021-4c62-cbd4-70f9054f2a3b"
      },
      "source": [
        "len(content)"
      ],
      "id": "e50c7584",
      "execution_count": null,
      "outputs": [
        {
          "data": {
            "text/plain": [
              "205"
            ]
          },
          "execution_count": 33,
          "metadata": {},
          "output_type": "execute_result"
        }
      ]
    },
    {
      "cell_type": "code",
      "metadata": {
        "id": "b2a31bb3",
        "outputId": "f5c5897f-d76c-42ad-e89e-2c91d58ca837"
      },
      "source": [
        "content[:33]"
      ],
      "id": "b2a31bb3",
      "execution_count": null,
      "outputs": [
        {
          "data": {
            "text/plain": [
              "'Orca is a kind of Dolphin.\\nBlue W'"
            ]
          },
          "execution_count": 34,
          "metadata": {},
          "output_type": "execute_result"
        }
      ]
    },
    {
      "cell_type": "code",
      "metadata": {
        "id": "fe6d27fd",
        "outputId": "266daa1a-3b3f-4a95-b246-480285cda4e5"
      },
      "source": [
        "file = open(\"fishes.txt\", \"r\")\n",
        "\n",
        "print(file.read(33))\n",
        "print(file.read(33))\n",
        "\n",
        "file.close()"
      ],
      "id": "fe6d27fd",
      "execution_count": null,
      "outputs": [
        {
          "name": "stdout",
          "output_type": "stream",
          "text": [
            "Orca is a kind of Dolphin.\n",
            "Blue W\n",
            "hale is the largest animal known \n"
          ]
        }
      ]
    },
    {
      "cell_type": "code",
      "metadata": {
        "id": "056fda5f",
        "outputId": "e4361c47-b30d-4dcb-ae11-25ceeb06d316"
      },
      "source": [
        "file = open(\"fishes.txt\", \"r\")\n",
        "\n",
        "print(file.read(33))\n",
        "print(file.read(33))\n",
        "\n",
        "file.seek(0)\n",
        "\n",
        "print(file.read(33))\n",
        "\n",
        "file.close()"
      ],
      "id": "056fda5f",
      "execution_count": null,
      "outputs": [
        {
          "name": "stdout",
          "output_type": "stream",
          "text": [
            "Orca is a kind of Dolphin.\n",
            "Blue W\n",
            "hale is the largest animal known \n",
            "Orca is a kind of Dolphin.\n",
            "Blue W\n"
          ]
        }
      ]
    },
    {
      "cell_type": "code",
      "metadata": {
        "id": "aafc7ad0",
        "outputId": "251b4c63-6cdd-4275-dd28-a6caf6cb81da"
      },
      "source": [
        "file = open(\"fishes.txt\", \"r\")\n",
        "\n",
        "print(file.read(33))\n",
        "print(file.read(33))\n",
        "\n",
        "file.seek(0)\n",
        "\n",
        "print(file.read(33))\n",
        "print(file.tell())\n",
        "\n",
        "file.close()"
      ],
      "id": "aafc7ad0",
      "execution_count": null,
      "outputs": [
        {
          "name": "stdout",
          "output_type": "stream",
          "text": [
            "Orca is a kind of Dolphin.\n",
            "Blue W\n",
            "hale is the largest animal known \n",
            "Orca is a kind of Dolphin.\n",
            "Blue W\n",
            "34\n"
          ]
        }
      ]
    },
    {
      "cell_type": "code",
      "metadata": {
        "id": "57de730d"
      },
      "source": [
        "file = open(\"fishes.txt\", \"r\")\n",
        "\n",
        "print(file.read(33))\n",
        "print(file.read(15))\n",
        "print(file.tell())\n",
        "\n",
        "file.seek(0)\n",
        "\n",
        "print(file.read(33))\n",
        "print(file.tell())\n",
        "\n",
        "file.close()"
      ],
      "id": "57de730d",
      "execution_count": null,
      "outputs": []
    },
    {
      "cell_type": "code",
      "metadata": {
        "id": "a39d4bb5",
        "outputId": "bb92476e-1e25-4cbe-c62e-f2264b9e9635"
      },
      "source": [
        "rumi = open(\"rumi.txt\", \"r\")\n",
        "\n",
        "print(rumi.read())\n",
        "\n",
        "\n",
        "rumi.close()"
      ],
      "id": "a39d4bb5",
      "execution_count": null,
      "outputs": [
        {
          "name": "stdout",
          "output_type": "stream",
          "text": [
            "I want to sing\n",
            "Like the birds sing,\n",
            "Not worrying about\n",
            "Who hears or\n",
            "What they think.\n"
          ]
        }
      ]
    },
    {
      "cell_type": "code",
      "metadata": {
        "id": "591ccaa8",
        "outputId": "b426e746-d7c1-4a66-c020-c09152377111"
      },
      "source": [
        "rumi = open(\"rumi.txt\", \"r\")\n",
        "\n",
        "print(rumi.read(35))\n",
        "\n",
        "\n",
        "rumi.close()"
      ],
      "id": "591ccaa8",
      "execution_count": null,
      "outputs": [
        {
          "name": "stdout",
          "output_type": "stream",
          "text": [
            "I want to sing\n",
            "Like the birds sing,\n"
          ]
        }
      ]
    },
    {
      "cell_type": "code",
      "metadata": {
        "id": "a606a5a9",
        "outputId": "739397fa-428d-4a46-9226-4ccd5c64f85b"
      },
      "source": [
        "rumi = open(\"rumi.txt\", \"r\")\n",
        "\n",
        "print(rumi.read(35))\n",
        "print(rumi.read(13))\n",
        "\n",
        "rumi.close()"
      ],
      "id": "a606a5a9",
      "execution_count": null,
      "outputs": [
        {
          "name": "stdout",
          "output_type": "stream",
          "text": [
            "I want to sing\n",
            "Like the birds sing,\n",
            "\n",
            "Not worrying\n"
          ]
        }
      ]
    },
    {
      "cell_type": "code",
      "metadata": {
        "id": "58b4d148",
        "outputId": "90af79dd-f7cb-4613-8f55-cee3a1ccf2b3"
      },
      "source": [
        "rumi = open(\"rumi.txt\", \"r\")\n",
        "\n",
        "print(rumi.read(35))\n",
        "print(rumi.read(13))\n",
        "print(rumi.tell())\n",
        "\n",
        "rumi.seek(15)\n",
        "print(rumi.read(21))\n",
        "\n",
        "rumi.close()"
      ],
      "id": "58b4d148",
      "execution_count": null,
      "outputs": [
        {
          "name": "stdout",
          "output_type": "stream",
          "text": [
            "I want to sing\n",
            "Like the birds sing,\n",
            "\n",
            "Not worrying\n",
            "50\n",
            "\n",
            "Like the birds sing,\n"
          ]
        }
      ]
    },
    {
      "cell_type": "code",
      "metadata": {
        "id": "6b86edd5",
        "outputId": "b1d2e007-53b1-4233-9d6a-54f2902f6508"
      },
      "source": [
        "sea = open(\"fishes.txt\", 'r')   \n",
        "\n",
        "print(sea.readline(13))\n",
        "print(sea.readline(13))\n",
        "print(sea.readline(13))\n",
        "print(sea.readline(13))\n",
        "\n",
        "sea.close()"
      ],
      "id": "6b86edd5",
      "execution_count": null,
      "outputs": [
        {
          "name": "stdout",
          "output_type": "stream",
          "text": [
            "Orca is a kin\n",
            "d of Dolphin.\n",
            "\n",
            "\n",
            "Blue Whale is\n"
          ]
        }
      ]
    },
    {
      "cell_type": "code",
      "metadata": {
        "id": "d0cf681e"
      },
      "source": [
        "sea = open(\"fishes.txt\", 'r')   \n",
        "\n",
        "part_1 = sea.readline(13)\n",
        "part_2 = sea.readline(13)\n",
        "part_3 = sea.readline(13)\n",
        "part_4 = sea.readline(13)\n",
        "\n",
        "sea.close()"
      ],
      "id": "d0cf681e",
      "execution_count": null,
      "outputs": []
    },
    {
      "cell_type": "code",
      "metadata": {
        "id": "e7d8daa5",
        "outputId": "ded1bf14-5836-4a95-dfc4-906c2c4b8e32"
      },
      "source": [
        "part_1"
      ],
      "id": "e7d8daa5",
      "execution_count": null,
      "outputs": [
        {
          "data": {
            "text/plain": [
              "'Orca is a kin'"
            ]
          },
          "execution_count": 48,
          "metadata": {},
          "output_type": "execute_result"
        }
      ]
    },
    {
      "cell_type": "code",
      "metadata": {
        "id": "baef9e71",
        "outputId": "914f9bc4-95a1-4baf-d4bc-aa776d9c8b07"
      },
      "source": [
        "part_2"
      ],
      "id": "baef9e71",
      "execution_count": null,
      "outputs": [
        {
          "data": {
            "text/plain": [
              "'d of Dolphin.'"
            ]
          },
          "execution_count": 50,
          "metadata": {},
          "output_type": "execute_result"
        }
      ]
    },
    {
      "cell_type": "code",
      "metadata": {
        "id": "e9542d83",
        "outputId": "c5382081-b04f-4314-cfb3-cce60eab2f7b"
      },
      "source": [
        "part_3"
      ],
      "id": "e9542d83",
      "execution_count": null,
      "outputs": [
        {
          "data": {
            "text/plain": [
              "'\\n'"
            ]
          },
          "execution_count": 47,
          "metadata": {},
          "output_type": "execute_result"
        }
      ]
    },
    {
      "cell_type": "code",
      "metadata": {
        "id": "43b562a9",
        "outputId": "fc3264b0-adc4-4873-c070-b47af847edfb"
      },
      "source": [
        "first_line = part_1 + part_2 + part_3\n",
        "first_line"
      ],
      "id": "43b562a9",
      "execution_count": null,
      "outputs": [
        {
          "data": {
            "text/plain": [
              "'Orca is a kind of Dolphin.\\n'"
            ]
          },
          "execution_count": 51,
          "metadata": {},
          "output_type": "execute_result"
        }
      ]
    },
    {
      "cell_type": "code",
      "metadata": {
        "id": "1e3f9493",
        "outputId": "13b2b4c1-5031-4ef5-d8ac-d7540b57cce0"
      },
      "source": [
        "rumi = open(\"rumi.txt\", \"r\")\n",
        "\n",
        "print(rumi.readline())\n",
        "print(rumi.readline())\n",
        "print(rumi.readline(19))\n",
        "\n",
        "rumi.close()"
      ],
      "id": "1e3f9493",
      "execution_count": null,
      "outputs": [
        {
          "name": "stdout",
          "output_type": "stream",
          "text": [
            "I want to sing\n",
            "\n",
            "Like the birds sing,\n",
            "\n",
            "Not worrying about\n",
            "\n"
          ]
        }
      ]
    }
  ]
}
