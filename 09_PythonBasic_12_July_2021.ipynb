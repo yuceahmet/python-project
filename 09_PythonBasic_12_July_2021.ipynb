{
  "nbformat": 4,
  "nbformat_minor": 5,
  "metadata": {
    "kernelspec": {
      "display_name": "Python 3",
      "language": "python",
      "name": "python3"
    },
    "language_info": {
      "codemirror_mode": {
        "name": "ipython",
        "version": 3
      },
      "file_extension": ".py",
      "mimetype": "text/x-python",
      "name": "python",
      "nbconvert_exporter": "python",
      "pygments_lexer": "ipython3",
      "version": "3.8.8"
    },
    "colab": {
      "name": "09_PythonBasic_12-July-2021.ipynb",
      "provenance": []
    }
  },
  "cells": [
    {
      "cell_type": "markdown",
      "metadata": {
        "id": "22263af8"
      },
      "source": [
        "<h1><p style=\"text-align: center; color:darkblue\">Python In-Class, <br>12 July 2021</p><h1>"
      ],
      "id": "22263af8"
    },
    {
      "cell_type": "code",
      "metadata": {
        "id": "18aaad53"
      },
      "source": [
        "letter = \"a b c d e f g h i j l k m n o p q r s t x w v z\".split()"
      ],
      "id": "18aaad53",
      "execution_count": null,
      "outputs": []
    },
    {
      "cell_type": "code",
      "metadata": {
        "id": "acf8bec2",
        "outputId": "9b5c2915-ddad-48e1-8341-1028d04b29ad"
      },
      "source": [
        "print(letter)"
      ],
      "id": "acf8bec2",
      "execution_count": null,
      "outputs": [
        {
          "output_type": "stream",
          "text": [
            "['a', 'b', 'c', 'd', 'e', 'f', 'g', 'h', 'i', 'j', 'l', 'k', 'm', 'n', 'o', 'p', 'q', 'r', 's', 't', 'x', 'w', 'v', 'z']\n"
          ],
          "name": "stdout"
        }
      ]
    },
    {
      "cell_type": "code",
      "metadata": {
        "id": "6134d71b",
        "outputId": "da6a01a7-3aa4-4e25-b9d9-bd06d5a3b88a"
      },
      "source": [
        "print(set(letter))"
      ],
      "id": "6134d71b",
      "execution_count": null,
      "outputs": [
        {
          "output_type": "stream",
          "text": [
            "{'v', 'k', 'x', 'm', 'w', 'd', 'h', 'j', 'g', 'e', 'c', 'b', 'n', 'r', 'o', 'f', 'i', 'p', 's', 'z', 't', 'a', 'q', 'l'}\n"
          ],
          "name": "stdout"
        }
      ]
    },
    {
      "cell_type": "code",
      "metadata": {
        "id": "9d304d28"
      },
      "source": [
        "test = {1, \"bir\", 1.0}"
      ],
      "id": "9d304d28",
      "execution_count": null,
      "outputs": []
    },
    {
      "cell_type": "code",
      "metadata": {
        "id": "2f0a4435",
        "outputId": "5dae9a81-42c2-46b8-e07f-fdbccdb3e8de"
      },
      "source": [
        "len(test)"
      ],
      "id": "2f0a4435",
      "execution_count": null,
      "outputs": [
        {
          "output_type": "execute_result",
          "data": {
            "text/plain": [
              "2"
            ]
          },
          "metadata": {
            "tags": []
          },
          "execution_count": 6
        }
      ]
    },
    {
      "cell_type": "code",
      "metadata": {
        "id": "e592c182",
        "outputId": "ab4f019a-328b-4a2d-b408-40a72dcdc515"
      },
      "source": [
        "1 == 1.0"
      ],
      "id": "e592c182",
      "execution_count": null,
      "outputs": [
        {
          "output_type": "execute_result",
          "data": {
            "text/plain": [
              "True"
            ]
          },
          "metadata": {
            "tags": []
          },
          "execution_count": 7
        }
      ]
    },
    {
      "cell_type": "code",
      "metadata": {
        "id": "665f3343",
        "outputId": "3ac8991c-24fe-4c16-c754-8ba05cc1e771"
      },
      "source": [
        "type({})"
      ],
      "id": "665f3343",
      "execution_count": null,
      "outputs": [
        {
          "output_type": "execute_result",
          "data": {
            "text/plain": [
              "dict"
            ]
          },
          "metadata": {
            "tags": []
          },
          "execution_count": 8
        }
      ]
    },
    {
      "cell_type": "code",
      "metadata": {
        "id": "41f9df26",
        "outputId": "7de20d90-cded-45be-846b-63170557f4c2"
      },
      "source": [
        "type(set())"
      ],
      "id": "41f9df26",
      "execution_count": null,
      "outputs": [
        {
          "output_type": "execute_result",
          "data": {
            "text/plain": [
              "set"
            ]
          },
          "metadata": {
            "tags": []
          },
          "execution_count": 9
        }
      ]
    },
    {
      "cell_type": "code",
      "metadata": {
        "id": "9d08cff0"
      },
      "source": [
        "a = {'carnation', 'orchid', 'rose', 'violet'} \n",
        "b = {'rose', 'orchid', 'rose', 'violet', 'carnation'} "
      ],
      "id": "9d08cff0",
      "execution_count": null,
      "outputs": []
    },
    {
      "cell_type": "code",
      "metadata": {
        "id": "ae6909d7",
        "outputId": "779bbb43-b139-404c-ba15-7ee13fbc54a6"
      },
      "source": [
        "a == b"
      ],
      "id": "ae6909d7",
      "execution_count": null,
      "outputs": [
        {
          "output_type": "execute_result",
          "data": {
            "text/plain": [
              "True"
            ]
          },
          "metadata": {
            "tags": []
          },
          "execution_count": 11
        }
      ]
    },
    {
      "cell_type": "code",
      "metadata": {
        "id": "13a1691a"
      },
      "source": [
        "date = \"12/07/2021\""
      ],
      "id": "13a1691a",
      "execution_count": null,
      "outputs": []
    },
    {
      "cell_type": "code",
      "metadata": {
        "id": "c8cc4b07",
        "outputId": "7ac8f09e-8b6f-4d1b-8ebe-a30d7a8b4bf5"
      },
      "source": [
        "set(date)"
      ],
      "id": "c8cc4b07",
      "execution_count": null,
      "outputs": [
        {
          "output_type": "execute_result",
          "data": {
            "text/plain": [
              "{'/', '0', '1', '2', '7'}"
            ]
          },
          "metadata": {
            "tags": []
          },
          "execution_count": 13
        }
      ]
    },
    {
      "cell_type": "code",
      "metadata": {
        "id": "94230c05"
      },
      "source": [
        "given_list = [1, 2, 3, 3, 3, 3, 4, 4, 5, 5]"
      ],
      "id": "94230c05",
      "execution_count": null,
      "outputs": []
    },
    {
      "cell_type": "code",
      "metadata": {
        "id": "47633a53",
        "outputId": "24f5ecff-baa9-4cd5-f669-ebd7b40541bd"
      },
      "source": [
        "test = {given_list}\n",
        "test"
      ],
      "id": "47633a53",
      "execution_count": null,
      "outputs": [
        {
          "output_type": "error",
          "ename": "TypeError",
          "evalue": "unhashable type: 'list'",
          "traceback": [
            "\u001b[0;31m---------------------------------------------------------------------------\u001b[0m",
            "\u001b[0;31mTypeError\u001b[0m                                 Traceback (most recent call last)",
            "\u001b[0;32m<ipython-input-15-3ff49a56a7ac>\u001b[0m in \u001b[0;36m<module>\u001b[0;34m\u001b[0m\n\u001b[0;32m----> 1\u001b[0;31m \u001b[0mtest\u001b[0m \u001b[0;34m=\u001b[0m \u001b[0;34m{\u001b[0m\u001b[0mgiven_list\u001b[0m\u001b[0;34m}\u001b[0m\u001b[0;34m\u001b[0m\u001b[0;34m\u001b[0m\u001b[0m\n\u001b[0m\u001b[1;32m      2\u001b[0m \u001b[0mtest\u001b[0m\u001b[0;34m\u001b[0m\u001b[0;34m\u001b[0m\u001b[0m\n",
            "\u001b[0;31mTypeError\u001b[0m: unhashable type: 'list'"
          ]
        }
      ]
    },
    {
      "cell_type": "code",
      "metadata": {
        "id": "949ebc34",
        "outputId": "07ff8417-d1f4-438d-af46-057024979739"
      },
      "source": [
        "test = {1, 2, 3, 3, 3, 3, 4, 4, 5, 5}\n",
        "test"
      ],
      "id": "949ebc34",
      "execution_count": null,
      "outputs": [
        {
          "output_type": "execute_result",
          "data": {
            "text/plain": [
              "{1, 2, 3, 4, 5}"
            ]
          },
          "metadata": {
            "tags": []
          },
          "execution_count": 16
        }
      ]
    },
    {
      "cell_type": "code",
      "metadata": {
        "id": "60cdda18",
        "outputId": "ee4c74f5-39d0-420f-d1d7-88ed97bee56a"
      },
      "source": [
        "karışık = {[1,2,3], {1:\"bir\"}, (\"iki\", \"üç\")}"
      ],
      "id": "60cdda18",
      "execution_count": null,
      "outputs": [
        {
          "output_type": "error",
          "ename": "TypeError",
          "evalue": "unhashable type: 'list'",
          "traceback": [
            "\u001b[0;31m---------------------------------------------------------------------------\u001b[0m",
            "\u001b[0;31mTypeError\u001b[0m                                 Traceback (most recent call last)",
            "\u001b[0;32m<ipython-input-17-8fe641c509c0>\u001b[0m in \u001b[0;36m<module>\u001b[0;34m\u001b[0m\n\u001b[0;32m----> 1\u001b[0;31m \u001b[0mkarışık\u001b[0m \u001b[0;34m=\u001b[0m \u001b[0;34m{\u001b[0m\u001b[0;34m[\u001b[0m\u001b[0;36m1\u001b[0m\u001b[0;34m,\u001b[0m\u001b[0;36m2\u001b[0m\u001b[0;34m,\u001b[0m\u001b[0;36m3\u001b[0m\u001b[0;34m]\u001b[0m\u001b[0;34m,\u001b[0m \u001b[0;34m{\u001b[0m\u001b[0;36m1\u001b[0m\u001b[0;34m:\u001b[0m\u001b[0;34m\"bir\"\u001b[0m\u001b[0;34m}\u001b[0m\u001b[0;34m,\u001b[0m \u001b[0;34m(\u001b[0m\u001b[0;34m\"iki\"\u001b[0m\u001b[0;34m,\u001b[0m \u001b[0;34m\"üç\"\u001b[0m\u001b[0;34m)\u001b[0m\u001b[0;34m}\u001b[0m\u001b[0;34m\u001b[0m\u001b[0;34m\u001b[0m\u001b[0m\n\u001b[0m",
            "\u001b[0;31mTypeError\u001b[0m: unhashable type: 'list'"
          ]
        }
      ]
    },
    {
      "cell_type": "code",
      "metadata": {
        "id": "5f0f539a",
        "outputId": "da9c4a79-631d-405e-e6b7-552d9f2ad3ac"
      },
      "source": [
        "mix = {1,2, {3,4}}"
      ],
      "id": "5f0f539a",
      "execution_count": null,
      "outputs": [
        {
          "output_type": "error",
          "ename": "TypeError",
          "evalue": "unhashable type: 'set'",
          "traceback": [
            "\u001b[0;31m---------------------------------------------------------------------------\u001b[0m",
            "\u001b[0;31mTypeError\u001b[0m                                 Traceback (most recent call last)",
            "\u001b[0;32m<ipython-input-18-68777fddf235>\u001b[0m in \u001b[0;36m<module>\u001b[0;34m\u001b[0m\n\u001b[0;32m----> 1\u001b[0;31m \u001b[0mmix\u001b[0m \u001b[0;34m=\u001b[0m \u001b[0;34m{\u001b[0m\u001b[0;36m1\u001b[0m\u001b[0;34m,\u001b[0m\u001b[0;36m2\u001b[0m\u001b[0;34m,\u001b[0m \u001b[0;34m{\u001b[0m\u001b[0;36m3\u001b[0m\u001b[0;34m,\u001b[0m\u001b[0;36m4\u001b[0m\u001b[0;34m}\u001b[0m\u001b[0;34m}\u001b[0m\u001b[0;34m\u001b[0m\u001b[0;34m\u001b[0m\u001b[0m\n\u001b[0m",
            "\u001b[0;31mTypeError\u001b[0m: unhashable type: 'set'"
          ]
        }
      ]
    },
    {
      "cell_type": "code",
      "metadata": {
        "id": "6058c73d"
      },
      "source": [
        "print(\"ben clarusway için en az bir kişi bulacağım.\")"
      ],
      "id": "6058c73d",
      "execution_count": null,
      "outputs": []
    },
    {
      "cell_type": "code",
      "metadata": {
        "id": "7e2b24a1",
        "outputId": "bdc4a3f4-e079-485e-c3a7-04892593151c"
      },
      "source": [
        "if \"0\" :              # truety falsy meselesi\n",
        "    print(\"hello world\")"
      ],
      "id": "7e2b24a1",
      "execution_count": null,
      "outputs": [
        {
          "output_type": "stream",
          "text": [
            "hello world\n"
          ],
          "name": "stdout"
        }
      ]
    },
    {
      "cell_type": "code",
      "metadata": {
        "id": "46c49598"
      },
      "source": [
        "if 0 :\n",
        "    print(\"beni görebilecek misiniz?\")"
      ],
      "id": "46c49598",
      "execution_count": null,
      "outputs": []
    },
    {
      "cell_type": "markdown",
      "metadata": {
        "id": "4GF4AZ5Qqocx"
      },
      "source": [
        "falsy olanlar:"
      ],
      "id": "4GF4AZ5Qqocx"
    },
    {
      "cell_type": "markdown",
      "metadata": {
        "id": "0d16337e"
      },
      "source": [
        "```python\n",
        "None\n",
        "[]\n",
        "()\n",
        "\"\"\n",
        "0\n",
        "0.0\n",
        "0j\n",
        "{}\n",
        "```"
      ],
      "id": "0d16337e"
    },
    {
      "cell_type": "code",
      "metadata": {
        "id": "72bf41ca",
        "outputId": "a616dc0d-f395-445c-9985-d1106d32fcce"
      },
      "source": [
        "if 1 :\n",
        "    print(\"bu çalışır\")"
      ],
      "id": "72bf41ca",
      "execution_count": null,
      "outputs": [
        {
          "output_type": "stream",
          "text": [
            "bu çalışır\n"
          ],
          "name": "stdout"
        }
      ]
    },
    {
      "cell_type": "code",
      "metadata": {
        "id": "53461a69"
      },
      "source": [
        "minced = True\n",
        "bread = True\n",
        "#green\n",
        "lettuce = True\n",
        "onion = True\n",
        "grocer = True"
      ],
      "id": "53461a69",
      "execution_count": null,
      "outputs": []
    },
    {
      "cell_type": "code",
      "metadata": {
        "id": "8963b030"
      },
      "source": [
        "hamburger = (minced and grocer and bread) and (lettuce or onion)"
      ],
      "id": "8963b030",
      "execution_count": null,
      "outputs": []
    },
    {
      "cell_type": "code",
      "metadata": {
        "id": "2ed5fa3b",
        "outputId": "941735f9-5e15-4eb3-f274-e69f8867d6c5"
      },
      "source": [
        "if hamburger :\n",
        "    print(\"Bon Appetit!\")"
      ],
      "id": "2ed5fa3b",
      "execution_count": null,
      "outputs": [
        {
          "output_type": "stream",
          "text": [
            "Bon Appetit!\n"
          ],
          "name": "stdout"
        }
      ]
    },
    {
      "cell_type": "code",
      "metadata": {
        "id": "81bdeb11",
        "outputId": "acf4208b-b8c1-4767-b136-88ca5055e56d"
      },
      "source": [
        "\"a\" < \"b\""
      ],
      "id": "81bdeb11",
      "execution_count": null,
      "outputs": [
        {
          "output_type": "execute_result",
          "data": {
            "text/plain": [
              "True"
            ]
          },
          "metadata": {
            "tags": []
          },
          "execution_count": 26
        }
      ]
    },
    {
      "cell_type": "code",
      "metadata": {
        "id": "5bdacd1f",
        "outputId": "9654b810-b6b1-49bd-e485-9a2934cd17bc"
      },
      "source": [
        "\"4\" < \"39\""
      ],
      "id": "5bdacd1f",
      "execution_count": null,
      "outputs": [
        {
          "output_type": "execute_result",
          "data": {
            "text/plain": [
              "False"
            ]
          },
          "metadata": {
            "tags": []
          },
          "execution_count": 27
        }
      ]
    },
    {
      "cell_type": "code",
      "metadata": {
        "id": "85e2d168",
        "outputId": "b32f37dc-072d-46ce-9241-d1fd8e714bfa"
      },
      "source": [
        "ord(\"4\")"
      ],
      "id": "85e2d168",
      "execution_count": null,
      "outputs": [
        {
          "output_type": "execute_result",
          "data": {
            "text/plain": [
              "52"
            ]
          },
          "metadata": {
            "tags": []
          },
          "execution_count": 28
        }
      ]
    },
    {
      "cell_type": "code",
      "metadata": {
        "id": "598bc0f1",
        "outputId": "1e5bfffd-80a9-438e-cc60-d2a1e7a3f349"
      },
      "source": [
        "ord(\"3\")"
      ],
      "id": "598bc0f1",
      "execution_count": null,
      "outputs": [
        {
          "output_type": "execute_result",
          "data": {
            "text/plain": [
              "51"
            ]
          },
          "metadata": {
            "tags": []
          },
          "execution_count": 29
        }
      ]
    },
    {
      "cell_type": "code",
      "metadata": {
        "id": "7051c039",
        "outputId": "df79f0b7-8303-48ee-d8c7-3483dfc9dea5"
      },
      "source": [
        "1 and 2 and 3"
      ],
      "id": "7051c039",
      "execution_count": null,
      "outputs": [
        {
          "output_type": "execute_result",
          "data": {
            "text/plain": [
              "3"
            ]
          },
          "metadata": {
            "tags": []
          },
          "execution_count": 30
        }
      ]
    },
    {
      "cell_type": "code",
      "metadata": {
        "id": "caa463e6",
        "outputId": "9c244a65-d06a-412b-c45d-f1a64c229ccd"
      },
      "source": [
        "2 >= 2"
      ],
      "id": "caa463e6",
      "execution_count": null,
      "outputs": [
        {
          "output_type": "execute_result",
          "data": {
            "text/plain": [
              "True"
            ]
          },
          "metadata": {
            "tags": []
          },
          "execution_count": 31
        }
      ]
    },
    {
      "cell_type": "code",
      "metadata": {
        "id": "50707354"
      },
      "source": [
        "a = set(\"TWELVE PLUS ONE\")\n",
        "b = set(\"ELEVEN PLUS TWO\")"
      ],
      "id": "50707354",
      "execution_count": null,
      "outputs": []
    },
    {
      "cell_type": "code",
      "metadata": {
        "id": "499e1570",
        "outputId": "02ce4798-0dc7-44c5-ecb1-07cea3947e86"
      },
      "source": [
        "a"
      ],
      "id": "499e1570",
      "execution_count": null,
      "outputs": [
        {
          "output_type": "execute_result",
          "data": {
            "text/plain": [
              "{' ', 'E', 'L', 'N', 'O', 'P', 'S', 'T', 'U', 'V', 'W'}"
            ]
          },
          "metadata": {
            "tags": []
          },
          "execution_count": 35
        }
      ]
    },
    {
      "cell_type": "code",
      "metadata": {
        "id": "f656dd2e",
        "outputId": "a7a6edd4-6a1f-44af-d26d-9883a9705f67"
      },
      "source": [
        "b"
      ],
      "id": "f656dd2e",
      "execution_count": null,
      "outputs": [
        {
          "output_type": "execute_result",
          "data": {
            "text/plain": [
              "{' ', 'E', 'L', 'N', 'O', 'P', 'S', 'T', 'U', 'V', 'W'}"
            ]
          },
          "metadata": {
            "tags": []
          },
          "execution_count": 36
        }
      ]
    },
    {
      "cell_type": "code",
      "metadata": {
        "id": "c8db7206",
        "outputId": "ea3babfc-5fb6-470c-8a6c-5b5dc3f57503"
      },
      "source": [
        "a == b"
      ],
      "id": "c8db7206",
      "execution_count": null,
      "outputs": [
        {
          "output_type": "execute_result",
          "data": {
            "text/plain": [
              "True"
            ]
          },
          "metadata": {
            "tags": []
          },
          "execution_count": 37
        }
      ]
    },
    {
      "cell_type": "code",
      "metadata": {
        "id": "3f2c5328",
        "outputId": "0b71eb2d-2ef8-4f70-cb96-1e58015116f6"
      },
      "source": [
        "convert = input(\"Enter yes or no : \").strip().title() == \"Yes\" # strip sağdan soldan boşluk alır"
      ],
      "id": "3f2c5328",
      "execution_count": null,
      "outputs": [
        {
          "output_type": "stream",
          "text": [
            "Enter yes or no : no\n"
          ],
          "name": "stdout"
        }
      ]
    },
    {
      "cell_type": "code",
      "metadata": {
        "id": "29f0c3d7",
        "outputId": "8f90bb9c-0106-4dd1-9232-030fecf27285"
      },
      "source": [
        "print(type(convert))\n",
        "print(convert)"
      ],
      "id": "29f0c3d7",
      "execution_count": null,
      "outputs": [
        {
          "output_type": "stream",
          "text": [
            "<class 'bool'>\n",
            "False\n"
          ],
          "name": "stdout"
        }
      ]
    },
    {
      "cell_type": "code",
      "metadata": {
        "id": "d97298d4",
        "outputId": "12cda5b7-05dc-4a40-851a-10ef3f380fc3"
      },
      "source": [
        "print(\"You entered\", convert)"
      ],
      "id": "d97298d4",
      "execution_count": null,
      "outputs": [
        {
          "output_type": "stream",
          "text": [
            "You entered False\n"
          ],
          "name": "stdout"
        }
      ]
    },
    {
      "cell_type": "code",
      "metadata": {
        "id": "e835b31e",
        "outputId": "2f354add-846c-4d86-8339-acdc43bf8118"
      },
      "source": [
        "num = int(input(\"Enter a number please : \"))\n",
        "\n",
        "if num % 2 == 0 :\n",
        "    print(\"Girmiş olduğunuz sayı ({}) Çifttir.\".format(num))\n",
        "    \n",
        "else:\n",
        "    print(\"Girmiş olduğunuz sayı ({}) Tektir.\".format(num))"
      ],
      "id": "e835b31e",
      "execution_count": null,
      "outputs": [
        {
          "output_type": "stream",
          "text": [
            "Enter a number please : 5\n",
            "Girmiş olduğunuz sayı (5) Tektir.\n"
          ],
          "name": "stdout"
        }
      ]
    }
  ]
}