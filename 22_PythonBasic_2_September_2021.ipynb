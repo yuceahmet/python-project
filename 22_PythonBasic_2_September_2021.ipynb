{
  "nbformat": 4,
  "nbformat_minor": 5,
  "metadata": {
    "kernelspec": {
      "display_name": "Python 3",
      "language": "python",
      "name": "python3"
    },
    "language_info": {
      "codemirror_mode": {
        "name": "ipython",
        "version": 3
      },
      "file_extension": ".py",
      "mimetype": "text/x-python",
      "name": "python",
      "nbconvert_exporter": "python",
      "pygments_lexer": "ipython3",
      "version": "3.8.8"
    },
    "colab": {
      "name": "22_PythonBasic_2-September-2021.ipynb",
      "provenance": [],
      "include_colab_link": true
    }
  },
  "cells": [
    {
      "cell_type": "markdown",
      "metadata": {
        "id": "view-in-github",
        "colab_type": "text"
      },
      "source": [
        "<a href=\"https://colab.research.google.com/github/yuceahmet/python-project/blob/main/22_PythonBasic_2_September_2021.ipynb\" target=\"_parent\"><img src=\"https://colab.research.google.com/assets/colab-badge.svg\" alt=\"Open In Colab\"/></a>"
      ]
    },
    {
      "cell_type": "markdown",
      "metadata": {
        "id": "22263af8"
      },
      "source": [
        "<h1><p style=\"text-align: center; color:darkblue\">Python + In-Class, <br>2 September 2021</p><h1>"
      ],
      "id": "22263af8"
    },
    {
      "cell_type": "code",
      "metadata": {
        "id": "4a17f2dd"
      },
      "source": [
        "word = {1 : \"1\", 2 : \"2\"}"
      ],
      "id": "4a17f2dd",
      "execution_count": null,
      "outputs": []
    },
    {
      "cell_type": "code",
      "metadata": {
        "id": "0823e311"
      },
      "source": [
        "keys = word.keys()"
      ],
      "id": "0823e311",
      "execution_count": null,
      "outputs": []
    },
    {
      "cell_type": "code",
      "metadata": {
        "id": "0e361d9c",
        "outputId": "f3bd320c-34a6-45f1-eb92-f25d6f3e6c98"
      },
      "source": [
        "keys"
      ],
      "id": "0e361d9c",
      "execution_count": null,
      "outputs": [
        {
          "data": {
            "text/plain": [
              "dict_keys([1, 2])"
            ]
          },
          "execution_count": 3,
          "metadata": {},
          "output_type": "execute_result"
        }
      ]
    },
    {
      "cell_type": "code",
      "metadata": {
        "id": "81c038eb"
      },
      "source": [
        "word_1 = {}"
      ],
      "id": "81c038eb",
      "execution_count": null,
      "outputs": []
    },
    {
      "cell_type": "code",
      "metadata": {
        "id": "bab09e30"
      },
      "source": [
        "word_1[3] = 1"
      ],
      "id": "bab09e30",
      "execution_count": null,
      "outputs": []
    },
    {
      "cell_type": "code",
      "metadata": {
        "id": "96ed502b",
        "outputId": "7c518bc6-a945-4523-986f-34264d833adf"
      },
      "source": [
        "word_1"
      ],
      "id": "96ed502b",
      "execution_count": null,
      "outputs": [
        {
          "data": {
            "text/plain": [
              "{3: 1}"
            ]
          },
          "execution_count": 6,
          "metadata": {},
          "output_type": "execute_result"
        }
      ]
    },
    {
      "cell_type": "code",
      "metadata": {
        "id": "af4118c2"
      },
      "source": [
        "word_1[1] = 1"
      ],
      "id": "af4118c2",
      "execution_count": null,
      "outputs": []
    },
    {
      "cell_type": "code",
      "metadata": {
        "id": "2489ade8",
        "outputId": "4688f932-f9ba-4d03-90df-23a688134b58"
      },
      "source": [
        "word_1"
      ],
      "id": "2489ade8",
      "execution_count": null,
      "outputs": [
        {
          "data": {
            "text/plain": [
              "{3: 1, 1: 1}"
            ]
          },
          "execution_count": 9,
          "metadata": {},
          "output_type": "execute_result"
        }
      ]
    },
    {
      "cell_type": "code",
      "metadata": {
        "id": "a739e0a7"
      },
      "source": [
        "word_1[3] += 1"
      ],
      "id": "a739e0a7",
      "execution_count": null,
      "outputs": []
    },
    {
      "cell_type": "code",
      "metadata": {
        "id": "509bd768",
        "outputId": "1bdbf5d5-1016-4c9a-fe6f-a88fe797d273"
      },
      "source": [
        "word_1"
      ],
      "id": "509bd768",
      "execution_count": null,
      "outputs": [
        {
          "data": {
            "text/plain": [
              "{3: 2, 1: 1}"
            ]
          },
          "execution_count": 12,
          "metadata": {},
          "output_type": "execute_result"
        }
      ]
    },
    {
      "cell_type": "code",
      "metadata": {
        "id": "4e7c7e7a"
      },
      "source": [
        "word_1[3] += 1"
      ],
      "id": "4e7c7e7a",
      "execution_count": null,
      "outputs": []
    },
    {
      "cell_type": "code",
      "metadata": {
        "id": "42229e7e",
        "outputId": "e5abb4de-c8e2-478c-c618-0e59cfb74845"
      },
      "source": [
        "word_1"
      ],
      "id": "42229e7e",
      "execution_count": null,
      "outputs": [
        {
          "data": {
            "text/plain": [
              "{3: 3, 1: 1}"
            ]
          },
          "execution_count": 14,
          "metadata": {},
          "output_type": "execute_result"
        }
      ]
    },
    {
      "cell_type": "code",
      "metadata": {
        "id": "749d5b29"
      },
      "source": [
        "word_1[\"ali\"] = 22"
      ],
      "id": "749d5b29",
      "execution_count": null,
      "outputs": []
    },
    {
      "cell_type": "code",
      "metadata": {
        "id": "466bd2e3",
        "outputId": "1948272c-1968-4bd5-97c1-b456d704f4ec"
      },
      "source": [
        "word_1"
      ],
      "id": "466bd2e3",
      "execution_count": null,
      "outputs": [
        {
          "data": {
            "text/plain": [
              "{3: 3, 1: 1, 'ali': 22}"
            ]
          },
          "execution_count": 18,
          "metadata": {},
          "output_type": "execute_result"
        }
      ]
    },
    {
      "cell_type": "code",
      "metadata": {
        "id": "de5f8dae",
        "outputId": "7b009779-771c-46f6-8bc3-db5891421b42"
      },
      "source": [
        "\"ali\" in word_1"
      ],
      "id": "de5f8dae",
      "execution_count": null,
      "outputs": [
        {
          "data": {
            "text/plain": [
              "True"
            ]
          },
          "execution_count": 19,
          "metadata": {},
          "output_type": "execute_result"
        }
      ]
    },
    {
      "cell_type": "code",
      "metadata": {
        "id": "c04feb1e"
      },
      "source": [
        "string = \"bugün ayrılıktan bir önceki session..\""
      ],
      "id": "c04feb1e",
      "execution_count": null,
      "outputs": []
    },
    {
      "cell_type": "code",
      "metadata": {
        "id": "409725a5"
      },
      "source": [
        "word_dict = {}"
      ],
      "id": "409725a5",
      "execution_count": null,
      "outputs": []
    },
    {
      "cell_type": "code",
      "metadata": {
        "id": "0c5671a4"
      },
      "source": [
        "for n in string :\n",
        "    \n",
        "    keys = word_dict.keys()\n",
        "    \n",
        "    if n in word_dict :\n",
        "        word_dict[n] += 1\n",
        "    else :\n",
        "        word_dict[n] = 1"
      ],
      "id": "0c5671a4",
      "execution_count": null,
      "outputs": []
    },
    {
      "cell_type": "code",
      "metadata": {
        "id": "f327158f",
        "outputId": "300914c5-0da0-4d21-e0d9-e1bee36416ea"
      },
      "source": [
        "print(word_dict)"
      ],
      "id": "f327158f",
      "execution_count": null,
      "outputs": [
        {
          "name": "stdout",
          "output_type": "stream",
          "text": [
            "{'b': 2, 'u': 1, 'g': 1, 'ü': 1, 'n': 4, ' ': 4, 'a': 2, 'y': 1, 'r': 2, 'ı': 2, 'l': 1, 'k': 2, 't': 1, 'i': 3, 'ö': 1, 'c': 1, 'e': 2, 's': 3, 'o': 1, '.': 2}\n"
          ]
        }
      ]
    },
    {
      "cell_type": "code",
      "metadata": {
        "id": "17b97849"
      },
      "source": [
        "veri = [\"a\", \"b\", True, (False, 1), {\"1\" : 2}, [1,2], {\"2\" : \"two\"}, {2, \"3\"}, \"c\", 23, 0]"
      ],
      "id": "17b97849",
      "execution_count": null,
      "outputs": []
    },
    {
      "cell_type": "code",
      "metadata": {
        "id": "c1ca3784"
      },
      "source": [
        "{\"bool\" : 1, \"int\" : 2, \"list\" : 1, \"tuple\" : 1, \"str\" : 3}"
      ],
      "id": "c1ca3784",
      "execution_count": null,
      "outputs": []
    },
    {
      "cell_type": "code",
      "metadata": {
        "id": "24fe566d"
      },
      "source": [
        "tipler = [\"int\", \"str\", \"bool\", \"list\", \"tuple\", \"dict\", \"set\"]"
      ],
      "id": "24fe566d",
      "execution_count": null,
      "outputs": []
    },
    {
      "cell_type": "code",
      "metadata": {
        "id": "a6b03671",
        "outputId": "b6cb4485-4f60-47ef-dc29-5fe3c2587575"
      },
      "source": [
        "{}.fromkeys(tipler, 0)"
      ],
      "id": "a6b03671",
      "execution_count": null,
      "outputs": [
        {
          "data": {
            "text/plain": [
              "{'int': 0, 'str': 0, 'bool': 0, 'list': 0, 'tuple': 0, 'dict': 0, 'set': 0}"
            ]
          },
          "execution_count": 25,
          "metadata": {},
          "output_type": "execute_result"
        }
      ]
    },
    {
      "cell_type": "code",
      "metadata": {
        "id": "23fbcd91"
      },
      "source": [
        "toplam = {}.fromkeys(tipler, 0)"
      ],
      "id": "23fbcd91",
      "execution_count": null,
      "outputs": []
    },
    {
      "cell_type": "code",
      "metadata": {
        "id": "1b8cb002",
        "outputId": "6cb94c04-51a3-42c6-80b3-73e53b6f57a6"
      },
      "source": [
        "toplam"
      ],
      "id": "1b8cb002",
      "execution_count": null,
      "outputs": [
        {
          "data": {
            "text/plain": [
              "{'int': 0, 'str': 0, 'bool': 0, 'list': 0, 'tuple': 0, 'dict': 0, 'set': 0}"
            ]
          },
          "execution_count": 27,
          "metadata": {},
          "output_type": "execute_result"
        }
      ]
    },
    {
      "cell_type": "code",
      "metadata": {
        "id": "726b13d6",
        "outputId": "eae1df3a-9cc6-4f65-8fa0-07c06b8a20aa"
      },
      "source": [
        "len(veri)"
      ],
      "id": "726b13d6",
      "execution_count": null,
      "outputs": [
        {
          "data": {
            "text/plain": [
              "11"
            ]
          },
          "execution_count": 28,
          "metadata": {},
          "output_type": "execute_result"
        }
      ]
    },
    {
      "cell_type": "code",
      "metadata": {
        "id": "c4bd873b",
        "outputId": "3cdef65d-6eca-426d-e0f6-77d916ee2333"
      },
      "source": [
        "type(veri[0])"
      ],
      "id": "c4bd873b",
      "execution_count": null,
      "outputs": [
        {
          "data": {
            "text/plain": [
              "str"
            ]
          },
          "execution_count": 30,
          "metadata": {},
          "output_type": "execute_result"
        }
      ]
    },
    {
      "cell_type": "code",
      "metadata": {
        "id": "6a4728b8"
      },
      "source": [
        "for i in range(len(veri)) :\n",
        "    if type(veri[i]) == int : toplam[\"int\"] += 1\n",
        "    elif type(veri[i]) == str : toplam[\"str\"] += 1\n",
        "    elif type(veri[i]) == bool : toplam[\"bool\"] += 1\n",
        "    elif type(veri[i]) == list : toplam[\"list\"] += 1\n",
        "    elif type(veri[i]) == tuple : toplam[\"tuple\"] += 1\n",
        "    elif type(veri[i]) == dict : toplam[\"dict\"] += 1\n",
        "    elif type(veri[i]) == set : toplam[\"set\"] += 1"
      ],
      "id": "6a4728b8",
      "execution_count": null,
      "outputs": []
    },
    {
      "cell_type": "code",
      "metadata": {
        "id": "02711248",
        "outputId": "c227c355-434f-49e6-8356-335dae0caeaf"
      },
      "source": [
        "toplam"
      ],
      "id": "02711248",
      "execution_count": null,
      "outputs": [
        {
          "data": {
            "text/plain": [
              "{'int': 2, 'str': 3, 'bool': 1, 'list': 1, 'tuple': 1, 'dict': 2, 'set': 1}"
            ]
          },
          "execution_count": 32,
          "metadata": {},
          "output_type": "execute_result"
        }
      ]
    },
    {
      "cell_type": "markdown",
      "metadata": {
        "id": "d266a7a9"
      },
      "source": [
        "## OBEB (Ortak Bölenlerin En Büyüğü)"
      ],
      "id": "d266a7a9"
    },
    {
      "cell_type": "code",
      "metadata": {
        "id": "aeed15d2"
      },
      "source": [
        "def obeb(a, b) :\n",
        "    \n",
        "    \"\"\"ilk parametreyi büyük olan sayı olarak giriniz\"\"\"\n",
        "    \n",
        "    if b == 0 :\n",
        "        return a\n",
        "    else :\n",
        "        return obeb(b, a % b)"
      ],
      "id": "aeed15d2",
      "execution_count": null,
      "outputs": []
    },
    {
      "cell_type": "code",
      "metadata": {
        "id": "4c46efeb",
        "outputId": "17bb4faf-ef2a-43cc-bcd4-5ca43f401385"
      },
      "source": [
        "print(obeb.__doc__)"
      ],
      "id": "4c46efeb",
      "execution_count": null,
      "outputs": [
        {
          "name": "stdout",
          "output_type": "stream",
          "text": [
            "ilk parametreyi büyük olan sayı olarak giriniz\n"
          ]
        }
      ]
    },
    {
      "cell_type": "code",
      "metadata": {
        "id": "e4d198a8",
        "outputId": "a611ba41-4256-4f14-9d57-3387f0dfc3c1"
      },
      "source": [
        "obeb(65,25)"
      ],
      "id": "e4d198a8",
      "execution_count": null,
      "outputs": [
        {
          "data": {
            "text/plain": [
              "5"
            ]
          },
          "execution_count": 34,
          "metadata": {},
          "output_type": "execute_result"
        }
      ]
    },
    {
      "cell_type": "code",
      "metadata": {
        "id": "c16285a4",
        "outputId": "1d3e3760-0725-4519-b9c5-d728d3732172"
      },
      "source": [
        "obeb(24,8)"
      ],
      "id": "c16285a4",
      "execution_count": null,
      "outputs": [
        {
          "data": {
            "text/plain": [
              "8"
            ]
          },
          "execution_count": 35,
          "metadata": {},
          "output_type": "execute_result"
        }
      ]
    },
    {
      "cell_type": "code",
      "metadata": {
        "id": "0f7c9938",
        "outputId": "848fec6a-9466-445b-d5c8-936839d1e7a3"
      },
      "source": [
        "obeb(55,25)"
      ],
      "id": "0f7c9938",
      "execution_count": null,
      "outputs": [
        {
          "data": {
            "text/plain": [
              "5"
            ]
          },
          "execution_count": 36,
          "metadata": {},
          "output_type": "execute_result"
        }
      ]
    },
    {
      "cell_type": "code",
      "metadata": {
        "id": "4620e451",
        "outputId": "d8c64a29-52bd-4241-90f1-9ae588959410"
      },
      "source": [
        "obeb(44,30)"
      ],
      "id": "4620e451",
      "execution_count": null,
      "outputs": [
        {
          "data": {
            "text/plain": [
              "2"
            ]
          },
          "execution_count": 37,
          "metadata": {},
          "output_type": "execute_result"
        }
      ]
    },
    {
      "cell_type": "code",
      "metadata": {
        "id": "0a7ef562"
      },
      "source": [
        "def facto(n) :\n",
        "    \n",
        "    if n == 0 : return 1\n",
        "    else :\n",
        "        return n * facto(n - 1)"
      ],
      "id": "0a7ef562",
      "execution_count": null,
      "outputs": []
    },
    {
      "cell_type": "markdown",
      "metadata": {
        "id": "a6fb00be"
      },
      "source": [
        "## Given a list such `[1, 2, 3]` get an all possible output combinations"
      ],
      "id": "a6fb00be"
    },
    {
      "cell_type": "markdown",
      "metadata": {
        "id": "ae3a24d0"
      },
      "source": [
        "Output:\n",
        "```\n",
        "[\n",
        "  [1,2,3],\n",
        "  [1,3,2],\n",
        "  [2,1,3],\n",
        "  [2,3,1],\n",
        "  [3,1,2],\n",
        "  [3,2,1]\n",
        "]```"
      ],
      "id": "ae3a24d0"
    },
    {
      "cell_type": "code",
      "metadata": {
        "id": "cb9b3891"
      },
      "source": [
        "solution = [[]]"
      ],
      "id": "cb9b3891",
      "execution_count": null,
      "outputs": []
    },
    {
      "cell_type": "code",
      "metadata": {
        "id": "8803d74b"
      },
      "source": [
        "# solution - 1 = [[1], [2], [3]]\n",
        "\n",
        "# solution - 2 = [[1, 2], [1, 3], [2, 1], [2, 3], [3, 1], [3, 2]]\n",
        "\n",
        "# solution - 3 = [[1, 2, 3], [1, 3, 2], [2, 1, 3], [2, 3, 1], [3, 1, 2], [3, 2, 1]]"
      ],
      "id": "8803d74b",
      "execution_count": null,
      "outputs": []
    },
    {
      "cell_type": "code",
      "metadata": {
        "id": "47937118",
        "outputId": "18fc052e-4260-41b2-9552-c37a3dc51de1"
      },
      "source": [
        "for i in solution :\n",
        "    print(i)"
      ],
      "id": "47937118",
      "execution_count": null,
      "outputs": [
        {
          "name": "stdout",
          "output_type": "stream",
          "text": [
            "[]\n"
          ]
        }
      ]
    },
    {
      "cell_type": "code",
      "metadata": {
        "id": "50dafb58",
        "outputId": "5b857e10-b9b6-4660-a7df-96763c9c4d17"
      },
      "source": [
        "len(solution)"
      ],
      "id": "50dafb58",
      "execution_count": null,
      "outputs": [
        {
          "data": {
            "text/plain": [
              "1"
            ]
          },
          "execution_count": 42,
          "metadata": {},
          "output_type": "execute_result"
        }
      ]
    },
    {
      "cell_type": "code",
      "metadata": {
        "id": "7da10c71"
      },
      "source": [
        "num = [1, 2, 3]"
      ],
      "id": "7da10c71",
      "execution_count": null,
      "outputs": []
    },
    {
      "cell_type": "code",
      "metadata": {
        "id": "b8628215"
      },
      "source": [
        "num_set = set(num)"
      ],
      "id": "b8628215",
      "execution_count": null,
      "outputs": []
    },
    {
      "cell_type": "code",
      "metadata": {
        "id": "c80b2ec0",
        "outputId": "1b14fbc0-2372-487c-805e-863eaef46d7d"
      },
      "source": [
        "num_set"
      ],
      "id": "c80b2ec0",
      "execution_count": null,
      "outputs": [
        {
          "data": {
            "text/plain": [
              "{1, 2, 3}"
            ]
          },
          "execution_count": 45,
          "metadata": {},
          "output_type": "execute_result"
        }
      ]
    },
    {
      "cell_type": "code",
      "metadata": {
        "id": "43254728",
        "outputId": "6eb48272-a10f-4795-81b0-9f64b06d07a4"
      },
      "source": [
        "set([])"
      ],
      "id": "43254728",
      "execution_count": null,
      "outputs": [
        {
          "data": {
            "text/plain": [
              "set()"
            ]
          },
          "execution_count": 46,
          "metadata": {},
          "output_type": "execute_result"
        }
      ]
    },
    {
      "cell_type": "code",
      "metadata": {
        "id": "e28e3116",
        "outputId": "4623456a-4478-491a-816f-3d63dd5b45ea"
      },
      "source": [
        "set_bos_list = set([])\n",
        "set_bos_list"
      ],
      "id": "e28e3116",
      "execution_count": null,
      "outputs": [
        {
          "data": {
            "text/plain": [
              "set()"
            ]
          },
          "execution_count": 47,
          "metadata": {},
          "output_type": "execute_result"
        }
      ]
    },
    {
      "cell_type": "code",
      "metadata": {
        "id": "ccdf11de",
        "outputId": "02d66c98-16ff-402b-ad14-01a00ff9a412"
      },
      "source": [
        "num_set - set_bos_list"
      ],
      "id": "ccdf11de",
      "execution_count": null,
      "outputs": [
        {
          "data": {
            "text/plain": [
              "{1, 2, 3}"
            ]
          },
          "execution_count": 48,
          "metadata": {},
          "output_type": "execute_result"
        }
      ]
    },
    {
      "cell_type": "code",
      "metadata": {
        "id": "9df47f5a",
        "outputId": "2b77a65a-873f-42b8-b4db-f2ce55134137"
      },
      "source": [
        "num_set - set([1])"
      ],
      "id": "9df47f5a",
      "execution_count": null,
      "outputs": [
        {
          "data": {
            "text/plain": [
              "{2, 3}"
            ]
          },
          "execution_count": 49,
          "metadata": {},
          "output_type": "execute_result"
        }
      ]
    },
    {
      "cell_type": "code",
      "metadata": {
        "id": "abfabfd7",
        "outputId": "948d06a1-fb1b-4464-ed60-fda8d9cd00d7"
      },
      "source": [
        "num_set - set([2])"
      ],
      "id": "abfabfd7",
      "execution_count": null,
      "outputs": [
        {
          "data": {
            "text/plain": [
              "{1, 3}"
            ]
          },
          "execution_count": 50,
          "metadata": {},
          "output_type": "execute_result"
        }
      ]
    },
    {
      "cell_type": "code",
      "metadata": {
        "id": "79bc1383",
        "outputId": "9daa8b70-b018-4356-f280-b7f64b888391"
      },
      "source": [
        "num_set - set([1,2])"
      ],
      "id": "79bc1383",
      "execution_count": null,
      "outputs": [
        {
          "data": {
            "text/plain": [
              "{3}"
            ]
          },
          "execution_count": 51,
          "metadata": {},
          "output_type": "execute_result"
        }
      ]
    },
    {
      "cell_type": "code",
      "metadata": {
        "id": "9d904522",
        "outputId": "c78146ce-ae7f-4b85-b684-dcb2b9b154a5"
      },
      "source": [
        "[1] + [2, 3]"
      ],
      "id": "9d904522",
      "execution_count": null,
      "outputs": [
        {
          "data": {
            "text/plain": [
              "[1, 2, 3]"
            ]
          },
          "execution_count": 52,
          "metadata": {},
          "output_type": "execute_result"
        }
      ]
    },
    {
      "cell_type": "code",
      "metadata": {
        "id": "509367be",
        "outputId": "bf5fa060-07bd-425b-fbca-3c404e8f8808"
      },
      "source": [
        "[] + [2]"
      ],
      "id": "509367be",
      "execution_count": null,
      "outputs": [
        {
          "data": {
            "text/plain": [
              "[2]"
            ]
          },
          "execution_count": 53,
          "metadata": {},
          "output_type": "execute_result"
        }
      ]
    },
    {
      "cell_type": "code",
      "metadata": {
        "id": "1cdf5172",
        "outputId": "db0336ad-7662-4b14-9e09-3a41d3007c83"
      },
      "source": [
        "num_set - set([1] + [2])"
      ],
      "id": "1cdf5172",
      "execution_count": null,
      "outputs": [
        {
          "data": {
            "text/plain": [
              "{3}"
            ]
          },
          "execution_count": 54,
          "metadata": {},
          "output_type": "execute_result"
        }
      ]
    },
    {
      "cell_type": "code",
      "metadata": {
        "id": "f1a39267",
        "outputId": "7e98e6fc-d3dd-4f31-e26a-1caa5d71e5bf"
      },
      "source": [
        "[1, 2] + [3]"
      ],
      "id": "f1a39267",
      "execution_count": null,
      "outputs": [
        {
          "data": {
            "text/plain": [
              "[1, 2, 3]"
            ]
          },
          "execution_count": 55,
          "metadata": {},
          "output_type": "execute_result"
        }
      ]
    },
    {
      "cell_type": "code",
      "metadata": {
        "id": "4a53e104"
      },
      "source": [
        "solution = [[]]"
      ],
      "id": "4a53e104",
      "execution_count": null,
      "outputs": []
    },
    {
      "cell_type": "code",
      "metadata": {
        "id": "4f80cac6"
      },
      "source": [
        "# solution = [[]]\n",
        "\n",
        "# solution - 1 = [[1], [2], [3]]\n",
        "\n",
        "# solution - 2 = [[1, 2], [1, 3], [2, 1], [2, 3], [3, 1], [3, 2]]\n",
        "\n",
        "# solution - 3 = [[1, 2, 3], [1, 3, 2], [2, 1, 3], [2, 3, 1], [3, 1, 2], [3, 2, 1]]\n",
        "\n",
        "# "
      ],
      "id": "4f80cac6",
      "execution_count": null,
      "outputs": []
    },
    {
      "cell_type": "code",
      "metadata": {
        "id": "d8854248",
        "outputId": "b93f4fef-f9c6-41aa-a43a-4fdb1787797b"
      },
      "source": [
        "num"
      ],
      "id": "d8854248",
      "execution_count": null,
      "outputs": [
        {
          "data": {
            "text/plain": [
              "[1, 2, 3]"
            ]
          },
          "execution_count": 57,
          "metadata": {},
          "output_type": "execute_result"
        }
      ]
    },
    {
      "cell_type": "code",
      "metadata": {
        "id": "73056aaf"
      },
      "source": [
        "# [body for variable in iterable]"
      ],
      "id": "73056aaf",
      "execution_count": null,
      "outputs": []
    },
    {
      "cell_type": "code",
      "metadata": {
        "id": "226280bb",
        "outputId": "6bc93c78-7b9a-4ec1-8c9c-f0d8955924b1"
      },
      "source": [
        "[[i] for i in range(3)]"
      ],
      "id": "226280bb",
      "execution_count": null,
      "outputs": [
        {
          "data": {
            "text/plain": [
              "[[0], [1], [2]]"
            ]
          },
          "execution_count": 58,
          "metadata": {},
          "output_type": "execute_result"
        }
      ]
    },
    {
      "cell_type": "code",
      "metadata": {
        "id": "5706bb1d",
        "outputId": "06363e57-07af-4f71-dc61-e586b04880d2"
      },
      "source": [
        "[[i ** 2] for i in range(3)]"
      ],
      "id": "5706bb1d",
      "execution_count": null,
      "outputs": [
        {
          "data": {
            "text/plain": [
              "[[0], [1], [4]]"
            ]
          },
          "execution_count": 60,
          "metadata": {},
          "output_type": "execute_result"
        }
      ]
    },
    {
      "cell_type": "code",
      "metadata": {
        "id": "3e428b13",
        "outputId": "91fc0fd9-698b-4cd3-b7b7-be90856c3eee"
      },
      "source": [
        "[[i ** 2] + [\"a\"] for i in range(3)]"
      ],
      "id": "3e428b13",
      "execution_count": null,
      "outputs": [
        {
          "data": {
            "text/plain": [
              "[[0, 'a'], [1, 'a'], [4, 'a']]"
            ]
          },
          "execution_count": 61,
          "metadata": {},
          "output_type": "execute_result"
        }
      ]
    },
    {
      "cell_type": "code",
      "metadata": {
        "id": "556eeb0d",
        "outputId": "360f1801-d0f2-43d9-8f77-f9823d83b269"
      },
      "source": [
        "bos = []\n",
        "\n",
        "for i in range(3) :\n",
        "    bos.append([i])\n",
        "bos"
      ],
      "id": "556eeb0d",
      "execution_count": null,
      "outputs": [
        {
          "data": {
            "text/plain": [
              "[[0], [1], [2]]"
            ]
          },
          "execution_count": 59,
          "metadata": {},
          "output_type": "execute_result"
        }
      ]
    },
    {
      "cell_type": "code",
      "metadata": {
        "id": "3b06788a",
        "outputId": "5c3b8a70-d90f-499c-8dce-a0428666da54"
      },
      "source": [
        "boss = []\n",
        "\n",
        "for i in range(3) :\n",
        "    for j in range(4,7) :\n",
        "        boss.append(str(i) + str(j))\n",
        "        \n",
        "boss"
      ],
      "id": "3b06788a",
      "execution_count": null,
      "outputs": [
        {
          "data": {
            "text/plain": [
              "['04', '05', '06', '14', '15', '16', '24', '25', '26']"
            ]
          },
          "execution_count": 65,
          "metadata": {},
          "output_type": "execute_result"
        }
      ]
    },
    {
      "cell_type": "code",
      "metadata": {
        "id": "1dba9f93",
        "outputId": "8d49b748-45a9-4347-e0fd-61fad7afced1"
      },
      "source": [
        "[str(i) + str(j) for i in range(3) for j in range(4,7)]"
      ],
      "id": "1dba9f93",
      "execution_count": null,
      "outputs": [
        {
          "data": {
            "text/plain": [
              "['04', '05', '06', '14', '15', '16', '24', '25', '26']"
            ]
          },
          "execution_count": 66,
          "metadata": {},
          "output_type": "execute_result"
        }
      ]
    },
    {
      "cell_type": "code",
      "metadata": {
        "id": "c4c54157",
        "outputId": "6cc21470-68e3-4ce9-e9f7-8bfa58c3604c"
      },
      "source": [
        "num_set"
      ],
      "id": "c4c54157",
      "execution_count": null,
      "outputs": [
        {
          "data": {
            "text/plain": [
              "{1, 2, 3}"
            ]
          },
          "execution_count": 67,
          "metadata": {},
          "output_type": "execute_result"
        }
      ]
    },
    {
      "cell_type": "code",
      "metadata": {
        "id": "3edb6370"
      },
      "source": [
        "# solution = [[]]\n",
        "\n",
        "# solution - 1 = [[1], [2], [3]]\n",
        "\n",
        "# solution - 2 = [[1, 2], [1, 3], [2, 1], [2, 3], [3, 1], [3, 2]]\n",
        "\n",
        "# solution - 3 = [[1, 2, 3], [1, 3, 2], [2, 1, 3], [2, 3, 1], [3, 1, 2], [3, 2, 1]]\n",
        "\n",
        "# "
      ],
      "id": "3edb6370",
      "execution_count": null,
      "outputs": []
    },
    {
      "cell_type": "code",
      "metadata": {
        "id": "cbd4e811",
        "outputId": "06d04aff-6426-4f7f-915c-5ddc08ace873"
      },
      "source": [
        "for index in range(len(num)) :\n",
        "    solution = [i + [j] for i in solution for j in num_set.difference(set(i))]\n",
        "    print(solution)"
      ],
      "id": "cbd4e811",
      "execution_count": null,
      "outputs": [
        {
          "name": "stdout",
          "output_type": "stream",
          "text": [
            "[[1], [2], [3]]\n",
            "[[1, 2], [1, 3], [2, 1], [2, 3], [3, 1], [3, 2]]\n",
            "[[1, 2, 3], [1, 3, 2], [2, 1, 3], [2, 3, 1], [3, 1, 2], [3, 2, 1]]\n"
          ]
        }
      ]
    }
  ]
}