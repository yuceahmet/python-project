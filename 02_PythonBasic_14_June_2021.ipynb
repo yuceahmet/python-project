{
  "nbformat": 4,
  "nbformat_minor": 5,
  "metadata": {
    "kernelspec": {
      "display_name": "Python 3",
      "language": "python",
      "name": "python3"
    },
    "language_info": {
      "codemirror_mode": {
        "name": "ipython",
        "version": 3
      },
      "file_extension": ".py",
      "mimetype": "text/x-python",
      "name": "python",
      "nbconvert_exporter": "python",
      "pygments_lexer": "ipython3",
      "version": "3.8.8"
    },
    "colab": {
      "name": "02_PythonBasic_14-June-2021.ipynb",
      "provenance": []
    }
  },
  "cells": [
    {
      "cell_type": "markdown",
      "metadata": {
        "id": "22263af8"
      },
      "source": [
        "<h1><p style=\"text-align: center; color:darkblue\">Python In-Class, <br>14 June 2021</p><h1>"
      ],
      "id": "22263af8"
    },
    {
      "cell_type": "code",
      "metadata": {
        "id": "5d8ab960",
        "outputId": "9e4bf40b-a504-4579-c88f-a0e084909208"
      },
      "source": [
        "False = \"joseph\""
      ],
      "id": "5d8ab960",
      "execution_count": null,
      "outputs": [
        {
          "output_type": "error",
          "ename": "SyntaxError",
          "evalue": "cannot assign to False (<ipython-input-1-2a7f5da85e97>, line 1)",
          "traceback": [
            "\u001b[0;36m  File \u001b[0;32m\"<ipython-input-1-2a7f5da85e97>\"\u001b[0;36m, line \u001b[0;32m1\u001b[0m\n\u001b[0;31m    False = \"joseph\"\u001b[0m\n\u001b[0m    ^\u001b[0m\n\u001b[0;31mSyntaxError\u001b[0m\u001b[0;31m:\u001b[0m cannot assign to False\n"
          ]
        }
      ]
    },
    {
      "cell_type": "code",
      "metadata": {
        "id": "cc8c26a2",
        "outputId": "c433eb8f-5ec2-4fad-e391-15742e6ce557"
      },
      "source": [
        "class = \"clarusway\""
      ],
      "id": "cc8c26a2",
      "execution_count": null,
      "outputs": [
        {
          "output_type": "error",
          "ename": "SyntaxError",
          "evalue": "invalid syntax (<ipython-input-2-142c6dce19e6>, line 1)",
          "traceback": [
            "\u001b[0;36m  File \u001b[0;32m\"<ipython-input-2-142c6dce19e6>\"\u001b[0;36m, line \u001b[0;32m1\u001b[0m\n\u001b[0;31m    class = \"clarusway\"\u001b[0m\n\u001b[0m          ^\u001b[0m\n\u001b[0;31mSyntaxError\u001b[0m\u001b[0;31m:\u001b[0m invalid syntax\n"
          ]
        }
      ]
    },
    {
      "cell_type": "code",
      "metadata": {
        "id": "88f0445e",
        "outputId": "2915c7b5-3b27-431b-945c-cfc48490e9d2"
      },
      "source": [
        "del = \"clarusway\""
      ],
      "id": "88f0445e",
      "execution_count": null,
      "outputs": [
        {
          "output_type": "error",
          "ename": "SyntaxError",
          "evalue": "invalid syntax (<ipython-input-3-97f9ea2033bf>, line 1)",
          "traceback": [
            "\u001b[0;36m  File \u001b[0;32m\"<ipython-input-3-97f9ea2033bf>\"\u001b[0;36m, line \u001b[0;32m1\u001b[0m\n\u001b[0;31m    del = \"clarusway\"\u001b[0m\n\u001b[0m        ^\u001b[0m\n\u001b[0;31mSyntaxError\u001b[0m\u001b[0;31m:\u001b[0m invalid syntax\n"
          ]
        }
      ]
    },
    {
      "cell_type": "code",
      "metadata": {
        "id": "014db56b"
      },
      "source": [
        "false = \"sıkıntı olmadı\""
      ],
      "id": "014db56b",
      "execution_count": null,
      "outputs": []
    },
    {
      "cell_type": "code",
      "metadata": {
        "id": "a3e45ac4"
      },
      "source": [
        "# python case sensitive bir dildir."
      ],
      "id": "a3e45ac4",
      "execution_count": null,
      "outputs": []
    },
    {
      "cell_type": "code",
      "metadata": {
        "id": "8ad7bb13"
      },
      "source": [
        "x = y = z = \"clarusway\""
      ],
      "id": "8ad7bb13",
      "execution_count": null,
      "outputs": []
    },
    {
      "cell_type": "code",
      "metadata": {
        "id": "5115000c",
        "outputId": "d1111003-7835-40f4-9948-c71de242bda5"
      },
      "source": [
        "print(x)"
      ],
      "id": "5115000c",
      "execution_count": null,
      "outputs": [
        {
          "output_type": "stream",
          "text": [
            "clarusway\n"
          ],
          "name": "stdout"
        }
      ]
    },
    {
      "cell_type": "code",
      "metadata": {
        "id": "d76fd234",
        "outputId": "4850e9c1-7915-4b43-ca50-f000a3d58c26"
      },
      "source": [
        "print(y)"
      ],
      "id": "d76fd234",
      "execution_count": null,
      "outputs": [
        {
          "output_type": "stream",
          "text": [
            "clarusway\n"
          ],
          "name": "stdout"
        }
      ]
    },
    {
      "cell_type": "code",
      "metadata": {
        "id": "969b4e98",
        "outputId": "12a063ee-3259-4617-c596-30dbf17fdbb4"
      },
      "source": [
        "print(z)"
      ],
      "id": "969b4e98",
      "execution_count": null,
      "outputs": [
        {
          "output_type": "stream",
          "text": [
            "clarusway\n"
          ],
          "name": "stdout"
        }
      ]
    },
    {
      "cell_type": "code",
      "metadata": {
        "id": "7dd6a781"
      },
      "source": [
        "x = \"clarusway\"\n",
        "y = \"cilali ibo\"\n",
        "z = x\n",
        "y = z\n",
        "x = \"nba\""
      ],
      "id": "7dd6a781",
      "execution_count": null,
      "outputs": []
    },
    {
      "cell_type": "code",
      "metadata": {
        "id": "dc1862fe",
        "outputId": "fc9ac6a1-718d-4c17-be4b-79ca62d700ef"
      },
      "source": [
        "print(x)\n",
        "print(y)\n",
        "print(z)"
      ],
      "id": "dc1862fe",
      "execution_count": null,
      "outputs": [
        {
          "output_type": "stream",
          "text": [
            "nba\n",
            "clarusway\n",
            "clarusway\n"
          ],
          "name": "stdout"
        }
      ]
    },
    {
      "cell_type": "code",
      "metadata": {
        "id": "6761cc57"
      },
      "source": [
        "string_değişken = \"clarusway'e gelin, iş garantinizi alın.\""
      ],
      "id": "6761cc57",
      "execution_count": null,
      "outputs": []
    },
    {
      "cell_type": "code",
      "metadata": {
        "id": "678f928c",
        "outputId": "bb8f6ffe-62df-4e61-d111-4d759c954f2f"
      },
      "source": [
        "string_değişken"
      ],
      "id": "678f928c",
      "execution_count": null,
      "outputs": [
        {
          "output_type": "execute_result",
          "data": {
            "text/plain": [
              "\"clarusway'e gelin, iş garantinizi alın.\""
            ]
          },
          "metadata": {
            "tags": []
          },
          "execution_count": 13
        }
      ]
    },
    {
      "cell_type": "code",
      "metadata": {
        "id": "7b36c461",
        "outputId": "bcdd1860-e4ea-472a-d88e-5a6fe15e3b45"
      },
      "source": [
        "type(string_değişken)"
      ],
      "id": "7b36c461",
      "execution_count": null,
      "outputs": [
        {
          "output_type": "execute_result",
          "data": {
            "text/plain": [
              "str"
            ]
          },
          "metadata": {
            "tags": []
          },
          "execution_count": 14
        }
      ]
    },
    {
      "cell_type": "code",
      "metadata": {
        "id": "5c5ad2e4"
      },
      "source": [
        "pi = 3.14"
      ],
      "id": "5c5ad2e4",
      "execution_count": null,
      "outputs": []
    },
    {
      "cell_type": "code",
      "metadata": {
        "id": "f52a0228",
        "outputId": "f277512c-dc3a-476e-bc00-6807e87cd65f"
      },
      "source": [
        "print(pi)"
      ],
      "id": "f52a0228",
      "execution_count": null,
      "outputs": [
        {
          "output_type": "stream",
          "text": [
            "3.14\n"
          ],
          "name": "stdout"
        }
      ]
    },
    {
      "cell_type": "code",
      "metadata": {
        "id": "bb458307",
        "outputId": "da12962f-6163-4b1d-af0c-900c9e5c8ca2"
      },
      "source": [
        "pi"
      ],
      "id": "bb458307",
      "execution_count": null,
      "outputs": [
        {
          "output_type": "execute_result",
          "data": {
            "text/plain": [
              "3.14"
            ]
          },
          "metadata": {
            "tags": []
          },
          "execution_count": 17
        }
      ]
    },
    {
      "cell_type": "code",
      "metadata": {
        "id": "d37a7eab"
      },
      "source": [
        "converted_pi = str(pi)"
      ],
      "id": "d37a7eab",
      "execution_count": null,
      "outputs": []
    },
    {
      "cell_type": "code",
      "metadata": {
        "id": "7bab3d9a",
        "outputId": "c7d03fea-d04e-4398-cdc9-699320e9f3ae"
      },
      "source": [
        "converted_pi"
      ],
      "id": "7bab3d9a",
      "execution_count": null,
      "outputs": [
        {
          "output_type": "execute_result",
          "data": {
            "text/plain": [
              "'3.14'"
            ]
          },
          "metadata": {
            "tags": []
          },
          "execution_count": 19
        }
      ]
    },
    {
      "cell_type": "code",
      "metadata": {
        "id": "c51f5a46"
      },
      "source": [
        ""
      ],
      "id": "c51f5a46",
      "execution_count": null,
      "outputs": []
    },
    {
      "cell_type": "code",
      "metadata": {
        "id": "d3345b5b",
        "outputId": "47cce231-277d-45f3-dbb4-6024c49fca2f"
      },
      "source": [
        "print(type(converted_pi))"
      ],
      "id": "d3345b5b",
      "execution_count": null,
      "outputs": [
        {
          "output_type": "stream",
          "text": [
            "<class 'str'>\n"
          ],
          "name": "stdout"
        }
      ]
    },
    {
      "cell_type": "code",
      "metadata": {
        "id": "b6f66c8b",
        "outputId": "5d63457c-cba7-434a-9ccb-805b80fc5347"
      },
      "source": [
        "\"clarus\" + \"way\""
      ],
      "id": "b6f66c8b",
      "execution_count": null,
      "outputs": [
        {
          "output_type": "execute_result",
          "data": {
            "text/plain": [
              "'clarusway'"
            ]
          },
          "metadata": {
            "tags": []
          },
          "execution_count": 21
        }
      ]
    },
    {
      "cell_type": "code",
      "metadata": {
        "id": "25b726cf",
        "outputId": "c2590e30-fc24-42a3-a4b6-0962b441709c"
      },
      "source": [
        "\"12\" + 12"
      ],
      "id": "25b726cf",
      "execution_count": null,
      "outputs": [
        {
          "output_type": "error",
          "ename": "TypeError",
          "evalue": "can only concatenate str (not \"int\") to str",
          "traceback": [
            "\u001b[0;31m---------------------------------------------------------------------------\u001b[0m",
            "\u001b[0;31mTypeError\u001b[0m                                 Traceback (most recent call last)",
            "\u001b[0;32m<ipython-input-22-2f73d21e6516>\u001b[0m in \u001b[0;36m<module>\u001b[0;34m\u001b[0m\n\u001b[0;32m----> 1\u001b[0;31m \u001b[0;34m\"12\"\u001b[0m \u001b[0;34m+\u001b[0m \u001b[0;36m12\u001b[0m\u001b[0;34m\u001b[0m\u001b[0;34m\u001b[0m\u001b[0m\n\u001b[0m",
            "\u001b[0;31mTypeError\u001b[0m: can only concatenate str (not \"int\") to str"
          ]
        }
      ]
    },
    {
      "cell_type": "code",
      "metadata": {
        "id": "3ff7b208",
        "outputId": "6814d6f1-d7c1-4162-920d-02b38bd40543"
      },
      "source": [
        "\"12\" + \"12\""
      ],
      "id": "3ff7b208",
      "execution_count": null,
      "outputs": [
        {
          "output_type": "execute_result",
          "data": {
            "text/plain": [
              "'1212'"
            ]
          },
          "metadata": {
            "tags": []
          },
          "execution_count": 23
        }
      ]
    },
    {
      "cell_type": "code",
      "metadata": {
        "id": "8afbf3f1",
        "outputId": "09c776e8-1cc8-46a4-8a20-72596f06676b"
      },
      "source": [
        "12 + 12"
      ],
      "id": "8afbf3f1",
      "execution_count": null,
      "outputs": [
        {
          "output_type": "execute_result",
          "data": {
            "text/plain": [
              "24"
            ]
          },
          "metadata": {
            "tags": []
          },
          "execution_count": 24
        }
      ]
    },
    {
      "cell_type": "code",
      "metadata": {
        "id": "202cd628",
        "outputId": "f3bf1132-04a4-41dd-ae66-34ba12d45c2f"
      },
      "source": [
        "pi = 3.14\n",
        "r = 5\n",
        "\n",
        "area = pi * r ** 2\n",
        "\n",
        "area"
      ],
      "id": "202cd628",
      "execution_count": null,
      "outputs": [
        {
          "output_type": "execute_result",
          "data": {
            "text/plain": [
              "78.5"
            ]
          },
          "metadata": {
            "tags": []
          },
          "execution_count": 25
        }
      ]
    },
    {
      "cell_type": "code",
      "metadata": {
        "id": "7166cfe8",
        "outputId": "1e5e9c09-37e4-4baf-d6c1-88c8f685658c"
      },
      "source": [
        "10 + 2 ** 2.0 - (13-122)"
      ],
      "id": "7166cfe8",
      "execution_count": null,
      "outputs": [
        {
          "output_type": "execute_result",
          "data": {
            "text/plain": [
              "123.0"
            ]
          },
          "metadata": {
            "tags": []
          },
          "execution_count": 26
        }
      ]
    },
    {
      "cell_type": "code",
      "metadata": {
        "id": "1ef95fd7",
        "outputId": "3c14b1af-55aa-4c44-d673-d41c022af7e5"
      },
      "source": [
        "x = 5\n",
        "x = x + 1\n",
        "x"
      ],
      "id": "1ef95fd7",
      "execution_count": null,
      "outputs": [
        {
          "output_type": "execute_result",
          "data": {
            "text/plain": [
              "6"
            ]
          },
          "metadata": {
            "tags": []
          },
          "execution_count": 27
        }
      ]
    },
    {
      "cell_type": "code",
      "metadata": {
        "id": "670b2b7a",
        "outputId": "9fc181cf-fac5-4c22-9abf-7cc066a52f6c"
      },
      "source": [
        "x = x + 1\n",
        "x"
      ],
      "id": "670b2b7a",
      "execution_count": null,
      "outputs": [
        {
          "output_type": "execute_result",
          "data": {
            "text/plain": [
              "7"
            ]
          },
          "metadata": {
            "tags": []
          },
          "execution_count": 28
        }
      ]
    },
    {
      "cell_type": "code",
      "metadata": {
        "id": "b771ad66",
        "outputId": "33e70826-237a-4e3f-8ae5-04abe327e945"
      },
      "source": [
        "x = x + 1\n",
        "x"
      ],
      "id": "b771ad66",
      "execution_count": null,
      "outputs": [
        {
          "output_type": "execute_result",
          "data": {
            "text/plain": [
              "8"
            ]
          },
          "metadata": {
            "tags": []
          },
          "execution_count": 29
        }
      ]
    },
    {
      "cell_type": "code",
      "metadata": {
        "id": "cd982ae9",
        "outputId": "b6f19f20-ed77-4839-b9fe-697a71f8cf8b"
      },
      "source": [
        "x += 1\n",
        "x"
      ],
      "id": "cd982ae9",
      "execution_count": null,
      "outputs": [
        {
          "output_type": "execute_result",
          "data": {
            "text/plain": [
              "12"
            ]
          },
          "metadata": {
            "tags": []
          },
          "execution_count": 33
        }
      ]
    },
    {
      "cell_type": "code",
      "metadata": {
        "id": "4bdb5d90",
        "outputId": "e3305763-f23f-4037-d9dd-cb1235f4ec47"
      },
      "source": [
        "y = 3\n",
        "y = y * 2\n",
        "y"
      ],
      "id": "4bdb5d90",
      "execution_count": null,
      "outputs": [
        {
          "output_type": "execute_result",
          "data": {
            "text/plain": [
              "6"
            ]
          },
          "metadata": {
            "tags": []
          },
          "execution_count": 38
        }
      ]
    },
    {
      "cell_type": "code",
      "metadata": {
        "id": "b4b5aefd",
        "outputId": "2f55ee44-b7db-4b3b-b2cd-89f6b36d6b99"
      },
      "source": [
        "y *= 2\n",
        "y"
      ],
      "id": "b4b5aefd",
      "execution_count": null,
      "outputs": [
        {
          "output_type": "execute_result",
          "data": {
            "text/plain": [
              "12"
            ]
          },
          "metadata": {
            "tags": []
          },
          "execution_count": 39
        }
      ]
    },
    {
      "cell_type": "code",
      "metadata": {
        "id": "d1a5efbf",
        "outputId": "a06c8607-18df-40ac-9f0e-9f873e7491a0"
      },
      "source": [
        "y *= 2\n",
        "y"
      ],
      "id": "d1a5efbf",
      "execution_count": null,
      "outputs": [
        {
          "output_type": "execute_result",
          "data": {
            "text/plain": [
              "24"
            ]
          },
          "metadata": {
            "tags": []
          },
          "execution_count": 40
        }
      ]
    },
    {
      "cell_type": "code",
      "metadata": {
        "id": "3526c00a",
        "outputId": "bd3fac9a-a3d3-4ccf-ee12-1f05dadc27aa"
      },
      "source": [
        "aa = 5\n",
        "aa = 6\n",
        "aa"
      ],
      "id": "3526c00a",
      "execution_count": null,
      "outputs": [
        {
          "output_type": "execute_result",
          "data": {
            "text/plain": [
              "6"
            ]
          },
          "metadata": {
            "tags": []
          },
          "execution_count": 37
        }
      ]
    }
  ]
}
