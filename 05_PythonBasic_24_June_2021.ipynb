{
  "nbformat": 4,
  "nbformat_minor": 5,
  "metadata": {
    "kernelspec": {
      "display_name": "Python 3",
      "language": "python",
      "name": "python3"
    },
    "language_info": {
      "codemirror_mode": {
        "name": "ipython",
        "version": 3
      },
      "file_extension": ".py",
      "mimetype": "text/x-python",
      "name": "python",
      "nbconvert_exporter": "python",
      "pygments_lexer": "ipython3",
      "version": "3.8.8"
    },
    "colab": {
      "name": "05_PythonBasic_24-June-2021.ipynb",
      "provenance": []
    }
  },
  "cells": [
    {
      "cell_type": "markdown",
      "metadata": {
        "id": "22263af8"
      },
      "source": [
        "<h1><p style=\"text-align: center; color:darkblue\">Python In-Class, <br>24 June 2021</p><h1>"
      ],
      "id": "22263af8"
    },
    {
      "cell_type": "code",
      "metadata": {
        "id": "0fe8ed5c",
        "outputId": "ae3bbcfc-960e-44fd-b479-ca5e7b5550a7"
      },
      "source": [
        "x = 2\n",
        "y = 3\n",
        "print(f\"Burada neler oluyor. aman allahım.... {x ** y}\")"
      ],
      "id": "0fe8ed5c",
      "execution_count": null,
      "outputs": [
        {
          "output_type": "stream",
          "text": [
            "burada neler oluyor. aman allahım.... 8\n"
          ],
          "name": "stdout"
        }
      ]
    },
    {
      "cell_type": "code",
      "metadata": {
        "id": "dcff76eb",
        "outputId": "9dfc9bee-6542-4dd0-852d-e64a6448e702"
      },
      "source": [
        "print(8)"
      ],
      "id": "dcff76eb",
      "execution_count": null,
      "outputs": [
        {
          "output_type": "stream",
          "text": [
            "8\n"
          ],
          "name": "stdout"
        }
      ]
    },
    {
      "cell_type": "code",
      "metadata": {
        "id": "0b6f4dae",
        "outputId": "79c68438-35ff-486d-907e-61ddf1feb670"
      },
      "source": [
        "print(\"8\")"
      ],
      "id": "0b6f4dae",
      "execution_count": null,
      "outputs": [
        {
          "output_type": "stream",
          "text": [
            "8\n"
          ],
          "name": "stdout"
        }
      ]
    },
    {
      "cell_type": "code",
      "metadata": {
        "id": "0f129b20",
        "outputId": "706ff3bb-21d5-4873-a6d2-f88f40cfd2f3"
      },
      "source": [
        "name = \"MARIAM\"\n",
        "print(name.capitalize())"
      ],
      "id": "0f129b20",
      "execution_count": null,
      "outputs": [
        {
          "output_type": "stream",
          "text": [
            "Mariam\n"
          ],
          "name": "stdout"
        }
      ]
    },
    {
      "cell_type": "code",
      "metadata": {
        "id": "023f1a59",
        "outputId": "74876aa9-a218-4ef8-eea5-6c917f544708"
      },
      "source": [
        "\"ben bu kursta öğrenci olmaktan dolayı \\\n",
        "çok mutluyum. ben de joseph hoca olarak sizlere ders anlatmaktan büyük zevk alıyorum.\"\\\n",
        ".title()"
      ],
      "id": "023f1a59",
      "execution_count": null,
      "outputs": [
        {
          "output_type": "execute_result",
          "data": {
            "text/plain": [
              "'Ben Bu Kursta Öğrenci Olmaktan Dolayı Çok Mutluyum. Ben De Joseph Hoca Olarak Sizlere Ders Anlatmaktan Büyük Zevk Alıyorum.'"
            ]
          },
          "metadata": {
            "tags": []
          },
          "execution_count": 6
        }
      ]
    },
    {
      "cell_type": "code",
      "metadata": {
        "id": "462e7c6d",
        "outputId": "71ccd046-0075-4fb8-94ab-7b6df5d7307e"
      },
      "source": [
        "\"ahmet\".title()"
      ],
      "id": "462e7c6d",
      "execution_count": null,
      "outputs": [
        {
          "output_type": "execute_result",
          "data": {
            "text/plain": [
              "'Ahmet'"
            ]
          },
          "metadata": {
            "tags": []
          },
          "execution_count": 7
        }
      ]
    },
    {
      "cell_type": "code",
      "metadata": {
        "id": "54136fcd",
        "outputId": "abbc5604-f3d1-421d-cde7-6376b2d22b55"
      },
      "source": [
        "\"clarusWay\".title()"
      ],
      "id": "54136fcd",
      "execution_count": null,
      "outputs": [
        {
          "output_type": "execute_result",
          "data": {
            "text/plain": [
              "'Clarusway'"
            ]
          },
          "metadata": {
            "tags": []
          },
          "execution_count": 8
        }
      ]
    },
    {
      "cell_type": "code",
      "metadata": {
        "id": "afd99a6f"
      },
      "source": [
        "metin = \"clarusWay\""
      ],
      "id": "afd99a6f",
      "execution_count": null,
      "outputs": []
    },
    {
      "cell_type": "code",
      "metadata": {
        "id": "9b3c0588",
        "outputId": "97af58d6-67fb-49d1-fd78-950b26adf16e"
      },
      "source": [
        "metin.title()"
      ],
      "id": "9b3c0588",
      "execution_count": null,
      "outputs": [
        {
          "output_type": "execute_result",
          "data": {
            "text/plain": [
              "'Clarusway'"
            ]
          },
          "metadata": {
            "tags": []
          },
          "execution_count": 10
        }
      ]
    },
    {
      "cell_type": "code",
      "metadata": {
        "id": "1e6cc9d3",
        "outputId": "440859bc-9c1f-46fd-8fca-fd72cf9d798c"
      },
      "source": [
        "metin"
      ],
      "id": "1e6cc9d3",
      "execution_count": null,
      "outputs": [
        {
          "output_type": "execute_result",
          "data": {
            "text/plain": [
              "'clarusWay'"
            ]
          },
          "metadata": {
            "tags": []
          },
          "execution_count": 11
        }
      ]
    },
    {
      "cell_type": "code",
      "metadata": {
        "id": "8f7c5dbf"
      },
      "source": [
        "metin = metin.title()"
      ],
      "id": "8f7c5dbf",
      "execution_count": null,
      "outputs": []
    },
    {
      "cell_type": "code",
      "metadata": {
        "id": "bf84c954",
        "outputId": "e2ab132e-f344-445e-cee2-900e486e5d0e"
      },
      "source": [
        "metin"
      ],
      "id": "bf84c954",
      "execution_count": null,
      "outputs": [
        {
          "output_type": "execute_result",
          "data": {
            "text/plain": [
              "'Clarusway'"
            ]
          },
          "metadata": {
            "tags": []
          },
          "execution_count": 13
        }
      ]
    },
    {
      "cell_type": "code",
      "metadata": {
        "id": "a45b3982"
      },
      "source": [
        "yazı = metin.upper()"
      ],
      "id": "a45b3982",
      "execution_count": null,
      "outputs": []
    },
    {
      "cell_type": "code",
      "metadata": {
        "id": "32e954cd",
        "outputId": "020d81ec-091f-4cc0-8a4c-2b87ebd853f1"
      },
      "source": [
        "yazı"
      ],
      "id": "32e954cd",
      "execution_count": null,
      "outputs": [
        {
          "output_type": "execute_result",
          "data": {
            "text/plain": [
              "'CLARUSWAY'"
            ]
          },
          "metadata": {
            "tags": []
          },
          "execution_count": 15
        }
      ]
    },
    {
      "cell_type": "code",
      "metadata": {
        "id": "ec1691ce",
        "outputId": "2f393064-6768-433a-eefa-341e107560b9"
      },
      "source": [
        "metin"
      ],
      "id": "ec1691ce",
      "execution_count": null,
      "outputs": [
        {
          "output_type": "execute_result",
          "data": {
            "text/plain": [
              "'Clarusway'"
            ]
          },
          "metadata": {
            "tags": []
          },
          "execution_count": 16
        }
      ]
    },
    {
      "cell_type": "code",
      "metadata": {
        "id": "79d8dc9e",
        "outputId": "3de069ba-a4c0-473d-f0a3-651bdf3c04ff"
      },
      "source": [
        "\"clarusway\".capitalize()"
      ],
      "id": "79d8dc9e",
      "execution_count": null,
      "outputs": [
        {
          "output_type": "execute_result",
          "data": {
            "text/plain": [
              "'Clarusway'"
            ]
          },
          "metadata": {
            "tags": []
          },
          "execution_count": 17
        }
      ]
    },
    {
      "cell_type": "code",
      "metadata": {
        "id": "8823a911"
      },
      "source": [
        "a = \"clarusway\""
      ],
      "id": "8823a911",
      "execution_count": null,
      "outputs": []
    },
    {
      "cell_type": "code",
      "metadata": {
        "id": "4c875e8e",
        "outputId": "4dedcd8b-2a19-4c00-af36-b270df272eb1"
      },
      "source": [
        "a.replace(\"a\", \"u\", 2)"
      ],
      "id": "4c875e8e",
      "execution_count": null,
      "outputs": [
        {
          "output_type": "execute_result",
          "data": {
            "text/plain": [
              "'cluruswuy'"
            ]
          },
          "metadata": {
            "tags": []
          },
          "execution_count": 22
        }
      ]
    },
    {
      "cell_type": "code",
      "metadata": {
        "id": "266361b2"
      },
      "source": [
        "değişken = 16\n",
        "değişken_1 = \"string\"\n",
        "değişken_2 = [11]"
      ],
      "id": "266361b2",
      "execution_count": null,
      "outputs": []
    },
    {
      "cell_type": "code",
      "metadata": {
        "id": "3ce6cd14"
      },
      "source": [
        "text = 'S0d0me and G0m0re'"
      ],
      "id": "3ce6cd14",
      "execution_count": null,
      "outputs": []
    },
    {
      "cell_type": "code",
      "metadata": {
        "id": "6459d3fe",
        "outputId": "4a4b8624-dce6-4dca-e5ed-ce5a3a3e4ed9"
      },
      "source": [
        "text = text.replace(\"0\", \"o\")\n",
        "text"
      ],
      "id": "6459d3fe",
      "execution_count": null,
      "outputs": [
        {
          "output_type": "execute_result",
          "data": {
            "text/plain": [
              "'Sodome and Gomore'"
            ]
          },
          "metadata": {
            "tags": []
          },
          "execution_count": 24
        }
      ]
    },
    {
      "cell_type": "code",
      "metadata": {
        "id": "e0aad848"
      },
      "source": [
        "text = 'S0d0me and G0m0re'"
      ],
      "id": "e0aad848",
      "execution_count": null,
      "outputs": []
    },
    {
      "cell_type": "code",
      "metadata": {
        "id": "8564bda0",
        "outputId": "55dee781-63b1-4240-8248-187dc06676f6"
      },
      "source": [
        "text = text.replace(\"0\", \"o\", 2)\n",
        "text"
      ],
      "id": "8564bda0",
      "execution_count": null,
      "outputs": [
        {
          "output_type": "execute_result",
          "data": {
            "text/plain": [
              "'Sodome and G0m0re'"
            ]
          },
          "metadata": {
            "tags": []
          },
          "execution_count": 27
        }
      ]
    },
    {
      "cell_type": "code",
      "metadata": {
        "id": "3fa81c2c"
      },
      "source": [
        "var = \"\\n\\nahmet\\nmehmet    \""
      ],
      "id": "3fa81c2c",
      "execution_count": null,
      "outputs": []
    },
    {
      "cell_type": "code",
      "metadata": {
        "id": "3130d98e",
        "outputId": "66cefb9c-c71f-4a04-a8b4-a28ab04487cc"
      },
      "source": [
        "print(var)"
      ],
      "id": "3130d98e",
      "execution_count": null,
      "outputs": [
        {
          "output_type": "stream",
          "text": [
            "\n",
            "\n",
            "ahmet\n",
            "mehmet    \n"
          ],
          "name": "stdout"
        }
      ]
    },
    {
      "cell_type": "code",
      "metadata": {
        "id": "fea7fb34",
        "outputId": "d0484a25-f37f-4213-960d-87408e88757f"
      },
      "source": [
        "print(var.strip())"
      ],
      "id": "fea7fb34",
      "execution_count": null,
      "outputs": [
        {
          "output_type": "stream",
          "text": [
            "ahmet\n",
            "mehmet\n"
          ],
          "name": "stdout"
        }
      ]
    },
    {
      "cell_type": "code",
      "metadata": {
        "id": "383d1cbe"
      },
      "source": [
        "source_string = \"initeroperability\""
      ],
      "id": "383d1cbe",
      "execution_count": null,
      "outputs": []
    },
    {
      "cell_type": "code",
      "metadata": {
        "id": "8b4eaaf4",
        "outputId": "db4b31b8-7891-460d-a3e0-71d7cac53a33"
      },
      "source": [
        "print(source_string.lstrip(\"in\"))"
      ],
      "id": "8b4eaaf4",
      "execution_count": null,
      "outputs": [
        {
          "output_type": "stream",
          "text": [
            "teroperability\n"
          ],
          "name": "stdout"
        }
      ]
    },
    {
      "cell_type": "code",
      "metadata": {
        "id": "d526d89e",
        "outputId": "6a06f927-b41e-48c0-b3fa-a9011b2edf3a"
      },
      "source": [
        "source_string.replace(\"in\", \"\")"
      ],
      "id": "d526d89e",
      "execution_count": null,
      "outputs": [
        {
          "output_type": "execute_result",
          "data": {
            "text/plain": [
              "'iteroperability'"
            ]
          },
          "metadata": {
            "tags": []
          },
          "execution_count": 34
        }
      ]
    }
  ]
}
