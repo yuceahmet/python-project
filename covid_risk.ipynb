{
  "nbformat": 4,
  "nbformat_minor": 0,
  "metadata": {
    "colab": {
      "name": "covid_risk.ipynb",
      "provenance": []
    },
    "kernelspec": {
      "name": "python3",
      "display_name": "Python 3"
    },
    "language_info": {
      "name": "python"
    }
  },
  "cells": [
    {
      "cell_type": "code",
      "metadata": {
        "colab": {
          "base_uri": "https://localhost:8080/"
        },
        "id": "o7Ty3wmImRP0",
        "outputId": "35fd3f69-b7a0-4c1b-a85d-164186613000"
      },
      "source": [
        "# Assignment 3. All variables have either True or False\n",
        "age = True  # Are you a cigarette addict older than 75 years old?\n",
        "chronic = True  # Do you have a severe chronic disease?\n",
        "immune = True  # Is your immune system too weak? True means immune system is too weak\n",
        "risk = age or chronic or immune # if True, there is a risk\n",
        "print(risk)"
      ],
      "execution_count": null,
      "outputs": [
        {
          "output_type": "stream",
          "text": [
            "True\n"
          ],
          "name": "stdout"
        }
      ]
    }
  ]
}