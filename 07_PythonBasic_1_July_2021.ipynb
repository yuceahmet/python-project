{
  "nbformat": 4,
  "nbformat_minor": 5,
  "metadata": {
    "kernelspec": {
      "display_name": "Python 3",
      "language": "python",
      "name": "python3"
    },
    "language_info": {
      "codemirror_mode": {
        "name": "ipython",
        "version": 3
      },
      "file_extension": ".py",
      "mimetype": "text/x-python",
      "name": "python",
      "nbconvert_exporter": "python",
      "pygments_lexer": "ipython3",
      "version": "3.8.8"
    },
    "colab": {
      "name": "07_PythonBasic_1-July-2021.ipynb",
      "provenance": []
    }
  },
  "cells": [
    {
      "cell_type": "markdown",
      "metadata": {
        "id": "22263af8"
      },
      "source": [
        "<h1><p style=\"text-align: center; color:darkblue\">Python In-Class, <br>1 July 2021</p><h1>"
      ],
      "id": "22263af8"
    },
    {
      "cell_type": "code",
      "metadata": {
        "id": "65a76d1d"
      },
      "source": [
        "list_1 = ['one', 'four', 'nine']\n",
        "list_2 = ['@', '*-', 'False']\n",
        "list_3 = [True, False]\n",
        "list_4 = [[3], [44], [-12]]\n",
        "list_5 = [[1, 3], [44, -40], [-12, 1]]"
      ],
      "id": "65a76d1d",
      "execution_count": null,
      "outputs": []
    },
    {
      "cell_type": "code",
      "metadata": {
        "id": "1035685a"
      },
      "source": [
        "list_1.sort()"
      ],
      "id": "1035685a",
      "execution_count": null,
      "outputs": []
    },
    {
      "cell_type": "code",
      "metadata": {
        "id": "6d75f8ae",
        "outputId": "ece5a3dd-51c0-4c47-f6e5-c177af8943a1"
      },
      "source": [
        "list_1"
      ],
      "id": "6d75f8ae",
      "execution_count": null,
      "outputs": [
        {
          "output_type": "execute_result",
          "data": {
            "text/plain": [
              "['four', 'nine', 'one']"
            ]
          },
          "metadata": {
            "tags": []
          },
          "execution_count": 4
        }
      ]
    },
    {
      "cell_type": "code",
      "metadata": {
        "id": "a909a159"
      },
      "source": [
        "list_2.sort()"
      ],
      "id": "a909a159",
      "execution_count": null,
      "outputs": []
    },
    {
      "cell_type": "code",
      "metadata": {
        "id": "cd6d7169",
        "outputId": "7234b1aa-d909-45db-9e94-bf6e8a860ede"
      },
      "source": [
        "list_2"
      ],
      "id": "cd6d7169",
      "execution_count": null,
      "outputs": [
        {
          "output_type": "execute_result",
          "data": {
            "text/plain": [
              "['*-', '@', 'False']"
            ]
          },
          "metadata": {
            "tags": []
          },
          "execution_count": 6
        }
      ]
    },
    {
      "cell_type": "code",
      "metadata": {
        "id": "fe1b6a3f",
        "outputId": "fb583ed1-6c6c-4947-d958-2548d2f06c70"
      },
      "source": [
        "ord(\"*\")"
      ],
      "id": "fe1b6a3f",
      "execution_count": null,
      "outputs": [
        {
          "output_type": "execute_result",
          "data": {
            "text/plain": [
              "42"
            ]
          },
          "metadata": {
            "tags": []
          },
          "execution_count": 7
        }
      ]
    },
    {
      "cell_type": "code",
      "metadata": {
        "id": "ae5cdba3",
        "outputId": "58bb2368-895a-4bde-fc5f-e7e653aaf918"
      },
      "source": [
        "ord(\"@\")"
      ],
      "id": "ae5cdba3",
      "execution_count": null,
      "outputs": [
        {
          "output_type": "execute_result",
          "data": {
            "text/plain": [
              "64"
            ]
          },
          "metadata": {
            "tags": []
          },
          "execution_count": 8
        }
      ]
    },
    {
      "cell_type": "code",
      "metadata": {
        "id": "7d0dd4d7",
        "outputId": "91d7d549-23f6-4359-baea-3536e3192035"
      },
      "source": [
        "ord(\"F\")"
      ],
      "id": "7d0dd4d7",
      "execution_count": null,
      "outputs": [
        {
          "output_type": "execute_result",
          "data": {
            "text/plain": [
              "70"
            ]
          },
          "metadata": {
            "tags": []
          },
          "execution_count": 9
        }
      ]
    },
    {
      "cell_type": "code",
      "metadata": {
        "id": "d67a1844"
      },
      "source": [
        "list_2.sort(reverse=True)"
      ],
      "id": "d67a1844",
      "execution_count": null,
      "outputs": []
    },
    {
      "cell_type": "code",
      "metadata": {
        "id": "09a35233",
        "outputId": "a6090a37-fe70-4185-f91a-066152a5d6a0"
      },
      "source": [
        "list_2"
      ],
      "id": "09a35233",
      "execution_count": null,
      "outputs": [
        {
          "output_type": "execute_result",
          "data": {
            "text/plain": [
              "['False', '@', '*-']"
            ]
          },
          "metadata": {
            "tags": []
          },
          "execution_count": 11
        }
      ]
    },
    {
      "cell_type": "code",
      "metadata": {
        "id": "7637510e"
      },
      "source": [
        "list_3.sort()"
      ],
      "id": "7637510e",
      "execution_count": null,
      "outputs": []
    },
    {
      "cell_type": "code",
      "metadata": {
        "id": "4dc0d1cb",
        "outputId": "fb12fc9b-f294-4a02-c1b1-326455a18da4"
      },
      "source": [
        "list_3"
      ],
      "id": "4dc0d1cb",
      "execution_count": null,
      "outputs": [
        {
          "output_type": "execute_result",
          "data": {
            "text/plain": [
              "[False, True]"
            ]
          },
          "metadata": {
            "tags": []
          },
          "execution_count": 14
        }
      ]
    },
    {
      "cell_type": "code",
      "metadata": {
        "id": "f7d0f733"
      },
      "source": [
        "list_5 = [[1, 3], [44, -40], [-12, 1]]"
      ],
      "id": "f7d0f733",
      "execution_count": null,
      "outputs": []
    },
    {
      "cell_type": "code",
      "metadata": {
        "id": "52154ead"
      },
      "source": [
        "list_5.sort()"
      ],
      "id": "52154ead",
      "execution_count": null,
      "outputs": []
    },
    {
      "cell_type": "code",
      "metadata": {
        "id": "bdc7312e",
        "outputId": "069765e3-a7cd-42b1-e544-f34327d71f15"
      },
      "source": [
        "list_5"
      ],
      "id": "bdc7312e",
      "execution_count": null,
      "outputs": [
        {
          "output_type": "execute_result",
          "data": {
            "text/plain": [
              "[[-12, 1], [1, 3], [44, -40]]"
            ]
          },
          "metadata": {
            "tags": []
          },
          "execution_count": 17
        }
      ]
    },
    {
      "cell_type": "code",
      "metadata": {
        "id": "26d7ee10",
        "outputId": "641cff90-66f3-40f6-b9e5-16309838df58"
      },
      "source": [
        "len(\"a b\")"
      ],
      "id": "26d7ee10",
      "execution_count": null,
      "outputs": [
        {
          "output_type": "execute_result",
          "data": {
            "text/plain": [
              "3"
            ]
          },
          "metadata": {
            "tags": []
          },
          "execution_count": 18
        }
      ]
    },
    {
      "cell_type": "code",
      "metadata": {
        "id": "e2971e95",
        "outputId": "b9464637-2a67-4dd1-ee62-cad30ccb4443"
      },
      "source": [
        "len([\"a b\"])"
      ],
      "id": "e2971e95",
      "execution_count": null,
      "outputs": [
        {
          "output_type": "execute_result",
          "data": {
            "text/plain": [
              "1"
            ]
          },
          "metadata": {
            "tags": []
          },
          "execution_count": 19
        }
      ]
    },
    {
      "cell_type": "code",
      "metadata": {
        "id": "1eaa1693",
        "outputId": "676d146f-3a32-4552-8868-0992a68afd49"
      },
      "source": [
        "len([\"a b\", False, None, []])"
      ],
      "id": "1eaa1693",
      "execution_count": null,
      "outputs": [
        {
          "output_type": "execute_result",
          "data": {
            "text/plain": [
              "4"
            ]
          },
          "metadata": {
            "tags": []
          },
          "execution_count": 20
        }
      ]
    },
    {
      "cell_type": "code",
      "metadata": {
        "id": "0d31aedf",
        "outputId": "a1c860d5-d04e-4766-a1fa-ffdc312578e9"
      },
      "source": [
        "len(1234)"
      ],
      "id": "0d31aedf",
      "execution_count": null,
      "outputs": [
        {
          "output_type": "error",
          "ename": "TypeError",
          "evalue": "object of type 'int' has no len()",
          "traceback": [
            "\u001b[0;31m---------------------------------------------------------------------------\u001b[0m",
            "\u001b[0;31mTypeError\u001b[0m                                 Traceback (most recent call last)",
            "\u001b[0;32m<ipython-input-21-ec67a52704b7>\u001b[0m in \u001b[0;36m<module>\u001b[0;34m\u001b[0m\n\u001b[0;32m----> 1\u001b[0;31m \u001b[0mlen\u001b[0m\u001b[0;34m(\u001b[0m\u001b[0;36m1234\u001b[0m\u001b[0;34m)\u001b[0m\u001b[0;34m\u001b[0m\u001b[0;34m\u001b[0m\u001b[0m\n\u001b[0m",
            "\u001b[0;31mTypeError\u001b[0m: object of type 'int' has no len()"
          ]
        }
      ]
    },
    {
      "cell_type": "code",
      "metadata": {
        "id": "67bc6f09",
        "outputId": "84c34f97-65eb-4ab4-ca08-f175d73d9ea4"
      },
      "source": [
        "[1,3,6,9][2]"
      ],
      "id": "67bc6f09",
      "execution_count": null,
      "outputs": [
        {
          "output_type": "execute_result",
          "data": {
            "text/plain": [
              "6"
            ]
          },
          "metadata": {
            "tags": []
          },
          "execution_count": 22
        }
      ]
    },
    {
      "cell_type": "code",
      "metadata": {
        "id": "c513bb56"
      },
      "source": [
        "sayılar = [1,3,6,9]"
      ],
      "id": "c513bb56",
      "execution_count": null,
      "outputs": []
    },
    {
      "cell_type": "code",
      "metadata": {
        "id": "11211122",
        "outputId": "ea7dd127-e701-4343-c813-91749ae13a1a"
      },
      "source": [
        "sayılar[2]"
      ],
      "id": "11211122",
      "execution_count": null,
      "outputs": [
        {
          "output_type": "execute_result",
          "data": {
            "text/plain": [
              "6"
            ]
          },
          "metadata": {
            "tags": []
          },
          "execution_count": 24
        }
      ]
    },
    {
      "cell_type": "code",
      "metadata": {
        "id": "36a257cb"
      },
      "source": [
        "new = [\"h\", \"a\", 1, [\"p\", 2], True]"
      ],
      "id": "36a257cb",
      "execution_count": null,
      "outputs": []
    },
    {
      "cell_type": "code",
      "metadata": {
        "id": "7ada31e4",
        "outputId": "9877cbe5-b726-42bb-8327-c195b9d06490"
      },
      "source": [
        "new[2]"
      ],
      "id": "7ada31e4",
      "execution_count": null,
      "outputs": [
        {
          "output_type": "execute_result",
          "data": {
            "text/plain": [
              "1"
            ]
          },
          "metadata": {
            "tags": []
          },
          "execution_count": 27
        }
      ]
    },
    {
      "cell_type": "code",
      "metadata": {
        "id": "a70d5c54",
        "outputId": "8fe745fb-f851-46e6-856e-8cf0724db1bc"
      },
      "source": [
        "type(new[2])"
      ],
      "id": "a70d5c54",
      "execution_count": null,
      "outputs": [
        {
          "output_type": "execute_result",
          "data": {
            "text/plain": [
              "int"
            ]
          },
          "metadata": {
            "tags": []
          },
          "execution_count": 28
        }
      ]
    },
    {
      "cell_type": "code",
      "metadata": {
        "id": "1af453ca",
        "outputId": "269b4519-301d-4e9c-c830-206a1575e7cd"
      },
      "source": [
        "new[3]"
      ],
      "id": "1af453ca",
      "execution_count": null,
      "outputs": [
        {
          "output_type": "execute_result",
          "data": {
            "text/plain": [
              "['p', 2]"
            ]
          },
          "metadata": {
            "tags": []
          },
          "execution_count": 30
        }
      ]
    },
    {
      "cell_type": "code",
      "metadata": {
        "id": "e37bb869",
        "outputId": "3d07823d-59dd-4b64-83b0-51a36559d6a6"
      },
      "source": [
        "type(new[3])"
      ],
      "id": "e37bb869",
      "execution_count": null,
      "outputs": [
        {
          "output_type": "execute_result",
          "data": {
            "text/plain": [
              "list"
            ]
          },
          "metadata": {
            "tags": []
          },
          "execution_count": 29
        }
      ]
    },
    {
      "cell_type": "code",
      "metadata": {
        "id": "7646f01c"
      },
      "source": [
        "city_list = []"
      ],
      "id": "7646f01c",
      "execution_count": null,
      "outputs": []
    },
    {
      "cell_type": "code",
      "metadata": {
        "id": "546a51d6"
      },
      "source": [
        "city = ['New York', 'London', 'Istanbul', 'Seoul', 'Sydney']"
      ],
      "id": "546a51d6",
      "execution_count": null,
      "outputs": []
    },
    {
      "cell_type": "code",
      "metadata": {
        "id": "1041b0e8"
      },
      "source": [
        "city_list.append(city)"
      ],
      "id": "1041b0e8",
      "execution_count": null,
      "outputs": []
    },
    {
      "cell_type": "code",
      "metadata": {
        "id": "2a0b79c7",
        "outputId": "05df93cc-cff4-4d12-a206-c68446353b17"
      },
      "source": [
        "city_list"
      ],
      "id": "2a0b79c7",
      "execution_count": null,
      "outputs": [
        {
          "output_type": "execute_result",
          "data": {
            "text/plain": [
              "[['New York', 'London', 'Istanbul', 'Seoul', 'Sydney']]"
            ]
          },
          "metadata": {
            "tags": []
          },
          "execution_count": 36
        }
      ]
    },
    {
      "cell_type": "code",
      "metadata": {
        "id": "4b98cb61",
        "outputId": "d454be47-564b-48d8-fc93-a069dfa76ee6"
      },
      "source": [
        "city_list[0]"
      ],
      "id": "4b98cb61",
      "execution_count": null,
      "outputs": [
        {
          "output_type": "execute_result",
          "data": {
            "text/plain": [
              "['New York', 'London', 'Istanbul', 'Seoul', 'Sydney']"
            ]
          },
          "metadata": {
            "tags": []
          },
          "execution_count": 37
        }
      ]
    },
    {
      "cell_type": "code",
      "metadata": {
        "id": "3b82964e",
        "outputId": "db9ee70f-8101-41af-b543-9915dbcde8be"
      },
      "source": [
        "city_list[0][2]"
      ],
      "id": "3b82964e",
      "execution_count": null,
      "outputs": [
        {
          "output_type": "execute_result",
          "data": {
            "text/plain": [
              "'Istanbul'"
            ]
          },
          "metadata": {
            "tags": []
          },
          "execution_count": 38
        }
      ]
    },
    {
      "cell_type": "code",
      "metadata": {
        "id": "02579e16",
        "outputId": "ddbc1034-24d1-4afc-c08c-4c3d613bbae3"
      },
      "source": [
        "type(city_list[0][2])"
      ],
      "id": "02579e16",
      "execution_count": null,
      "outputs": [
        {
          "output_type": "execute_result",
          "data": {
            "text/plain": [
              "str"
            ]
          },
          "metadata": {
            "tags": []
          },
          "execution_count": 39
        }
      ]
    },
    {
      "cell_type": "code",
      "metadata": {
        "id": "e046b52e",
        "outputId": "7fbf6f1d-8cbc-402b-920f-cd7df53138e7"
      },
      "source": [
        "city_list[0][2][3]"
      ],
      "id": "e046b52e",
      "execution_count": null,
      "outputs": [
        {
          "output_type": "execute_result",
          "data": {
            "text/plain": [
              "'a'"
            ]
          },
          "metadata": {
            "tags": []
          },
          "execution_count": 40
        }
      ]
    },
    {
      "cell_type": "code",
      "metadata": {
        "id": "e2ab908e",
        "outputId": "80b262b5-e60b-4da1-9c09-f61b99c5d19a"
      },
      "source": [
        "range(11)"
      ],
      "id": "e2ab908e",
      "execution_count": null,
      "outputs": [
        {
          "output_type": "execute_result",
          "data": {
            "text/plain": [
              "range(0, 11)"
            ]
          },
          "metadata": {
            "tags": []
          },
          "execution_count": 41
        }
      ]
    },
    {
      "cell_type": "code",
      "metadata": {
        "id": "de567351"
      },
      "source": [
        "odd_number = list(range(11))"
      ],
      "id": "de567351",
      "execution_count": null,
      "outputs": []
    },
    {
      "cell_type": "code",
      "metadata": {
        "id": "5a8363fc",
        "outputId": "536e0c30-4702-4c8f-cfc6-e7646262b07d"
      },
      "source": [
        "odd_number"
      ],
      "id": "5a8363fc",
      "execution_count": null,
      "outputs": [
        {
          "output_type": "execute_result",
          "data": {
            "text/plain": [
              "[0, 1, 2, 3, 4, 5, 6, 7, 8, 9, 10]"
            ]
          },
          "metadata": {
            "tags": []
          },
          "execution_count": 43
        }
      ]
    },
    {
      "cell_type": "code",
      "metadata": {
        "id": "9adca4ca",
        "outputId": "079f4a6b-e441-4694-e126-c1a9d72d960a"
      },
      "source": [
        "odd_number[1:10:2]"
      ],
      "id": "9adca4ca",
      "execution_count": null,
      "outputs": [
        {
          "output_type": "execute_result",
          "data": {
            "text/plain": [
              "[1, 3, 5, 7, 9]"
            ]
          },
          "metadata": {
            "tags": []
          },
          "execution_count": 44
        }
      ]
    },
    {
      "cell_type": "code",
      "metadata": {
        "id": "74b50963",
        "outputId": "36239414-7fda-4240-9782-64001ceb024d"
      },
      "source": [
        "odd_number[1::2]"
      ],
      "id": "74b50963",
      "execution_count": null,
      "outputs": [
        {
          "output_type": "execute_result",
          "data": {
            "text/plain": [
              "[1, 3, 5, 7, 9]"
            ]
          },
          "metadata": {
            "tags": []
          },
          "execution_count": 45
        }
      ]
    },
    {
      "cell_type": "code",
      "metadata": {
        "id": "5c0c6300"
      },
      "source": [
        "sehir = ['I', 's', 't', 'a', 'n', 'b', 'u', 'l']"
      ],
      "id": "5c0c6300",
      "execution_count": null,
      "outputs": []
    },
    {
      "cell_type": "code",
      "metadata": {
        "id": "668ef99c",
        "outputId": "f89624e3-4da5-420e-b4bb-e23fe8c6c8fe"
      },
      "source": [
        "sehir[-1:-6]"
      ],
      "id": "668ef99c",
      "execution_count": null,
      "outputs": [
        {
          "output_type": "execute_result",
          "data": {
            "text/plain": [
              "[]"
            ]
          },
          "metadata": {
            "tags": []
          },
          "execution_count": 47
        }
      ]
    },
    {
      "cell_type": "code",
      "metadata": {
        "id": "2675db08"
      },
      "source": [
        "sehir[-1:-6:-1]"
      ],
      "id": "2675db08",
      "execution_count": null,
      "outputs": []
    },
    {
      "cell_type": "code",
      "metadata": {
        "id": "bb7055a5",
        "outputId": "fe22b4c4-19bc-41bf-e742-f485af1a93e2"
      },
      "source": [
        "sehir[:4:-1]"
      ],
      "id": "bb7055a5",
      "execution_count": null,
      "outputs": [
        {
          "output_type": "execute_result",
          "data": {
            "text/plain": [
              "['l', 'u', 'b']"
            ]
          },
          "metadata": {
            "tags": []
          },
          "execution_count": 48
        }
      ]
    },
    {
      "cell_type": "code",
      "metadata": {
        "id": "0dc6f831"
      },
      "source": [
        "a = tuple()"
      ],
      "id": "0dc6f831",
      "execution_count": null,
      "outputs": []
    },
    {
      "cell_type": "code",
      "metadata": {
        "id": "5fea756a",
        "outputId": "a26963a5-9360-44b0-9dac-e1b0eb01dcf0"
      },
      "source": [
        "type(a)"
      ],
      "id": "5fea756a",
      "execution_count": null,
      "outputs": [
        {
          "output_type": "execute_result",
          "data": {
            "text/plain": [
              "tuple"
            ]
          },
          "metadata": {
            "tags": []
          },
          "execution_count": 50
        }
      ]
    },
    {
      "cell_type": "code",
      "metadata": {
        "id": "817e399f"
      },
      "source": [
        "star = (\"Solar\", 1, [22, \"22\"])"
      ],
      "id": "817e399f",
      "execution_count": null,
      "outputs": []
    },
    {
      "cell_type": "code",
      "metadata": {
        "id": "94f4dbba",
        "outputId": "239d3b6d-b960-4855-ddc0-192218394f8d"
      },
      "source": [
        "type(star)"
      ],
      "id": "94f4dbba",
      "execution_count": null,
      "outputs": [
        {
          "output_type": "execute_result",
          "data": {
            "text/plain": [
              "tuple"
            ]
          },
          "metadata": {
            "tags": []
          },
          "execution_count": 52
        }
      ]
    },
    {
      "cell_type": "code",
      "metadata": {
        "id": "d3195e6a"
      },
      "source": [
        "x = 1, 2, 3"
      ],
      "id": "d3195e6a",
      "execution_count": null,
      "outputs": []
    },
    {
      "cell_type": "code",
      "metadata": {
        "id": "1002a5b6",
        "outputId": "b0faa018-107a-4981-ca0c-6c5b0494599f"
      },
      "source": [
        "type(x)"
      ],
      "id": "1002a5b6",
      "execution_count": null,
      "outputs": [
        {
          "output_type": "execute_result",
          "data": {
            "text/plain": [
              "tuple"
            ]
          },
          "metadata": {
            "tags": []
          },
          "execution_count": 54
        }
      ]
    },
    {
      "cell_type": "code",
      "metadata": {
        "id": "1715a868"
      },
      "source": [
        "y = 1,"
      ],
      "id": "1715a868",
      "execution_count": null,
      "outputs": []
    },
    {
      "cell_type": "code",
      "metadata": {
        "id": "50ca503f",
        "outputId": "4ed9c715-3350-48d9-fecb-46d0f3734491"
      },
      "source": [
        "type(y)"
      ],
      "id": "50ca503f",
      "execution_count": null,
      "outputs": [
        {
          "output_type": "execute_result",
          "data": {
            "text/plain": [
              "tuple"
            ]
          },
          "metadata": {
            "tags": []
          },
          "execution_count": 56
        }
      ]
    },
    {
      "cell_type": "code",
      "metadata": {
        "id": "cae958fc"
      },
      "source": [
        "z = (\"2\",)"
      ],
      "id": "cae958fc",
      "execution_count": null,
      "outputs": []
    },
    {
      "cell_type": "code",
      "metadata": {
        "id": "746fcefc",
        "outputId": "a513de34-c239-4d76-f983-4424e96766ba"
      },
      "source": [
        "type(z)"
      ],
      "id": "746fcefc",
      "execution_count": null,
      "outputs": [
        {
          "output_type": "execute_result",
          "data": {
            "text/plain": [
              "tuple"
            ]
          },
          "metadata": {
            "tags": []
          },
          "execution_count": 58
        }
      ]
    },
    {
      "cell_type": "code",
      "metadata": {
        "id": "4ebef813"
      },
      "source": [
        "city = [\"los-angeles\", \"beirut\", \"tokyo\"]"
      ],
      "id": "4ebef813",
      "execution_count": null,
      "outputs": []
    },
    {
      "cell_type": "code",
      "metadata": {
        "id": "7032ebcd"
      },
      "source": [
        "city[0] = True"
      ],
      "id": "7032ebcd",
      "execution_count": null,
      "outputs": []
    },
    {
      "cell_type": "code",
      "metadata": {
        "id": "04e85134",
        "outputId": "7a38262f-3c1a-4cb0-a023-499c263959b4"
      },
      "source": [
        "city"
      ],
      "id": "04e85134",
      "execution_count": null,
      "outputs": [
        {
          "output_type": "execute_result",
          "data": {
            "text/plain": [
              "[True, 'beirut', 'tokyo']"
            ]
          },
          "metadata": {
            "tags": []
          },
          "execution_count": 62
        }
      ]
    },
    {
      "cell_type": "code",
      "metadata": {
        "id": "0792eaba"
      },
      "source": [
        "city[1:] = \"istanbul\", \"seoul\""
      ],
      "id": "0792eaba",
      "execution_count": null,
      "outputs": []
    },
    {
      "cell_type": "code",
      "metadata": {
        "id": "5adaa35b",
        "outputId": "17f2240a-cb45-459e-89d4-de4af52e6276"
      },
      "source": [
        "city"
      ],
      "id": "5adaa35b",
      "execution_count": null,
      "outputs": [
        {
          "output_type": "execute_result",
          "data": {
            "text/plain": [
              "[True, 'istanbul', 'seoul']"
            ]
          },
          "metadata": {
            "tags": []
          },
          "execution_count": 64
        }
      ]
    },
    {
      "cell_type": "code",
      "metadata": {
        "id": "ba8413f7"
      },
      "source": [
        "city[1:] = [\"1\", \"2\", \"3\", 4, False]"
      ],
      "id": "ba8413f7",
      "execution_count": null,
      "outputs": []
    },
    {
      "cell_type": "code",
      "metadata": {
        "id": "a561900d",
        "outputId": "a0fe4901-d9c7-49e1-c26f-7eaec6e489db"
      },
      "source": [
        "city"
      ],
      "id": "a561900d",
      "execution_count": null,
      "outputs": [
        {
          "output_type": "execute_result",
          "data": {
            "text/plain": [
              "[True, '1', '2', '3', 4, False]"
            ]
          },
          "metadata": {
            "tags": []
          },
          "execution_count": 66
        }
      ]
    },
    {
      "cell_type": "code",
      "metadata": {
        "id": "b551832e"
      },
      "source": [
        "city[1:] = \"bangladeş\""
      ],
      "id": "b551832e",
      "execution_count": null,
      "outputs": []
    },
    {
      "cell_type": "code",
      "metadata": {
        "id": "bcb1b206",
        "outputId": "f591ca37-f9c1-4187-f208-4c0cd0a467bb"
      },
      "source": [
        "city"
      ],
      "id": "bcb1b206",
      "execution_count": null,
      "outputs": [
        {
          "output_type": "execute_result",
          "data": {
            "text/plain": [
              "[True, 'b', 'a', 'n', 'g', 'l', 'a', 'd', 'e', 'ş']"
            ]
          },
          "metadata": {
            "tags": []
          },
          "execution_count": 68
        }
      ]
    },
    {
      "cell_type": "code",
      "metadata": {
        "id": "73d8e3aa"
      },
      "source": [
        "mix_tuple = ('11', 11, [2, 'two', ('six', 6)], (5, 'fair'))"
      ],
      "id": "73d8e3aa",
      "execution_count": null,
      "outputs": []
    },
    {
      "cell_type": "code",
      "metadata": {
        "id": "53775b97",
        "outputId": "5cd47ed6-398a-47c9-eb60-127910890802"
      },
      "source": [
        "mix_tuple[2]"
      ],
      "id": "53775b97",
      "execution_count": null,
      "outputs": [
        {
          "output_type": "execute_result",
          "data": {
            "text/plain": [
              "[2, 'two', ('six', 6)]"
            ]
          },
          "metadata": {
            "tags": []
          },
          "execution_count": 70
        }
      ]
    },
    {
      "cell_type": "code",
      "metadata": {
        "id": "82250121",
        "outputId": "f5c5bb65-6beb-43e0-cec8-8d2076666520"
      },
      "source": [
        "mix_tuple[2][2]"
      ],
      "id": "82250121",
      "execution_count": null,
      "outputs": [
        {
          "output_type": "execute_result",
          "data": {
            "text/plain": [
              "('six', 6)"
            ]
          },
          "metadata": {
            "tags": []
          },
          "execution_count": 71
        }
      ]
    },
    {
      "cell_type": "code",
      "metadata": {
        "id": "e26a792c",
        "outputId": "008275a4-0040-4c13-c517-f82d02bae3db"
      },
      "source": [
        "mix_tuple[2][2][0]"
      ],
      "id": "e26a792c",
      "execution_count": null,
      "outputs": [
        {
          "output_type": "execute_result",
          "data": {
            "text/plain": [
              "'six'"
            ]
          },
          "metadata": {
            "tags": []
          },
          "execution_count": 72
        }
      ]
    },
    {
      "cell_type": "code",
      "metadata": {
        "id": "1d8a99c9"
      },
      "source": [
        "mix_tuple[2].append(\"çaktırmayın\")"
      ],
      "id": "1d8a99c9",
      "execution_count": null,
      "outputs": []
    },
    {
      "cell_type": "code",
      "metadata": {
        "id": "f757dde3",
        "outputId": "14173577-a1f6-42a1-f342-c8d00516f0ee"
      },
      "source": [
        "mix_tuple"
      ],
      "id": "f757dde3",
      "execution_count": null,
      "outputs": [
        {
          "output_type": "execute_result",
          "data": {
            "text/plain": [
              "('11', 11, [2, 'two', ('six', 6), 'çaktırmayın'], (5, 'fair'))"
            ]
          },
          "metadata": {
            "tags": []
          },
          "execution_count": 75
        }
      ]
    }
  ]
}