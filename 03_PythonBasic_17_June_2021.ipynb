{
  "nbformat": 4,
  "nbformat_minor": 5,
  "metadata": {
    "kernelspec": {
      "display_name": "Python 3",
      "language": "python",
      "name": "python3"
    },
    "language_info": {
      "codemirror_mode": {
        "name": "ipython",
        "version": 3
      },
      "file_extension": ".py",
      "mimetype": "text/x-python",
      "name": "python",
      "nbconvert_exporter": "python",
      "pygments_lexer": "ipython3",
      "version": "3.8.8"
    },
    "colab": {
      "name": "03_PythonBasic_17-June-2021.ipynb",
      "provenance": [],
      "include_colab_link": true
    }
  },
  "cells": [
    {
      "cell_type": "markdown",
      "metadata": {
        "id": "view-in-github",
        "colab_type": "text"
      },
      "source": [
        "<a href=\"https://colab.research.google.com/github/yuceahmet/python-project/blob/main/03_PythonBasic_17_June_2021.ipynb\" target=\"_parent\"><img src=\"https://colab.research.google.com/assets/colab-badge.svg\" alt=\"Open In Colab\"/></a>"
      ]
    },
    {
      "cell_type": "markdown",
      "metadata": {
        "id": "22263af8"
      },
      "source": [
        "<h1><p style=\"text-align: center; color:darkblue\">Python In-Class, <br>17 June 2021</p><h1>"
      ],
      "id": "22263af8"
    },
    {
      "cell_type": "code",
      "metadata": {
        "id": "fe8f2a51"
      },
      "source": [
        "değişken = 10"
      ],
      "id": "fe8f2a51",
      "execution_count": null,
      "outputs": []
    },
    {
      "cell_type": "code",
      "metadata": {
        "id": "4872b475",
        "outputId": "86b23db0-9b96-4bc3-a7c4-9c9bc8e71eb4"
      },
      "source": [
        "değişken"
      ],
      "id": "4872b475",
      "execution_count": null,
      "outputs": [
        {
          "output_type": "execute_result",
          "data": {
            "text/plain": [
              "10"
            ]
          },
          "metadata": {
            "tags": []
          },
          "execution_count": 2
        }
      ]
    },
    {
      "cell_type": "code",
      "metadata": {
        "id": "6d7216c4",
        "outputId": "6fd1b46c-5e67-4595-bea4-9b188602e189"
      },
      "source": [
        "değişken = değişken + 1\n",
        "değişken"
      ],
      "id": "6d7216c4",
      "execution_count": null,
      "outputs": [
        {
          "output_type": "execute_result",
          "data": {
            "text/plain": [
              "12"
            ]
          },
          "metadata": {
            "tags": []
          },
          "execution_count": 4
        }
      ]
    },
    {
      "cell_type": "code",
      "metadata": {
        "id": "3db064d6"
      },
      "source": [
        "değişken2 = 20"
      ],
      "id": "3db064d6",
      "execution_count": null,
      "outputs": []
    },
    {
      "cell_type": "code",
      "metadata": {
        "id": "64c42bf1",
        "outputId": "78082d04-c886-4912-c0b7-ebf23061f925"
      },
      "source": [
        "değişken2 += 1\n",
        "değişken2"
      ],
      "id": "64c42bf1",
      "execution_count": null,
      "outputs": [
        {
          "output_type": "execute_result",
          "data": {
            "text/plain": [
              "21"
            ]
          },
          "metadata": {
            "tags": []
          },
          "execution_count": 6
        }
      ]
    },
    {
      "cell_type": "code",
      "metadata": {
        "id": "5ee8c9c9"
      },
      "source": [
        "a = 3\n",
        "b = 4"
      ],
      "id": "5ee8c9c9",
      "execution_count": null,
      "outputs": []
    },
    {
      "cell_type": "code",
      "metadata": {
        "id": "97986cc5",
        "outputId": "d3725eb2-4e5f-40b0-862c-ef2955765f56"
      },
      "source": [
        "c = (a ** 2 + b ** 2) ** 0.5\n",
        "c"
      ],
      "id": "97986cc5",
      "execution_count": null,
      "outputs": [
        {
          "output_type": "execute_result",
          "data": {
            "text/plain": [
              "5.0"
            ]
          },
          "metadata": {
            "tags": []
          },
          "execution_count": 8
        }
      ]
    },
    {
      "cell_type": "code",
      "metadata": {
        "id": "59915766",
        "outputId": "5cbc82cf-3060-4019-cfca-02da3ffe397b"
      },
      "source": [
        "9 ** 0.5"
      ],
      "id": "59915766",
      "execution_count": null,
      "outputs": [
        {
          "output_type": "execute_result",
          "data": {
            "text/plain": [
              "3.0"
            ]
          },
          "metadata": {
            "tags": []
          },
          "execution_count": 9
        }
      ]
    },
    {
      "cell_type": "code",
      "metadata": {
        "id": "5814cccf",
        "outputId": "bcb6c0a5-1c55-4551-ead1-0d0ddce2d21c"
      },
      "source": [
        "print(\"ali\\nveli\\ndeli\")"
      ],
      "id": "5814cccf",
      "execution_count": null,
      "outputs": [
        {
          "output_type": "stream",
          "text": [
            "ali\n",
            "veli\n",
            "deli\n"
          ],
          "name": "stdout"
        }
      ]
    },
    {
      "cell_type": "code",
      "metadata": {
        "id": "ce2b5d9d",
        "outputId": "7380ae54-5ef9-476d-e071-a79540376518"
      },
      "source": [
        "print(a, b, c, sep = \", \")"
      ],
      "id": "ce2b5d9d",
      "execution_count": null,
      "outputs": [
        {
          "output_type": "stream",
          "text": [
            "3, 4, 5.0\n"
          ],
          "name": "stdout"
        }
      ]
    },
    {
      "cell_type": "code",
      "metadata": {
        "id": "487414be",
        "outputId": "5a740672-9a3e-4923-a18c-6251712ddac9"
      },
      "source": [
        "print(12, \"22\", False)"
      ],
      "id": "487414be",
      "execution_count": null,
      "outputs": [
        {
          "output_type": "stream",
          "text": [
            "12 22 False\n"
          ],
          "name": "stdout"
        }
      ]
    },
    {
      "cell_type": "code",
      "metadata": {
        "id": "bf4f671e",
        "outputId": "360304a3-3630-4faa-e1f3-a20bdf5b125f"
      },
      "source": [
        "print(12, \"22\", False, sep = \"-\")"
      ],
      "id": "bf4f671e",
      "execution_count": null,
      "outputs": [
        {
          "output_type": "stream",
          "text": [
            "12-22-False\n"
          ],
          "name": "stdout"
        }
      ]
    },
    {
      "cell_type": "code",
      "metadata": {
        "id": "97be435e",
        "outputId": "d006b2aa-c466-4a34-e193-30dc2a32c4b5"
      },
      "source": [
        "print(12, \"22\", False, sep = \"!\")"
      ],
      "id": "97be435e",
      "execution_count": null,
      "outputs": [
        {
          "output_type": "stream",
          "text": [
            "12!22!False\n"
          ],
          "name": "stdout"
        }
      ]
    },
    {
      "cell_type": "code",
      "metadata": {
        "id": "8ba4ee57",
        "outputId": "e16c7415-03ed-4fe4-82f6-1c00b1703749"
      },
      "source": [
        "print(\"hayriye\", \"selvi\", \"bahar\", 11)\n",
        "print(\"clarusway\")"
      ],
      "id": "8ba4ee57",
      "execution_count": null,
      "outputs": [
        {
          "output_type": "stream",
          "text": [
            "hayriyes selvi bahar 11\n",
            "clarusway\n"
          ],
          "name": "stdout"
        }
      ]
    },
    {
      "cell_type": "code",
      "metadata": {
        "id": "284e31bc",
        "outputId": "18e5d890-5093-4ac9-d290-2bb9ca11a620"
      },
      "source": [
        "print(\"hayriye\", \"selvi\", \"bahar\", 11, end = \"-\")\n",
        "print(\"hayri\")"
      ],
      "id": "284e31bc",
      "execution_count": null,
      "outputs": [
        {
          "output_type": "stream",
          "text": [
            "hayriye selvi bahar 11-hayri\n"
          ],
          "name": "stdout"
        }
      ]
    },
    {
      "cell_type": "code",
      "metadata": {
        "id": "b4a2676b",
        "outputId": "509add4e-d755-4542-c5ce-8e52049bd401"
      },
      "source": [
        "print(\"hayriye\", end = \"-\")\n",
        "print(\"hayri\")"
      ],
      "id": "b4a2676b",
      "execution_count": null,
      "outputs": [
        {
          "output_type": "stream",
          "text": [
            "hayriye-hayri\n"
          ],
          "name": "stdout"
        }
      ]
    },
    {
      "cell_type": "code",
      "metadata": {
        "id": "d106af1d"
      },
      "source": [
        "# \"bugün günlerden 17/6/2021\""
      ],
      "id": "d106af1d",
      "execution_count": null,
      "outputs": []
    },
    {
      "cell_type": "code",
      "metadata": {
        "id": "d31759bf",
        "outputId": "85fa6b17-62aa-499a-cd0e-00723c5d8a1f"
      },
      "source": [
        "print(\"bugün günlerden 17\\6\\2021\")"
      ],
      "id": "d31759bf",
      "execution_count": null,
      "outputs": [
        {
          "output_type": "stream",
          "text": [
            "bugün günlerden 17\u00061\n"
          ],
          "name": "stdout"
        }
      ]
    },
    {
      "cell_type": "code",
      "metadata": {
        "id": "3d48f0d5",
        "outputId": "cfdeef42-755c-41d5-803a-c9f227054305"
      },
      "source": [
        "print(\"bugün günlerden 17\\\\6\\\\2021\")"
      ],
      "id": "3d48f0d5",
      "execution_count": null,
      "outputs": [
        {
          "output_type": "stream",
          "text": [
            "bugün günlerden 17\\6\\2021\n"
          ],
          "name": "stdout"
        }
      ]
    },
    {
      "cell_type": "code",
      "metadata": {
        "id": "e380a62f"
      },
      "source": [
        "benim_textim = \"clarusway \\njoseph instructor\\bvirgina\""
      ],
      "id": "e380a62f",
      "execution_count": null,
      "outputs": []
    },
    {
      "cell_type": "code",
      "metadata": {
        "id": "4310e4a8",
        "outputId": "4790a050-05a2-4627-abaf-83726174169f"
      },
      "source": [
        "print(benim_textim)"
      ],
      "id": "4310e4a8",
      "execution_count": null,
      "outputs": [
        {
          "output_type": "stream",
          "text": [
            "clarusway \n",
            "joseph instructor\bvirgina\n"
          ],
          "name": "stdout"
        }
      ]
    },
    {
      "cell_type": "code",
      "metadata": {
        "id": "d3c33b59",
        "outputId": "93a71326-f640-4dfc-8b13-9e83cd6d00d1"
      },
      "source": [
        "bool(\"\")"
      ],
      "id": "d3c33b59",
      "execution_count": null,
      "outputs": [
        {
          "output_type": "execute_result",
          "data": {
            "text/plain": [
              "False"
            ]
          },
          "metadata": {
            "tags": []
          },
          "execution_count": 31
        }
      ]
    },
    {
      "cell_type": "code",
      "metadata": {
        "id": "7ca608e6",
        "outputId": "066f11ed-b881-4e27-b1bc-bab501e0e143"
      },
      "source": [
        "bool(0)"
      ],
      "id": "7ca608e6",
      "execution_count": null,
      "outputs": [
        {
          "output_type": "execute_result",
          "data": {
            "text/plain": [
              "False"
            ]
          },
          "metadata": {
            "tags": []
          },
          "execution_count": 32
        }
      ]
    },
    {
      "cell_type": "code",
      "metadata": {
        "id": "e114608f",
        "outputId": "91667586-01fa-448c-d3e3-b6a2ebab55ec"
      },
      "source": [
        "bool(0.0)"
      ],
      "id": "e114608f",
      "execution_count": null,
      "outputs": [
        {
          "output_type": "execute_result",
          "data": {
            "text/plain": [
              "False"
            ]
          },
          "metadata": {
            "tags": []
          },
          "execution_count": 33
        }
      ]
    },
    {
      "cell_type": "code",
      "metadata": {
        "id": "f4b7f5c7",
        "outputId": "45f23ea9-4d69-45d6-ee13-b3dbe5691c21"
      },
      "source": [
        "bool(\"0\")"
      ],
      "id": "f4b7f5c7",
      "execution_count": null,
      "outputs": [
        {
          "output_type": "execute_result",
          "data": {
            "text/plain": [
              "True"
            ]
          },
          "metadata": {
            "tags": []
          },
          "execution_count": 34
        }
      ]
    },
    {
      "cell_type": "code",
      "metadata": {
        "id": "488e8639",
        "outputId": "be376d3d-0cbf-4b93-f8cd-22e2192453e6"
      },
      "source": [
        "bool(\" \")"
      ],
      "id": "488e8639",
      "execution_count": null,
      "outputs": [
        {
          "output_type": "execute_result",
          "data": {
            "text/plain": [
              "True"
            ]
          },
          "metadata": {
            "tags": []
          },
          "execution_count": 35
        }
      ]
    },
    {
      "cell_type": "code",
      "metadata": {
        "id": "00b30e3e",
        "outputId": "06ed9a4b-5b99-4682-ace1-288d547db9b4"
      },
      "source": [
        "\"\" and 0 and False"
      ],
      "id": "00b30e3e",
      "execution_count": null,
      "outputs": [
        {
          "output_type": "execute_result",
          "data": {
            "text/plain": [
              "''"
            ]
          },
          "metadata": {
            "tags": []
          },
          "execution_count": 36
        }
      ]
    },
    {
      "cell_type": "code",
      "metadata": {
        "id": "55a24901",
        "outputId": "8538075c-0534-49b5-9de9-d9d476727fea"
      },
      "source": [
        "True and \"True\" and \"False\""
      ],
      "id": "55a24901",
      "execution_count": null,
      "outputs": [
        {
          "output_type": "execute_result",
          "data": {
            "text/plain": [
              "'False'"
            ]
          },
          "metadata": {
            "tags": []
          },
          "execution_count": 38
        }
      ]
    },
    {
      "cell_type": "code",
      "metadata": {
        "id": "bd288dc2",
        "outputId": "7751a6b7-387f-4119-c834-675c4fa23447"
      },
      "source": [
        "type(True and \"True\" and \"False\")"
      ],
      "id": "bd288dc2",
      "execution_count": null,
      "outputs": [
        {
          "output_type": "execute_result",
          "data": {
            "text/plain": [
              "str"
            ]
          },
          "metadata": {
            "tags": []
          },
          "execution_count": 39
        }
      ]
    },
    {
      "cell_type": "code",
      "metadata": {
        "colab": {
          "base_uri": "https://localhost:8080/"
        },
        "id": "150bf290",
        "outputId": "49681f36-89ce-4e58-c99e-82124558d2ed"
      },
      "source": [
        "not \"False\""
      ],
      "id": "150bf290",
      "execution_count": null,
      "outputs": [
        {
          "output_type": "execute_result",
          "data": {
            "text/plain": [
              "False"
            ]
          },
          "metadata": {
            "tags": []
          },
          "execution_count": 2
        }
      ]
    },
    {
      "cell_type": "code",
      "metadata": {
        "colab": {
          "base_uri": "https://localhost:8080/"
        },
        "id": "9189d52a",
        "outputId": "17f89ee1-e423-45ea-afa6-4b2c5be539c3"
      },
      "source": [
        "not 0"
      ],
      "id": "9189d52a",
      "execution_count": null,
      "outputs": [
        {
          "output_type": "execute_result",
          "data": {
            "text/plain": [
              "True"
            ]
          },
          "metadata": {
            "tags": []
          },
          "execution_count": 4
        }
      ]
    },
    {
      "cell_type": "code",
      "metadata": {
        "id": "0fbab962",
        "outputId": "ae612dd5-89f8-4e9f-d557-57e6953eaaf4"
      },
      "source": [
        "not 1"
      ],
      "id": "0fbab962",
      "execution_count": null,
      "outputs": [
        {
          "output_type": "execute_result",
          "data": {
            "text/plain": [
              "False"
            ]
          },
          "metadata": {
            "tags": []
          },
          "execution_count": 41
        }
      ]
    },
    {
      "cell_type": "code",
      "metadata": {
        "id": "c4052aee",
        "outputId": "2a6a924a-486c-4bcf-e1cd-9c5b7b5642f5"
      },
      "source": [
        "not \"\""
      ],
      "id": "c4052aee",
      "execution_count": null,
      "outputs": [
        {
          "output_type": "execute_result",
          "data": {
            "text/plain": [
              "True"
            ]
          },
          "metadata": {
            "tags": []
          },
          "execution_count": 42
        }
      ]
    },
    {
      "cell_type": "code",
      "metadata": {
        "id": "9e1ba053",
        "outputId": "31cdeb67-c4e3-4f3d-af44-7f8fa0b4578f"
      },
      "source": [
        "not []"
      ],
      "id": "9e1ba053",
      "execution_count": null,
      "outputs": [
        {
          "output_type": "execute_result",
          "data": {
            "text/plain": [
              "True"
            ]
          },
          "metadata": {
            "tags": []
          },
          "execution_count": 43
        }
      ]
    },
    {
      "cell_type": "code",
      "metadata": {
        "id": "cfd0879d",
        "outputId": "ee518f5c-7e6d-46b1-bc08-a83c7858bf0c"
      },
      "source": [
        "not {}"
      ],
      "id": "cfd0879d",
      "execution_count": null,
      "outputs": [
        {
          "output_type": "execute_result",
          "data": {
            "text/plain": [
              "True"
            ]
          },
          "metadata": {
            "tags": []
          },
          "execution_count": 44
        }
      ]
    },
    {
      "cell_type": "code",
      "metadata": {
        "id": "29d4c989",
        "outputId": "f2155418-6911-4690-f2cf-44f71372a3b8"
      },
      "source": [
        "not none"
      ],
      "id": "29d4c989",
      "execution_count": null,
      "outputs": [
        {
          "output_type": "error",
          "ename": "NameError",
          "evalue": "name 'none' is not defined",
          "traceback": [
            "\u001b[0;31m---------------------------------------------------------------------------\u001b[0m",
            "\u001b[0;31mNameError\u001b[0m                                 Traceback (most recent call last)",
            "\u001b[0;32m<ipython-input-45-36142693c930>\u001b[0m in \u001b[0;36m<module>\u001b[0;34m\u001b[0m\n\u001b[0;32m----> 1\u001b[0;31m \u001b[0;32mnot\u001b[0m \u001b[0mnone\u001b[0m\u001b[0;34m\u001b[0m\u001b[0;34m\u001b[0m\u001b[0m\n\u001b[0m",
            "\u001b[0;31mNameError\u001b[0m: name 'none' is not defined"
          ]
        }
      ]
    },
    {
      "cell_type": "code",
      "metadata": {
        "id": "8af3ae75",
        "outputId": "91a98f6d-3061-4874-da6d-60a20685e898"
      },
      "source": [
        "not None"
      ],
      "id": "8af3ae75",
      "execution_count": null,
      "outputs": [
        {
          "output_type": "execute_result",
          "data": {
            "text/plain": [
              "True"
            ]
          },
          "metadata": {
            "tags": []
          },
          "execution_count": 46
        }
      ]
    }
  ]
}
