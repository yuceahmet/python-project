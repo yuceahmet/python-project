{
  "nbformat": 4,
  "nbformat_minor": 5,
  "metadata": {
    "kernelspec": {
      "display_name": "Python 3",
      "language": "python",
      "name": "python3"
    },
    "language_info": {
      "codemirror_mode": {
        "name": "ipython",
        "version": 3
      },
      "file_extension": ".py",
      "mimetype": "text/x-python",
      "name": "python",
      "nbconvert_exporter": "python",
      "pygments_lexer": "ipython3",
      "version": "3.8.8"
    },
    "colab": {
      "name": "06_PythonBasic__28-June-2021.ipynb",
      "provenance": []
    }
  },
  "cells": [
    {
      "cell_type": "markdown",
      "metadata": {
        "id": "22263af8"
      },
      "source": [
        "<h1><p style=\"text-align: center; color:darkblue\">Python In-Class, <br>28 June 2021</p><h1>"
      ],
      "id": "22263af8"
    },
    {
      "cell_type": "code",
      "metadata": {
        "id": "78b85bb5",
        "outputId": "664e9142-ff28-432e-ef12-95257c21ac98"
      },
      "source": [
        "a= 1\n",
        "\n",
        "print(-a)"
      ],
      "id": "78b85bb5",
      "execution_count": null,
      "outputs": [
        {
          "output_type": "stream",
          "text": [
            "-1\n"
          ],
          "name": "stdout"
        }
      ]
    },
    {
      "cell_type": "code",
      "metadata": {
        "id": "0e30ed56",
        "outputId": "e7997033-54af-4e38-d4c2-42872a6f505f"
      },
      "source": [
        "b = -11\n",
        "\n",
        "print(-b)"
      ],
      "id": "0e30ed56",
      "execution_count": null,
      "outputs": [
        {
          "output_type": "stream",
          "text": [
            "11\n"
          ],
          "name": "stdout"
        }
      ]
    },
    {
      "cell_type": "code",
      "metadata": {
        "id": "52fa2fe2",
        "outputId": "7ced8e4d-69db-4be8-a7bc-4fe989e96ed5"
      },
      "source": [
        "a = 3\n",
        "b = 4\n",
        "\n",
        "print(\"The sum of  {} + {} is : {}\".format(a, b, a+b))"
      ],
      "id": "52fa2fe2",
      "execution_count": null,
      "outputs": [
        {
          "output_type": "stream",
          "text": [
            "The sum of 3 + 4 is : 7\n"
          ],
          "name": "stdout"
        }
      ]
    },
    {
      "cell_type": "code",
      "metadata": {
        "id": "3bb363ac",
        "outputId": "e1619dfc-e4bf-4416-91af-50af7e79ac50"
      },
      "source": [
        "text = \"{:.2f}, {:.3f}, {:.4f}\".format(3.1463, 5.367, 7.324324)\n",
        "\n",
        "print(text)"
      ],
      "id": "3bb363ac",
      "execution_count": null,
      "outputs": [
        {
          "output_type": "stream",
          "text": [
            "3.15, 5.367, 7.3243\n"
          ],
          "name": "stdout"
        }
      ]
    },
    {
      "cell_type": "code",
      "metadata": {
        "id": "33faa22e",
        "outputId": "319148de-d71c-4f07-b952-19aaf7d567a7"
      },
      "source": [
        "text = \"{:.2s}, {:.3s}, {:.4s}\".format(\"a3.1463\", \"5.b367\", \"7.324324c\")\n",
        "\n",
        "print(text)"
      ],
      "id": "33faa22e",
      "execution_count": null,
      "outputs": [
        {
          "output_type": "stream",
          "text": [
            "a3, 5.b, 7.32\n"
          ],
          "name": "stdout"
        }
      ]
    },
    {
      "cell_type": "code",
      "metadata": {
        "id": "a60a2c36",
        "outputId": "7ff4b681-4c51-489c-be91-a772a8b16e37"
      },
      "source": [
        "text = \"{:.2}, {:.3}, {:.4}\".format(\"a3.1463\", \"5.b367\", \"7.324324c\")\n",
        "\n",
        "print(text)"
      ],
      "id": "a60a2c36",
      "execution_count": null,
      "outputs": [
        {
          "output_type": "stream",
          "text": [
            "a3, 5.b, 7.32\n"
          ],
          "name": "stdout"
        }
      ]
    },
    {
      "cell_type": "code",
      "metadata": {
        "id": "3f1b0b3b",
        "outputId": "d37e99d2-c482-4f29-cee2-c3af483b3e43"
      },
      "source": [
        "text = \"{:>10}\".format(\"test\")\n",
        "\n",
        "text"
      ],
      "id": "3f1b0b3b",
      "execution_count": null,
      "outputs": [
        {
          "output_type": "execute_result",
          "data": {
            "text/plain": [
              "'      test'"
            ]
          },
          "metadata": {
            "tags": []
          },
          "execution_count": 10
        }
      ]
    },
    {
      "cell_type": "code",
      "metadata": {
        "id": "8c8bd2a3",
        "outputId": "ef08d40d-17dc-4e77-cb8f-efeca1173863"
      },
      "source": [
        "text = \"{:<10}\".format(\"test\")\n",
        "\n",
        "text"
      ],
      "id": "8c8bd2a3",
      "execution_count": null,
      "outputs": [
        {
          "output_type": "execute_result",
          "data": {
            "text/plain": [
              "'test      '"
            ]
          },
          "metadata": {
            "tags": []
          },
          "execution_count": 11
        }
      ]
    },
    {
      "cell_type": "code",
      "metadata": {
        "id": "a6b11f89",
        "outputId": "b7b55d24-8d92-4e1d-a272-7c8b49f03dbb"
      },
      "source": [
        "text = \"formatlama satırı {:>20} bu da textin sonu\".format(\"test\")\n",
        "text"
      ],
      "id": "a6b11f89",
      "execution_count": null,
      "outputs": [
        {
          "output_type": "execute_result",
          "data": {
            "text/plain": [
              "'formatlama satırı                 test bu da textin sonu'"
            ]
          },
          "metadata": {
            "tags": []
          },
          "execution_count": 13
        }
      ]
    },
    {
      "cell_type": "code",
      "metadata": {
        "id": "5c7c4cde",
        "outputId": "2842e1a1-4592-4580-a06e-99d53bcf1c80"
      },
      "source": [
        "text = \"bla bla {:<15} formatlama cümleciği\".format(\"ökkeş\")\n",
        "text"
      ],
      "id": "5c7c4cde",
      "execution_count": null,
      "outputs": [
        {
          "output_type": "execute_result",
          "data": {
            "text/plain": [
              "'bla bla ökkeş           formatlama cümleciği'"
            ]
          },
          "metadata": {
            "tags": []
          },
          "execution_count": 15
        }
      ]
    },
    {
      "cell_type": "code",
      "metadata": {
        "id": "fa87c989",
        "outputId": "c0ccb7a5-2570-4364-b54f-43aa0cb37252"
      },
      "source": [
        "text = \"{:^20}\".format(\"abc\")\n",
        "text"
      ],
      "id": "fa87c989",
      "execution_count": null,
      "outputs": [
        {
          "output_type": "execute_result",
          "data": {
            "text/plain": [
              "'        abc         '"
            ]
          },
          "metadata": {
            "tags": []
          },
          "execution_count": 17
        }
      ]
    },
    {
      "cell_type": "code",
      "metadata": {
        "id": "aa6f9ffd",
        "outputId": "9026c7f5-aed9-47a4-d0ce-20143b01041a"
      },
      "source": [
        "\"{:10.5}\".format(\"hippopotamus\")"
      ],
      "id": "aa6f9ffd",
      "execution_count": null,
      "outputs": [
        {
          "output_type": "execute_result",
          "data": {
            "text/plain": [
              "'hippo     '"
            ]
          },
          "metadata": {
            "tags": []
          },
          "execution_count": 18
        }
      ]
    },
    {
      "cell_type": "code",
      "metadata": {
        "id": "0e575491",
        "outputId": "8991ddca-7945-4b04-b0e7-870061d5586a"
      },
      "source": [
        "\"{:>15.5}\".format(\"hippopotamus\")"
      ],
      "id": "0e575491",
      "execution_count": null,
      "outputs": [
        {
          "output_type": "execute_result",
          "data": {
            "text/plain": [
              "'          hippo'"
            ]
          },
          "metadata": {
            "tags": []
          },
          "execution_count": 19
        }
      ]
    },
    {
      "cell_type": "code",
      "metadata": {
        "id": "73259b3b",
        "outputId": "4d9c8927-4273-4287-9eb9-1baaa4ecc538"
      },
      "source": [
        "\"{:+d}\".format(115)  # +115"
      ],
      "id": "73259b3b",
      "execution_count": null,
      "outputs": [
        {
          "output_type": "execute_result",
          "data": {
            "text/plain": [
              "'+115'"
            ]
          },
          "metadata": {
            "tags": []
          },
          "execution_count": 20
        }
      ]
    },
    {
      "cell_type": "code",
      "metadata": {
        "id": "aee07472",
        "outputId": "021a902b-d671-4266-c399-e0b02c2d621c"
      },
      "source": [
        "age = False\n",
        "chronic = False\n",
        "immune = False\n",
        "\n",
        "covid = age or chronic or immune\n",
        "\n",
        "covid"
      ],
      "id": "aee07472",
      "execution_count": null,
      "outputs": [
        {
          "output_type": "execute_result",
          "data": {
            "text/plain": [
              "False"
            ]
          },
          "metadata": {
            "tags": []
          },
          "execution_count": 22
        }
      ]
    },
    {
      "cell_type": "code",
      "metadata": {
        "id": "37810b3c"
      },
      "source": [
        "list_1 = ['h', 'a', 'p', 'p', 'y']\n",
        "word = 'happy'\n",
        "list_2 = list(word)"
      ],
      "id": "37810b3c",
      "execution_count": null,
      "outputs": []
    },
    {
      "cell_type": "code",
      "metadata": {
        "id": "21543ff9",
        "outputId": "d605a934-6842-4da5-8219-27cb0a227a1b"
      },
      "source": [
        "list_1"
      ],
      "id": "21543ff9",
      "execution_count": null,
      "outputs": [
        {
          "output_type": "execute_result",
          "data": {
            "text/plain": [
              "['h', 'a', 'p', 'p', 'y']"
            ]
          },
          "metadata": {
            "tags": []
          },
          "execution_count": 24
        }
      ]
    },
    {
      "cell_type": "code",
      "metadata": {
        "id": "537652da",
        "outputId": "457273e4-a84a-4b24-e96b-1cb5aa5827bd"
      },
      "source": [
        "list_2"
      ],
      "id": "537652da",
      "execution_count": null,
      "outputs": [
        {
          "output_type": "execute_result",
          "data": {
            "text/plain": [
              "['h', 'a', 'p', 'p', 'y']"
            ]
          },
          "metadata": {
            "tags": []
          },
          "execution_count": 25
        }
      ]
    },
    {
      "cell_type": "code",
      "metadata": {
        "id": "ebb55d9d",
        "outputId": "ae1f947d-6295-436a-e8f9-910c9185348a"
      },
      "source": [
        "list_3 = ['happy']\n",
        "list_3"
      ],
      "id": "ebb55d9d",
      "execution_count": null,
      "outputs": [
        {
          "output_type": "execute_result",
          "data": {
            "text/plain": [
              "['happy']"
            ]
          },
          "metadata": {
            "tags": []
          },
          "execution_count": 26
        }
      ]
    },
    {
      "cell_type": "code",
      "metadata": {
        "id": "720d7de9",
        "outputId": "bb5d170a-cbf1-4559-b3a3-c6347b40055b"
      },
      "source": [
        "type(list_3)"
      ],
      "id": "720d7de9",
      "execution_count": null,
      "outputs": [
        {
          "output_type": "execute_result",
          "data": {
            "text/plain": [
              "list"
            ]
          },
          "metadata": {
            "tags": []
          },
          "execution_count": 27
        }
      ]
    },
    {
      "cell_type": "code",
      "metadata": {
        "id": "3b7add9d"
      },
      "source": [
        "list_4 = [\"ben bu insanlara ders anlatınca gerçekten çok rehabilite oluyorum. dersi iple çekiyorum.\"]"
      ],
      "id": "3b7add9d",
      "execution_count": null,
      "outputs": []
    },
    {
      "cell_type": "code",
      "metadata": {
        "id": "c8e0dd8b",
        "outputId": "80fff5d1-7499-4743-ccf9-e529becaf1a0"
      },
      "source": [
        "list_5 = list(list_3)\n",
        "\n",
        "list_5"
      ],
      "id": "c8e0dd8b",
      "execution_count": null,
      "outputs": [
        {
          "output_type": "execute_result",
          "data": {
            "text/plain": [
              "['happy']"
            ]
          },
          "metadata": {
            "tags": []
          },
          "execution_count": 29
        }
      ]
    },
    {
      "cell_type": "code",
      "metadata": {
        "id": "f2dad5a1",
        "outputId": "28d0aeb9-fcc3-4dc8-e7d9-0f0d7ae7eace"
      },
      "source": [
        "list_6 = list(list_2)\n",
        "\n",
        "list_6"
      ],
      "id": "f2dad5a1",
      "execution_count": null,
      "outputs": [
        {
          "output_type": "execute_result",
          "data": {
            "text/plain": [
              "['h', 'a', 'p', 'p', 'y']"
            ]
          },
          "metadata": {
            "tags": []
          },
          "execution_count": 30
        }
      ]
    },
    {
      "cell_type": "code",
      "metadata": {
        "id": "a71e4eac"
      },
      "source": [
        "a = [\"2'!*?- abc+&$#123=*/\"]"
      ],
      "id": "a71e4eac",
      "execution_count": null,
      "outputs": []
    },
    {
      "cell_type": "code",
      "metadata": {
        "id": "05de2211",
        "outputId": "a9d9a218-cf73-41f4-acc6-a4f332cf2fb2"
      },
      "source": [
        "len(a)"
      ],
      "id": "05de2211",
      "execution_count": null,
      "outputs": [
        {
          "output_type": "execute_result",
          "data": {
            "text/plain": [
              "1"
            ]
          },
          "metadata": {
            "tags": []
          },
          "execution_count": 32
        }
      ]
    },
    {
      "cell_type": "code",
      "metadata": {
        "id": "52fe5b53",
        "outputId": "30cb87ff-6d9f-460b-a552-0c9e1acfb99b"
      },
      "source": [
        "b = list(\"2'!*?- abc+&$#123=*/\")\n",
        "len(b)"
      ],
      "id": "52fe5b53",
      "execution_count": null,
      "outputs": [
        {
          "output_type": "execute_result",
          "data": {
            "text/plain": [
              "20"
            ]
          },
          "metadata": {
            "tags": []
          },
          "execution_count": 33
        }
      ]
    },
    {
      "cell_type": "code",
      "metadata": {
        "id": "0a9ecd47"
      },
      "source": [
        "my_list = ['Joseph', 'Clarusway', 2020]\n",
        "new_list1 = list(my_list)  \n",
        "new_list2 = [my_list]  "
      ],
      "id": "0a9ecd47",
      "execution_count": null,
      "outputs": []
    },
    {
      "cell_type": "code",
      "metadata": {
        "id": "a12c2f6a",
        "outputId": "ddf0b5ae-cf19-449c-ee7d-45858cf1ad9c"
      },
      "source": [
        "new_list1"
      ],
      "id": "a12c2f6a",
      "execution_count": null,
      "outputs": [
        {
          "output_type": "execute_result",
          "data": {
            "text/plain": [
              "['Joseph', 'Clarusway', 2020]"
            ]
          },
          "metadata": {
            "tags": []
          },
          "execution_count": 35
        }
      ]
    },
    {
      "cell_type": "code",
      "metadata": {
        "id": "ba76ae6a",
        "outputId": "1abeb8f5-b0e2-44b9-94e5-6c6112b2ed09"
      },
      "source": [
        "new_list2"
      ],
      "id": "ba76ae6a",
      "execution_count": null,
      "outputs": [
        {
          "output_type": "execute_result",
          "data": {
            "text/plain": [
              "[['Joseph', 'Clarusway', 2020]]"
            ]
          },
          "metadata": {
            "tags": []
          },
          "execution_count": 36
        }
      ]
    },
    {
      "cell_type": "code",
      "metadata": {
        "id": "add4767e",
        "outputId": "43a0be06-6e19-4918-ac73-a74799880dad"
      },
      "source": [
        "len(new_list2)"
      ],
      "id": "add4767e",
      "execution_count": null,
      "outputs": [
        {
          "output_type": "execute_result",
          "data": {
            "text/plain": [
              "1"
            ]
          },
          "metadata": {
            "tags": []
          },
          "execution_count": 37
        }
      ]
    },
    {
      "cell_type": "code",
      "metadata": {
        "id": "d018a2b3"
      },
      "source": [
        "x = [[1,2,3], [4,5,6]]"
      ],
      "id": "d018a2b3",
      "execution_count": null,
      "outputs": []
    },
    {
      "cell_type": "code",
      "metadata": {
        "id": "51beb293",
        "outputId": "fb7ef04d-9cff-46e9-f4ca-68d2a27b3d2e"
      },
      "source": [
        "len(x)"
      ],
      "id": "51beb293",
      "execution_count": null,
      "outputs": [
        {
          "output_type": "execute_result",
          "data": {
            "text/plain": [
              "2"
            ]
          },
          "metadata": {
            "tags": []
          },
          "execution_count": 39
        }
      ]
    },
    {
      "cell_type": "code",
      "metadata": {
        "id": "968c61c6",
        "outputId": "21ea9beb-7807-43e6-c603-a84ef5b45444"
      },
      "source": [
        "y = list(2020)\n",
        "len(y)"
      ],
      "id": "968c61c6",
      "execution_count": null,
      "outputs": [
        {
          "output_type": "error",
          "ename": "TypeError",
          "evalue": "'int' object is not iterable",
          "traceback": [
            "\u001b[0;31m---------------------------------------------------------------------------\u001b[0m",
            "\u001b[0;31mTypeError\u001b[0m                                 Traceback (most recent call last)",
            "\u001b[0;32m<ipython-input-40-e171d9ecc7c7>\u001b[0m in \u001b[0;36m<module>\u001b[0;34m\u001b[0m\n\u001b[0;32m----> 1\u001b[0;31m \u001b[0my\u001b[0m \u001b[0;34m=\u001b[0m \u001b[0mlist\u001b[0m\u001b[0;34m(\u001b[0m\u001b[0;36m2020\u001b[0m\u001b[0;34m)\u001b[0m\u001b[0;34m\u001b[0m\u001b[0;34m\u001b[0m\u001b[0m\n\u001b[0m\u001b[1;32m      2\u001b[0m \u001b[0mlen\u001b[0m\u001b[0;34m(\u001b[0m\u001b[0my\u001b[0m\u001b[0;34m)\u001b[0m\u001b[0;34m\u001b[0m\u001b[0;34m\u001b[0m\u001b[0m\n",
            "\u001b[0;31mTypeError\u001b[0m: 'int' object is not iterable"
          ]
        }
      ]
    },
    {
      "cell_type": "code",
      "metadata": {
        "id": "c18bd935",
        "outputId": "2ae0c716-27c8-48f9-8966-84a9f0c3993d"
      },
      "source": [
        "y = list(\"2020\")\n",
        "len(y)"
      ],
      "id": "c18bd935",
      "execution_count": null,
      "outputs": [
        {
          "output_type": "execute_result",
          "data": {
            "text/plain": [
              "4"
            ]
          },
          "metadata": {
            "tags": []
          },
          "execution_count": 41
        }
      ]
    },
    {
      "cell_type": "code",
      "metadata": {
        "id": "7926ab2d",
        "outputId": "e676e0aa-0ce1-47f0-edd1-6a2de0a38d34"
      },
      "source": [
        "y"
      ],
      "id": "7926ab2d",
      "execution_count": null,
      "outputs": [
        {
          "output_type": "execute_result",
          "data": {
            "text/plain": [
              "['2', '0', '2', '0']"
            ]
          },
          "metadata": {
            "tags": []
          },
          "execution_count": 42
        }
      ]
    },
    {
      "cell_type": "code",
      "metadata": {
        "id": "db6c2a45"
      },
      "source": [
        "yy = [\"ali\"]"
      ],
      "id": "db6c2a45",
      "execution_count": null,
      "outputs": []
    },
    {
      "cell_type": "code",
      "metadata": {
        "id": "eb8ab340",
        "outputId": "523b82ee-d5ba-4994-c141-28898f87b2f3"
      },
      "source": [
        "yy[::-1]"
      ],
      "id": "eb8ab340",
      "execution_count": null,
      "outputs": [
        {
          "output_type": "execute_result",
          "data": {
            "text/plain": [
              "['ali']"
            ]
          },
          "metadata": {
            "tags": []
          },
          "execution_count": 44
        }
      ]
    },
    {
      "cell_type": "code",
      "metadata": {
        "id": "2fb79bcd",
        "outputId": "ff6a884a-3bd5-46eb-f28d-b9b0233d129c"
      },
      "source": [
        "zz = [1]\n",
        "\n",
        "zz[::-1]"
      ],
      "id": "2fb79bcd",
      "execution_count": null,
      "outputs": [
        {
          "output_type": "execute_result",
          "data": {
            "text/plain": [
              "[1]"
            ]
          },
          "metadata": {
            "tags": []
          },
          "execution_count": 45
        }
      ]
    },
    {
      "cell_type": "code",
      "metadata": {
        "id": "49ea8dfa",
        "outputId": "b860249e-a79a-403b-c18b-deeea9c0815d"
      },
      "source": [
        "print(len([[1, 2, 3]][0]))"
      ],
      "id": "49ea8dfa",
      "execution_count": null,
      "outputs": [
        {
          "output_type": "stream",
          "text": [
            "3\n"
          ],
          "name": "stdout"
        }
      ]
    },
    {
      "cell_type": "code",
      "metadata": {
        "id": "444f509c",
        "outputId": "68f541c9-745e-4f64-c429-cdb6deb6cfb5"
      },
      "source": [
        "len([[]])"
      ],
      "id": "444f509c",
      "execution_count": null,
      "outputs": [
        {
          "output_type": "execute_result",
          "data": {
            "text/plain": [
              "1"
            ]
          },
          "metadata": {
            "tags": []
          },
          "execution_count": 47
        }
      ]
    },
    {
      "cell_type": "code",
      "metadata": {
        "id": "025a480f",
        "outputId": "809bf884-d1e3-40a2-b8a0-15104225f53c"
      },
      "source": [
        "len([\"\"])"
      ],
      "id": "025a480f",
      "execution_count": null,
      "outputs": [
        {
          "output_type": "execute_result",
          "data": {
            "text/plain": [
              "1"
            ]
          },
          "metadata": {
            "tags": []
          },
          "execution_count": 48
        }
      ]
    },
    {
      "cell_type": "code",
      "metadata": {
        "id": "6e989890"
      },
      "source": [
        "sayılar = []"
      ],
      "id": "6e989890",
      "execution_count": null,
      "outputs": []
    },
    {
      "cell_type": "code",
      "metadata": {
        "id": "b995ab9c"
      },
      "source": [
        "sayılar.append(1)"
      ],
      "id": "b995ab9c",
      "execution_count": null,
      "outputs": []
    },
    {
      "cell_type": "code",
      "metadata": {
        "id": "482ffbb2",
        "outputId": "251005ab-6b61-4c22-f9da-bf01f82958ee"
      },
      "source": [
        "sayılar"
      ],
      "id": "482ffbb2",
      "execution_count": null,
      "outputs": [
        {
          "output_type": "execute_result",
          "data": {
            "text/plain": [
              "[1]"
            ]
          },
          "metadata": {
            "tags": []
          },
          "execution_count": 51
        }
      ]
    },
    {
      "cell_type": "code",
      "metadata": {
        "id": "9d8a5e68"
      },
      "source": [
        "sayılar.append(2)"
      ],
      "id": "9d8a5e68",
      "execution_count": null,
      "outputs": []
    },
    {
      "cell_type": "code",
      "metadata": {
        "id": "360ff154"
      },
      "source": [
        "sayılar.append(3)"
      ],
      "id": "360ff154",
      "execution_count": null,
      "outputs": []
    },
    {
      "cell_type": "code",
      "metadata": {
        "id": "e5b0e98d",
        "outputId": "0bfa792a-82a7-4f2a-91bb-081cae5024db"
      },
      "source": [
        "sayılar"
      ],
      "id": "e5b0e98d",
      "execution_count": null,
      "outputs": [
        {
          "output_type": "execute_result",
          "data": {
            "text/plain": [
              "[1, 2, 3]"
            ]
          },
          "metadata": {
            "tags": []
          },
          "execution_count": 54
        }
      ]
    },
    {
      "cell_type": "code",
      "metadata": {
        "id": "899b0230"
      },
      "source": [
        "sayılar.append(4)"
      ],
      "id": "899b0230",
      "execution_count": null,
      "outputs": []
    },
    {
      "cell_type": "code",
      "metadata": {
        "id": "01bf9d63",
        "outputId": "399b566d-f1e2-4ffe-cc8d-2607b8b6d96c"
      },
      "source": [
        "sayılar"
      ],
      "id": "01bf9d63",
      "execution_count": null,
      "outputs": [
        {
          "output_type": "execute_result",
          "data": {
            "text/plain": [
              "[1, 2, 3, 4]"
            ]
          },
          "metadata": {
            "tags": []
          },
          "execution_count": 57
        }
      ]
    },
    {
      "cell_type": "code",
      "metadata": {
        "id": "11aaa33c",
        "outputId": "6695c242-b758-456f-ec47-eebbe4465075"
      },
      "source": [
        "sayılar.insert(4,5)\n",
        "sayılar"
      ],
      "id": "11aaa33c",
      "execution_count": null,
      "outputs": [
        {
          "output_type": "execute_result",
          "data": {
            "text/plain": [
              "[1, 2, 3, 4, 5]"
            ]
          },
          "metadata": {
            "tags": []
          },
          "execution_count": 58
        }
      ]
    },
    {
      "cell_type": "code",
      "metadata": {
        "id": "515dcf1d"
      },
      "source": [
        "sayılar.insert(6,6)"
      ],
      "id": "515dcf1d",
      "execution_count": null,
      "outputs": []
    },
    {
      "cell_type": "code",
      "metadata": {
        "id": "54ec3014",
        "outputId": "1289a256-6fc2-49f7-fcb4-a393f56aef07"
      },
      "source": [
        "sayılar.remove()"
      ],
      "id": "54ec3014",
      "execution_count": null,
      "outputs": [
        {
          "output_type": "execute_result",
          "data": {
            "text/plain": [
              "[1, 2, 3, 4, 5, 6]"
            ]
          },
          "metadata": {
            "tags": []
          },
          "execution_count": 60
        }
      ]
    },
    {
      "cell_type": "code",
      "metadata": {
        "id": "56240aaa",
        "outputId": "5d0ddde6-cac6-4873-fc7f-84cafcc029a5"
      },
      "source": [
        "ord(\"a\")"
      ],
      "id": "56240aaa",
      "execution_count": null,
      "outputs": [
        {
          "output_type": "execute_result",
          "data": {
            "text/plain": [
              "97"
            ]
          },
          "metadata": {
            "tags": []
          },
          "execution_count": 62
        }
      ]
    },
    {
      "cell_type": "code",
      "metadata": {
        "id": "aba035c6",
        "outputId": "e7efb1df-775a-450f-e83c-c89255ac8fbe"
      },
      "source": [
        "ord(\"b\")"
      ],
      "id": "aba035c6",
      "execution_count": null,
      "outputs": [
        {
          "output_type": "execute_result",
          "data": {
            "text/plain": [
              "98"
            ]
          },
          "metadata": {
            "tags": []
          },
          "execution_count": 63
        }
      ]
    },
    {
      "cell_type": "code",
      "metadata": {
        "id": "e3dd97c5",
        "outputId": "ae1c0109-4a5c-4179-c836-24511baf3cad"
      },
      "source": [
        "ord(\"A\")"
      ],
      "id": "e3dd97c5",
      "execution_count": null,
      "outputs": [
        {
          "output_type": "execute_result",
          "data": {
            "text/plain": [
              "65"
            ]
          },
          "metadata": {
            "tags": []
          },
          "execution_count": 64
        }
      ]
    },
    {
      "cell_type": "code",
      "metadata": {
        "id": "a181e98c"
      },
      "source": [
        ""
      ],
      "id": "a181e98c",
      "execution_count": null,
      "outputs": []
    }
  ]
}
