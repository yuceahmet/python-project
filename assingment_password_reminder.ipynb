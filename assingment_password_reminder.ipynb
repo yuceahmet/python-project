{
  "nbformat": 4,
  "nbformat_minor": 0,
  "metadata": {
    "colab": {
      "name": "Untitled0.ipynb",
      "provenance": []
    },
    "kernelspec": {
      "name": "python3",
      "display_name": "Python 3"
    },
    "language_info": {
      "name": "python"
    }
  },
  "cells": [
    {
      "cell_type": "code",
      "metadata": {
        "colab": {
          "base_uri": "https://localhost:8080/"
        },
        "id": "eLdE-Y_yVFPq",
        "outputId": "a1a1e834-5eb6-4f78-bb5b-03a5b0118b9b"
      },
      "source": [
        "psw = \"Rock.43\"\n",
        "name = input(\"Enter your name:\")\n",
        "if name == \"Ahmet\" : print (\"Hello, Ahmet! The password is: Rock.43\")\n",
        "else : print(\"Hello {}! See you later.\".format(name))"
      ],
      "execution_count": 2,
      "outputs": [
        {
          "output_type": "stream",
          "text": [
            "Enter your name:Ahmet\n",
            "Hello, Ahmet! The password is: Rock.43\n"
          ],
          "name": "stdout"
        }
      ]
    },
    {
      "cell_type": "code",
      "metadata": {
        "colab": {
          "base_uri": "https://localhost:8080/"
        },
        "id": "NXzr2RNaS2N4",
        "outputId": "8511fc25-e4f8-48a9-ff16-f13c2079c3b5"
      },
      "source": [
        "psw = \"Rock.43\"\n",
        "name = input(\"Enter your name:\")\n",
        "if name == \"Ahmet\" : print (\"Hello, Ahmet! The password is: Rock.43\")\n",
        "else : print(\"Hello {}! See you later.\".format(name))"
      ],
      "execution_count": 1,
      "outputs": [
        {
          "output_type": "stream",
          "text": [
            "Enter your name:Mehmet\n",
            "Hello Mehmet! See you later.\n"
          ],
          "name": "stdout"
        }
      ]
    }
  ]
}