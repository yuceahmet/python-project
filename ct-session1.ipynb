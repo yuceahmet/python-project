{
 "metadata": {
  "language_info": {
   "codemirror_mode": {
    "name": "ipython",
    "version": 3
   },
   "file_extension": ".py",
   "mimetype": "text/x-python",
   "name": "python",
   "nbconvert_exporter": "python",
   "pygments_lexer": "ipython3",
   "version": "3.9.2"
  },
  "orig_nbformat": 4,
  "kernelspec": {
   "name": "python3",
   "display_name": "Python 3.9.2 64-bit"
  },
  "interpreter": {
   "hash": "feffbb48170f0d852f063d97313e9e5945e72e21dd09951ac3f0ae0d4d8ec145"
  }
 },
 "nbformat": 4,
 "nbformat_minor": 2,
 "cells": [
  {
   "cell_type": "code",
   "execution_count": 8,
   "metadata": {},
   "outputs": [
    {
     "output_type": "stream",
     "name": "stdout",
     "text": [
      "Hello Marcus\n",
      "You are a spring chicken\n"
     ]
    }
   ],
   "source": [
    "name = input(\"What is your name?\")\n",
    "print(\"Hello \" + name)\n",
    "\n",
    "age = int(input(\"How old are you?\"))\n",
    "\n",
    "if age >= 70:\n",
    "    print(\"Your are aged to perfection.\")\n",
    "else:\n",
    "    print(\"You are a spring chicken\")"
   ]
  },
  {
   "cell_type": "code",
   "execution_count": null,
   "metadata": {},
   "outputs": [],
   "source": [
    "age = 45 \n",
    "\n",
    "if age >= 45:\n",
    "    print(\"AA\")\n",
    "elif age < 35:\n",
    "    print(\"BA\")\n",
    "elif age < 25:\n",
    "    print(\"CC\")\n",
    "else:\n",
    "    print(\"F\")"
   ]
  },
  {
   "cell_type": "code",
   "execution_count": 12,
   "metadata": {},
   "outputs": [
    {
     "output_type": "stream",
     "name": "stdout",
     "text": [
      "Your payment is:  3000\n"
     ]
    }
   ],
   "source": [
    "hours = int(input(\"How many hours do you work weekly?\"))\n",
    "rate = int(input(\"What is your houry payment?\"))\n",
    "\n",
    "if hours <= 40:\n",
    "    pay = hours * rate\n",
    "else:\n",
    "    pay = 40 * rate + (hours - 40) * rate * 1.5\n",
    "\n",
    "print(\"Your payment is: \" , pay)"
   ]
  },
  {
   "cell_type": "code",
   "execution_count": 13,
   "metadata": {},
   "outputs": [
    {
     "output_type": "stream",
     "name": "stdout",
     "text": [
      "1\n6\n2\n9\n3\n14\n4\n21\n5\n30\n6\n41\n7\n54\n8\n69\n9\n86\n10\n105\nexit the for loop\n"
     ]
    }
   ],
   "source": [
    "list = [1,2,3,4,5,6,7,8,9,10] # iteration\n",
    "\n",
    "for x in list:\n",
    "    print(x)\n",
    "    value = (x ** 2 + 5)\n",
    "    print(value)\n",
    "print(\"exit the for loop\")\n"
   ]
  },
  {
   "cell_type": "code",
   "execution_count": 17,
   "metadata": {},
   "outputs": [
    {
     "output_type": "stream",
     "name": "stdout",
     "text": [
      "50\n60\n70\n80\n90\n100\n110\n120\n130\n140\n150\n160\n170\n180\n190\n"
     ]
    }
   ],
   "source": [
    "for i in range (25,100, 5):\n",
    "    print(i * 2)\n"
   ]
  },
  {
   "cell_type": "code",
   "execution_count": null,
   "metadata": {},
   "outputs": [],
   "source": []
  },
  {
   "cell_type": "code",
   "execution_count": null,
   "metadata": {},
   "outputs": [],
   "source": []
  }
 ]
}