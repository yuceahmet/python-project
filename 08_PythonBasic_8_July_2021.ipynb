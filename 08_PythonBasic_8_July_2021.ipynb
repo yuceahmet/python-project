{
  "nbformat": 4,
  "nbformat_minor": 5,
  "metadata": {
    "kernelspec": {
      "display_name": "Python 3",
      "language": "python",
      "name": "python3"
    },
    "language_info": {
      "codemirror_mode": {
        "name": "ipython",
        "version": 3
      },
      "file_extension": ".py",
      "mimetype": "text/x-python",
      "name": "python",
      "nbconvert_exporter": "python",
      "pygments_lexer": "ipython3",
      "version": "3.8.8"
    },
    "colab": {
      "name": "08_PythonBasic_8-July-2021.ipynb",
      "provenance": []
    }
  },
  "cells": [
    {
      "cell_type": "markdown",
      "metadata": {
        "id": "22263af8"
      },
      "source": [
        "<h1><p style=\"text-align: center; color:darkblue\">Python In-Class, <br>8 July 2021</p><h1>"
      ],
      "id": "22263af8"
    },
    {
      "cell_type": "code",
      "metadata": {
        "id": "6ced783c"
      },
      "source": [
        "first_dict = {1 : \"one\", \"two\" : 2, False : [1, 2, 3]}"
      ],
      "id": "6ced783c",
      "execution_count": null,
      "outputs": []
    },
    {
      "cell_type": "code",
      "metadata": {
        "id": "ae0f3f6b",
        "outputId": "45508f02-ae38-4743-b431-ec42c435bdf7"
      },
      "source": [
        "first_dict"
      ],
      "id": "ae0f3f6b",
      "execution_count": null,
      "outputs": [
        {
          "output_type": "execute_result",
          "data": {
            "text/plain": [
              "{1: 'one', 'two': 2, False: [1, 2, 3]}"
            ]
          },
          "metadata": {
            "tags": []
          },
          "execution_count": 2
        }
      ]
    },
    {
      "cell_type": "code",
      "metadata": {
        "id": "d407694b",
        "outputId": "428b70b7-4896-4c62-f528-26a51b699121"
      },
      "source": [
        "second_dict = {[1,2,3] : \"liste\", \"clarus\" : \"the best\"}"
      ],
      "id": "d407694b",
      "execution_count": null,
      "outputs": [
        {
          "output_type": "error",
          "ename": "TypeError",
          "evalue": "unhashable type: 'list'",
          "traceback": [
            "\u001b[0;31m---------------------------------------------------------------------------\u001b[0m",
            "\u001b[0;31mTypeError\u001b[0m                                 Traceback (most recent call last)",
            "\u001b[0;32m<ipython-input-3-ee15bfb4138f>\u001b[0m in \u001b[0;36m<module>\u001b[0;34m\u001b[0m\n\u001b[0;32m----> 1\u001b[0;31m \u001b[0msecond_dict\u001b[0m \u001b[0;34m=\u001b[0m \u001b[0;34m{\u001b[0m\u001b[0;34m[\u001b[0m\u001b[0;36m1\u001b[0m\u001b[0;34m,\u001b[0m\u001b[0;36m2\u001b[0m\u001b[0;34m,\u001b[0m\u001b[0;36m3\u001b[0m\u001b[0;34m]\u001b[0m \u001b[0;34m:\u001b[0m \u001b[0;34m\"liste\"\u001b[0m\u001b[0;34m,\u001b[0m \u001b[0;34m\"clarus\"\u001b[0m \u001b[0;34m:\u001b[0m \u001b[0;34m\"the best\"\u001b[0m\u001b[0;34m}\u001b[0m\u001b[0;34m\u001b[0m\u001b[0;34m\u001b[0m\u001b[0m\n\u001b[0m",
            "\u001b[0;31mTypeError\u001b[0m: unhashable type: 'list'"
          ]
        }
      ]
    },
    {
      "cell_type": "code",
      "metadata": {
        "id": "74d508ae"
      },
      "source": [
        "third_dict = {(1,2,3) : \"liste\", \"clarus\" : \"the best\"}"
      ],
      "id": "74d508ae",
      "execution_count": null,
      "outputs": []
    },
    {
      "cell_type": "code",
      "metadata": {
        "id": "82cb2fa4",
        "outputId": "e9469a1d-a632-41cd-a758-67de639fe80c"
      },
      "source": [
        "third_dict"
      ],
      "id": "82cb2fa4",
      "execution_count": null,
      "outputs": [
        {
          "output_type": "execute_result",
          "data": {
            "text/plain": [
              "{(1, 2, 3): 'liste', 'clarus': 'the best'}"
            ]
          },
          "metadata": {
            "tags": []
          },
          "execution_count": 5
        }
      ]
    },
    {
      "cell_type": "code",
      "metadata": {
        "id": "9835e5ca",
        "outputId": "00f2ece8-2e64-42f7-fabb-ae0c11cdda72"
      },
      "source": [
        "fourt_dict = {{1 :\"bir\", 2 : \"iki\"} : \"sözlük\"}   # key olarak liste kullanılamaz"
      ],
      "id": "9835e5ca",
      "execution_count": null,
      "outputs": [
        {
          "output_type": "error",
          "ename": "TypeError",
          "evalue": "unhashable type: 'dict'",
          "traceback": [
            "\u001b[0;31m---------------------------------------------------------------------------\u001b[0m",
            "\u001b[0;31mTypeError\u001b[0m                                 Traceback (most recent call last)",
            "\u001b[0;32m<ipython-input-6-60108c3ead8c>\u001b[0m in \u001b[0;36m<module>\u001b[0;34m\u001b[0m\n\u001b[0;32m----> 1\u001b[0;31m \u001b[0mfourt_dict\u001b[0m \u001b[0;34m=\u001b[0m \u001b[0;34m{\u001b[0m\u001b[0;34m{\u001b[0m\u001b[0;36m1\u001b[0m \u001b[0;34m:\u001b[0m\u001b[0;34m\"bir\"\u001b[0m\u001b[0;34m,\u001b[0m \u001b[0;36m2\u001b[0m \u001b[0;34m:\u001b[0m \u001b[0;34m\"iki\"\u001b[0m\u001b[0;34m}\u001b[0m \u001b[0;34m:\u001b[0m \u001b[0;34m\"sözlük\"\u001b[0m\u001b[0;34m}\u001b[0m\u001b[0;34m\u001b[0m\u001b[0;34m\u001b[0m\u001b[0m\n\u001b[0m",
            "\u001b[0;31mTypeError\u001b[0m: unhashable type: 'dict'"
          ]
        }
      ]
    },
    {
      "cell_type": "code",
      "metadata": {
        "id": "eb22e215"
      },
      "source": [
        "fifth_dict = {\"erkekler\" : {\"ahmet\" : 35, \"mehmet\" : 44, \"cevat\" : 17},\\\n",
        "              \"bayanlar\" : {\"selvi\" : 22, \"bahar\" : 55, \"ayşe\" : 3}}"
      ],
      "id": "eb22e215",
      "execution_count": null,
      "outputs": []
    },
    {
      "cell_type": "code",
      "metadata": {
        "id": "a1b6369e",
        "outputId": "d47ea169-a119-44c9-f652-b674e53f5fb6"
      },
      "source": [
        "fifth_dict    # dictinary'den de key olmaz, dictionary value olabilir"
      ],
      "id": "a1b6369e",
      "execution_count": null,
      "outputs": [
        {
          "output_type": "execute_result",
          "data": {
            "text/plain": [
              "{'erkekler': {'ahmet': 35, 'mehmet': 44, 'cevat': 17},\n",
              " 'bayanlar': {'selvi': 22, 'bahar': 55, 'ayşe': 3}}"
            ]
          },
          "metadata": {
            "tags": []
          },
          "execution_count": 8
        }
      ]
    },
    {
      "cell_type": "code",
      "metadata": {
        "id": "b808ad69"
      },
      "source": [
        "family = {\"name1\" : \"Joseph\",\n",
        "          \"name2\" : \"Bella\",\n",
        "          \"name3\" : \"Aisha\"}"
      ],
      "id": "b808ad69",
      "execution_count": null,
      "outputs": []
    },
    {
      "cell_type": "code",
      "metadata": {
        "id": "91a7bab6",
        "outputId": "0ed7bcbb-a7b7-4454-ed4b-810545d7c101"
      },
      "source": [
        "print(family)"
      ],
      "id": "91a7bab6",
      "execution_count": null,
      "outputs": [
        {
          "output_type": "stream",
          "text": [
            "{'name1': 'Joseph', 'name2': 'Bella', 'name3': 'Aisha'}\n"
          ],
          "name": "stdout"
        }
      ]
    },
    {
      "cell_type": "code",
      "metadata": {
        "id": "eca4858f"
      },
      "source": [
        "family[\"name4\"] = \"Tom\""
      ],
      "id": "eca4858f",
      "execution_count": null,
      "outputs": []
    },
    {
      "cell_type": "code",
      "metadata": {
        "id": "69874a3a",
        "outputId": "c93282cd-4c10-471d-c1b4-f7eacc84effa"
      },
      "source": [
        "family"
      ],
      "id": "69874a3a",
      "execution_count": null,
      "outputs": [
        {
          "output_type": "execute_result",
          "data": {
            "text/plain": [
              "{'name1': 'Joseph', 'name2': 'Bella', 'name3': 'Aisha', 'name4': 'Tom'}"
            ]
          },
          "metadata": {
            "tags": []
          },
          "execution_count": 14
        }
      ]
    },
    {
      "cell_type": "code",
      "metadata": {
        "id": "8538b104",
        "outputId": "d364a7ff-297d-4df8-e42b-bb6d80c47723"
      },
      "source": [
        "len(family)"
      ],
      "id": "8538b104",
      "execution_count": null,
      "outputs": [
        {
          "output_type": "execute_result",
          "data": {
            "text/plain": [
              "4"
            ]
          },
          "metadata": {
            "tags": []
          },
          "execution_count": 15
        }
      ]
    },
    {
      "cell_type": "code",
      "metadata": {
        "id": "49346281",
        "outputId": "4219ab32-6c5b-485d-9693-c4883047bf0d"
      },
      "source": [
        "family = dict(name1 = \"Joseph\", name2 = \"Bella\", name3 = \"Aisha\", name4 = \"Tom\")\n",
        "family"
      ],
      "id": "49346281",
      "execution_count": null,
      "outputs": [
        {
          "output_type": "execute_result",
          "data": {
            "text/plain": [
              "{'name1': 'Joseph', 'name2': 'Bella', 'name3': 'Aisha', 'name4': 'Tom'}"
            ]
          },
          "metadata": {
            "tags": []
          },
          "execution_count": 16
        }
      ]
    },
    {
      "cell_type": "code",
      "metadata": {
        "id": "82e8fdce"
      },
      "source": [
        "n1, n2, n3 = 5, 15, 20   #  tuple'dan key olabilir"
      ],
      "id": "82e8fdce",
      "execution_count": null,
      "outputs": []
    },
    {
      "cell_type": "code",
      "metadata": {
        "id": "84d37bf6",
        "outputId": "fa799d85-4940-42bd-bb70-f0ae2321d6a9"
      },
      "source": [
        "numbers = {n1 : \"beş\", n2 : \"on\", n3 : \"yirmi\"}\n",
        "numbers"
      ],
      "id": "84d37bf6",
      "execution_count": null,
      "outputs": [
        {
          "output_type": "execute_result",
          "data": {
            "text/plain": [
              "{5: 'beş', 15: 'on', 20: 'yirmi'}"
            ]
          },
          "metadata": {
            "tags": []
          },
          "execution_count": 18
        }
      ]
    },
    {
      "cell_type": "code",
      "metadata": {
        "id": "e57bdd7b"
      },
      "source": [
        "sayılar = {\"tek\" : [],\n",
        "           \"cift\" : []}"
      ],
      "id": "e57bdd7b",
      "execution_count": null,
      "outputs": []
    },
    {
      "cell_type": "code",
      "metadata": {
        "id": "7fe53ccf",
        "outputId": "5de896d8-e15f-4610-d1a4-31e43e0fa01e"
      },
      "source": [
        "sayılar"
      ],
      "id": "7fe53ccf",
      "execution_count": null,
      "outputs": [
        {
          "output_type": "execute_result",
          "data": {
            "text/plain": [
              "{'tek': [], 'cift': []}"
            ]
          },
          "metadata": {
            "tags": []
          },
          "execution_count": 20
        }
      ]
    },
    {
      "cell_type": "code",
      "metadata": {
        "id": "e56badda",
        "outputId": "789eff6c-3f4d-4ca0-e5a6-0d507d4001b7"
      },
      "source": [
        "sayılar[\"tek\"]"
      ],
      "id": "e56badda",
      "execution_count": null,
      "outputs": [
        {
          "output_type": "execute_result",
          "data": {
            "text/plain": [
              "[]"
            ]
          },
          "metadata": {
            "tags": []
          },
          "execution_count": 21
        }
      ]
    },
    {
      "cell_type": "code",
      "metadata": {
        "id": "a1e5e428",
        "outputId": "0acc2026-9564-48b7-9632-dfcec43fc2bf"
      },
      "source": [
        "type(sayılar[\"tek\"])"
      ],
      "id": "a1e5e428",
      "execution_count": null,
      "outputs": [
        {
          "output_type": "execute_result",
          "data": {
            "text/plain": [
              "list"
            ]
          },
          "metadata": {
            "tags": []
          },
          "execution_count": 22
        }
      ]
    },
    {
      "cell_type": "code",
      "metadata": {
        "id": "f80efab9",
        "outputId": "0b15ffc5-69cb-4571-b2df-37de14d68ecf"
      },
      "source": [
        "type(sayılar[\"cift\"])"
      ],
      "id": "f80efab9",
      "execution_count": null,
      "outputs": [
        {
          "output_type": "execute_result",
          "data": {
            "text/plain": [
              "list"
            ]
          },
          "metadata": {
            "tags": []
          },
          "execution_count": 23
        }
      ]
    },
    {
      "cell_type": "code",
      "metadata": {
        "id": "23bf33b1"
      },
      "source": [
        "sayılar[\"tek\"].append(1)   # fonksiyon ve metodlar parantez ile kullanılır"
      ],
      "id": "23bf33b1",
      "execution_count": null,
      "outputs": []
    },
    {
      "cell_type": "code",
      "metadata": {
        "id": "2dadc493",
        "outputId": "4493b34e-85e3-4db4-84cf-9191829a897d"
      },
      "source": [
        "sayılar"
      ],
      "id": "2dadc493",
      "execution_count": null,
      "outputs": [
        {
          "output_type": "execute_result",
          "data": {
            "text/plain": [
              "{'tek': [1], 'cift': []}"
            ]
          },
          "metadata": {
            "tags": []
          },
          "execution_count": 25
        }
      ]
    },
    {
      "cell_type": "code",
      "metadata": {
        "id": "c94cda6b"
      },
      "source": [
        "sayılar[\"tek\"].append(3)"
      ],
      "id": "c94cda6b",
      "execution_count": null,
      "outputs": []
    },
    {
      "cell_type": "code",
      "metadata": {
        "id": "9064b204"
      },
      "source": [
        "sayılar[\"cift\"].append(2)"
      ],
      "id": "9064b204",
      "execution_count": null,
      "outputs": []
    },
    {
      "cell_type": "code",
      "metadata": {
        "id": "7ea39199"
      },
      "source": [
        "sayılar[\"cift\"].append(4)"
      ],
      "id": "7ea39199",
      "execution_count": null,
      "outputs": []
    },
    {
      "cell_type": "code",
      "metadata": {
        "id": "570df0cb",
        "outputId": "ab5760ec-1bda-49aa-875c-07176dce58cf"
      },
      "source": [
        "sayılar"
      ],
      "id": "570df0cb",
      "execution_count": null,
      "outputs": [
        {
          "output_type": "execute_result",
          "data": {
            "text/plain": [
              "{'tek': [1, 3], 'cift': [2, 4]}"
            ]
          },
          "metadata": {
            "tags": []
          },
          "execution_count": 29
        }
      ]
    },
    {
      "cell_type": "code",
      "metadata": {
        "id": "825ac83e"
      },
      "source": [
        "meyveler = {}.fromkeys([\"elma\", \"armut\"], 0)"
      ],
      "id": "825ac83e",
      "execution_count": null,
      "outputs": []
    },
    {
      "cell_type": "code",
      "metadata": {
        "id": "efd47b06",
        "outputId": "53700a38-ac2c-477d-d352-6b7d025d5d31"
      },
      "source": [
        "meyveler"
      ],
      "id": "efd47b06",
      "execution_count": null,
      "outputs": [
        {
          "output_type": "execute_result",
          "data": {
            "text/plain": [
              "{'elma': 0, 'armut': 0}"
            ]
          },
          "metadata": {
            "tags": []
          },
          "execution_count": 33
        }
      ]
    },
    {
      "cell_type": "code",
      "metadata": {
        "id": "0ace85d1"
      },
      "source": [
        "# meyveler[\"elma\"] = meyveler[\"elma\"] + 1"
      ],
      "id": "0ace85d1",
      "execution_count": null,
      "outputs": []
    },
    {
      "cell_type": "code",
      "metadata": {
        "id": "5b4d9fdc"
      },
      "source": [
        "meyveler[\"elma\"] += 1"
      ],
      "id": "5b4d9fdc",
      "execution_count": null,
      "outputs": []
    },
    {
      "cell_type": "code",
      "metadata": {
        "id": "ebabc1c6",
        "outputId": "df7272de-05bc-4c43-916b-78f96e112146"
      },
      "source": [
        "meyveler"
      ],
      "id": "ebabc1c6",
      "execution_count": null,
      "outputs": [
        {
          "output_type": "execute_result",
          "data": {
            "text/plain": [
              "{'elma': 1, 'armut': 0}"
            ]
          },
          "metadata": {
            "tags": []
          },
          "execution_count": 35
        }
      ]
    },
    {
      "cell_type": "code",
      "metadata": {
        "id": "b6d7de41"
      },
      "source": [
        "meyveler[\"armut\"] += 1   # her çalıştırdığımızda bir atrar, 3 defa çalıştırdık"
      ],
      "id": "b6d7de41",
      "execution_count": null,
      "outputs": []
    },
    {
      "cell_type": "code",
      "metadata": {
        "id": "7959b327",
        "outputId": "8753610d-ee6e-4656-885b-dec8e3fea87f"
      },
      "source": [
        "meyveler"
      ],
      "id": "7959b327",
      "execution_count": null,
      "outputs": [
        {
          "output_type": "execute_result",
          "data": {
            "text/plain": [
              "{'elma': 1, 'armut': 3}"
            ]
          },
          "metadata": {
            "tags": []
          },
          "execution_count": 39
        }
      ]
    },
    {
      "cell_type": "code",
      "metadata": {
        "id": "614b7bcb"
      },
      "source": [
        "meyveler[\"kiwi\"] = 5"
      ],
      "id": "614b7bcb",
      "execution_count": null,
      "outputs": []
    },
    {
      "cell_type": "code",
      "metadata": {
        "id": "0c1ca5ca",
        "outputId": "8e111a21-0bed-4813-b577-2c6afeb781a7"
      },
      "source": [
        "meyveler"
      ],
      "id": "0c1ca5ca",
      "execution_count": null,
      "outputs": [
        {
          "output_type": "execute_result",
          "data": {
            "text/plain": [
              "{'elma': 1, 'armut': 3, 'kiwi': 5}"
            ]
          },
          "metadata": {
            "tags": []
          },
          "execution_count": 41
        }
      ]
    },
    {
      "cell_type": "code",
      "metadata": {
        "id": "678d3387"
      },
      "source": [
        "meyveler[\"elma\"] = 9"
      ],
      "id": "678d3387",
      "execution_count": null,
      "outputs": []
    },
    {
      "cell_type": "code",
      "metadata": {
        "id": "04b7aaa9",
        "outputId": "dba7c855-12e2-44fc-e5a1-8990418b11fc"
      },
      "source": [
        "meyveler"
      ],
      "id": "04b7aaa9",
      "execution_count": null,
      "outputs": [
        {
          "output_type": "execute_result",
          "data": {
            "text/plain": [
              "{'elma': 9, 'armut': 3, 'kiwi': 5}"
            ]
          },
          "metadata": {
            "tags": []
          },
          "execution_count": 43
        }
      ]
    },
    {
      "cell_type": "code",
      "metadata": {
        "id": "08dde4ec"
      },
      "source": [
        "cisimler = {\"cisim1\" : \"mouse\", \"cisim2\" : \"havlu\"}"
      ],
      "id": "08dde4ec",
      "execution_count": null,
      "outputs": []
    },
    {
      "cell_type": "code",
      "metadata": {
        "id": "7f415227",
        "outputId": "2e15b743-b8ff-4260-d686-dfe0cb654f70"
      },
      "source": [
        "cisimler"
      ],
      "id": "7f415227",
      "execution_count": null,
      "outputs": [
        {
          "output_type": "execute_result",
          "data": {
            "text/plain": [
              "{'cisim1': 'mouse', 'cisim2': 'havlu'}"
            ]
          },
          "metadata": {
            "tags": []
          },
          "execution_count": 45
        }
      ]
    },
    {
      "cell_type": "code",
      "metadata": {
        "id": "9dd20770",
        "outputId": "c7aaa5fa-b6af-4826-ef00-1d9da71738f4"
      },
      "source": [
        "cisimler[\"cisim1\"] += \" klavye\"\n",
        "cisimler"
      ],
      "id": "9dd20770",
      "execution_count": null,
      "outputs": [
        {
          "output_type": "execute_result",
          "data": {
            "text/plain": [
              "{'cisim1': 'mouse klavye', 'cisim2': 'havlu'}"
            ]
          },
          "metadata": {
            "tags": []
          },
          "execution_count": 46
        }
      ]
    },
    {
      "cell_type": "code",
      "metadata": {
        "id": "20e0b4fe"
      },
      "source": [
        "dict_by_dict = {'animal':'dog',\n",
        "\t\t\t'planet': 'Neptun',\n",
        "\t\t\t'number': 40,\n",
        "\t\t\t'pi':3.14,\n",
        "\t\t\t'is_good': True}"
      ],
      "id": "20e0b4fe",
      "execution_count": null,
      "outputs": []
    },
    {
      "cell_type": "code",
      "metadata": {
        "id": "5161d258",
        "outputId": "fe563cd6-40e8-48a8-f39e-ec6b2a70bb66"
      },
      "source": [
        "dict_by_dict"
      ],
      "id": "5161d258",
      "execution_count": null,
      "outputs": [
        {
          "output_type": "execute_result",
          "data": {
            "text/plain": [
              "{'animal': 'dog',\n",
              " 'planet': 'Neptun',\n",
              " 'number': 40,\n",
              " 'pi': 3.14,\n",
              " 'is_good': True}"
            ]
          },
          "metadata": {
            "tags": []
          },
          "execution_count": 48
        }
      ]
    },
    {
      "cell_type": "code",
      "metadata": {
        "id": "86d72bbf",
        "outputId": "29ce0534-0bd6-4592-fd54-4880ba6145bc"
      },
      "source": [
        "type(dict_by_dict.items())"
      ],
      "id": "86d72bbf",
      "execution_count": null,
      "outputs": [
        {
          "output_type": "execute_result",
          "data": {
            "text/plain": [
              "dict_items"
            ]
          },
          "metadata": {
            "tags": []
          },
          "execution_count": 49
        }
      ]
    },
    {
      "cell_type": "code",
      "metadata": {
        "id": "c6da0ec6",
        "outputId": "2ce752c9-d32b-40fc-e4c6-c92b59ea73e8"
      },
      "source": [
        "type(dict_by_dict.keys())"
      ],
      "id": "c6da0ec6",
      "execution_count": null,
      "outputs": [
        {
          "output_type": "execute_result",
          "data": {
            "text/plain": [
              "dict_keys"
            ]
          },
          "metadata": {
            "tags": []
          },
          "execution_count": 50
        }
      ]
    },
    {
      "cell_type": "code",
      "metadata": {
        "id": "36909c01",
        "outputId": "95792a98-32d0-48f9-a53c-5ce66c55a2b7"
      },
      "source": [
        "type(dict_by_dict.values())"
      ],
      "id": "36909c01",
      "execution_count": null,
      "outputs": [
        {
          "output_type": "execute_result",
          "data": {
            "text/plain": [
              "dict_values"
            ]
          },
          "metadata": {
            "tags": []
          },
          "execution_count": 51
        }
      ]
    },
    {
      "cell_type": "code",
      "metadata": {
        "id": "b3a97696",
        "outputId": "9fbbbefb-8b94-4daa-a05d-95a5bc1c5bf1"
      },
      "source": [
        "list(dict_by_dict.items())"
      ],
      "id": "b3a97696",
      "execution_count": null,
      "outputs": [
        {
          "output_type": "execute_result",
          "data": {
            "text/plain": [
              "[('animal', 'dog'),\n",
              " ('planet', 'Neptun'),\n",
              " ('number', 40),\n",
              " ('pi', 3.14),\n",
              " ('is_good', True)]"
            ]
          },
          "metadata": {
            "tags": []
          },
          "execution_count": 52
        }
      ]
    },
    {
      "cell_type": "code",
      "metadata": {
        "id": "9a919908",
        "outputId": "cc378e11-d7ad-4b67-c6ee-36ce4138d5a0"
      },
      "source": [
        "list(dict_by_dict.values())"
      ],
      "id": "9a919908",
      "execution_count": null,
      "outputs": [
        {
          "output_type": "execute_result",
          "data": {
            "text/plain": [
              "['dog', 'Neptun', 40, 3.14, True]"
            ]
          },
          "metadata": {
            "tags": []
          },
          "execution_count": 53
        }
      ]
    },
    {
      "cell_type": "code",
      "metadata": {
        "id": "153bbd85",
        "outputId": "41eda4cf-e594-437b-d23f-0e70300fce7b"
      },
      "source": [
        "family"
      ],
      "id": "153bbd85",
      "execution_count": null,
      "outputs": [
        {
          "output_type": "execute_result",
          "data": {
            "text/plain": [
              "{'name1': 'Joseph', 'name2': 'Bella', 'name3': 'Aisha', 'name4': 'Tom'}"
            ]
          },
          "metadata": {
            "tags": []
          },
          "execution_count": 54
        }
      ]
    },
    {
      "cell_type": "code",
      "metadata": {
        "id": "014e00d3",
        "outputId": "acdee7c6-4f02-4033-c3ff-4c760fc4a1a3"
      },
      "source": [
        "list(family.items())"
      ],
      "id": "014e00d3",
      "execution_count": null,
      "outputs": [
        {
          "output_type": "execute_result",
          "data": {
            "text/plain": [
              "[('name1', 'Joseph'), ('name2', 'Bella'), ('name3', 'Aisha'), ('name4', 'Tom')]"
            ]
          },
          "metadata": {
            "tags": []
          },
          "execution_count": 55
        }
      ]
    },
    {
      "cell_type": "code",
      "metadata": {
        "id": "c55381f2",
        "outputId": "fa839c32-d42e-4f13-ef64-8dcccfd9d291"
      },
      "source": [
        "list(family.keys())"
      ],
      "id": "c55381f2",
      "execution_count": null,
      "outputs": [
        {
          "output_type": "execute_result",
          "data": {
            "text/plain": [
              "['name1', 'name2', 'name3', 'name4']"
            ]
          },
          "metadata": {
            "tags": []
          },
          "execution_count": 56
        }
      ]
    },
    {
      "cell_type": "code",
      "metadata": {
        "id": "53133cfa",
        "outputId": "615ba6f4-da83-42af-8a81-d528fd273bbe"
      },
      "source": [
        "list(family.values())"
      ],
      "id": "53133cfa",
      "execution_count": null,
      "outputs": [
        {
          "output_type": "execute_result",
          "data": {
            "text/plain": [
              "['Joseph', 'Bella', 'Aisha', 'Tom']"
            ]
          },
          "metadata": {
            "tags": []
          },
          "execution_count": 57
        }
      ]
    },
    {
      "cell_type": "code",
      "metadata": {
        "id": "0d38c51a"
      },
      "source": [
        "dict_by_dict = {'animal':'dog',\n",
        "\t\t\t'planet': 'Neptun',\n",
        "\t\t\t'number': 40,\n",
        "\t\t\t'pi':3.14,\n",
        "\t\t\t'is_good': True}"
      ],
      "id": "0d38c51a",
      "execution_count": null,
      "outputs": []
    },
    {
      "cell_type": "code",
      "metadata": {
        "id": "3fef6445"
      },
      "source": [
        "dict_by_dict.update({\"is_bad\" : False, 3 : \"üç\"})"
      ],
      "id": "3fef6445",
      "execution_count": null,
      "outputs": []
    },
    {
      "cell_type": "code",
      "metadata": {
        "id": "d32aa0a9",
        "outputId": "2649dc2a-c178-4abb-831a-113971c0f343"
      },
      "source": [
        "dict_by_dict"
      ],
      "id": "d32aa0a9",
      "execution_count": null,
      "outputs": [
        {
          "output_type": "execute_result",
          "data": {
            "text/plain": [
              "{'animal': 'dog',\n",
              " 'planet': 'Neptun',\n",
              " 'number': 40,\n",
              " 'pi': 3.14,\n",
              " 'is_good': True,\n",
              " 'is_bad': False,\n",
              " 3: 'üç'}"
            ]
          },
          "metadata": {
            "tags": []
          },
          "execution_count": 60
        }
      ]
    },
    {
      "cell_type": "code",
      "metadata": {
        "id": "e51bc9d4",
        "outputId": "f9317b90-abf0-4fd3-a7a2-8ab2abbdc496"
      },
      "source": [
        "family"
      ],
      "id": "e51bc9d4",
      "execution_count": null,
      "outputs": [
        {
          "output_type": "execute_result",
          "data": {
            "text/plain": [
              "{'name1': 'Joseph', 'name2': 'Bella', 'name3': 'Aisha', 'name4': 'Tom'}"
            ]
          },
          "metadata": {
            "tags": []
          },
          "execution_count": 61
        }
      ]
    },
    {
      "cell_type": "code",
      "metadata": {
        "id": "ce3cb658"
      },
      "source": [
        "del family[\"name2\"]\n",
        "del family[\"name3\"]"
      ],
      "id": "ce3cb658",
      "execution_count": null,
      "outputs": []
    },
    {
      "cell_type": "code",
      "metadata": {
        "id": "0d960ea5",
        "outputId": "6c8c6f1e-b8fa-4d53-f5a4-59cf787c864c"
      },
      "source": [
        "family"
      ],
      "id": "0d960ea5",
      "execution_count": null,
      "outputs": [
        {
          "output_type": "execute_result",
          "data": {
            "text/plain": [
              "{'name1': 'Joseph', 'name4': 'Tom'}"
            ]
          },
          "metadata": {
            "tags": []
          },
          "execution_count": 63
        }
      ]
    },
    {
      "cell_type": "code",
      "metadata": {
        "id": "6f78043a"
      },
      "source": [
        "del family[\"name1\"], family[\"name4\"]"
      ],
      "id": "6f78043a",
      "execution_count": null,
      "outputs": []
    },
    {
      "cell_type": "code",
      "metadata": {
        "id": "67bfaab8",
        "outputId": "3fd8b9a0-a1df-4b2c-e907-68764914354d"
      },
      "source": [
        "family"
      ],
      "id": "67bfaab8",
      "execution_count": null,
      "outputs": [
        {
          "output_type": "execute_result",
          "data": {
            "text/plain": [
              "{}"
            ]
          },
          "metadata": {
            "tags": []
          },
          "execution_count": 65
        }
      ]
    },
    {
      "cell_type": "code",
      "metadata": {
        "id": "3350273f",
        "outputId": "f795716a-14d0-4d23-ecde-8b6216a883d9"
      },
      "source": [
        "clarusway = [\"ali\", \"veli\", \"deli\"]\n",
        "\n",
        "\"zeka küpü\" in clarusway  # in operatörü her zaman True/False verir"
      ],
      "id": "3350273f",
      "execution_count": null,
      "outputs": [
        {
          "output_type": "execute_result",
          "data": {
            "text/plain": [
              "False"
            ]
          },
          "metadata": {
            "tags": []
          },
          "execution_count": 66
        }
      ]
    },
    {
      "cell_type": "code",
      "metadata": {
        "id": "170469a8",
        "outputId": "0170cbe2-2f5f-41f0-fab4-27c0894a20bc"
      },
      "source": [
        "\"deli\" in clarusway   # in operatörü sadece key'lere bakar, value'lere bakmaz"
      ],
      "id": "170469a8",
      "execution_count": null,
      "outputs": [
        {
          "output_type": "execute_result",
          "data": {
            "text/plain": [
              "True"
            ]
          },
          "metadata": {
            "tags": []
          },
          "execution_count": 67
        }
      ]
    },
    {
      "cell_type": "code",
      "metadata": {
        "id": "0a4f8e49",
        "outputId": "2d2f265f-85a0-4086-8591-45131771c0b0"
      },
      "source": [
        "dict_by_dict"
      ],
      "id": "0a4f8e49",
      "execution_count": null,
      "outputs": [
        {
          "output_type": "execute_result",
          "data": {
            "text/plain": [
              "{'animal': 'dog',\n",
              " 'planet': 'Neptun',\n",
              " 'number': 40,\n",
              " 'pi': 3.14,\n",
              " 'is_good': True,\n",
              " 'is_bad': False,\n",
              " 3: 'üç'}"
            ]
          },
          "metadata": {
            "tags": []
          },
          "execution_count": 68
        }
      ]
    },
    {
      "cell_type": "code",
      "metadata": {
        "id": "aae18066",
        "outputId": "5c313bc5-df40-40ba-a0ed-d586e13aec5c"
      },
      "source": [
        "\"dog\" in dict_by_dict    # in operatörü iterable'lar arasında var mı yok mu diye bakar"
      ],
      "id": "aae18066",
      "execution_count": null,
      "outputs": [
        {
          "output_type": "execute_result",
          "data": {
            "text/plain": [
              "False"
            ]
          },
          "metadata": {
            "tags": []
          },
          "execution_count": 69
        }
      ]
    },
    {
      "cell_type": "code",
      "metadata": {
        "id": "17927876",
        "outputId": "ffa0f1e4-ba34-4f4b-a518-ce80faa4e4f1"
      },
      "source": [
        "\"dog\" in dict_by_dict.values()"
      ],
      "id": "17927876",
      "execution_count": null,
      "outputs": [
        {
          "output_type": "execute_result",
          "data": {
            "text/plain": [
              "True"
            ]
          },
          "metadata": {
            "tags": []
          },
          "execution_count": 70
        }
      ]
    },
    {
      "cell_type": "code",
      "metadata": {
        "id": "bdf035e7",
        "outputId": "23eb8c6a-1f1b-4664-e1ae-5602bde2f211"
      },
      "source": [
        "\"pi\" in dict_by_dict"
      ],
      "id": "bdf035e7",
      "execution_count": null,
      "outputs": [
        {
          "output_type": "execute_result",
          "data": {
            "text/plain": [
              "True"
            ]
          },
          "metadata": {
            "tags": []
          },
          "execution_count": 71
        }
      ]
    },
    {
      "cell_type": "code",
      "metadata": {
        "id": "aba4882e",
        "outputId": "a1336f09-daf6-4e01-8667-dd21c30ec88a"
      },
      "source": [
        "\"dog\" not in dict_by_dict"
      ],
      "id": "aba4882e",
      "execution_count": null,
      "outputs": [
        {
          "output_type": "execute_result",
          "data": {
            "text/plain": [
              "True"
            ]
          },
          "metadata": {
            "tags": []
          },
          "execution_count": 72
        }
      ]
    },
    {
      "cell_type": "code",
      "metadata": {
        "id": "4509e621"
      },
      "source": [
        "school_records={\n",
        "\t'personal_info':\n",
        "\t\t{'kid':{'tom':{'class':'intermediate', 'age':10},\n",
        "\t\t\t'sue':{'class':'elemantary', 'age':8}\n",
        "\t\t\t},\n",
        "\t\t'teen':{'joseph':{'class':'college', 'age':19},\n",
        "\t\t\t'marry':{'class':'high school', 'age':16}\n",
        "\t\t\t},\n",
        "\t\t},\n",
        "\t'grades_info':\n",
        "\t\t{'kid':{'tom':{'math':88, 'speech':69},\n",
        "\t\t\t'sue':{'math':90, 'speech':81}\n",
        "\t\t\t},\n",
        "\t\t'teen':{'joseph':{'coding':80, 'math':89},\n",
        "\t\t\t'marry':{'coding':70, 'math':96}\n",
        "\t\t\t},\n",
        "\t\t}\n",
        "}\n"
      ],
      "id": "4509e621",
      "execution_count": null,
      "outputs": []
    },
    {
      "cell_type": "code",
      "metadata": {
        "id": "e7206edb",
        "outputId": "4dc4eb3c-96a7-4f3c-c3a5-79de25a37aae"
      },
      "source": [
        "len(school_records)"
      ],
      "id": "e7206edb",
      "execution_count": null,
      "outputs": [
        {
          "output_type": "execute_result",
          "data": {
            "text/plain": [
              "{'personal_info': {'kid': {'tom': {'class': 'intermediate', 'age': 10},\n",
              "   'sue': {'class': 'elemantary', 'age': 8}},\n",
              "  'teen': {'joseph': {'class': 'college', 'age': 19},\n",
              "   'marry': {'class': 'high school', 'age': 16}}},\n",
              " 'grades_info': {'kid': {'tom': {'math': 88, 'speech': 69},\n",
              "   'sue': {'math': 90, 'speech': 81}},\n",
              "  'teen': {'joseph': {'coding': 80, 'math': 89},\n",
              "   'marry': {'coding': 70, 'math': 96}}}}"
            ]
          },
          "metadata": {
            "tags": []
          },
          "execution_count": 74
        }
      ]
    },
    {
      "cell_type": "code",
      "metadata": {
        "id": "758bdf5a",
        "outputId": "4604a3a1-8706-4745-d117-b96ebe7d57d9"
      },
      "source": [
        "school_records[\"personal_info\"]"
      ],
      "id": "758bdf5a",
      "execution_count": null,
      "outputs": [
        {
          "output_type": "execute_result",
          "data": {
            "text/plain": [
              "{'kid': {'tom': {'class': 'intermediate', 'age': 10},\n",
              "  'sue': {'class': 'elemantary', 'age': 8}},\n",
              " 'teen': {'joseph': {'class': 'college', 'age': 19},\n",
              "  'marry': {'class': 'high school', 'age': 16}}}"
            ]
          },
          "metadata": {
            "tags": []
          },
          "execution_count": 75
        }
      ]
    },
    {
      "cell_type": "code",
      "metadata": {
        "id": "e5eeb75b",
        "outputId": "b7c763c2-37cd-4e7b-9e7a-58f24f217bf0"
      },
      "source": [
        "school_records[\"personal_info\"].keys()"
      ],
      "id": "e5eeb75b",
      "execution_count": null,
      "outputs": [
        {
          "output_type": "execute_result",
          "data": {
            "text/plain": [
              "dict_keys(['kid', 'teen'])"
            ]
          },
          "metadata": {
            "tags": []
          },
          "execution_count": 76
        }
      ]
    },
    {
      "cell_type": "code",
      "metadata": {
        "id": "a6f780ef",
        "outputId": "a0d941af-dd69-48a8-9c8d-63ffd4fad111"
      },
      "source": [
        "school_records[\"personal_info\"][\"teen\"]"
      ],
      "id": "a6f780ef",
      "execution_count": null,
      "outputs": [
        {
          "output_type": "execute_result",
          "data": {
            "text/plain": [
              "{'joseph': {'class': 'college', 'age': 19},\n",
              " 'marry': {'class': 'high school', 'age': 16}}"
            ]
          },
          "metadata": {
            "tags": []
          },
          "execution_count": 77
        }
      ]
    },
    {
      "cell_type": "code",
      "metadata": {
        "id": "b4b197dc",
        "outputId": "cb1cc0f0-a3b2-4b2f-a14b-d3051832924e"
      },
      "source": [
        "school_records[\"personal_info\"][\"teen\"].keys()"
      ],
      "id": "b4b197dc",
      "execution_count": null,
      "outputs": [
        {
          "output_type": "execute_result",
          "data": {
            "text/plain": [
              "dict_keys(['joseph', 'marry'])"
            ]
          },
          "metadata": {
            "tags": []
          },
          "execution_count": 78
        }
      ]
    },
    {
      "cell_type": "code",
      "metadata": {
        "id": "b1553ec0",
        "outputId": "491a793b-12d3-41da-b122-3c2998daf436"
      },
      "source": [
        "school_records[\"personal_info\"][\"teen\"][\"marry\"]"
      ],
      "id": "b1553ec0",
      "execution_count": null,
      "outputs": [
        {
          "output_type": "execute_result",
          "data": {
            "text/plain": [
              "{'class': 'high school', 'age': 16}"
            ]
          },
          "metadata": {
            "tags": []
          },
          "execution_count": 79
        }
      ]
    },
    {
      "cell_type": "code",
      "metadata": {
        "id": "1d112ac2",
        "outputId": "c26f3917-a548-4489-974d-a5e7e264feea"
      },
      "source": [
        "school_records[\"personal_info\"][\"teen\"][\"marry\"].keys()"
      ],
      "id": "1d112ac2",
      "execution_count": null,
      "outputs": [
        {
          "output_type": "execute_result",
          "data": {
            "text/plain": [
              "dict_keys(['class', 'age'])"
            ]
          },
          "metadata": {
            "tags": []
          },
          "execution_count": 80
        }
      ]
    },
    {
      "cell_type": "code",
      "metadata": {
        "id": "c7715476",
        "outputId": "1d7e80ec-1ee0-4647-99b3-4d14abe4356d"
      },
      "source": [
        "school_records[\"personal_info\"][\"teen\"][\"marry\"][\"age\"]"
      ],
      "id": "c7715476",
      "execution_count": null,
      "outputs": [
        {
          "output_type": "execute_result",
          "data": {
            "text/plain": [
              "16"
            ]
          },
          "metadata": {
            "tags": []
          },
          "execution_count": 81
        }
      ]
    },
    {
      "cell_type": "code",
      "metadata": {
        "id": "07c3272b"
      },
      "source": [
        "para = 1000"
      ],
      "id": "07c3272b",
      "execution_count": null,
      "outputs": []
    },
    {
      "cell_type": "code",
      "metadata": {
        "id": "ab07a849"
      },
      "source": [
        "para = para + para * 0.07 # pazartesi"
      ],
      "id": "ab07a849",
      "execution_count": null,
      "outputs": []
    },
    {
      "cell_type": "code",
      "metadata": {
        "id": "d20d19fc",
        "outputId": "5f722eaa-1b99-4d4a-e2be-1972d638182b"
      },
      "source": [
        "para"
      ],
      "id": "d20d19fc",
      "execution_count": null,
      "outputs": [
        {
          "output_type": "execute_result",
          "data": {
            "text/plain": [
              "1070.0"
            ]
          },
          "metadata": {
            "tags": []
          },
          "execution_count": 84
        }
      ]
    },
    {
      "cell_type": "code",
      "metadata": {
        "id": "aedef181"
      },
      "source": [
        "para = para + para * 0.07 # salı"
      ],
      "id": "aedef181",
      "execution_count": null,
      "outputs": []
    },
    {
      "cell_type": "code",
      "metadata": {
        "id": "c3c0e28c",
        "outputId": "7964011b-cc03-4669-bf8d-3e7099e56f98"
      },
      "source": [
        "para"
      ],
      "id": "c3c0e28c",
      "execution_count": null,
      "outputs": [
        {
          "output_type": "execute_result",
          "data": {
            "text/plain": [
              "1144.9"
            ]
          },
          "metadata": {
            "tags": []
          },
          "execution_count": 86
        }
      ]
    },
    {
      "cell_type": "code",
      "metadata": {
        "id": "4f311fd0",
        "outputId": "07ad100e-084b-4c00-b62b-ce362402c8c0"
      },
      "source": [
        "para = para + para * 0.07 # çarşamba\n",
        "para = para + para * 0.07 # perşembe\n",
        "para = para + para * 0.07 # cuma\n",
        "para = para + para * 0.07 # cumartesi\n",
        "para = para + para * 0.07 # pazar\n",
        "para"
      ],
      "id": "4f311fd0",
      "execution_count": null,
      "outputs": [
        {
          "output_type": "execute_result",
          "data": {
            "text/plain": [
              "1605.78147647843"
            ]
          },
          "metadata": {
            "tags": []
          },
          "execution_count": 87
        }
      ]
    },
    {
      "cell_type": "code",
      "metadata": {
        "id": "667563a4"
      },
      "source": [
        "para = 1000"
      ],
      "id": "667563a4",
      "execution_count": null,
      "outputs": []
    },
    {
      "cell_type": "code",
      "metadata": {
        "id": "153d8f0d",
        "outputId": "de0c7134-af84-43f4-c195-8bec7439e9ab"
      },
      "source": [
        "para = para * 1.07**7\n",
        "para"
      ],
      "id": "153d8f0d",
      "execution_count": null,
      "outputs": [
        {
          "output_type": "execute_result",
          "data": {
            "text/plain": [
              "1605.7814764784307"
            ]
          },
          "metadata": {
            "tags": []
          },
          "execution_count": 90
        }
      ]
    },
    {
      "cell_type": "code",
      "metadata": {
        "id": "0279782d"
      },
      "source": [
        "samanlık = [\"yumurta\", \"saman\", \"inek\", \"iğne\", \"tavuk\", \"yaba\", \"eşarp\", \"iğne\"]"
      ],
      "id": "0279782d",
      "execution_count": null,
      "outputs": []
    },
    {
      "cell_type": "code",
      "metadata": {
        "id": "a01ea272",
        "outputId": "8eaccbd1-20a6-4ec2-da45-f2cb920c7b08"
      },
      "source": [
        "print(f\"iğne {samanlık.index('iğne')} numaralı indextedir.\")"
      ],
      "id": "a01ea272",
      "execution_count": null,
      "outputs": [
        {
          "output_type": "stream",
          "text": [
            "iğne 3 numaralı indextedir.\n"
          ],
          "name": "stdout"
        }
      ]
    }
  ]
}