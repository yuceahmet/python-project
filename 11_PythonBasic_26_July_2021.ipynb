{
  "nbformat": 4,
  "nbformat_minor": 5,
  "metadata": {
    "kernelspec": {
      "display_name": "Python 3",
      "language": "python",
      "name": "python3"
    },
    "language_info": {
      "codemirror_mode": {
        "name": "ipython",
        "version": 3
      },
      "file_extension": ".py",
      "mimetype": "text/x-python",
      "name": "python",
      "nbconvert_exporter": "python",
      "pygments_lexer": "ipython3",
      "version": "3.8.8"
    },
    "colab": {
      "name": "11_PythonBasic_26-July-2021.ipynb",
      "provenance": []
    }
  },
  "cells": [
    {
      "cell_type": "markdown",
      "metadata": {
        "id": "22263af8"
      },
      "source": [
        "<h1><p style=\"text-align: center; color:darkblue\">Python In-Class, <br>26 July 2021</p><h1>"
      ],
      "id": "22263af8"
    },
    {
      "cell_type": "code",
      "metadata": {
        "id": "2004892f",
        "outputId": "b3bc5806-b0fd-4af8-8b41-d03f8994debe"
      },
      "source": [
        "while 0 :\n",
        "    print(\"Bir\")\n",
        "print(\"iki\")"
      ],
      "id": "2004892f",
      "execution_count": null,
      "outputs": [
        {
          "output_type": "stream",
          "text": [
            "iki\n"
          ],
          "name": "stdout"
        }
      ]
    },
    {
      "cell_type": "code",
      "metadata": {
        "id": "ef8735ec",
        "outputId": "b8d7ca22-c52d-4b5c-8ec5-00ba2e8919aa"
      },
      "source": [
        "while [] :\n",
        "    print(\"while\")\n",
        "print(\"outside of while\")"
      ],
      "id": "ef8735ec",
      "execution_count": null,
      "outputs": [
        {
          "output_type": "stream",
          "text": [
            "outside of while\n"
          ],
          "name": "stdout"
        }
      ]
    },
    {
      "cell_type": "code",
      "metadata": {
        "id": "0a911edf",
        "outputId": "c9acd780-0daa-4025-c7f5-63bea7cd049c"
      },
      "source": [
        "while None :\n",
        "    print(\"while\")\n",
        "print(\"outside of while\")"
      ],
      "id": "0a911edf",
      "execution_count": null,
      "outputs": [
        {
          "output_type": "stream",
          "text": [
            "outside of while\n"
          ],
          "name": "stdout"
        }
      ]
    },
    {
      "cell_type": "code",
      "metadata": {
        "id": "bb3474fb",
        "outputId": "edf5471e-90f2-46f7-a64f-42b0fcbbd5ca"
      },
      "source": [
        "\"-16\".isdigit()"
      ],
      "id": "bb3474fb",
      "execution_count": null,
      "outputs": [
        {
          "output_type": "execute_result",
          "data": {
            "text/plain": [
              "False"
            ]
          },
          "metadata": {
            "tags": []
          },
          "execution_count": 4
        }
      ]
    },
    {
      "cell_type": "code",
      "metadata": {
        "id": "09b1640b",
        "outputId": "797191a6-77a7-441f-9569-97db03cc4045"
      },
      "source": [
        "\"12345679\".isdigit()"
      ],
      "id": "09b1640b",
      "execution_count": null,
      "outputs": [
        {
          "output_type": "execute_result",
          "data": {
            "text/plain": [
              "True"
            ]
          },
          "metadata": {
            "tags": []
          },
          "execution_count": 5
        }
      ]
    },
    {
      "cell_type": "code",
      "metadata": {
        "id": "cc6e4596",
        "outputId": "00169ea4-a90d-4bb6-dc48-0163936a720e"
      },
      "source": [
        "age = input(\"Enter your age in correct format : \")\n",
        "\n",
        "while not age.isdigit() :\n",
        "    print(\"You entered incorrect.! Write out correct format.\")\n",
        "    age = input(\"Enter your age in correct format : \")\n",
        "print(\"Your age is : \", age)"
      ],
      "id": "cc6e4596",
      "execution_count": null,
      "outputs": [
        {
          "output_type": "stream",
          "text": [
            "Enter your age in correct format : 22\n",
            "Your age is :  22\n"
          ],
          "name": "stdout"
        }
      ]
    },
    {
      "cell_type": "code",
      "metadata": {
        "id": "b22a2cfc",
        "outputId": "d1c34bb1-d5ba-49ff-a188-2d36a33b61d9"
      },
      "source": [
        "sentence = input(\"please give me a sentence without any punctuation :\")\n",
        "\n",
        "words = sentence.split()\n",
        "i = 0\n",
        "longest = 0\n",
        "\n",
        "while i < len(words) :\n",
        "    if len(words[i]) > longest :\n",
        "        longest = len(words[i])\n",
        "    i += 1\n",
        "    \n",
        "print(\"the length of the longest word is :\", longest)"
      ],
      "id": "b22a2cfc",
      "execution_count": null,
      "outputs": [
        {
          "output_type": "stream",
          "text": [
            "give me a sentence without any punctuation :clarusway is the best\n",
            "the length of the longest word is : 9\n"
          ],
          "name": "stdout"
        }
      ]
    },
    {
      "cell_type": "code",
      "metadata": {
        "id": "821f5951"
      },
      "source": [
        "words = \"clarusway is the best\".split()"
      ],
      "id": "821f5951",
      "execution_count": null,
      "outputs": []
    },
    {
      "cell_type": "code",
      "metadata": {
        "id": "3628f32d",
        "outputId": "1cbcf405-7db1-47c3-ce50-43c75058aa93"
      },
      "source": [
        "words"
      ],
      "id": "3628f32d",
      "execution_count": null,
      "outputs": [
        {
          "output_type": "execute_result",
          "data": {
            "text/plain": [
              "['clarusway', 'is', 'the', 'best']"
            ]
          },
          "metadata": {
            "tags": []
          },
          "execution_count": 19
        }
      ]
    },
    {
      "cell_type": "code",
      "metadata": {
        "id": "39afca2f",
        "outputId": "748996d1-2bb4-49c4-ecc9-3318a15bde34"
      },
      "source": [
        "len(words[0])"
      ],
      "id": "39afca2f",
      "execution_count": null,
      "outputs": [
        {
          "output_type": "execute_result",
          "data": {
            "text/plain": [
              "9"
            ]
          },
          "metadata": {
            "tags": []
          },
          "execution_count": 20
        }
      ]
    },
    {
      "cell_type": "code",
      "metadata": {
        "id": "72cf127e",
        "outputId": "5ff123cf-ed55-4329-aae3-0ff361ec6308"
      },
      "source": [
        "len(words[1])"
      ],
      "id": "72cf127e",
      "execution_count": null,
      "outputs": [
        {
          "output_type": "execute_result",
          "data": {
            "text/plain": [
              "2"
            ]
          },
          "metadata": {
            "tags": []
          },
          "execution_count": 21
        }
      ]
    },
    {
      "cell_type": "code",
      "metadata": {
        "id": "6c5b5567",
        "outputId": "06345ffe-6137-4423-c26e-4dc01cf66a73"
      },
      "source": [
        "len(words[2])"
      ],
      "id": "6c5b5567",
      "execution_count": null,
      "outputs": [
        {
          "output_type": "execute_result",
          "data": {
            "text/plain": [
              "3"
            ]
          },
          "metadata": {
            "tags": []
          },
          "execution_count": 22
        }
      ]
    },
    {
      "cell_type": "code",
      "metadata": {
        "id": "196d8bbc",
        "outputId": "f76c76fa-d6de-4814-a769-cb320c797106"
      },
      "source": [
        "len(words[3])"
      ],
      "id": "196d8bbc",
      "execution_count": null,
      "outputs": [
        {
          "output_type": "execute_result",
          "data": {
            "text/plain": [
              "4"
            ]
          },
          "metadata": {
            "tags": []
          },
          "execution_count": 23
        }
      ]
    },
    {
      "cell_type": "code",
      "metadata": {
        "id": "65574566"
      },
      "source": [
        "names = [\"Ahmed\", \"Aisha\", \"Adam\", \"Joseph\", \"Gabriel\"]"
      ],
      "id": "65574566",
      "execution_count": null,
      "outputs": []
    },
    {
      "cell_type": "code",
      "metadata": {
        "id": "1aa40b60",
        "outputId": "33a49b5f-6434-4308-b39a-e7e908d8d69e"
      },
      "source": [
        "for i in names :\n",
        "    print(\"hello\", i)"
      ],
      "id": "1aa40b60",
      "execution_count": null,
      "outputs": [
        {
          "output_type": "stream",
          "text": [
            "hello Ahmed\n",
            "hello Aisha\n",
            "hello Adam\n",
            "hello Joseph\n",
            "hello Gabriel\n"
          ],
          "name": "stdout"
        }
      ]
    },
    {
      "cell_type": "code",
      "metadata": {
        "id": "b2d570a5",
        "outputId": "65475eee-8280-4ad0-ab56-9446890e7252"
      },
      "source": [
        "range(1,6)"
      ],
      "id": "b2d570a5",
      "execution_count": null,
      "outputs": [
        {
          "output_type": "execute_result",
          "data": {
            "text/plain": [
              "range(1, 6)"
            ]
          },
          "metadata": {
            "tags": []
          },
          "execution_count": 28
        }
      ]
    },
    {
      "cell_type": "code",
      "metadata": {
        "id": "20672244",
        "outputId": "303938c8-b061-4854-d33b-6e4085335856"
      },
      "source": [
        "list(range(1,6))"
      ],
      "id": "20672244",
      "execution_count": null,
      "outputs": [
        {
          "output_type": "execute_result",
          "data": {
            "text/plain": [
              "[1, 2, 3, 4, 5]"
            ]
          },
          "metadata": {
            "tags": []
          },
          "execution_count": 29
        }
      ]
    },
    {
      "cell_type": "code",
      "metadata": {
        "id": "b78f2b86",
        "outputId": "86f5c034-8ba4-4a68-ba86-412c64ff616c"
      },
      "source": [
        "tuple(range(1,6))"
      ],
      "id": "b78f2b86",
      "execution_count": null,
      "outputs": [
        {
          "output_type": "execute_result",
          "data": {
            "text/plain": [
              "(1, 2, 3, 4, 5)"
            ]
          },
          "metadata": {
            "tags": []
          },
          "execution_count": 30
        }
      ]
    },
    {
      "cell_type": "code",
      "metadata": {
        "id": "b5f3b2fe",
        "outputId": "605f6039-70be-4b1a-cb08-d9260d4f3525"
      },
      "source": [
        "print(* range(1,6))"
      ],
      "id": "b5f3b2fe",
      "execution_count": null,
      "outputs": [
        {
          "output_type": "stream",
          "text": [
            "1 2 3 4 5\n"
          ],
          "name": "stdout"
        }
      ]
    },
    {
      "cell_type": "code",
      "metadata": {
        "id": "4cd0bcb3",
        "outputId": "1ecd9268-58b2-4886-9635-6aef0a98e922"
      },
      "source": [
        "for i in range(1,6) :\n",
        "    print(i, end=\" \")"
      ],
      "id": "4cd0bcb3",
      "execution_count": null,
      "outputs": [
        {
          "output_type": "stream",
          "text": [
            "1 2 3 4 5 "
          ],
          "name": "stdout"
        }
      ]
    },
    {
      "cell_type": "code",
      "metadata": {
        "id": "b6c47547",
        "outputId": "f70a55a8-7dfb-44fc-d89c-a095ae002bce"
      },
      "source": [
        "list(range(-4,4))"
      ],
      "id": "b6c47547",
      "execution_count": null,
      "outputs": [
        {
          "output_type": "execute_result",
          "data": {
            "text/plain": [
              "[-4, -3, -2, -1, 0, 1, 2, 3]"
            ]
          },
          "metadata": {
            "tags": []
          },
          "execution_count": 34
        }
      ]
    },
    {
      "cell_type": "code",
      "metadata": {
        "id": "b6955eb3",
        "outputId": "d4433f36-717f-4610-fbf4-3c55ab358d23"
      },
      "source": [
        "list(range(-4,4,-1))"
      ],
      "id": "b6955eb3",
      "execution_count": null,
      "outputs": [
        {
          "output_type": "execute_result",
          "data": {
            "text/plain": [
              "[]"
            ]
          },
          "metadata": {
            "tags": []
          },
          "execution_count": 35
        }
      ]
    },
    {
      "cell_type": "code",
      "metadata": {
        "id": "61b343eb",
        "outputId": "d7919b60-2331-4c6c-a4dc-d2d1f737cd2f"
      },
      "source": [
        "list(range(4,-4,-1))"
      ],
      "id": "61b343eb",
      "execution_count": null,
      "outputs": [
        {
          "output_type": "execute_result",
          "data": {
            "text/plain": [
              "[4, 3, 2, 1, 0, -1, -2, -3]"
            ]
          },
          "metadata": {
            "tags": []
          },
          "execution_count": 36
        }
      ]
    },
    {
      "cell_type": "code",
      "metadata": {
        "id": "ac56faff",
        "outputId": "8ba9e639-3dc7-413f-db99-70d38ae836f0"
      },
      "source": [
        "word = \"clarusway\"\n",
        "\n",
        "for i in word :\n",
        "    print(i, end = \"-\")"
      ],
      "id": "ac56faff",
      "execution_count": null,
      "outputs": [
        {
          "output_type": "stream",
          "text": [
            "c-l-a-r-u-s-w-a-y-"
          ],
          "name": "stdout"
        }
      ]
    },
    {
      "cell_type": "code",
      "metadata": {
        "id": "9488b780",
        "outputId": "25ce54b7-bd14-4c71-f7f3-259eace8b1df"
      },
      "source": [
        "count = 0\n",
        "\n",
        "for i in word :\n",
        "    count += 1\n",
        "    if count < len(word) :\n",
        "        i = i + \"-\"\n",
        "    print(i, end = \"\")"
      ],
      "id": "9488b780",
      "execution_count": null,
      "outputs": [
        {
          "output_type": "stream",
          "text": [
            "c-l-a-r-u-s-w-a-y"
          ],
          "name": "stdout"
        }
      ]
    },
    {
      "cell_type": "code",
      "metadata": {
        "id": "fec818fe",
        "outputId": "8fc7b3de-949f-4239-b772-e46e2d7c74e2"
      },
      "source": [
        "key, val = 3, 5\n",
        "key"
      ],
      "id": "fec818fe",
      "execution_count": null,
      "outputs": [
        {
          "output_type": "execute_result",
          "data": {
            "text/plain": [
              "3"
            ]
          },
          "metadata": {
            "tags": []
          },
          "execution_count": 42
        }
      ]
    },
    {
      "cell_type": "code",
      "metadata": {
        "id": "a16ec490",
        "outputId": "d9805c51-384d-4f44-a149-3d2f3a082681"
      },
      "source": [
        "val"
      ],
      "id": "a16ec490",
      "execution_count": null,
      "outputs": [
        {
          "output_type": "execute_result",
          "data": {
            "text/plain": [
              "5"
            ]
          },
          "metadata": {
            "tags": []
          },
          "execution_count": 43
        }
      ]
    },
    {
      "cell_type": "code",
      "metadata": {
        "id": "df7e6ab6",
        "outputId": "e4fc142f-8a0b-431c-9334-c4ec566c9e93"
      },
      "source": [
        "print(\"3\"*3)"
      ],
      "id": "df7e6ab6",
      "execution_count": null,
      "outputs": [
        {
          "output_type": "stream",
          "text": [
            "333\n"
          ],
          "name": "stdout"
        }
      ]
    },
    {
      "cell_type": "code",
      "metadata": {
        "id": "3cdb7904",
        "outputId": "352dabe8-799c-4fd9-d959-063d39b6e585"
      },
      "source": [
        "print(\"8\"*8)"
      ],
      "id": "3cdb7904",
      "execution_count": null,
      "outputs": [
        {
          "output_type": "stream",
          "text": [
            "88888888\n"
          ],
          "name": "stdout"
        }
      ]
    },
    {
      "cell_type": "code",
      "metadata": {
        "id": "9d5c59eb",
        "outputId": "6dedc8c1-0833-4127-dde1-8ccf07180eea"
      },
      "source": [
        "for i in range(1,10) :\n",
        "    print(str(i) * i)"
      ],
      "id": "9d5c59eb",
      "execution_count": null,
      "outputs": [
        {
          "output_type": "stream",
          "text": [
            "1\n",
            "22\n",
            "333\n",
            "4444\n",
            "55555\n",
            "666666\n",
            "7777777\n",
            "88888888\n",
            "999999999\n"
          ],
          "name": "stdout"
        }
      ]
    },
    {
      "cell_type": "code",
      "metadata": {
        "id": "7428635a"
      },
      "source": [
        "text = ['one', 'two', 'three', 'four', 'five']\n",
        "numbers = [1, 2, 3, 4, 5]"
      ],
      "id": "7428635a",
      "execution_count": null,
      "outputs": []
    },
    {
      "cell_type": "code",
      "metadata": {
        "id": "2a8391a8",
        "outputId": "078cb3b9-d6ab-43a0-c564-20d057523d40"
      },
      "source": [
        "zip(text, numbers)"
      ],
      "id": "2a8391a8",
      "execution_count": null,
      "outputs": [
        {
          "output_type": "execute_result",
          "data": {
            "text/plain": [
              "<zip at 0x7fd2213d99c0>"
            ]
          },
          "metadata": {
            "tags": []
          },
          "execution_count": 48
        }
      ]
    },
    {
      "cell_type": "code",
      "metadata": {
        "id": "d591cfe5",
        "outputId": "7ccd7668-70cd-4a6e-f954-fc9dff5635b2"
      },
      "source": [
        "list(zip(text, numbers))"
      ],
      "id": "d591cfe5",
      "execution_count": null,
      "outputs": [
        {
          "output_type": "execute_result",
          "data": {
            "text/plain": [
              "[('one', 1), ('two', 2), ('three', 3), ('four', 4), ('five', 5)]"
            ]
          },
          "metadata": {
            "tags": []
          },
          "execution_count": 49
        }
      ]
    },
    {
      "cell_type": "code",
      "metadata": {
        "id": "89391307",
        "outputId": "ce877b34-1cc4-44be-b568-6f44984c1b78"
      },
      "source": [
        "for x, y in list(zip(text, numbers)) :\n",
        "    print(x, y)"
      ],
      "id": "89391307",
      "execution_count": null,
      "outputs": [
        {
          "output_type": "stream",
          "text": [
            "one 1\n",
            "two 2\n",
            "three 3\n",
            "four 4\n",
            "five 5\n"
          ],
          "name": "stdout"
        }
      ]
    }
  ]
}
