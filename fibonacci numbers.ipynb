{
  "nbformat": 4,
  "nbformat_minor": 0,
  "metadata": {
    "colab": {
      "name": "Untitled0.ipynb",
      "provenance": []
    },
    "kernelspec": {
      "name": "python3",
      "display_name": "Python 3"
    },
    "language_info": {
      "name": "python"
    }
  },
  "cells": [
    {
      "cell_type": "code",
      "metadata": {
        "colab": {
          "base_uri": "https://localhost:8080/"
        },
        "id": "KxMkAMSXWXOw",
        "outputId": "2eda8912-3b59-420f-9198-0b8f814cac90"
      },
      "source": [
        "# Fibonacci numbers\n",
        "listem=[1]\n",
        "x=0 \n",
        "y=1\n",
        "while x < 55:\n",
        "  x=x+y\n",
        "  y=y+x\n",
        "  listem.append(x)\n",
        "  listem.append(y)\n",
        "listem.remove(y)\n",
        "print(listem)\n"
      ],
      "execution_count": null,
      "outputs": [
        {
          "output_type": "stream",
          "text": [
            "[1, 1, 2, 3, 5, 8, 13, 21, 34, 55]\n"
          ],
          "name": "stdout"
        }
      ]
    }
  ]
}