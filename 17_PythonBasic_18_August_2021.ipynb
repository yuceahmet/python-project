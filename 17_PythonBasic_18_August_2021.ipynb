{
  "nbformat": 4,
  "nbformat_minor": 0,
  "metadata": {
    "kernelspec": {
      "display_name": "Python 3",
      "language": "python",
      "name": "python3"
    },
    "language_info": {
      "codemirror_mode": {
        "name": "ipython",
        "version": 3
      },
      "file_extension": ".py",
      "mimetype": "text/x-python",
      "name": "python",
      "nbconvert_exporter": "python",
      "pygments_lexer": "ipython3",
      "version": "3.7.3"
    },
    "colab": {
      "name": "17_PythonBasic_18-August-2021.ipynb",
      "provenance": [],
      "include_colab_link": true
    }
  },
  "cells": [
    {
      "cell_type": "markdown",
      "metadata": {
        "id": "view-in-github",
        "colab_type": "text"
      },
      "source": [
        "<a href=\"https://colab.research.google.com/github/yuceahmet/python-project/blob/main/17_PythonBasic_18_August_2021.ipynb\" target=\"_parent\"><img src=\"https://colab.research.google.com/assets/colab-badge.svg\" alt=\"Open In Colab\"/></a>"
      ]
    },
    {
      "cell_type": "markdown",
      "metadata": {
        "id": "ItYxMLZTffiM"
      },
      "source": [
        "<h1><p style=\"text-align: center; color:darkblue\">Python + In-Class, <br>18 August 2021</p><h1>"
      ]
    },
    {
      "cell_type": "code",
      "metadata": {
        "id": "PnyPOXImffiN"
      },
      "source": [
        "def repeater(n) :\n",
        "    return lambda x : x * n"
      ],
      "execution_count": null,
      "outputs": []
    },
    {
      "cell_type": "code",
      "metadata": {
        "id": "ZznfzzypffiO"
      },
      "source": [
        "repeat_5 = repeater(5)"
      ],
      "execution_count": null,
      "outputs": []
    },
    {
      "cell_type": "code",
      "metadata": {
        "id": "8nIfSFWeffiO",
        "outputId": "52fd1152-caf3-4af8-91af-ffa358cbc7c0"
      },
      "source": [
        "repeat_5"
      ],
      "execution_count": null,
      "outputs": [
        {
          "data": {
            "text/plain": [
              "<function __main__.repeater.<locals>.<lambda>(x)>"
            ]
          },
          "execution_count": 3,
          "metadata": {},
          "output_type": "execute_result"
        }
      ]
    },
    {
      "cell_type": "code",
      "metadata": {
        "id": "DU7s4O6kffiP",
        "outputId": "e9bc9ff7-637e-412c-dc6d-a785df509b3b"
      },
      "source": [
        "repeat_5(\"sizi çok özledim..\")"
      ],
      "execution_count": null,
      "outputs": [
        {
          "data": {
            "text/plain": [
              "'sizi çok özledim..sizi çok özledim..sizi çok özledim..sizi çok özledim..sizi çok özledim..'"
            ]
          },
          "execution_count": 4,
          "metadata": {},
          "output_type": "execute_result"
        }
      ]
    },
    {
      "cell_type": "code",
      "metadata": {
        "id": "nuC_T8VZffiQ"
      },
      "source": [
        "repeat_2 = repeater(2)"
      ],
      "execution_count": null,
      "outputs": []
    },
    {
      "cell_type": "code",
      "metadata": {
        "id": "SocTtE4QffiQ",
        "outputId": "523ed129-e2a3-49cb-d4c1-41b052c390ff"
      },
      "source": [
        "repeat_2(\"sizlerden ayrılacağıma üzülmemek eldemi\")"
      ],
      "execution_count": null,
      "outputs": [
        {
          "data": {
            "text/plain": [
              "'sizlerden ayrılacağıma üzülmemek eldemisizlerden ayrılacağıma üzülmemek eldemi'"
            ]
          },
          "execution_count": 6,
          "metadata": {},
          "output_type": "execute_result"
        }
      ]
    },
    {
      "cell_type": "code",
      "metadata": {
        "id": "ByIEcSyyffiR"
      },
      "source": [
        "def functioner(emoji) :\n",
        "    return lambda message : print(message, emoji)"
      ],
      "execution_count": null,
      "outputs": []
    },
    {
      "cell_type": "code",
      "metadata": {
        "id": "foXMLBcCffiS"
      },
      "source": [
        "smile_print = functioner(\":)\")"
      ],
      "execution_count": null,
      "outputs": []
    },
    {
      "cell_type": "code",
      "metadata": {
        "id": "2crNSrzvffiS",
        "outputId": "cb22d3f6-1a7c-4e01-b610-280c52da0f28"
      },
      "source": [
        "smile_print(1)"
      ],
      "execution_count": null,
      "outputs": [
        {
          "name": "stdout",
          "output_type": "stream",
          "text": [
            "1 :)\n"
          ]
        }
      ]
    },
    {
      "cell_type": "code",
      "metadata": {
        "id": "w12uc8qxffiS",
        "outputId": "6d5eab01-5be3-49f5-ebe6-06744f5a5a8a"
      },
      "source": [
        "smile_print(\"bir\")"
      ],
      "execution_count": null,
      "outputs": [
        {
          "name": "stdout",
          "output_type": "stream",
          "text": [
            "bir :)\n"
          ]
        }
      ]
    },
    {
      "cell_type": "code",
      "metadata": {
        "id": "Qv2N2qQtffiT"
      },
      "source": [
        "sad_print = functioner(\":(\")"
      ],
      "execution_count": null,
      "outputs": []
    },
    {
      "cell_type": "code",
      "metadata": {
        "id": "TY-ltKxYffiT",
        "outputId": "3dcf5c5c-76cc-4d52-cf4a-a792127c321f"
      },
      "source": [
        "sad_print([1, \"1\", False])"
      ],
      "execution_count": null,
      "outputs": [
        {
          "name": "stdout",
          "output_type": "stream",
          "text": [
            "[1, '1', False] :(\n"
          ]
        }
      ]
    },
    {
      "cell_type": "code",
      "metadata": {
        "id": "fVdFqfh0ffiT",
        "outputId": "4ac1bbe4-681d-43c2-c98f-46d2cac81e1d"
      },
      "source": [
        "(lambda a : a + \":)\")(\"hello \")"
      ],
      "execution_count": null,
      "outputs": [
        {
          "data": {
            "text/plain": [
              "'hello :)'"
            ]
          },
          "execution_count": 13,
          "metadata": {},
          "output_type": "execute_result"
        }
      ]
    },
    {
      "cell_type": "code",
      "metadata": {
        "id": "4I8GqFBTffiU"
      },
      "source": [
        "smile = lambda a : a + \":)\""
      ],
      "execution_count": null,
      "outputs": []
    },
    {
      "cell_type": "code",
      "metadata": {
        "id": "lZkst9yHffiU",
        "outputId": "a9ed3ad8-1d15-42cf-ccea-e2ebf315fa57"
      },
      "source": [
        "smile(\"hello \")"
      ],
      "execution_count": null,
      "outputs": [
        {
          "data": {
            "text/plain": [
              "'hello :)'"
            ]
          },
          "execution_count": 16,
          "metadata": {},
          "output_type": "execute_result"
        }
      ]
    },
    {
      "cell_type": "code",
      "metadata": {
        "id": "5VyWx7-gffiU"
      },
      "source": [
        "def x() :\n",
        "    return 1, 2, 3, 4"
      ],
      "execution_count": null,
      "outputs": []
    },
    {
      "cell_type": "code",
      "metadata": {
        "id": "DrtoQT21ffiU",
        "outputId": "d88ec02f-9ec7-43a1-aa74-ab99fd4d84b8"
      },
      "source": [
        "type(x())"
      ],
      "execution_count": null,
      "outputs": [
        {
          "data": {
            "text/plain": [
              "tuple"
            ]
          },
          "execution_count": 18,
          "metadata": {},
          "output_type": "execute_result"
        }
      ]
    },
    {
      "cell_type": "code",
      "metadata": {
        "id": "1HgQK2jvffiV",
        "outputId": "97c80ec1-f986-421d-fc51-b99831c17927"
      },
      "source": [
        "x()"
      ],
      "execution_count": null,
      "outputs": [
        {
          "data": {
            "text/plain": [
              "(1, 2, 3, 4)"
            ]
          },
          "execution_count": 19,
          "metadata": {},
          "output_type": "execute_result"
        }
      ]
    },
    {
      "cell_type": "code",
      "metadata": {
        "id": "WIJlIEzRffiV"
      },
      "source": [
        "a, b, c, d = x()"
      ],
      "execution_count": null,
      "outputs": []
    },
    {
      "cell_type": "code",
      "metadata": {
        "id": "jUawT5WBffiV",
        "outputId": "b0c5fcae-0701-4a7a-fc28-61cbb9b70f57"
      },
      "source": [
        "a"
      ],
      "execution_count": null,
      "outputs": [
        {
          "data": {
            "text/plain": [
              "1"
            ]
          },
          "execution_count": 21,
          "metadata": {},
          "output_type": "execute_result"
        }
      ]
    },
    {
      "cell_type": "code",
      "metadata": {
        "id": "PdIMAIB1ffiV",
        "outputId": "ae909f98-abec-45bb-9494-c4039ac48e98"
      },
      "source": [
        "b"
      ],
      "execution_count": null,
      "outputs": [
        {
          "data": {
            "text/plain": [
              "2"
            ]
          },
          "execution_count": 22,
          "metadata": {},
          "output_type": "execute_result"
        }
      ]
    },
    {
      "cell_type": "code",
      "metadata": {
        "id": "G41WC0VhffiW",
        "outputId": "00528361-61dc-484c-d4e6-3e82c6199f82"
      },
      "source": [
        "c"
      ],
      "execution_count": null,
      "outputs": [
        {
          "data": {
            "text/plain": [
              "3"
            ]
          },
          "execution_count": 23,
          "metadata": {},
          "output_type": "execute_result"
        }
      ]
    },
    {
      "cell_type": "code",
      "metadata": {
        "id": "himlxyO9ffiW",
        "outputId": "e7d4e3f8-535c-4b04-de2e-ad371eca95fe"
      },
      "source": [
        "for i in x() :\n",
        "    print(i)"
      ],
      "execution_count": null,
      "outputs": [
        {
          "name": "stdout",
          "output_type": "stream",
          "text": [
            "1\n",
            "2\n",
            "3\n",
            "4\n"
          ]
        }
      ]
    },
    {
      "cell_type": "code",
      "metadata": {
        "id": "KEBEJrssffiW"
      },
      "source": [
        "num = [1,4,4]"
      ],
      "execution_count": null,
      "outputs": []
    },
    {
      "cell_type": "code",
      "metadata": {
        "id": "NVjMYSEYffiX",
        "outputId": "922a9a50-bc75-4b83-dcf8-c78f9b743e28"
      },
      "source": [
        "max(num, key = num.count)"
      ],
      "execution_count": null,
      "outputs": [
        {
          "data": {
            "text/plain": [
              "4"
            ]
          },
          "execution_count": 28,
          "metadata": {},
          "output_type": "execute_result"
        }
      ]
    },
    {
      "cell_type": "code",
      "metadata": {
        "id": "ueX_52BkffiX",
        "outputId": "ead8773b-7f7d-4233-9327-dcb9d9520f73"
      },
      "source": [
        "num.count(4)"
      ],
      "execution_count": null,
      "outputs": [
        {
          "data": {
            "text/plain": [
              "2"
            ]
          },
          "execution_count": 30,
          "metadata": {},
          "output_type": "execute_result"
        }
      ]
    },
    {
      "cell_type": "code",
      "metadata": {
        "id": "3RgXWDyaffiX"
      },
      "source": [
        "def equal(a, b, c) :\n",
        "    numbers = [a, b, c]\n",
        "    \n",
        "    res = numbers.count(max(numbers, key = numbers.count))\n",
        "    \n",
        "    if res > 1 :\n",
        "        return res\n",
        "    else :\n",
        "        return 0"
      ],
      "execution_count": null,
      "outputs": []
    },
    {
      "cell_type": "code",
      "metadata": {
        "id": "6e8sVMk9ffiX",
        "outputId": "f62b7d45-4cba-486f-a675-799a475fe3ee"
      },
      "source": [
        "equal(1,4,4)"
      ],
      "execution_count": null,
      "outputs": [
        {
          "data": {
            "text/plain": [
              "2"
            ]
          },
          "execution_count": 32,
          "metadata": {},
          "output_type": "execute_result"
        }
      ]
    },
    {
      "cell_type": "code",
      "metadata": {
        "id": "6s83r5KXffiX",
        "outputId": "a73ae646-cf0f-4f6d-b0f8-3579071221ef"
      },
      "source": [
        "equal(1,1,1)"
      ],
      "execution_count": null,
      "outputs": [
        {
          "data": {
            "text/plain": [
              "3"
            ]
          },
          "execution_count": 33,
          "metadata": {},
          "output_type": "execute_result"
        }
      ]
    },
    {
      "cell_type": "code",
      "metadata": {
        "id": "YJ66SCYHffiX",
        "outputId": "ea934317-b64c-4e15-8e12-57bd6decae8c"
      },
      "source": [
        "equal(1,2,3)"
      ],
      "execution_count": null,
      "outputs": [
        {
          "data": {
            "text/plain": [
              "0"
            ]
          },
          "execution_count": 34,
          "metadata": {},
          "output_type": "execute_result"
        }
      ]
    },
    {
      "cell_type": "code",
      "metadata": {
        "id": "tTPsKX8GffiX"
      },
      "source": [
        "def equall(* arg) :\n",
        "    numbers = list(arg)\n",
        "    \n",
        "    res = numbers.count(max(numbers, key = numbers.count))\n",
        "    \n",
        "    if res > 1 :\n",
        "        return res\n",
        "    else :\n",
        "        return 0"
      ],
      "execution_count": null,
      "outputs": []
    },
    {
      "cell_type": "code",
      "metadata": {
        "id": "i5Dfg66EffiY",
        "outputId": "2abd6143-1d55-493f-9d62-0e70478f2c91"
      },
      "source": [
        "equall(1,2,2,2,4)"
      ],
      "execution_count": null,
      "outputs": [
        {
          "data": {
            "text/plain": [
              "3"
            ]
          },
          "execution_count": 38,
          "metadata": {},
          "output_type": "execute_result"
        }
      ]
    },
    {
      "cell_type": "code",
      "metadata": {
        "id": "f-ogWSQbffiY"
      },
      "source": [
        "equalabmda = lambda x, y, z : [x, y, z].count(max([x, y, z], key = [x, y, z].count)) "
      ],
      "execution_count": null,
      "outputs": []
    },
    {
      "cell_type": "code",
      "metadata": {
        "id": "eUfeq-z1ffiY"
      },
      "source": [
        "# res if res > 1 else 0"
      ],
      "execution_count": null,
      "outputs": []
    },
    {
      "cell_type": "code",
      "metadata": {
        "id": "ozm-zt3ZffiY"
      },
      "source": [
        "equalabmda = lambda x, y, z : [x, y, z].count(max([x, y, z], key = [x, y, z].count))\\\n",
        "if [x, y, z].count(max([x, y, z], key = [x, y, z].count)) > 1 else 0"
      ],
      "execution_count": null,
      "outputs": []
    },
    {
      "cell_type": "code",
      "metadata": {
        "id": "9pA8V0SfffiY",
        "outputId": "d092fd38-8f1b-41db-bdc0-7bd78139b6e2"
      },
      "source": [
        "1 if True else 0"
      ],
      "execution_count": null,
      "outputs": [
        {
          "data": {
            "text/plain": [
              "1"
            ]
          },
          "execution_count": 39,
          "metadata": {},
          "output_type": "execute_result"
        }
      ]
    },
    {
      "cell_type": "code",
      "metadata": {
        "id": "JJyYK7hGffiY"
      },
      "source": [
        "# body_if if condition else body_else"
      ],
      "execution_count": null,
      "outputs": []
    },
    {
      "cell_type": "code",
      "metadata": {
        "id": "B1ic2eURffiY",
        "outputId": "a7a402b2-d402-41f7-f96c-4ef57d310551"
      },
      "source": [
        "equalabmda(1,4,4)"
      ],
      "execution_count": null,
      "outputs": [
        {
          "data": {
            "text/plain": [
              "2"
            ]
          },
          "execution_count": 41,
          "metadata": {},
          "output_type": "execute_result"
        }
      ]
    },
    {
      "cell_type": "code",
      "metadata": {
        "id": "ZQcuYpuQffiY"
      },
      "source": [
        "equalabmdaa = lambda *x : list(x).count(max(list(x), key = list(x).count))\\\n",
        "if list(x).count(max(list(x), key = list(x).count)) > 1 else 0"
      ],
      "execution_count": null,
      "outputs": []
    },
    {
      "cell_type": "code",
      "metadata": {
        "id": "kywWoKwZffiY",
        "outputId": "ec406b1b-2956-4ced-a18d-abb6fa1abe7c"
      },
      "source": [
        "equalabmdaa(1,2,2,2,4)"
      ],
      "execution_count": null,
      "outputs": [
        {
          "data": {
            "text/plain": [
              "3"
            ]
          },
          "execution_count": 43,
          "metadata": {},
          "output_type": "execute_result"
        }
      ]
    },
    {
      "cell_type": "code",
      "metadata": {
        "id": "EgThCbfLffiZ"
      },
      "source": [
        "function_generator()"
      ],
      "execution_count": null,
      "outputs": []
    },
    {
      "cell_type": "code",
      "metadata": {
        "id": "EctZSsuGffiZ"
      },
      "source": [
        "myPrint() = function_generator(print)\n",
        "myMax() = function_generator(max)\n",
        "myBool() = function_generator(bool)\n",
        "mySorted() = function_generator(sorted)"
      ],
      "execution_count": null,
      "outputs": []
    },
    {
      "cell_type": "code",
      "metadata": {
        "id": "Ial6QKlQffiZ"
      },
      "source": [
        "def function_generator(function) :\n",
        "    return lambda x : function(x)"
      ],
      "execution_count": null,
      "outputs": []
    },
    {
      "cell_type": "code",
      "metadata": {
        "id": "3GXn4TteffiZ",
        "outputId": "f9e99103-ec75-4731-8a84-1b8b1d028d84"
      },
      "source": [
        "(lambda x : print(x))(\"beni yazdır\")"
      ],
      "execution_count": null,
      "outputs": [
        {
          "name": "stdout",
          "output_type": "stream",
          "text": [
            "beni yazdır\n"
          ]
        }
      ]
    },
    {
      "cell_type": "code",
      "metadata": {
        "id": "MfwQFS5cffiZ",
        "outputId": "2f862629-67c0-4e90-94cc-22493d7272cf"
      },
      "source": [
        "(lambda x : max(x))([1,2,34])"
      ],
      "execution_count": null,
      "outputs": [
        {
          "data": {
            "text/plain": [
              "34"
            ]
          },
          "execution_count": 45,
          "metadata": {},
          "output_type": "execute_result"
        }
      ]
    },
    {
      "cell_type": "code",
      "metadata": {
        "id": "JutYE9N0ffiZ",
        "outputId": "5047b819-b5b8-41dd-8ee2-186d96fae993"
      },
      "source": [
        "(lambda x : bool(x))(\"beni yazdır\")"
      ],
      "execution_count": null,
      "outputs": [
        {
          "data": {
            "text/plain": [
              "True"
            ]
          },
          "execution_count": 46,
          "metadata": {},
          "output_type": "execute_result"
        }
      ]
    },
    {
      "cell_type": "code",
      "metadata": {
        "id": "4Eofn7sRffiZ"
      },
      "source": [
        "myPrint = function_generator(print)"
      ],
      "execution_count": null,
      "outputs": []
    },
    {
      "cell_type": "code",
      "metadata": {
        "id": "Lk2RfzhuffiZ",
        "outputId": "84056acc-84a3-4e14-e48c-c22a1afd4e6d"
      },
      "source": [
        "myPrint(\"artık istediğini yazdır\")"
      ],
      "execution_count": null,
      "outputs": [
        {
          "name": "stdout",
          "output_type": "stream",
          "text": [
            "artık istediğini yazdır\n"
          ]
        }
      ]
    },
    {
      "cell_type": "code",
      "metadata": {
        "id": "Lho2KV9uffiZ"
      },
      "source": [
        "myBool = function_generator(bool)"
      ],
      "execution_count": null,
      "outputs": []
    },
    {
      "cell_type": "code",
      "metadata": {
        "id": "mJiW5FJgffia",
        "outputId": "fa4a4148-674f-496b-e654-924450659de8"
      },
      "source": [
        "myBool(\"\")"
      ],
      "execution_count": null,
      "outputs": [
        {
          "data": {
            "text/plain": [
              "False"
            ]
          },
          "execution_count": 51,
          "metadata": {},
          "output_type": "execute_result"
        }
      ]
    },
    {
      "cell_type": "code",
      "metadata": {
        "id": "y4d7QSPbffia"
      },
      "source": [
        "import math"
      ],
      "execution_count": null,
      "outputs": []
    },
    {
      "cell_type": "code",
      "metadata": {
        "id": "PQ6A6yTVffia",
        "outputId": "63004fb7-f64b-41c9-f0f9-066f51db4ae6"
      },
      "source": [
        "print(dir(math))"
      ],
      "execution_count": null,
      "outputs": [
        {
          "name": "stdout",
          "output_type": "stream",
          "text": [
            "['__doc__', '__loader__', '__name__', '__package__', '__spec__', 'acos', 'acosh', 'asin', 'asinh', 'atan', 'atan2', 'atanh', 'ceil', 'copysign', 'cos', 'cosh', 'degrees', 'e', 'erf', 'erfc', 'exp', 'expm1', 'fabs', 'factorial', 'floor', 'fmod', 'frexp', 'fsum', 'gamma', 'gcd', 'hypot', 'inf', 'isclose', 'isfinite', 'isinf', 'isnan', 'ldexp', 'lgamma', 'log', 'log10', 'log1p', 'log2', 'modf', 'nan', 'pi', 'pow', 'radians', 'remainder', 'sin', 'sinh', 'sqrt', 'tan', 'tanh', 'tau', 'trunc']\n"
          ]
        }
      ]
    },
    {
      "cell_type": "code",
      "metadata": {
        "id": "mVXNsBAYffia"
      },
      "source": [
        "from math import pi, factorial, log10"
      ],
      "execution_count": null,
      "outputs": []
    },
    {
      "cell_type": "code",
      "metadata": {
        "id": "5BKmeG_Effia",
        "outputId": "0a1cc015-ce58-4489-972e-093d5fb452df"
      },
      "source": [
        "pi"
      ],
      "execution_count": null,
      "outputs": [
        {
          "data": {
            "text/plain": [
              "3.141592653589793"
            ]
          },
          "execution_count": 55,
          "metadata": {},
          "output_type": "execute_result"
        }
      ]
    },
    {
      "cell_type": "code",
      "metadata": {
        "id": "-49WADOpffia",
        "outputId": "aed5e4af-4392-4914-f111-c23771e7e1cb"
      },
      "source": [
        "factorial(4)"
      ],
      "execution_count": null,
      "outputs": [
        {
          "data": {
            "text/plain": [
              "24"
            ]
          },
          "execution_count": 56,
          "metadata": {},
          "output_type": "execute_result"
        }
      ]
    },
    {
      "cell_type": "code",
      "metadata": {
        "id": "6Dsdd0N8ffia",
        "outputId": "1aa5c29b-193a-4934-9ca1-6000066a3b82"
      },
      "source": [
        "log10(1000)"
      ],
      "execution_count": null,
      "outputs": [
        {
          "data": {
            "text/plain": [
              "3.0"
            ]
          },
          "execution_count": 57,
          "metadata": {},
          "output_type": "execute_result"
        }
      ]
    },
    {
      "cell_type": "code",
      "metadata": {
        "id": "5ttYCFDxffia"
      },
      "source": [
        "import string"
      ],
      "execution_count": null,
      "outputs": []
    },
    {
      "cell_type": "code",
      "metadata": {
        "id": "fA6xJJvYffia",
        "outputId": "8494611e-dfc3-4e0b-f409-a26dd91e01f0"
      },
      "source": [
        "dir(string)"
      ],
      "execution_count": null,
      "outputs": [
        {
          "data": {
            "text/plain": [
              "['Formatter',\n",
              " 'Template',\n",
              " '_ChainMap',\n",
              " '_TemplateMetaclass',\n",
              " '__all__',\n",
              " '__builtins__',\n",
              " '__cached__',\n",
              " '__doc__',\n",
              " '__file__',\n",
              " '__loader__',\n",
              " '__name__',\n",
              " '__package__',\n",
              " '__spec__',\n",
              " '_re',\n",
              " '_string',\n",
              " 'ascii_letters',\n",
              " 'ascii_lowercase',\n",
              " 'ascii_uppercase',\n",
              " 'capwords',\n",
              " 'digits',\n",
              " 'hexdigits',\n",
              " 'octdigits',\n",
              " 'printable',\n",
              " 'punctuation',\n",
              " 'whitespace']"
            ]
          },
          "execution_count": 59,
          "metadata": {},
          "output_type": "execute_result"
        }
      ]
    },
    {
      "cell_type": "code",
      "metadata": {
        "id": "LHHypeF5ffia",
        "outputId": "53628aad-899f-44f8-9273-f51970d2c1d9"
      },
      "source": [
        "string.punctuation"
      ],
      "execution_count": null,
      "outputs": [
        {
          "data": {
            "text/plain": [
              "'!\"#$%&\\'()*+,-./:;<=>?@[\\\\]^_`{|}~'"
            ]
          },
          "execution_count": 60,
          "metadata": {},
          "output_type": "execute_result"
        }
      ]
    },
    {
      "cell_type": "code",
      "metadata": {
        "id": "2qgSDWzwffib",
        "outputId": "a332c764-d882-46a4-ec89-8fee962f96b5"
      },
      "source": [
        "string.digits"
      ],
      "execution_count": null,
      "outputs": [
        {
          "data": {
            "text/plain": [
              "'0123456789'"
            ]
          },
          "execution_count": 61,
          "metadata": {},
          "output_type": "execute_result"
        }
      ]
    },
    {
      "cell_type": "code",
      "metadata": {
        "id": "RVMxBXIbffib"
      },
      "source": [
        "import datetime"
      ],
      "execution_count": null,
      "outputs": []
    },
    {
      "cell_type": "code",
      "metadata": {
        "id": "pLK-s_BXffib",
        "outputId": "07bf877c-a820-485e-c64e-4a742681f4fc"
      },
      "source": [
        "print(datetime.date.today())"
      ],
      "execution_count": null,
      "outputs": [
        {
          "name": "stdout",
          "output_type": "stream",
          "text": [
            "2021-08-18\n"
          ]
        }
      ]
    },
    {
      "cell_type": "code",
      "metadata": {
        "id": "L5U6AADdffib",
        "outputId": "44e4a570-e350-41da-8c10-080b4a861fef"
      },
      "source": [
        "print(datetime.datetime.now())"
      ],
      "execution_count": null,
      "outputs": [
        {
          "name": "stdout",
          "output_type": "stream",
          "text": [
            "2021-08-18 22:55:07.757862\n"
          ]
        }
      ]
    },
    {
      "cell_type": "code",
      "metadata": {
        "id": "ZKjEW_5iffib"
      },
      "source": [
        "from datetime import date"
      ],
      "execution_count": null,
      "outputs": []
    },
    {
      "cell_type": "code",
      "metadata": {
        "id": "miXpXxk-ffib"
      },
      "source": [
        "birth = date(571, 4, 22)"
      ],
      "execution_count": null,
      "outputs": []
    },
    {
      "cell_type": "code",
      "metadata": {
        "id": "PM-72VRbffib",
        "outputId": "30e2b363-87d2-4c94-ad80-3069dda0b4b0"
      },
      "source": [
        "birth"
      ],
      "execution_count": null,
      "outputs": [
        {
          "data": {
            "text/plain": [
              "datetime.date(571, 4, 22)"
            ]
          },
          "execution_count": 71,
          "metadata": {},
          "output_type": "execute_result"
        }
      ]
    },
    {
      "cell_type": "code",
      "metadata": {
        "id": "HmKcHKKYffib"
      },
      "source": [
        "death = date(632, 6, 8)"
      ],
      "execution_count": null,
      "outputs": []
    },
    {
      "cell_type": "code",
      "metadata": {
        "id": "EGWt8LMFffib",
        "outputId": "d24ff63a-26fb-4f04-b876-ed380d6b2f00"
      },
      "source": [
        "death"
      ],
      "execution_count": null,
      "outputs": [
        {
          "data": {
            "text/plain": [
              "datetime.date(632, 6, 8)"
            ]
          },
          "execution_count": 73,
          "metadata": {},
          "output_type": "execute_result"
        }
      ]
    },
    {
      "cell_type": "code",
      "metadata": {
        "id": "mdbuenOPffib",
        "outputId": "9720a921-91ed-4293-d1b5-af74ccb0233e"
      },
      "source": [
        "death - birth"
      ],
      "execution_count": null,
      "outputs": [
        {
          "data": {
            "text/plain": [
              "datetime.timedelta(days=22327)"
            ]
          },
          "execution_count": 74,
          "metadata": {},
          "output_type": "execute_result"
        }
      ]
    },
    {
      "cell_type": "code",
      "metadata": {
        "id": "2RmqRzBaffic",
        "outputId": "307987bd-56db-49b8-d961-f3391c6077dc"
      },
      "source": [
        "date.toordinal(death) - date.toordinal(birth)"
      ],
      "execution_count": null,
      "outputs": [
        {
          "data": {
            "text/plain": [
              "22327"
            ]
          },
          "execution_count": 75,
          "metadata": {},
          "output_type": "execute_result"
        }
      ]
    }
  ]
}