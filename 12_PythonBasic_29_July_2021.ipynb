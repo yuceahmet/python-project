{
  "nbformat": 4,
  "nbformat_minor": 5,
  "metadata": {
    "kernelspec": {
      "display_name": "Python 3",
      "language": "python",
      "name": "python3"
    },
    "language_info": {
      "codemirror_mode": {
        "name": "ipython",
        "version": 3
      },
      "file_extension": ".py",
      "mimetype": "text/x-python",
      "name": "python",
      "nbconvert_exporter": "python",
      "pygments_lexer": "ipython3",
      "version": "3.8.8"
    },
    "colab": {
      "name": "12_PythonBasic_29-July-2021.ipynb",
      "provenance": []
    }
  },
  "cells": [
    {
      "cell_type": "markdown",
      "metadata": {
        "id": "22263af8"
      },
      "source": [
        "<h1><p style=\"text-align: center; color:darkblue\">Python In-Class, <br>29 July 2021</p><h1>"
      ],
      "id": "22263af8"
    },
    {
      "cell_type": "code",
      "metadata": {
        "id": "e785cd9c"
      },
      "source": [
        "numbers = [11, 36, 33, 66, 89, 21, 32, 16, 10]"
      ],
      "id": "e785cd9c",
      "execution_count": null,
      "outputs": []
    },
    {
      "cell_type": "code",
      "metadata": {
        "id": "2073f525",
        "outputId": "1a3a64fd-5e21-4b1a-98f8-ffa45202bf7d"
      },
      "source": [
        "odds = 0\n",
        "evens = 0\n",
        "\n",
        "for i in numbers :\n",
        "    if not i % 2 :\n",
        "        evens += 1\n",
        "    else :\n",
        "        odds += 1\n",
        "print(\"The sum of odd numbers are :\", odds)\n",
        "print(\"The sum of evens numbers are :\", evens)"
      ],
      "id": "2073f525",
      "execution_count": null,
      "outputs": [
        {
          "output_type": "stream",
          "text": [
            "The sum of odd numbers are : 4\n",
            "The sum of evens numbers are : 5\n"
          ],
          "name": "stdout"
        }
      ]
    },
    {
      "cell_type": "code",
      "metadata": {
        "id": "d1e5670a",
        "outputId": "8004b109-005d-4c2c-dd5e-de1508e9090c"
      },
      "source": [
        "odds = 0\n",
        "evens = 0\n",
        "\n",
        "for i in numbers :\n",
        "    if i % 2 :\n",
        "        odds += 1\n",
        "    else :\n",
        "        evens += 1\n",
        "print(\"The sum of odd numbers are :\", odds)\n",
        "print(\"The sum of evens numbers are :\", evens)"
      ],
      "id": "d1e5670a",
      "execution_count": null,
      "outputs": [
        {
          "output_type": "stream",
          "text": [
            "The sum of odd numbers are : 4\n",
            "The sum of evens numbers are : 5\n"
          ],
          "name": "stdout"
        }
      ]
    },
    {
      "cell_type": "code",
      "metadata": {
        "id": "792b4ee0",
        "outputId": "1a79d74c-7517-4d5d-b3b1-079f70d84155"
      },
      "source": [
        "toplam = 0\n",
        "\n",
        "for i in range(1,75) :\n",
        "    toplam += i\n",
        "print(toplam)"
      ],
      "id": "792b4ee0",
      "execution_count": null,
      "outputs": [
        {
          "output_type": "stream",
          "text": [
            "2775\n"
          ],
          "name": "stdout"
        }
      ]
    },
    {
      "cell_type": "markdown",
      "metadata": {
        "id": "d4b81f0f"
      },
      "source": [
        "## List Comprehension"
      ],
      "id": "d4b81f0f"
    },
    {
      "cell_type": "code",
      "metadata": {
        "id": "30fb44d9",
        "outputId": "6ee91a9d-c33c-4321-a3ed-997cbd695aab"
      },
      "source": [
        "listem = []\n",
        "\n",
        "for i in range(5) :\n",
        "    listem.append(i)\n",
        "listem"
      ],
      "id": "30fb44d9",
      "execution_count": null,
      "outputs": [
        {
          "output_type": "execute_result",
          "data": {
            "text/plain": [
              "[0, 1, 2, 3, 4]"
            ]
          },
          "metadata": {
            "tags": []
          },
          "execution_count": 7
        }
      ]
    },
    {
      "cell_type": "markdown",
      "metadata": {
        "id": "7cbe402e"
      },
      "source": [
        "```python\n",
        "\n",
        "for item in iterable :\n",
        "    expression\n",
        "\n",
        "\n",
        "[expression for item in iterable]\n",
        "```"
      ],
      "id": "7cbe402e"
    },
    {
      "cell_type": "code",
      "metadata": {
        "id": "250c0978",
        "outputId": "11c32bd6-e2f0-4c05-dbc1-b12081f4a699"
      },
      "source": [
        "[item for item in range(5)]"
      ],
      "id": "250c0978",
      "execution_count": null,
      "outputs": [
        {
          "output_type": "execute_result",
          "data": {
            "text/plain": [
              "[0, 1, 2, 3, 4]"
            ]
          },
          "metadata": {
            "tags": []
          },
          "execution_count": 8
        }
      ]
    },
    {
      "cell_type": "code",
      "metadata": {
        "id": "c2acca0d",
        "outputId": "9c160e43-076d-4300-e7e2-b1b859cba06c"
      },
      "source": [
        "[i ** 2  for i in range(5)]"
      ],
      "id": "c2acca0d",
      "execution_count": null,
      "outputs": [
        {
          "output_type": "execute_result",
          "data": {
            "text/plain": [
              "[0, 1, 4, 9, 16]"
            ]
          },
          "metadata": {
            "tags": []
          },
          "execution_count": 9
        }
      ]
    },
    {
      "cell_type": "markdown",
      "metadata": {
        "id": "03949ef8"
      },
      "source": [
        "## Ternary `if` Statements"
      ],
      "id": "03949ef8"
    },
    {
      "cell_type": "code",
      "metadata": {
        "id": "04ceb74f",
        "outputId": "f9fcc681-0b9b-443f-cf31-0671cb4abd8f"
      },
      "source": [
        "condition = False\n",
        "\n",
        "if condition :\n",
        "    a = 1\n",
        "else :\n",
        "    a = 0\n",
        "    \n",
        "print(a)"
      ],
      "id": "04ceb74f",
      "execution_count": null,
      "outputs": [
        {
          "output_type": "stream",
          "text": [
            "0\n"
          ],
          "name": "stdout"
        }
      ]
    },
    {
      "cell_type": "markdown",
      "metadata": {
        "id": "70019fa2"
      },
      "source": [
        "```python\n",
        "\n",
        "if_body if condition else else_body \n",
        "\n",
        "```"
      ],
      "id": "70019fa2"
    },
    {
      "cell_type": "code",
      "metadata": {
        "id": "15692f68",
        "outputId": "6adaeb2c-1965-4c95-c6f3-2d615359f38e"
      },
      "source": [
        "1 if condition else 0"
      ],
      "id": "15692f68",
      "execution_count": null,
      "outputs": [
        {
          "output_type": "execute_result",
          "data": {
            "text/plain": [
              "0"
            ]
          },
          "metadata": {
            "tags": []
          },
          "execution_count": 12
        }
      ]
    },
    {
      "cell_type": "code",
      "metadata": {
        "id": "55b5e4da",
        "outputId": "b035753e-8a2c-4606-c28c-d1321854fb9a"
      },
      "source": [
        "condition = True\n",
        "1 if condition else 0"
      ],
      "id": "55b5e4da",
      "execution_count": null,
      "outputs": [
        {
          "output_type": "execute_result",
          "data": {
            "text/plain": [
              "1"
            ]
          },
          "metadata": {
            "tags": []
          },
          "execution_count": 13
        }
      ]
    },
    {
      "cell_type": "code",
      "metadata": {
        "id": "1a825b67",
        "outputId": "52abc38a-9960-43b4-98c2-2397c3ca9bc1"
      },
      "source": [
        "a = 1 if condition else 0\n",
        "print(a)"
      ],
      "id": "1a825b67",
      "execution_count": null,
      "outputs": [
        {
          "output_type": "stream",
          "text": [
            "1\n"
          ],
          "name": "stdout"
        }
      ]
    },
    {
      "cell_type": "code",
      "metadata": {
        "id": "619a353c",
        "outputId": "ff443e70-9d31-4d96-c763-5435198c824b"
      },
      "source": [
        "print(1 if False else 0)"
      ],
      "id": "619a353c",
      "execution_count": null,
      "outputs": [
        {
          "output_type": "stream",
          "text": [
            "0\n"
          ],
          "name": "stdout"
        }
      ]
    },
    {
      "cell_type": "code",
      "metadata": {
        "id": "5344145d"
      },
      "source": [
        "listem = [1, 2, 3, 4, 5, 6]"
      ],
      "id": "5344145d",
      "execution_count": null,
      "outputs": []
    },
    {
      "cell_type": "code",
      "metadata": {
        "id": "ea8eb118",
        "outputId": "d0f1375b-fd1f-4975-e954-7b6891d44974"
      },
      "source": [
        "[i**2 for i in listem]"
      ],
      "id": "ea8eb118",
      "execution_count": null,
      "outputs": [
        {
          "output_type": "execute_result",
          "data": {
            "text/plain": [
              "[1, 4, 9, 16, 25, 36]"
            ]
          },
          "metadata": {
            "tags": []
          },
          "execution_count": 17
        }
      ]
    },
    {
      "cell_type": "code",
      "metadata": {
        "id": "4614042c",
        "outputId": "3d3ef387-87c7-40ef-8689-f4dc4a2e061d"
      },
      "source": [
        "[i**2 for i in listem if i % 2]"
      ],
      "id": "4614042c",
      "execution_count": null,
      "outputs": [
        {
          "output_type": "execute_result",
          "data": {
            "text/plain": [
              "[1, 9, 25]"
            ]
          },
          "metadata": {
            "tags": []
          },
          "execution_count": 18
        }
      ]
    },
    {
      "cell_type": "code",
      "metadata": {
        "id": "d993a519",
        "outputId": "be884866-d41b-4c51-daa4-57a602832dfd"
      },
      "source": [
        "[i**2 for i in listem] if i % 2"
      ],
      "id": "d993a519",
      "execution_count": null,
      "outputs": [
        {
          "output_type": "error",
          "ename": "SyntaxError",
          "evalue": "invalid syntax (<ipython-input-19-2fbbbe516f4a>, line 1)",
          "traceback": [
            "\u001b[0;36m  File \u001b[0;32m\"<ipython-input-19-2fbbbe516f4a>\"\u001b[0;36m, line \u001b[0;32m1\u001b[0m\n\u001b[0;31m    [i**2 for i in listem] if i % 2\u001b[0m\n\u001b[0m                                   ^\u001b[0m\n\u001b[0;31mSyntaxError\u001b[0m\u001b[0;31m:\u001b[0m invalid syntax\n"
          ]
        }
      ]
    },
    {
      "cell_type": "code",
      "metadata": {
        "id": "3270bacd"
      },
      "source": [
        "listA = [\"susan\", \"tom\", False, 0, \"0\"]"
      ],
      "id": "3270bacd",
      "execution_count": null,
      "outputs": []
    },
    {
      "cell_type": "code",
      "metadata": {
        "id": "c544168e"
      },
      "source": [
        "havadaki_object = filter(None, listA)"
      ],
      "id": "c544168e",
      "execution_count": null,
      "outputs": []
    },
    {
      "cell_type": "code",
      "metadata": {
        "id": "a36b04ca",
        "outputId": "5545bf97-e804-49a3-a2a6-58cb82c85006"
      },
      "source": [
        "havadaki_object"
      ],
      "id": "a36b04ca",
      "execution_count": null,
      "outputs": [
        {
          "output_type": "execute_result",
          "data": {
            "text/plain": [
              "<filter at 0x7fd09991dc10>"
            ]
          },
          "metadata": {
            "tags": []
          },
          "execution_count": 27
        }
      ]
    },
    {
      "cell_type": "code",
      "metadata": {
        "id": "57886b7e",
        "outputId": "2d7c42e1-b444-4a0f-b421-283d8e63c6f6"
      },
      "source": [
        "for i in havadaki_object :\n",
        "    print(i)"
      ],
      "id": "57886b7e",
      "execution_count": null,
      "outputs": [
        {
          "output_type": "stream",
          "text": [
            "susan\n",
            "tom\n",
            "0\n"
          ],
          "name": "stdout"
        }
      ]
    }
  ]
}