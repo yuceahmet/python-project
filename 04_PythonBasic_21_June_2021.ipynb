{
  "nbformat": 4,
  "nbformat_minor": 5,
  "metadata": {
    "kernelspec": {
      "display_name": "Python 3",
      "language": "python",
      "name": "python3"
    },
    "language_info": {
      "codemirror_mode": {
        "name": "ipython",
        "version": 3
      },
      "file_extension": ".py",
      "mimetype": "text/x-python",
      "name": "python",
      "nbconvert_exporter": "python",
      "pygments_lexer": "ipython3",
      "version": "3.8.8"
    },
    "colab": {
      "name": "04_PythonBasic_21-June-2021.ipynb",
      "provenance": []
    }
  },
  "cells": [
    {
      "cell_type": "markdown",
      "metadata": {
        "id": "22263af8"
      },
      "source": [
        "<h1><p style=\"text-align: center; color:darkblue\">Python In-Class, <br>21 June 2021</p><h1>"
      ],
      "id": "22263af8"
    },
    {
      "cell_type": "code",
      "metadata": {
        "id": "bddec042",
        "outputId": "21bd6368-e081-426a-a3d1-bfd33b19eaea"
      },
      "source": [
        "x= input(\"Bir sayı giriniz :\")\n",
        "y = input(\"Bir sayı daha giriniz:\")\n",
        "z = x + y"
      ],
      "id": "bddec042",
      "execution_count": null,
      "outputs": [
        {
          "output_type": "stream",
          "text": [
            "Bir sayı giriniz:11\n",
            "Bir sayı daha giriniz :4\n"
          ],
          "name": "stdout"
        }
      ]
    },
    {
      "cell_type": "code",
      "metadata": {
        "id": "a62a15b9",
        "outputId": "31155c89-4769-44c7-cc71-22fa17517ae8"
      },
      "source": [
        "print(z)"
      ],
      "id": "a62a15b9",
      "execution_count": null,
      "outputs": [
        {
          "output_type": "stream",
          "text": [
            "114\n"
          ],
          "name": "stdout"
        }
      ]
    },
    {
      "cell_type": "code",
      "metadata": {
        "id": "8e1ae279"
      },
      "source": [
        "z = \"11\" + \"4\"  # = \"114\""
      ],
      "id": "8e1ae279",
      "execution_count": null,
      "outputs": []
    },
    {
      "cell_type": "code",
      "metadata": {
        "id": "0596ced0",
        "outputId": "a625fcbf-5cd2-4b61-a699-daa9f60ccca0"
      },
      "source": [
        "21 % 3"
      ],
      "id": "0596ced0",
      "execution_count": null,
      "outputs": [
        {
          "output_type": "execute_result",
          "data": {
            "text/plain": [
              "0"
            ]
          },
          "metadata": {
            "tags": []
          },
          "execution_count": 4
        }
      ]
    },
    {
      "cell_type": "code",
      "metadata": {
        "id": "d3baf932",
        "outputId": "3b7ecaec-d3d7-4202-ab5a-671a03eed5ca"
      },
      "source": [
        "21 // 3"
      ],
      "id": "d3baf932",
      "execution_count": null,
      "outputs": [
        {
          "output_type": "execute_result",
          "data": {
            "text/plain": [
              "7"
            ]
          },
          "metadata": {
            "tags": []
          },
          "execution_count": 5
        }
      ]
    },
    {
      "cell_type": "code",
      "metadata": {
        "id": "d0ff7ac9",
        "outputId": "9f5d084e-149a-4b21-d7fd-e3fb3726a956"
      },
      "source": [
        "21 // 4"
      ],
      "id": "d0ff7ac9",
      "execution_count": null,
      "outputs": [
        {
          "output_type": "execute_result",
          "data": {
            "text/plain": [
              "5"
            ]
          },
          "metadata": {
            "tags": []
          },
          "execution_count": 6
        }
      ]
    },
    {
      "cell_type": "code",
      "metadata": {
        "id": "9619c9b6",
        "outputId": "6acd0ae0-c4b6-4c66-fbd1-5f2e0227a30c"
      },
      "source": [
        "21 % 4"
      ],
      "id": "9619c9b6",
      "execution_count": null,
      "outputs": [
        {
          "output_type": "execute_result",
          "data": {
            "text/plain": [
              "1"
            ]
          },
          "metadata": {
            "tags": []
          },
          "execution_count": 7
        }
      ]
    },
    {
      "cell_type": "markdown",
      "metadata": {
        "id": "e5e72580"
      },
      "source": [
        "- Kadayıf\n",
        "- İç;\n",
        "  - Ceviz,\n",
        "  - Fındık,\n",
        "  - Fıstık.\n",
        "- Şerbet;\n",
        "  - Su,\n",
        "  - Şeker\n",
        "- Yumurta"
      ],
      "id": "e5e72580"
    },
    {
      "cell_type": "code",
      "metadata": {
        "id": "943e5427"
      },
      "source": [
        "kadayıf = True\n",
        "\n",
        "# iç\n",
        "fındık = True\n",
        "fıstık = True\n",
        "ceviz = True\n",
        "\n",
        "# şerbet\n",
        "su = True\n",
        "şeker = True\n",
        "\n",
        "yumurta = True\n",
        "\n",
        "# içecek\n",
        "çay = True\n",
        "limonata = False\n",
        "meşrubat = False"
      ],
      "id": "943e5427",
      "execution_count": null,
      "outputs": []
    },
    {
      "cell_type": "code",
      "metadata": {
        "id": "e37da5fa",
        "outputId": "214ba86a-4fe6-490d-84c8-b8760a4bbf5e"
      },
      "source": [
        "yedim = kadayıf and (fındık or fıstık or ceviz) and (su and şeker) and yumurta and (çay or limonata or meşrubat)\n",
        "yedim"
      ],
      "id": "e37da5fa",
      "execution_count": null,
      "outputs": [
        {
          "output_type": "execute_result",
          "data": {
            "text/plain": [
              "True"
            ]
          },
          "metadata": {
            "tags": []
          },
          "execution_count": 17
        }
      ]
    },
    {
      "cell_type": "code",
      "metadata": {
        "id": "99cf7742",
        "outputId": "e0d608bc-339a-4ad9-e61e-6105af4e9950"
      },
      "source": [
        "print(\"\\\\\"\")"
      ],
      "id": "99cf7742",
      "execution_count": null,
      "outputs": [
        {
          "output_type": "stream",
          "text": [
            "\"\n"
          ],
          "name": "stdout"
        }
      ]
    },
    {
      "cell_type": "code",
      "metadata": {
        "id": "eaefae9c"
      },
      "source": [
        "parça = \"clarusway\"[2:5]"
      ],
      "id": "eaefae9c",
      "execution_count": null,
      "outputs": []
    },
    {
      "cell_type": "code",
      "metadata": {
        "id": "09f89fa6",
        "outputId": "21511c29-ef2a-48e2-e561-1940de0950d6"
      },
      "source": [
        "parça"
      ],
      "id": "09f89fa6",
      "execution_count": null,
      "outputs": [
        {
          "output_type": "execute_result",
          "data": {
            "text/plain": [
              "'aru'"
            ]
          },
          "metadata": {
            "tags": []
          },
          "execution_count": 24
        }
      ]
    },
    {
      "cell_type": "code",
      "metadata": {
        "id": "f963b278"
      },
      "source": [
        "isim = \"clarusway okulu\""
      ],
      "id": "f963b278",
      "execution_count": null,
      "outputs": []
    },
    {
      "cell_type": "code",
      "metadata": {
        "id": "31741665",
        "outputId": "845c6272-10a4-4857-e8b5-921425736719"
      },
      "source": [
        "isim[3:7]"
      ],
      "id": "31741665",
      "execution_count": null,
      "outputs": [
        {
          "output_type": "execute_result",
          "data": {
            "text/plain": [
              "'rusw'"
            ]
          },
          "metadata": {
            "tags": []
          },
          "execution_count": 26
        }
      ]
    },
    {
      "cell_type": "code",
      "metadata": {
        "id": "9167245e",
        "outputId": "2dcfce22-4bce-48c3-b1c5-4c6253fdafdf"
      },
      "source": [
        "isim[9]"
      ],
      "id": "9167245e",
      "execution_count": null,
      "outputs": [
        {
          "output_type": "execute_result",
          "data": {
            "text/plain": [
              "' '"
            ]
          },
          "metadata": {
            "tags": []
          },
          "execution_count": 27
        }
      ]
    },
    {
      "cell_type": "code",
      "metadata": {
        "id": "7e0cbf5a",
        "outputId": "341d0019-ac41-45bc-a7a6-3951718fa67a"
      },
      "source": [
        "isim"
      ],
      "id": "7e0cbf5a",
      "execution_count": null,
      "outputs": [
        {
          "output_type": "execute_result",
          "data": {
            "text/plain": [
              "'clarusway okulu'"
            ]
          },
          "metadata": {
            "tags": []
          },
          "execution_count": 28
        }
      ]
    },
    {
      "cell_type": "code",
      "metadata": {
        "id": "2c2a8cb8",
        "outputId": "1d7a6e68-0872-44c3-b935-075bae8da28d"
      },
      "source": [
        "isim[::2]"
      ],
      "id": "2c2a8cb8",
      "execution_count": null,
      "outputs": [
        {
          "output_type": "execute_result",
          "data": {
            "text/plain": [
              "'cauwyouu'"
            ]
          },
          "metadata": {
            "tags": []
          },
          "execution_count": 29
        }
      ]
    },
    {
      "cell_type": "code",
      "metadata": {
        "id": "30e814cd",
        "outputId": "e56d3229-c77d-44d4-b8f2-e8b53fbfb91d"
      },
      "source": [
        "isim"
      ],
      "id": "30e814cd",
      "execution_count": null,
      "outputs": [
        {
          "output_type": "execute_result",
          "data": {
            "text/plain": [
              "'clarusway okulu'"
            ]
          },
          "metadata": {
            "tags": []
          },
          "execution_count": 30
        }
      ]
    },
    {
      "cell_type": "code",
      "metadata": {
        "id": "51c7ba9c",
        "outputId": "37d1adca-00f1-49fa-e02e-4c8c38ccca6e"
      },
      "source": [
        "isim[::]"
      ],
      "id": "51c7ba9c",
      "execution_count": null,
      "outputs": [
        {
          "output_type": "execute_result",
          "data": {
            "text/plain": [
              "'clarusway okulu'"
            ]
          },
          "metadata": {
            "tags": []
          },
          "execution_count": 32
        }
      ]
    },
    {
      "cell_type": "code",
      "metadata": {
        "id": "ff91ad36",
        "outputId": "0c2bdd61-2e28-4d23-8d51-6debec357209"
      },
      "source": [
        "isim[::-1]"
      ],
      "id": "ff91ad36",
      "execution_count": null,
      "outputs": [
        {
          "output_type": "execute_result",
          "data": {
            "text/plain": [
              "'uluko yawsuralc'"
            ]
          },
          "metadata": {
            "tags": []
          },
          "execution_count": 33
        }
      ]
    },
    {
      "cell_type": "code",
      "metadata": {
        "id": "400f26a4",
        "outputId": "3c8d1b28-a8d6-4e94-d6e3-ba1cbcfdf9ad"
      },
      "source": [
        "\"clarus\"[-3::-1]"
      ],
      "id": "400f26a4",
      "execution_count": null,
      "outputs": [
        {
          "output_type": "execute_result",
          "data": {
            "text/plain": [
              "'ralc'"
            ]
          },
          "metadata": {
            "tags": []
          },
          "execution_count": 35
        }
      ]
    },
    {
      "cell_type": "code",
      "metadata": {
        "id": "fa825078"
      },
      "source": [
        "hayvan = \"hippopotamus\""
      ],
      "id": "fa825078",
      "execution_count": null,
      "outputs": []
    },
    {
      "cell_type": "code",
      "metadata": {
        "id": "24dd647d",
        "outputId": "869231a8-9f88-4a8b-e5c8-680b2bbd5785"
      },
      "source": [
        "hayvan"
      ],
      "id": "24dd647d",
      "execution_count": null,
      "outputs": [
        {
          "output_type": "execute_result",
          "data": {
            "text/plain": [
              "'hippopotamus'"
            ]
          },
          "metadata": {
            "tags": []
          },
          "execution_count": 37
        }
      ]
    },
    {
      "cell_type": "code",
      "metadata": {
        "id": "9c4e3839",
        "outputId": "0f01de5e-541d-41da-eda9-4e40ed0ab7f7"
      },
      "source": [
        "hayvan[-5:-2]"
      ],
      "id": "9c4e3839",
      "execution_count": null,
      "outputs": [
        {
          "output_type": "execute_result",
          "data": {
            "text/plain": [
              "'tam'"
            ]
          },
          "metadata": {
            "tags": []
          },
          "execution_count": 38
        }
      ]
    },
    {
      "cell_type": "code",
      "metadata": {
        "id": "b16333f2",
        "outputId": "82d0c43b-0857-4389-d850-ea441cdf34d5"
      },
      "source": [
        "hayvan[-5:-2:-1]"
      ],
      "id": "b16333f2",
      "execution_count": null,
      "outputs": [
        {
          "output_type": "execute_result",
          "data": {
            "text/plain": [
              "''"
            ]
          },
          "metadata": {
            "tags": []
          },
          "execution_count": 39
        }
      ]
    },
    {
      "cell_type": "code",
      "metadata": {
        "id": "b5f5bf28",
        "outputId": "39ff40da-bc84-43eb-ae1b-871c6f6dda7f"
      },
      "source": [
        "hayvan[-2:-5]"
      ],
      "id": "b5f5bf28",
      "execution_count": null,
      "outputs": [
        {
          "output_type": "execute_result",
          "data": {
            "text/plain": [
              "''"
            ]
          },
          "metadata": {
            "tags": []
          },
          "execution_count": 40
        }
      ]
    },
    {
      "cell_type": "code",
      "metadata": {
        "id": "e346d055",
        "outputId": "d4ccebef-2c83-4af6-c2a8-418f8e1d21c7"
      },
      "source": [
        "var = \"  abc  \"\n",
        "len(var)"
      ],
      "id": "e346d055",
      "execution_count": null,
      "outputs": [
        {
          "output_type": "execute_result",
          "data": {
            "text/plain": [
              "7"
            ]
          },
          "metadata": {
            "tags": []
          },
          "execution_count": 41
        }
      ]
    },
    {
      "cell_type": "code",
      "metadata": {
        "id": "12dde19e",
        "outputId": "2980a328-d63d-45c1-cfa3-a0cd7b481cee"
      },
      "source": [
        "var1 = \"1.  abc  .1\"\n",
        "len(var1)"
      ],
      "id": "12dde19e",
      "execution_count": null,
      "outputs": [
        {
          "output_type": "execute_result",
          "data": {
            "text/plain": [
              "11"
            ]
          },
          "metadata": {
            "tags": []
          },
          "execution_count": 43
        }
      ]
    },
    {
      "cell_type": "code",
      "metadata": {
        "id": "983f0994",
        "outputId": "d03d88e4-b2c8-4a7a-a375-fc4bc093a391"
      },
      "source": [
        "\"upper-\" * 3"
      ],
      "id": "983f0994",
      "execution_count": null,
      "outputs": [
        {
          "output_type": "execute_result",
          "data": {
            "text/plain": [
              "'upper-upper-upper-'"
            ]
          },
          "metadata": {
            "tags": []
          },
          "execution_count": 45
        }
      ]
    },
    {
      "cell_type": "code",
      "metadata": {
        "id": "4eca0566",
        "outputId": "f4777b92-238d-4155-eed0-1731c4310c7c"
      },
      "source": [
        "3 * \"upper-\""
      ],
      "id": "4eca0566",
      "execution_count": null,
      "outputs": [
        {
          "output_type": "execute_result",
          "data": {
            "text/plain": [
              "'upper-upper-upper-'"
            ]
          },
          "metadata": {
            "tags": []
          },
          "execution_count": 46
        }
      ]
    },
    {
      "cell_type": "code",
      "metadata": {
        "id": "74edbe88",
        "outputId": "3927945a-82c4-46ed-c120-d1e2733a7bda"
      },
      "source": [
        "print(* \"upper\")"
      ],
      "id": "74edbe88",
      "execution_count": null,
      "outputs": [
        {
          "output_type": "stream",
          "text": [
            "u p p e r\n"
          ],
          "name": "stdout"
        }
      ]
    },
    {
      "cell_type": "code",
      "metadata": {
        "id": "af9fd1f3"
      },
      "source": [
        "s = \"I am angry..\""
      ],
      "id": "af9fd1f3",
      "execution_count": null,
      "outputs": []
    },
    {
      "cell_type": "code",
      "metadata": {
        "id": "62aa89be",
        "outputId": "b79211cc-b7a5-4b3c-cc23-04900bb534df"
      },
      "source": [
        "print(* s)"
      ],
      "id": "62aa89be",
      "execution_count": null,
      "outputs": [
        {
          "output_type": "stream",
          "text": [
            "I   a m   a n g r y . .\n"
          ],
          "name": "stdout"
        }
      ]
    },
    {
      "cell_type": "code",
      "metadata": {
        "id": "0af07566"
      },
      "source": [
        "s1 = \"clarus\""
      ],
      "id": "0af07566",
      "execution_count": null,
      "outputs": []
    },
    {
      "cell_type": "code",
      "metadata": {
        "id": "4ce9a0e5",
        "outputId": "6390dc69-4a75-4509-db76-1cd933211fac"
      },
      "source": [
        "s1 += \"way\"\n",
        "s1"
      ],
      "id": "4ce9a0e5",
      "execution_count": null,
      "outputs": [
        {
          "output_type": "execute_result",
          "data": {
            "text/plain": [
              "'clarusway'"
            ]
          },
          "metadata": {
            "tags": []
          },
          "execution_count": 51
        }
      ]
    },
    {
      "cell_type": "code",
      "metadata": {
        "id": "78ae919f",
        "outputId": "9c1876ae-5faf-4864-ed6f-34660f44ed93"
      },
      "source": [
        "s1 *= 2  # s1 = s1 * 2\n",
        "s1"
      ],
      "id": "78ae919f",
      "execution_count": null,
      "outputs": [
        {
          "output_type": "execute_result",
          "data": {
            "text/plain": [
              "'claruswayclarusway'"
            ]
          },
          "metadata": {
            "tags": []
          },
          "execution_count": 52
        }
      ]
    },
    {
      "cell_type": "code",
      "metadata": {
        "id": "22f30499",
        "outputId": "febc13a4-ac36-4207-ebe2-baae3cc21dc8"
      },
      "source": [
        "\"Benim {} öğrencilerimin maaşallahı var {}\".format(\"güzel\", \"mı acaba?\")"
      ],
      "id": "22f30499",
      "execution_count": null,
      "outputs": [
        {
          "output_type": "execute_result",
          "data": {
            "text/plain": [
              "'Benim güzel öğrencilerimin maaşallahı var mı acaba?'"
            ]
          },
          "metadata": {
            "tags": []
          },
          "execution_count": 53
        }
      ]
    },
    {
      "cell_type": "code",
      "metadata": {
        "id": "ece2db98",
        "outputId": "48fc1652-2e33-4357-9791-59cc66a99551"
      },
      "source": [
        "x = \"güzel\"\n",
        "y = \"mı acaba?\"\n",
        "\n",
        "\"Benim {} öğrencilerimin maaşallahı var {}\".format(x, y)"
      ],
      "id": "ece2db98",
      "execution_count": null,
      "outputs": [
        {
          "output_type": "execute_result",
          "data": {
            "text/plain": [
              "'Benim güzel öğrencilerimin maaşallahı var mı acaba?'"
            ]
          },
          "metadata": {
            "tags": []
          },
          "execution_count": 54
        }
      ]
    },
    {
      "cell_type": "code",
      "metadata": {
        "id": "1961074c"
      },
      "source": [
        "string = \"Benim {} öğrencilerimin maaşallahı var {}\""
      ],
      "id": "1961074c",
      "execution_count": null,
      "outputs": []
    },
    {
      "cell_type": "code",
      "metadata": {
        "id": "4a8bbd0e",
        "outputId": "e01bb423-0b91-4b3e-f0c4-85104557da91"
      },
      "source": [
        "string.format(x,y)"
      ],
      "id": "4a8bbd0e",
      "execution_count": null,
      "outputs": [
        {
          "output_type": "execute_result",
          "data": {
            "text/plain": [
              "'Benim güzel öğrencilerimin maaşallahı var mı acaba?'"
            ]
          },
          "metadata": {
            "tags": []
          },
          "execution_count": 56
        }
      ]
    },
    {
      "cell_type": "code",
      "metadata": {
        "id": "6845864a",
        "outputId": "54697ddc-4a64-420a-8d67-8bb6ee7f1c1f"
      },
      "source": [
        "x = \"güzel\"\n",
        "y = \"mı acaba?\"\n",
        "\n",
        "\"Benim {1} öğrencilerimin maaşallahı var {0}\".format(x, y)"
      ],
      "id": "6845864a",
      "execution_count": null,
      "outputs": [
        {
          "output_type": "execute_result",
          "data": {
            "text/plain": [
              "'Benim mı acaba? öğrencilerimin maaşallahı var güzel'"
            ]
          },
          "metadata": {
            "tags": []
          },
          "execution_count": 57
        }
      ]
    },
    {
      "cell_type": "code",
      "metadata": {
        "id": "0fe8ed5c"
      },
      "source": [
        ""
      ],
      "id": "0fe8ed5c",
      "execution_count": null,
      "outputs": []
    }
  ]
}
