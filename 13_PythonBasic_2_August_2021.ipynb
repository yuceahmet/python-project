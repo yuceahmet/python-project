{
  "nbformat": 4,
  "nbformat_minor": 5,
  "metadata": {
    "kernelspec": {
      "display_name": "Python 3",
      "language": "python",
      "name": "python3"
    },
    "language_info": {
      "codemirror_mode": {
        "name": "ipython",
        "version": 3
      },
      "file_extension": ".py",
      "mimetype": "text/x-python",
      "name": "python",
      "nbconvert_exporter": "python",
      "pygments_lexer": "ipython3",
      "version": "3.8.8"
    },
    "colab": {
      "name": "13_PythonBasic_2-August-2021.ipynb",
      "provenance": []
    }
  },
  "cells": [
    {
      "cell_type": "markdown",
      "metadata": {
        "id": "22263af8"
      },
      "source": [
        "<h1><p style=\"text-align: center; color:darkblue\">Python In-Class, <br>02 August 2021</p><h1>"
      ],
      "id": "22263af8"
    },
    {
      "cell_type": "code",
      "metadata": {
        "id": "48ddba7a"
      },
      "source": [
        "generate = (i ** 2 for i in range(6))"
      ],
      "id": "48ddba7a",
      "execution_count": null,
      "outputs": []
    },
    {
      "cell_type": "code",
      "metadata": {
        "id": "357a0e3a",
        "outputId": "33d1c082-b08a-4b59-e0b1-c0bb27c02263"
      },
      "source": [
        "generate"
      ],
      "id": "357a0e3a",
      "execution_count": null,
      "outputs": [
        {
          "output_type": "execute_result",
          "data": {
            "text/plain": [
              "<generator object <genexpr> at 0x7fe8f8053970>"
            ]
          },
          "metadata": {
            "tags": []
          },
          "execution_count": 5
        }
      ]
    },
    {
      "cell_type": "code",
      "metadata": {
        "id": "ca5fd159",
        "outputId": "392a571c-3f6b-4f5c-bf7e-baf6c567bbb2"
      },
      "source": [
        "print(* generate)"
      ],
      "id": "ca5fd159",
      "execution_count": null,
      "outputs": [
        {
          "output_type": "stream",
          "text": [
            "\n"
          ],
          "name": "stdout"
        }
      ]
    },
    {
      "cell_type": "code",
      "metadata": {
        "id": "6bd84810"
      },
      "source": [
        "for i in generate :\n",
        "    print(i)"
      ],
      "id": "6bd84810",
      "execution_count": null,
      "outputs": []
    },
    {
      "cell_type": "code",
      "metadata": {
        "id": "1ed5cdc3",
        "outputId": "b1afa1a0-ae81-4563-bf1d-5efe42de7db6"
      },
      "source": [
        "list(generate)"
      ],
      "id": "1ed5cdc3",
      "execution_count": null,
      "outputs": [
        {
          "output_type": "execute_result",
          "data": {
            "text/plain": [
              "[0, 1, 4, 9, 16, 25]"
            ]
          },
          "metadata": {
            "tags": []
          },
          "execution_count": 14
        }
      ]
    },
    {
      "cell_type": "code",
      "metadata": {
        "id": "bfc2b256"
      },
      "source": [
        "generate = (i ** 2 for i in range(6))"
      ],
      "id": "bfc2b256",
      "execution_count": null,
      "outputs": []
    },
    {
      "cell_type": "code",
      "metadata": {
        "id": "4bb67882",
        "outputId": "3d5b2761-7b82-4e26-fdf7-05427e782a7a"
      },
      "source": [
        "print(next(generate))"
      ],
      "id": "4bb67882",
      "execution_count": null,
      "outputs": [
        {
          "output_type": "stream",
          "text": [
            "0\n"
          ],
          "name": "stdout"
        }
      ]
    },
    {
      "cell_type": "code",
      "metadata": {
        "id": "de786a84",
        "outputId": "9dcffb75-97d0-4087-cdd2-f482afe9abb4"
      },
      "source": [
        "print(next(generate))"
      ],
      "id": "de786a84",
      "execution_count": null,
      "outputs": [
        {
          "output_type": "stream",
          "text": [
            "1\n"
          ],
          "name": "stdout"
        }
      ]
    },
    {
      "cell_type": "code",
      "metadata": {
        "id": "1cd86065",
        "outputId": "6a1329d0-5861-4b93-fcb7-f706ab42c826"
      },
      "source": [
        "print(next(generate))"
      ],
      "id": "1cd86065",
      "execution_count": null,
      "outputs": [
        {
          "output_type": "stream",
          "text": [
            "4\n"
          ],
          "name": "stdout"
        }
      ]
    },
    {
      "cell_type": "code",
      "metadata": {
        "id": "98929dc0",
        "outputId": "97968c71-820e-4640-bc0d-19cc51645356"
      },
      "source": [
        "print(next(generate))"
      ],
      "id": "98929dc0",
      "execution_count": null,
      "outputs": [
        {
          "output_type": "stream",
          "text": [
            "9\n"
          ],
          "name": "stdout"
        }
      ]
    },
    {
      "cell_type": "code",
      "metadata": {
        "id": "d3a72dcc",
        "outputId": "96c09b51-1045-4139-afe8-2d16eda037ab"
      },
      "source": [
        "print(next(generate))"
      ],
      "id": "d3a72dcc",
      "execution_count": null,
      "outputs": [
        {
          "output_type": "stream",
          "text": [
            "16\n"
          ],
          "name": "stdout"
        }
      ]
    },
    {
      "cell_type": "code",
      "metadata": {
        "id": "7788d5b2",
        "outputId": "644aef92-7de8-4e87-e033-9afa989877de"
      },
      "source": [
        "print(next(generate))"
      ],
      "id": "7788d5b2",
      "execution_count": null,
      "outputs": [
        {
          "output_type": "stream",
          "text": [
            "25\n"
          ],
          "name": "stdout"
        }
      ]
    },
    {
      "cell_type": "code",
      "metadata": {
        "id": "f84e6d87",
        "outputId": "404c8da2-f160-4f2a-ca61-93fb6b5bbaaf"
      },
      "source": [
        "print(next(generate))"
      ],
      "id": "f84e6d87",
      "execution_count": null,
      "outputs": [
        {
          "output_type": "error",
          "ename": "StopIteration",
          "evalue": "",
          "traceback": [
            "\u001b[0;31m---------------------------------------------------------------------------\u001b[0m",
            "\u001b[0;31mStopIteration\u001b[0m                             Traceback (most recent call last)",
            "\u001b[0;32m<ipython-input-24-e0b94480744e>\u001b[0m in \u001b[0;36m<module>\u001b[0;34m\u001b[0m\n\u001b[0;32m----> 1\u001b[0;31m \u001b[0mprint\u001b[0m\u001b[0;34m(\u001b[0m\u001b[0mnext\u001b[0m\u001b[0;34m(\u001b[0m\u001b[0mgenerate\u001b[0m\u001b[0;34m)\u001b[0m\u001b[0;34m)\u001b[0m\u001b[0;34m\u001b[0m\u001b[0;34m\u001b[0m\u001b[0m\n\u001b[0m",
            "\u001b[0;31mStopIteration\u001b[0m: "
          ]
        }
      ]
    },
    {
      "cell_type": "code",
      "metadata": {
        "id": "cb11e3c5",
        "outputId": "3d118ad2-1102-41f7-9140-7a86dae9aa91"
      },
      "source": [
        "print(* generate)"
      ],
      "id": "cb11e3c5",
      "execution_count": null,
      "outputs": [
        {
          "output_type": "stream",
          "text": [
            "9 16 25\n"
          ],
          "name": "stdout"
        }
      ]
    },
    {
      "cell_type": "markdown",
      "metadata": {
        "id": "ccda701e"
      },
      "source": [
        "## Armstrong Numbers"
      ],
      "id": "ccda701e"
    },
    {
      "cell_type": "code",
      "metadata": {
        "colab": {
          "base_uri": "https://localhost:8080/"
        },
        "id": "1103f56d",
        "outputId": "b3220e60-6c81-4205-da74-55fd6d16d985"
      },
      "source": [
        "#amstrong sayı bulma\n",
        "while True:\n",
        "  number=input(\"enter a positive integer number: \")\n",
        "  digits=len(number)\n",
        "  summ=0\n",
        "  if not number.isdigit():\n",
        "    print(number,\"is invalid entry.\")\n",
        "  elif int(number)>0:\n",
        "    for i in range(digits):\n",
        "      summ=summ+int(number[i])**digits\n",
        "    if summ==int(number):\n",
        "      print(number,\"is an armstrong number\")\n",
        "      break\n",
        "    else :\n",
        "      print(number,\"is not an Armstrong number.Sorry\")\n",
        "      break"
      ],
      "id": "1103f56d",
      "execution_count": 2,
      "outputs": [
        {
          "output_type": "stream",
          "text": [
            "enter a positive integer number: 12\n",
            "12 is not an Armstrong number.Sorry\n"
          ],
          "name": "stdout"
        }
      ]
    },
    {
      "cell_type": "markdown",
      "metadata": {
        "id": "9f0564b8"
      },
      "source": [
        "## is it a Prime Number?"
      ],
      "id": "9f0564b8"
    },
    {
      "cell_type": "code",
      "metadata": {
        "id": "ab1b958e",
        "outputId": "a6b88d92-3702-4ac2-e981-3a25b38e049f"
      },
      "source": [
        "n = int(input(\"Enter a positive number to check if it is a Prime Number : \"))\n",
        "count = 0\n",
        "\n",
        "for i in range(1, n+1) :\n",
        "    if n % i == 0 :\n",
        "        count += 1\n",
        "if (n == 0) or (n == 1) or (count >= 3) :\n",
        "    print(n, \"is not a Prime Number.\")\n",
        "else :\n",
        "    print(n, \"is a Prime Number.\")"
      ],
      "id": "ab1b958e",
      "execution_count": null,
      "outputs": [
        {
          "output_type": "stream",
          "text": [
            "Enter a positive number to check if it is a Prime Number : 0\n",
            "0 is not a Prime Number.\n"
          ],
          "name": "stdout"
        }
      ]
    },
    {
      "cell_type": "code",
      "metadata": {
        "id": "f749611e"
      },
      "source": [
        "def mevlana() :\n",
        "    print(\"\"\"Cömertlik ve yardım etme gibi ol\n",
        "Şefkat ve merhamette güneş\n",
        "Başkalarının kusurunu örtmede gece gibi ol.\n",
        "Hiddet ve asabivette ölü gibi ol.\n",
        "Tevazu ve alçak gönüllülükte toprak gibi ol.\n",
        "Hoşgörülükte deniz gibi ol.\n",
        "Ya olduğun gibi görün, ya göründüğün gibi ol.\"\"\")"
      ],
      "id": "f749611e",
      "execution_count": null,
      "outputs": []
    },
    {
      "cell_type": "code",
      "metadata": {
        "id": "87b321fc",
        "outputId": "45aeeec4-4e92-4689-ffe0-7b2d704148ff"
      },
      "source": [
        "mevlana()"
      ],
      "id": "87b321fc",
      "execution_count": null,
      "outputs": [
        {
          "output_type": "stream",
          "text": [
            "Cömertlik ve yardım etme gibi ol\n",
            "Şefkat ve merhamette güneş\n",
            "Başkalarının kusurunu örtmede gece gibi ol.\n",
            "Hiddet ve asabivette ölü gibi ol.\n",
            "Tevazu ve alçak gönüllülükte toprak gibi ol.\n",
            "Hoşgörülükte deniz gibi ol.\n",
            "Ya olduğun gibi görün, ya göründiiğün gibi ol.\n"
          ],
          "name": "stdout"
        }
      ]
    },
    {
      "cell_type": "code",
      "metadata": {
        "id": "f3390698"
      },
      "source": [
        "def calculator(x, y, opr) :\n",
        "    if opr == \"+\" :\n",
        "        print(x + y)\n",
        "    elif opr == \"-\" :\n",
        "        print(x - y)\n",
        "    elif opr == \"*\" :\n",
        "        print(x * y)\n",
        "    elif opr == \"/\" :\n",
        "        print(x / y)\n",
        "    else :\n",
        "        print(\"Enter a valid opr.\")"
      ],
      "id": "f3390698",
      "execution_count": null,
      "outputs": []
    },
    {
      "cell_type": "code",
      "metadata": {
        "id": "f7771289",
        "outputId": "82f5eca2-ed5f-4191-d07e-b439688edaa9"
      },
      "source": [
        "calculator(5, 2, \"-\")"
      ],
      "id": "f7771289",
      "execution_count": null,
      "outputs": [
        {
          "output_type": "stream",
          "text": [
            "3\n"
          ],
          "name": "stdout"
        }
      ]
    },
    {
      "cell_type": "code",
      "metadata": {
        "id": "1e0a43ee",
        "outputId": "0769ad23-a5ff-4d15-e1b4-e05e0c71b1e9"
      },
      "source": [
        "type(print())"
      ],
      "id": "1e0a43ee",
      "execution_count": null,
      "outputs": [
        {
          "output_type": "stream",
          "text": [
            "\n"
          ],
          "name": "stdout"
        },
        {
          "output_type": "execute_result",
          "data": {
            "text/plain": [
              "NoneType"
            ]
          },
          "metadata": {
            "tags": []
          },
          "execution_count": 41
        }
      ]
    },
    {
      "cell_type": "code",
      "metadata": {
        "id": "e20dbb52"
      },
      "source": [
        "def calculator2(x, y, opr) :\n",
        "    if opr == \"+\" :\n",
        "        return (x + y)\n",
        "    elif opr == \"-\" :\n",
        "        return (x - y)\n",
        "    elif opr == \"*\" :\n",
        "        return (x * y)\n",
        "    elif opr == \"/\" :\n",
        "        return (x / y)\n",
        "    else : return \"Enter a valid opr.\""
      ],
      "id": "e20dbb52",
      "execution_count": null,
      "outputs": []
    },
    {
      "cell_type": "code",
      "metadata": {
        "id": "239f1124",
        "outputId": "e2b2bfff-2aa7-4fd3-827e-dac785ff4a2d"
      },
      "source": [
        "print(calculator2(9,2, \"+\"))"
      ],
      "id": "239f1124",
      "execution_count": null,
      "outputs": [
        {
          "output_type": "stream",
          "text": [
            "11\n"
          ],
          "name": "stdout"
        }
      ]
    },
    {
      "cell_type": "code",
      "metadata": {
        "id": "73564d6b"
      },
      "source": [
        "def absolute_value(num) :\n",
        "    \n",
        "    \"\"\"This function gives absolute value\n",
        "of the entered number.\"\"\"\n",
        "    \n",
        "    if num >= 0 :\n",
        "        return num\n",
        "    else :\n",
        "        return -num"
      ],
      "id": "73564d6b",
      "execution_count": null,
      "outputs": []
    },
    {
      "cell_type": "code",
      "metadata": {
        "id": "5939e914",
        "outputId": "ce99af89-2b12-499e-f8d6-06213960f69c"
      },
      "source": [
        "print(absolute_value(-22))"
      ],
      "id": "5939e914",
      "execution_count": null,
      "outputs": [
        {
          "output_type": "stream",
          "text": [
            "22\n"
          ],
          "name": "stdout"
        }
      ]
    },
    {
      "cell_type": "code",
      "metadata": {
        "id": "12848824",
        "outputId": "0c6ae25a-446f-446b-960a-817b1383ab69"
      },
      "source": [
        "print(absolute_value.__doc__)"
      ],
      "id": "12848824",
      "execution_count": null,
      "outputs": [
        {
          "output_type": "stream",
          "text": [
            "This function gives absolute value\n",
            "of the entered number.\n"
          ],
          "name": "stdout"
        }
      ]
    },
    {
      "cell_type": "code",
      "metadata": {
        "id": "1265aaf0",
        "outputId": "d95c0496-a63f-4d0b-97e1-1eb7139b1d8f"
      },
      "source": [
        "print(print.__doc__)"
      ],
      "id": "1265aaf0",
      "execution_count": null,
      "outputs": [
        {
          "output_type": "stream",
          "text": [
            "print(value, ..., sep=' ', end='\\n', file=sys.stdout, flush=False)\n",
            "\n",
            "Prints the values to a stream, or to sys.stdout by default.\n",
            "Optional keyword arguments:\n",
            "file:  a file-like object (stream); defaults to the current sys.stdout.\n",
            "sep:   string inserted between values, default a space.\n",
            "end:   string appended after the last value, default a newline.\n",
            "flush: whether to forcibly flush the stream.\n"
          ],
          "name": "stdout"
        }
      ]
    },
    {
      "cell_type": "markdown",
      "metadata": {
        "id": "48ca97f6"
      },
      "source": [
        "```python\n",
        "\n",
        "def print(parameters) :\n",
        "    body\n",
        "```"
      ],
      "id": "48ca97f6"
    },
    {
      "cell_type": "code",
      "metadata": {
        "id": "41e665b4",
        "outputId": "5f2c0f18-61fd-448c-dc99-dc2fdc18823f"
      },
      "source": [
        "print(abs.__doc__)"
      ],
      "id": "41e665b4",
      "execution_count": null,
      "outputs": [
        {
          "output_type": "stream",
          "text": [
            "Return the absolute value of the argument.\n"
          ],
          "name": "stdout"
        }
      ]
    }
  ]
}
