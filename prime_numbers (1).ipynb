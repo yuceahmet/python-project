{
  "nbformat": 4,
  "nbformat_minor": 0,
  "metadata": {
    "colab": {
      "name": "prime_numbers.ipynb",
      "provenance": []
    },
    "kernelspec": {
      "name": "python3",
      "display_name": "Python 3"
    },
    "language_info": {
      "name": "python"
    }
  },
  "cells": [
    {
      "cell_type": "code",
      "metadata": {
        "id": "9UzHKHb4QmVO",
        "colab": {
          "base_uri": "https://localhost:8080/"
        },
        "outputId": "f8704211-33b4-491c-a572-8b3553522e0d"
      },
      "source": [
        "n=int(input(\"To find out the prime numbers beginning with 1 in a list, enter the last number of the list you want :\"))\n",
        "liste=[]\n",
        "for i in range(1,n):\n",
        "  for x in range(2,i):\n",
        "    if (i%x==0):\n",
        "      break\n",
        "  else:\n",
        "    liste.append(i)\n",
        "print(liste)"
      ],
      "execution_count": 1,
      "outputs": [
        {
          "output_type": "stream",
          "text": [
            "To find out the prime numbers beginning with 1 in a list, enter the last number of the list you want :100\n",
            "[1, 2, 3, 5, 7, 11, 13, 17, 19, 23, 29, 31, 37, 41, 43, 47, 53, 59, 61, 67, 71, 73, 79, 83, 89, 97]\n"
          ],
          "name": "stdout"
        }
      ]
    }
  ]
}