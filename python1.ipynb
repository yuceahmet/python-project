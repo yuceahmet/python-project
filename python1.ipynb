{
  "nbformat": 4,
  "nbformat_minor": 0,
  "metadata": {
    "colab": {
      "name": "python1.ipynb",
      "provenance": [],
      "collapsed_sections": [],
      "authorship_tag": "ABX9TyNfkrhA+2V6R+QDUJKUheW8",
      "include_colab_link": true
    },
    "kernelspec": {
      "display_name": "Python 3",
      "name": "python3"
    },
    "language_info": {
      "name": "python"
    }
  },
  "cells": [
    {
      "cell_type": "markdown",
      "metadata": {
        "id": "view-in-github",
        "colab_type": "text"
      },
      "source": [
        "<a href=\"https://colab.research.google.com/github/yuceahmet/python-project/blob/main/python1.ipynb\" target=\"_parent\"><img src=\"https://colab.research.google.com/assets/colab-badge.svg\" alt=\"Open In Colab\"/></a>"
      ]
    },
    {
      "cell_type": "code",
      "metadata": {
        "colab": {
          "base_uri": "https://localhost:8080/"
        },
        "id": "No8aNuzgV6a-",
        "outputId": "c24cdab6-b471-40a8-cd5d-fbbb50a88723"
      },
      "source": [
        "pip install googletrans"
      ],
      "execution_count": null,
      "outputs": [
        {
          "output_type": "stream",
          "text": [
            "Collecting googletrans\n",
            "  Downloading googletrans-3.0.0.tar.gz (17 kB)\n",
            "Collecting httpx==0.13.3\n",
            "  Downloading httpx-0.13.3-py3-none-any.whl (55 kB)\n",
            "\u001b[K     |████████████████████████████████| 55 kB 1.9 MB/s \n",
            "\u001b[?25hRequirement already satisfied: idna==2.* in /usr/local/lib/python3.7/dist-packages (from httpx==0.13.3->googletrans) (2.10)\n",
            "Collecting sniffio\n",
            "  Downloading sniffio-1.2.0-py3-none-any.whl (10 kB)\n",
            "Collecting httpcore==0.9.*\n",
            "  Downloading httpcore-0.9.1-py3-none-any.whl (42 kB)\n",
            "\u001b[K     |████████████████████████████████| 42 kB 1.2 MB/s \n",
            "\u001b[?25hRequirement already satisfied: chardet==3.* in /usr/local/lib/python3.7/dist-packages (from httpx==0.13.3->googletrans) (3.0.4)\n",
            "Collecting hstspreload\n",
            "  Downloading hstspreload-2021.8.1-py3-none-any.whl (1.2 MB)\n",
            "\u001b[K     |████████████████████████████████| 1.2 MB 10.5 MB/s \n",
            "\u001b[?25hCollecting rfc3986<2,>=1.3\n",
            "  Downloading rfc3986-1.5.0-py2.py3-none-any.whl (31 kB)\n",
            "Requirement already satisfied: certifi in /usr/local/lib/python3.7/dist-packages (from httpx==0.13.3->googletrans) (2021.5.30)\n",
            "Collecting h11<0.10,>=0.8\n",
            "  Downloading h11-0.9.0-py2.py3-none-any.whl (53 kB)\n",
            "\u001b[K     |████████████████████████████████| 53 kB 2.2 MB/s \n",
            "\u001b[?25hCollecting h2==3.*\n",
            "  Downloading h2-3.2.0-py2.py3-none-any.whl (65 kB)\n",
            "\u001b[K     |████████████████████████████████| 65 kB 3.1 MB/s \n",
            "\u001b[?25hCollecting hyperframe<6,>=5.2.0\n",
            "  Downloading hyperframe-5.2.0-py2.py3-none-any.whl (12 kB)\n",
            "Collecting hpack<4,>=3.0\n",
            "  Downloading hpack-3.0.0-py2.py3-none-any.whl (38 kB)\n",
            "Building wheels for collected packages: googletrans\n",
            "  Building wheel for googletrans (setup.py) ... \u001b[?25l\u001b[?25hdone\n",
            "  Created wheel for googletrans: filename=googletrans-3.0.0-py3-none-any.whl size=15734 sha256=daee38e5ee0e4fa2d10c3bad41f8c1fc4faa5c228e641ab397bc414a49066a7f\n",
            "  Stored in directory: /root/.cache/pip/wheels/20/da/eb/a54579056f265eede0417df537dd56d3df5b9eb2b25df0003d\n",
            "Successfully built googletrans\n",
            "Installing collected packages: hyperframe, hpack, sniffio, h2, h11, rfc3986, httpcore, hstspreload, httpx, googletrans\n",
            "Successfully installed googletrans-3.0.0 h11-0.9.0 h2-3.2.0 hpack-3.0.0 hstspreload-2021.8.1 httpcore-0.9.1 httpx-0.13.3 hyperframe-5.2.0 rfc3986-1.5.0 sniffio-1.2.0\n"
          ],
          "name": "stdout"
        }
      ]
    },
    {
      "cell_type": "code",
      "metadata": {
        "id": "SUdv1NjzWFqG"
      },
      "source": [
        "import googletrans"
      ],
      "execution_count": null,
      "outputs": []
    },
    {
      "cell_type": "code",
      "metadata": {
        "id": "FQ8SwTu4WQ3e"
      },
      "source": [
        "from googletrans import Translator\n",
        "translate=Translator()"
      ],
      "execution_count": null,
      "outputs": []
    },
    {
      "cell_type": "code",
      "metadata": {
        "colab": {
          "base_uri": "https://localhost:8080/",
          "height": 183
        },
        "id": "xbPi86dZWg9i",
        "outputId": "bc27516d-dd2c-4f08-cc9b-63071188cb9a"
      },
      "source": [
        "text=\"En iyi okul budur.\"\n",
        "translator(text, src=\"tr\")"
      ],
      "execution_count": null,
      "outputs": [
        {
          "output_type": "error",
          "ename": "NameError",
          "evalue": "ignored",
          "traceback": [
            "\u001b[0;31m---------------------------------------------------------------------------\u001b[0m",
            "\u001b[0;31mNameError\u001b[0m                                 Traceback (most recent call last)",
            "\u001b[0;32m<ipython-input-16-c81ade2fd2b1>\u001b[0m in \u001b[0;36m<module>\u001b[0;34m()\u001b[0m\n\u001b[1;32m      1\u001b[0m \u001b[0mtext\u001b[0m\u001b[0;34m=\u001b[0m\u001b[0;34m\"En iyi okul budur.\"\u001b[0m\u001b[0;34m\u001b[0m\u001b[0;34m\u001b[0m\u001b[0m\n\u001b[0;32m----> 2\u001b[0;31m \u001b[0mtranslator\u001b[0m\u001b[0;34m(\u001b[0m\u001b[0mtext\u001b[0m\u001b[0;34m,\u001b[0m \u001b[0msrc\u001b[0m\u001b[0;34m=\u001b[0m\u001b[0;34m\"tr\"\u001b[0m\u001b[0;34m)\u001b[0m\u001b[0;34m\u001b[0m\u001b[0;34m\u001b[0m\u001b[0m\n\u001b[0m",
            "\u001b[0;31mNameError\u001b[0m: name 'translator' is not defined"
          ]
        }
      ]
    },
    {
      "cell_type": "code",
      "metadata": {
        "colab": {
          "base_uri": "https://localhost:8080/"
        },
        "id": "rE1VRIndi-X4",
        "outputId": "a9c20ce6-e377-4977-cea5-23dd8125a45d"
      },
      "source": [
        "x=[\"1\", \"2\", \"3\"]\n",
        "y=[\"USA\", \"JAPAN\", \"SPAIN\"]\n",
        "[i+j for i in y for j in x]"
      ],
      "execution_count": null,
      "outputs": [
        {
          "output_type": "execute_result",
          "data": {
            "text/plain": [
              "['USA1',\n",
              " 'USA2',\n",
              " 'USA3',\n",
              " 'JAPAN1',\n",
              " 'JAPAN2',\n",
              " 'JAPAN3',\n",
              " 'SPAIN1',\n",
              " 'SPAIN2',\n",
              " 'SPAIN3']"
            ]
          },
          "metadata": {},
          "execution_count": 24
        }
      ]
    },
    {
      "cell_type": "code",
      "metadata": {
        "colab": {
          "base_uri": "https://localhost:8080/"
        },
        "id": "WTozYkuRjtyg",
        "outputId": "89322c6e-1107-42a8-a564-90a13a0999ff"
      },
      "source": [
        "x=[\"1\", \"2\", \"3\"]\n",
        "y=[\"USA\", \"JAPAN\", \"SPAIN\"]\n",
        "result=[]\n",
        "for i in y:\n",
        "  for j in x:\n",
        "    result.append(i+j)\n",
        "result"
      ],
      "execution_count": null,
      "outputs": [
        {
          "output_type": "execute_result",
          "data": {
            "text/plain": [
              "['USA1',\n",
              " 'USA2',\n",
              " 'USA3',\n",
              " 'JAPAN1',\n",
              " 'JAPAN2',\n",
              " 'JAPAN3',\n",
              " 'SPAIN1',\n",
              " 'SPAIN2',\n",
              " 'SPAIN3']"
            ]
          },
          "metadata": {},
          "execution_count": 25
        }
      ]
    },
    {
      "cell_type": "code",
      "metadata": {
        "id": "IBAnNBvJmPxT"
      },
      "source": [
        "import smtplib"
      ],
      "execution_count": null,
      "outputs": []
    },
    {
      "cell_type": "code",
      "metadata": {
        "colab": {
          "base_uri": "https://localhost:8080/"
        },
        "id": "bELxy4CoQ_AI",
        "outputId": "5b3bb195-e177-4bfb-bac3-24ee875c1267"
      },
      "source": [
        "my_pass=\"1994Aristo.ay\"\n",
        "server=smtplib.SMTP(\"smtp.gmail.com\", 587)\n",
        "server.starttls()\n",
        "server.login(\"yuce.ahmet.tr@gmail.com\", my_pass)\n",
        "mesaj=\"python'dan merhaba\"\n",
        "server.sendmail(\"yuce.ahmet.tr@gmail.com\", \"yuce.ahmet@yahoo.com.tr\", mesaj)\n",
        "server.quit()"
      ],
      "execution_count": null,
      "outputs": [
        {
          "output_type": "execute_result",
          "data": {
            "text/plain": [
              "(221, b'2.0.0 closing connection h23sm131508vke.48 - gsmtp')"
            ]
          },
          "metadata": {},
          "execution_count": 23
        }
      ]
    },
    {
      "cell_type": "code",
      "metadata": {
        "id": "u29gylDZQ-xq"
      },
      "source": [
        "server."
      ],
      "execution_count": null,
      "outputs": []
    },
    {
      "cell_type": "code",
      "metadata": {
        "id": "NvqaDMaOQ-Ys"
      },
      "source": [
        ""
      ],
      "execution_count": null,
      "outputs": []
    },
    {
      "cell_type": "code",
      "metadata": {
        "colab": {
          "base_uri": "https://localhost:8080/"
        },
        "id": "_vkDfy32l7Jd",
        "outputId": "0c1f2061-e4e8-4101-a6f4-2147e9d9e042"
      },
      "source": [
        "import calendar\n",
        "for day in calendar.day_name:\n",
        "  print(day)"
      ],
      "execution_count": null,
      "outputs": [
        {
          "output_type": "stream",
          "text": [
            "Monday\n",
            "Tuesday\n",
            "Wednesday\n",
            "Thursday\n",
            "Friday\n",
            "Saturday\n",
            "Sunday\n"
          ],
          "name": "stdout"
        }
      ]
    },
    {
      "cell_type": "code",
      "metadata": {
        "colab": {
          "base_uri": "https://localhost:8080/"
        },
        "id": "FJODsnVNmXwE",
        "outputId": "4e161c1f-ed64-4bec-8805-b05f5c1f43c0"
      },
      "source": [
        "for month in calendar.month_name:\n",
        "  print(month)"
      ],
      "execution_count": null,
      "outputs": [
        {
          "output_type": "stream",
          "text": [
            "\n",
            "January\n",
            "February\n",
            "March\n",
            "April\n",
            "May\n",
            "June\n",
            "July\n",
            "August\n",
            "September\n",
            "October\n",
            "November\n",
            "December\n"
          ],
          "name": "stdout"
        }
      ]
    },
    {
      "cell_type": "code",
      "metadata": {
        "colab": {
          "base_uri": "https://localhost:8080/"
        },
        "id": "1VCo3nuSnVSL",
        "outputId": "f81fb491-2d87-4087-c0e3-2ca33cd5ca44"
      },
      "source": [
        "calendar.monthcalendar(2021,9)"
      ],
      "execution_count": null,
      "outputs": [
        {
          "output_type": "execute_result",
          "data": {
            "text/plain": [
              "[[0, 0, 1, 2, 3, 4, 5],\n",
              " [6, 7, 8, 9, 10, 11, 12],\n",
              " [13, 14, 15, 16, 17, 18, 19],\n",
              " [20, 21, 22, 23, 24, 25, 26],\n",
              " [27, 28, 29, 30, 0, 0, 0]]"
            ]
          },
          "metadata": {},
          "execution_count": 16
        }
      ]
    },
    {
      "cell_type": "code",
      "metadata": {
        "colab": {
          "base_uri": "https://localhost:8080/"
        },
        "id": "U6ken5nDnna7",
        "outputId": "41c12dfc-4395-45f3-8d4b-087176feef2a"
      },
      "source": [
        "print(calendar.monthcalendar(2021,9))"
      ],
      "execution_count": null,
      "outputs": [
        {
          "output_type": "stream",
          "text": [
            "[[0, 0, 1, 2, 3, 4, 5], [6, 7, 8, 9, 10, 11, 12], [13, 14, 15, 16, 17, 18, 19], [20, 21, 22, 23, 24, 25, 26], [27, 28, 29, 30, 0, 0, 0]]\n"
          ],
          "name": "stdout"
        }
      ]
    },
    {
      "cell_type": "code",
      "metadata": {
        "colab": {
          "base_uri": "https://localhost:8080/"
        },
        "id": "HhAzBhiGn2Wf",
        "outputId": "cca89684-e61c-4dc7-9fff-1f1b040950e4"
      },
      "source": [
        "print(calendar.TextCalendar(calendar.SUNDAY).formatmonth(2021,9))"
      ],
      "execution_count": null,
      "outputs": [
        {
          "output_type": "stream",
          "text": [
            "   September 2021\n",
            "Su Mo Tu We Th Fr Sa\n",
            "          1  2  3  4\n",
            " 5  6  7  8  9 10 11\n",
            "12 13 14 15 16 17 18\n",
            "19 20 21 22 23 24 25\n",
            "26 27 28 29 30\n",
            "\n"
          ],
          "name": "stdout"
        }
      ]
    },
    {
      "cell_type": "code",
      "metadata": {
        "colab": {
          "base_uri": "https://localhost:8080/"
        },
        "id": "BHwVl0Mno5NT",
        "outputId": "e1d90f5a-5cb4-49fa-c07d-35ee6d770dc6"
      },
      "source": [
        "print(calendar.TextCalendar().formatmonth(2021,9))"
      ],
      "execution_count": null,
      "outputs": [
        {
          "output_type": "stream",
          "text": [
            "   September 2021\n",
            "Mo Tu We Th Fr Sa Su\n",
            "       1  2  3  4  5\n",
            " 6  7  8  9 10 11 12\n",
            "13 14 15 16 17 18 19\n",
            "20 21 22 23 24 25 26\n",
            "27 28 29 30\n",
            "\n"
          ],
          "name": "stdout"
        }
      ]
    },
    {
      "cell_type": "code",
      "metadata": {
        "id": "RCZNflADpX38",
        "colab": {
          "base_uri": "https://localhost:8080/"
        },
        "outputId": "412354bd-f4a3-4acf-ab4e-c347e7f5d6f7"
      },
      "source": [
        "print(calendar.TextCalendar().formatmonth(2021,9,0,0))"
      ],
      "execution_count": null,
      "outputs": [
        {
          "output_type": "stream",
          "text": [
            "   September 2021\n",
            "Mo Tu We Th Fr Sa Su\n",
            "       1  2  3  4  5\n",
            " 6  7  8  9 10 11 12\n",
            "13 14 15 16 17 18 19\n",
            "20 21 22 23 24 25 26\n",
            "27 28 29 30\n",
            "\n"
          ],
          "name": "stdout"
        }
      ]
    },
    {
      "cell_type": "code",
      "metadata": {
        "colab": {
          "base_uri": "https://localhost:8080/"
        },
        "id": "p8-09ESDYVvN",
        "outputId": "132459b3-6408-42b8-c119-82578edf826d"
      },
      "source": [
        "from datetime import date\n",
        "from datetime import datetime\n",
        "from datetime import time\n",
        "from datetime import timedelta\n",
        "print(str(datetime.now()+timedelta(days=2,weeks=1)))\n"
      ],
      "execution_count": null,
      "outputs": [
        {
          "output_type": "stream",
          "text": [
            "2021-08-29 21:07:10.328600\n"
          ],
          "name": "stdout"
        }
      ]
    },
    {
      "cell_type": "code",
      "metadata": {
        "colab": {
          "base_uri": "https://localhost:8080/"
        },
        "id": "O4dTzC9gemNK",
        "outputId": "5b348d3f-b985-4548-ea49-6114d7973527"
      },
      "source": [
        "t=datetime.now()-timedelta(weeks=5)    # Gives the date of 5 weeks ago\n",
        "s=t.strftime(\"%A %B %d, %Y\")\n",
        "print(s)"
      ],
      "execution_count": null,
      "outputs": [
        {
          "output_type": "stream",
          "text": [
            "Friday July 16, 2021\n"
          ],
          "name": "stdout"
        }
      ]
    },
    {
      "cell_type": "code",
      "metadata": {
        "colab": {
          "base_uri": "https://localhost:8080/"
        },
        "id": "JlOz9K1KfjH6",
        "outputId": "77e5a233-a911-427f-e653-bb2d603c7a2c"
      },
      "source": [
        "today=date.today()\n",
        "afd=date(today.year,4,1)\n",
        "if afd < today:\n",
        "  print(\"afd already went by %d days ago\" % ((today-afd).days))\n",
        "  afd=afd.replace(year=today.year+1)\n",
        "time_to_afd=afd-today\n",
        "print(\"It's just\", time_to_afd.days, \"days until afd.\")"
      ],
      "execution_count": null,
      "outputs": [
        {
          "output_type": "stream",
          "text": [
            "afd already went by 141 days ago\n",
            "It's just 224 days until afd.\n"
          ],
          "name": "stdout"
        }
      ]
    },
    {
      "cell_type": "code",
      "metadata": {
        "colab": {
          "base_uri": "https://localhost:8080/"
        },
        "id": "ky1CIDvbdA2_",
        "outputId": "95b3d8a7-b5fd-4c9f-8f24-45e04acfa17c"
      },
      "source": [
        "def function1(var1=5, var2=7):\n",
        "  var2=9\n",
        "  var1=3\n",
        "  print (var1, \" \", var2)\n",
        "function1(10,12)"
      ],
      "execution_count": null,
      "outputs": [
        {
          "output_type": "stream",
          "text": [
            "3   9\n"
          ],
          "name": "stdout"
        }
      ]
    },
    {
      "cell_type": "code",
      "metadata": {
        "colab": {
          "base_uri": "https://localhost:8080/"
        },
        "id": "JZOvjrDLcjd-",
        "outputId": "d9395e19-d341-4e7e-975b-1b1a3df9651c"
      },
      "source": [
        "x = 50\n",
        "def func(x):\n",
        "  print('x is', x)\n",
        "  x = 2\n",
        "  print('Changed local x to', x)\n",
        "func(x)\n",
        "print('x is now', x)"
      ],
      "execution_count": null,
      "outputs": [
        {
          "output_type": "stream",
          "text": [
            "x is 50\n",
            "Changed local x to 2\n",
            "x is now 50\n"
          ],
          "name": "stdout"
        }
      ]
    },
    {
      "cell_type": "code",
      "metadata": {
        "colab": {
          "base_uri": "https://localhost:8080/"
        },
        "id": "-aHbTUkqcUFH",
        "outputId": "8bdd9d4c-131e-4c7e-b464-57a6fa0a4f3f"
      },
      "source": [
        "def printMax(a, b):\n",
        "  if a > b:\n",
        "    print(a, 'is maximum')\n",
        "  elif a == b:\n",
        "    print(a, 'is equal to', b)\n",
        "  else:\n",
        "    print(b, 'is maximum')\n",
        "printMax(3, 4)"
      ],
      "execution_count": null,
      "outputs": [
        {
          "output_type": "stream",
          "text": [
            "4 is maximum\n"
          ],
          "name": "stdout"
        }
      ]
    },
    {
      "cell_type": "code",
      "metadata": {
        "id": "IR0BztRQ43lH"
      },
      "source": [
        "ops={}\n",
        "ops[\"+\"](3, 5)"
      ],
      "execution_count": null,
      "outputs": []
    },
    {
      "cell_type": "code",
      "metadata": {
        "id": "l-vuny8W43Ij"
      },
      "source": [
        ""
      ],
      "execution_count": null,
      "outputs": []
    },
    {
      "cell_type": "code",
      "metadata": {
        "colab": {
          "base_uri": "https://localhost:8080/"
        },
        "id": "StibppwpzNAc",
        "outputId": "30d53561-805b-47b8-8451-482586c2a15e"
      },
      "source": [
        "# n'yi tersten liste yap\n",
        "n= 8765097555433\n",
        "[i for i in str(n)][::-1]"
      ],
      "execution_count": null,
      "outputs": [
        {
          "output_type": "execute_result",
          "data": {
            "text/plain": [
              "['3', '3', '4', '5', '5', '5', '7', '9', '0', '5', '6', '7', '8']"
            ]
          },
          "metadata": {},
          "execution_count": 12
        }
      ]
    },
    {
      "cell_type": "code",
      "metadata": {
        "id": "2dDGit0JtYl-"
      },
      "source": [
        "from datetime import date\n",
        "from datetime import datetime\n",
        "from datetime import time\n",
        "datetime.time()"
      ],
      "execution_count": null,
      "outputs": []
    },
    {
      "cell_type": "code",
      "metadata": {
        "colab": {
          "base_uri": "https://localhost:8080/"
        },
        "id": "RjNWZfrgnR8u",
        "outputId": "d3da0c05-de78-421e-876a-911c7e44ac9f"
      },
      "source": [
        "from datetime import date\n",
        "today=date.today()\n",
        "doğum=date(1972, 4, 9)\n",
        "bugün=date(today.year, today.month, today.day)\n",
        "y=yaşanan_gün=date.toordinal(bugün) - date.toordinal(doğum)\n",
        "print(y)\n",
        "print (today.weekday())"
      ],
      "execution_count": null,
      "outputs": [
        {
          "output_type": "stream",
          "text": [
            "18029\n",
            "3\n"
          ],
          "name": "stdout"
        }
      ]
    },
    {
      "cell_type": "code",
      "metadata": {
        "id": "sSTr1t_n4EzD",
        "colab": {
          "base_uri": "https://localhost:8080/"
        },
        "outputId": "c4f3521e-2c6f-4c96-a6ac-6ddfc4b249d0"
      },
      "source": [
        "from datetime import date\n",
        "doğum=date(1972, 4, 9)\n",
        "bugün=date(2021, 8, 18)\n",
        "y=yaşanan_gün=date.toordinal(bugün) - date.toordinal(doğum)\n",
        "print(y)"
      ],
      "execution_count": null,
      "outputs": [
        {
          "output_type": "stream",
          "text": [
            "18028\n"
          ],
          "name": "stdout"
        }
      ]
    },
    {
      "cell_type": "code",
      "metadata": {
        "id": "V9GNJhPp4MUc"
      },
      "source": [
        ""
      ],
      "execution_count": null,
      "outputs": []
    },
    {
      "cell_type": "code",
      "metadata": {
        "id": "zcZhLqKW4Ql8",
        "colab": {
          "base_uri": "https://localhost:8080/"
        },
        "outputId": "88ce7382-1a6b-4887-886d-b1cc0ff977e5"
      },
      "source": [
        "# input : \"ey edip adana'da, pide ye!\"\n",
        "# output : \"ey edip adana'da, pide ye!\" is a palindrome\n",
        "sentence = str(input(\"Enter your sentence  :\").lower())\n",
        "def palindrome(x):\n",
        "    a = \"\"\n",
        "    for i in x:\n",
        "        if i.isalnum():\n",
        "            a = a+i    \n",
        "    if a == a[::-1] :\n",
        "        return \"Your sentence/word is palindrome\"\n",
        "    else :\n",
        "        return \"your sentence/word is not palindrome\"\n",
        "print(palindrome(sentence))"
      ],
      "execution_count": null,
      "outputs": [
        {
          "output_type": "stream",
          "text": [
            "Enter your sentence  :Ey edip Adana'da pide ye.\n",
            "Your sentence/word is palindrome\n"
          ],
          "name": "stdout"
        }
      ]
    },
    {
      "cell_type": "code",
      "metadata": {
        "colab": {
          "base_uri": "https://localhost:8080/"
        },
        "id": "9e_Gvo7MIhq4",
        "outputId": "54056c86-2764-49ca-9d6c-c2263aed4810"
      },
      "source": [
        "def agac(yukseklik):\n",
        "  for i in range(1, 2*yukseklik, 2):\n",
        "    print((i*'#').center(2*yukseklik-1))\n",
        "agac(10)"
      ],
      "execution_count": null,
      "outputs": [
        {
          "output_type": "stream",
          "text": [
            "         #         \n",
            "        ###        \n",
            "       #####       \n",
            "      #######      \n",
            "     #########     \n",
            "    ###########    \n",
            "   #############   \n",
            "  ###############  \n",
            " ################# \n",
            "###################\n"
          ],
          "name": "stdout"
        }
      ]
    },
    {
      "cell_type": "code",
      "metadata": {
        "id": "on399AhfGt26"
      },
      "source": [
        "# Belirli aralıkta(sınırlar dahil) verilen rakamın kaç kere olduğunu sayan bir fonksiyon yazalım. \n",
        "def saydir(a, b, c):\n",
        "  sonuc = 0\n",
        "  for i in range(a, b+1):\n",
        "    sonuc += str(i).count(str(c))\n",
        "  return sonuc\n",
        "saydir(60, 90, 5)"
      ],
      "execution_count": null,
      "outputs": []
    },
    {
      "cell_type": "code",
      "metadata": {
        "colab": {
          "base_uri": "https://localhost:8080/"
        },
        "id": "jyXueVRa7fr-",
        "outputId": "ad586233-c607-4a14-a78d-58291adf4ba4"
      },
      "source": [
        "def cıkar(kelime):\n",
        "  yeni = ''\n",
        "  for i in range(len(kelime)-1):\n",
        "    if kelime[i] != kelime [i+1] :\n",
        "      yeni += kelime[i]\n",
        "  yeni += kelime[-1]\n",
        "  return yeni\n",
        "print(cıkar(\"mmmeeerrhhhaaabbbaaa\"))"
      ],
      "execution_count": null,
      "outputs": [
        {
          "output_type": "stream",
          "text": [
            "merhaba\n"
          ],
          "name": "stdout"
        }
      ]
    },
    {
      "cell_type": "code",
      "metadata": {
        "colab": {
          "base_uri": "https://localhost:8080/"
        },
        "id": "L1uNHoZK8dEo",
        "outputId": "bdca3002-2439-49ad-befa-b18a61b2be85"
      },
      "source": [
        "kelime=\"mmmeeerrhhhaaabbbaaa\"\n",
        "#yeni_kelime=[]\n",
        "for i in range(1, len(kelime)-1):\n",
        "  if kelime[i] != kelime[i+1] :\n",
        "#    yeni_kelime=kelime.append(kelime[i])\n",
        "    print(kelime[i])"
      ],
      "execution_count": null,
      "outputs": [
        {
          "output_type": "stream",
          "text": [
            "m\n",
            "e\n",
            "r\n",
            "h\n",
            "a\n",
            "b\n"
          ],
          "name": "stdout"
        }
      ]
    },
    {
      "cell_type": "code",
      "metadata": {
        "colab": {
          "base_uri": "https://localhost:8080/"
        },
        "id": "R3JZDsCJ6gr-",
        "outputId": "93208c92-6e4e-419b-f7d4-95e06ca852d8"
      },
      "source": [
        "s=[1,1,1,2,2,3,5,6,6,8,9,9]\n",
        "Liste=[]\n",
        "for i in s:\n",
        "  if s.count(i) == 1: \n",
        "    Liste.append(i)\n",
        "print(Liste)"
      ],
      "execution_count": null,
      "outputs": [
        {
          "output_type": "stream",
          "text": [
            "[3, 5, 8]\n"
          ],
          "name": "stdout"
        }
      ]
    },
    {
      "cell_type": "code",
      "metadata": {
        "colab": {
          "base_uri": "https://localhost:8080/"
        },
        "id": "ZMy4Pk_h8f0r",
        "outputId": "2e9cc493-5c6d-4b40-8b69-85f19fef0f9b"
      },
      "source": [
        "def tek_geçenler(Sayı_Gir):\n",
        "  List_tek=[]\n",
        "  for i in Sayı_Gir:\n",
        "    if Sayı_Gir.count(i)==1:\n",
        "      List_tek.append(i)\n",
        "  return List_tek\n",
        "tek_geçenler([1,1,2,3,3,4,5,5,6,7,8,8,9])\n"
      ],
      "execution_count": null,
      "outputs": [
        {
          "output_type": "execute_result",
          "data": {
            "text/plain": [
              "[2, 4, 6, 7, 9]"
            ]
          },
          "metadata": {
            "tags": []
          },
          "execution_count": 38
        }
      ]
    },
    {
      "cell_type": "code",
      "metadata": {
        "id": "nJKiOBekLCe1",
        "colab": {
          "base_uri": "https://localhost:8080/"
        },
        "outputId": "a208a0a5-b368-4855-9d76-c10426fb4a69"
      },
      "source": [
        "a=\"hello          world\"\n",
        "b=a.split() # default sep=None, boşluklardan kelime kelime ayır.\n",
        "print(b)    # fazla boşlukları da kaldır."
      ],
      "execution_count": null,
      "outputs": [
        {
          "output_type": "stream",
          "text": [
            "['hello', 'world']\n"
          ],
          "name": "stdout"
        }
      ]
    },
    {
      "cell_type": "code",
      "metadata": {
        "colab": {
          "base_uri": "https://localhost:8080/"
        },
        "id": "dD84fYHfvnwA",
        "outputId": "574b2d08-3b54-40ae-eb5f-7872750bcc20"
      },
      "source": [
        "x=\"hello world\"\n",
        "y=x.split(\" \") # arasında bir boşluk olanları kelime kelime ayır.\n",
        "print(y)"
      ],
      "execution_count": null,
      "outputs": [
        {
          "output_type": "stream",
          "text": [
            "['hello', 'world']\n"
          ],
          "name": "stdout"
        }
      ]
    },
    {
      "cell_type": "code",
      "metadata": {
        "colab": {
          "base_uri": "https://localhost:8080/"
        },
        "id": "rU-CX0OYwLQM",
        "outputId": "366bbdb9-6fd5-4245-bdf6-a1003f39a145"
      },
      "source": [
        "x=\"hello  my  world\" # kelime aralarında 2 boşluk olan cümleyi\n",
        "y=x.split(\"  \")  # 2 boşluklu split kelime kelime ayırır.\n",
        "print(y)"
      ],
      "execution_count": null,
      "outputs": [
        {
          "output_type": "stream",
          "text": [
            "['hello', 'my', 'world']\n"
          ],
          "name": "stdout"
        }
      ]
    },
    {
      "cell_type": "code",
      "metadata": {
        "colab": {
          "base_uri": "https://localhost:8080/"
        },
        "id": "jQh-dMF4zHL9",
        "outputId": "53c30803-a8ab-4778-dd03-989946f77c42"
      },
      "source": [
        "x=\"hello  my  world\" # kelime aralarında 2 boşluk olan cümleyi\n",
        "y=x.split(\" \")  # 1 boşluklu split, birinci boşluktan sonra ayırıp, ikinci boşluğu da kelime gibi ayırır."
      ],
      "execution_count": null,
      "outputs": [
        {
          "output_type": "stream",
          "text": [
            "['hello', '', 'my', '', 'world']\n"
          ],
          "name": "stdout"
        }
      ]
    },
    {
      "cell_type": "code",
      "metadata": {
        "colab": {
          "base_uri": "https://localhost:8080/"
        },
        "id": "wnjlvcSy0XmN",
        "outputId": "9c59e39a-ad57-4043-ac02-b03c041badb2"
      },
      "source": [
        "x=\"hello my world\" # kelime aralarında 1 boşluk olan cümleyi\n",
        "y=x.split(\"  \")  # 2 boşluklu split ayırmaz, ikinci boşluğu bulamadığından tüm cümleden sonra ayırır.\n",
        "print(y)"
      ],
      "execution_count": null,
      "outputs": [
        {
          "output_type": "stream",
          "text": [
            "['hello my world']\n"
          ],
          "name": "stdout"
        }
      ]
    },
    {
      "cell_type": "code",
      "metadata": {
        "colab": {
          "base_uri": "https://localhost:8080/"
        },
        "id": "fQ0puXCA1xBF",
        "outputId": "00f17bd3-ecb4-4ad7-b5fa-cd61845cc8cc"
      },
      "source": [
        "x=\"hello my world\" \n",
        "y=x.split(\"l\")  # l'leri yok ederek cümleyi böler, aralara boşluk ve virgül koyar.\n",
        "print(y)"
      ],
      "execution_count": null,
      "outputs": [
        {
          "output_type": "stream",
          "text": [
            "['he', '', 'o  my  wor', 'd']\n"
          ],
          "name": "stdout"
        }
      ]
    },
    {
      "cell_type": "code",
      "metadata": {
        "colab": {
          "base_uri": "https://localhost:8080/"
        },
        "id": "62TK74in1wej",
        "outputId": "1d516912-06c3-4ccd-d665-933d84b109f0"
      },
      "source": [
        "x=\"hello my world\" \n",
        "y=x.split(\"l\", 1)  # max split sayısı default sonsuz, burada bir. Sadece bir l kırpıldı.\n",
        "print(y)"
      ],
      "execution_count": null,
      "outputs": [
        {
          "output_type": "stream",
          "text": [
            "['he', 'lo my world']\n"
          ],
          "name": "stdout"
        }
      ]
    },
    {
      "cell_type": "code",
      "metadata": {
        "colab": {
          "base_uri": "https://localhost:8080/"
        },
        "id": "z950fCZ_40d6",
        "outputId": "e0e307f0-9692-4cf0-c527-7b2ef1545212"
      },
      "source": [
        "for i in range(1, 51):\n",
        "    if i % 3 == 0 and i % 5 != 0:\n",
        "        print('Fizz')\n",
        "    elif i % 5 == 0 and i % 3 != 0:\n",
        "        print('Buzz')\n",
        "    elif i % 15 == 0:\n",
        "        print('FizzBuzz')\n",
        "    else:\n",
        "        print(i)"
      ],
      "execution_count": null,
      "outputs": [
        {
          "output_type": "stream",
          "text": [
            "1\n",
            "2\n",
            "Fizz\n",
            "4\n",
            "Buzz\n",
            "Fizz\n",
            "7\n",
            "8\n",
            "Fizz\n",
            "Buzz\n",
            "11\n",
            "Fizz\n",
            "13\n",
            "14\n",
            "FizzBuzz\n",
            "16\n",
            "17\n",
            "Fizz\n",
            "19\n",
            "Buzz\n",
            "Fizz\n",
            "22\n",
            "23\n",
            "Fizz\n",
            "Buzz\n",
            "26\n",
            "Fizz\n",
            "28\n",
            "29\n",
            "FizzBuzz\n",
            "31\n",
            "32\n",
            "Fizz\n",
            "34\n",
            "Buzz\n",
            "Fizz\n",
            "37\n",
            "38\n",
            "Fizz\n",
            "Buzz\n",
            "41\n",
            "Fizz\n",
            "43\n",
            "44\n",
            "FizzBuzz\n",
            "46\n",
            "47\n",
            "Fizz\n",
            "49\n",
            "Buzz\n"
          ],
          "name": "stdout"
        }
      ]
    },
    {
      "cell_type": "code",
      "metadata": {
        "id": "N4aHWadV2Bbk"
      },
      "source": [
        "n = 50\n",
        "for i in range(1,n+1):\n",
        "    if not i % 15:\n",
        "       print(\"FizzBuzz\")\n",
        "    elif not i % 5:\n",
        "        print(\"Buzz\")\n",
        "    elif not i % 3:\n",
        "        print(\"Fizz\")\n",
        "    else:\n",
        "        print(i)"
      ],
      "execution_count": null,
      "outputs": []
    },
    {
      "cell_type": "code",
      "metadata": {
        "colab": {
          "base_uri": "https://localhost:8080/"
        },
        "id": "N7DF__lf2BZe",
        "outputId": "45effbcf-4301-47f2-a92e-96665e5cfa55"
      },
      "source": [
        "for i in range(1,51):\n",
        "    if i % 3 == 0 and i % 5 == 0 :\n",
        "        print(\"FizzBuzz\", end = \" \")\n",
        "    elif i % 3 == 0:\n",
        "        print(\"Fizz\", end = \" \")\n",
        "    elif i % 5 == 0:\n",
        "        print(\"Buzz\", end = \" \")\n",
        "    else:\n",
        "        print(i, end = \" \")"
      ],
      "execution_count": null,
      "outputs": [
        {
          "output_type": "stream",
          "text": [
            "1 2 Fizz 4 Buzz Fizz 7 8 Fizz Buzz 11 Fizz 13 14 FizzBuzz 16 17 Fizz 19 Buzz Fizz 22 23 Fizz Buzz 26 Fizz 28 29 FizzBuzz 31 32 Fizz 34 Buzz Fizz 37 38 Fizz Buzz 41 Fizz 43 44 FizzBuzz 46 47 Fizz 49 Buzz "
          ],
          "name": "stdout"
        }
      ]
    },
    {
      "cell_type": "code",
      "metadata": {
        "colab": {
          "base_uri": "https://localhost:8080/"
        },
        "id": "wKq81qV42BLh",
        "outputId": "38e578bf-6c07-4f4f-c6aa-c2fb1a411fd5"
      },
      "source": [
        "for fizzbuzz in range(1,51):\n",
        "    if fizzbuzz % 3 == 0 and fizzbuzz % 5 == 0:\n",
        "        print(\"fizzbuzz\")\n",
        "        continue\n",
        "    elif fizzbuzz % 3 == 0:\n",
        "        print(\"fizz\")\n",
        "        continue\n",
        "    elif fizzbuzz % 5 == 0:\n",
        "        print(\"buzz\")\n",
        "        continue\n",
        "    print(fizzbuzz)"
      ],
      "execution_count": null,
      "outputs": [
        {
          "output_type": "stream",
          "text": [
            "1\n",
            "2\n",
            "fizz\n",
            "4\n",
            "buzz\n",
            "fizz\n",
            "7\n",
            "8\n",
            "fizz\n",
            "buzz\n",
            "11\n",
            "fizz\n",
            "13\n",
            "14\n",
            "fizzbuzz\n",
            "16\n",
            "17\n",
            "fizz\n",
            "19\n",
            "buzz\n",
            "fizz\n",
            "22\n",
            "23\n",
            "fizz\n",
            "buzz\n",
            "26\n",
            "fizz\n",
            "28\n",
            "29\n",
            "fizzbuzz\n",
            "31\n",
            "32\n",
            "fizz\n",
            "34\n",
            "buzz\n",
            "fizz\n",
            "37\n",
            "38\n",
            "fizz\n",
            "buzz\n",
            "41\n",
            "fizz\n",
            "43\n",
            "44\n",
            "fizzbuzz\n",
            "46\n",
            "47\n",
            "fizz\n",
            "49\n",
            "buzz\n"
          ],
          "name": "stdout"
        }
      ]
    },
    {
      "cell_type": "code",
      "metadata": {
        "colab": {
          "base_uri": "https://localhost:8080/"
        },
        "id": "C6KD0Hd82A_1",
        "outputId": "84423f60-a6f7-4ea1-fed6-85d4fc07ed34"
      },
      "source": [
        "for i in range(1,51):\n",
        "  if i%3==0 and i%5!=0:\n",
        "    print(i ,\"3 ün katı :\",\"fizz\")\n",
        "  elif i%3!=0 and i%5==0:\n",
        "    print(i ,\"5 in katı :\",\"buzz\")\n",
        "  elif i%15==0:\n",
        "    print(i ,\"hem 3 ün hem 5 in katı : \",\"fizzbuzz\")\n",
        "#  else:\n",
        "#    pass"
      ],
      "execution_count": null,
      "outputs": [
        {
          "output_type": "stream",
          "text": [
            "3 3 ün katı : fizz\n",
            "5 5 in katı : buzz\n",
            "6 3 ün katı : fizz\n",
            "9 3 ün katı : fizz\n",
            "10 5 in katı : buzz\n",
            "12 3 ün katı : fizz\n",
            "15 hem 3 ün hem 5 in katı :  fizzbuzz\n",
            "18 3 ün katı : fizz\n",
            "20 5 in katı : buzz\n",
            "21 3 ün katı : fizz\n",
            "24 3 ün katı : fizz\n",
            "25 5 in katı : buzz\n",
            "27 3 ün katı : fizz\n",
            "30 hem 3 ün hem 5 in katı :  fizzbuzz\n",
            "33 3 ün katı : fizz\n",
            "35 5 in katı : buzz\n",
            "36 3 ün katı : fizz\n",
            "39 3 ün katı : fizz\n",
            "40 5 in katı : buzz\n",
            "42 3 ün katı : fizz\n",
            "45 hem 3 ün hem 5 in katı :  fizzbuzz\n",
            "48 3 ün katı : fizz\n",
            "50 5 in katı : buzz\n"
          ],
          "name": "stdout"
        }
      ]
    },
    {
      "cell_type": "code",
      "metadata": {
        "colab": {
          "base_uri": "https://localhost:8080/"
        },
        "id": "VB-1egU22Arj",
        "outputId": "f0e0d3ba-0f31-4414-9808-48faf86b86b7"
      },
      "source": [
        "for i in range(1, 51):\n",
        "    if i % 3 == 0 and i % 5 != 0:\n",
        "        print('Fizz')\n",
        "    elif i % 5 == 0 and i % 3 != 0:\n",
        "        print('Buzz')\n",
        "    elif i % 15 == 0:\n",
        "        print('FizzBuzz')\n",
        "    else:\n",
        "        print(i)"
      ],
      "execution_count": null,
      "outputs": [
        {
          "output_type": "stream",
          "text": [
            "1\n",
            "2\n",
            "Fizz\n",
            "4\n",
            "Buzz\n",
            "Fizz\n",
            "7\n",
            "8\n",
            "Fizz\n",
            "Buzz\n",
            "11\n",
            "Fizz\n",
            "13\n",
            "14\n",
            "FizzBuzz\n",
            "16\n",
            "17\n",
            "Fizz\n",
            "19\n",
            "Buzz\n",
            "Fizz\n",
            "22\n",
            "23\n",
            "Fizz\n",
            "Buzz\n",
            "26\n",
            "Fizz\n",
            "28\n",
            "29\n",
            "FizzBuzz\n",
            "31\n",
            "32\n",
            "Fizz\n",
            "34\n",
            "Buzz\n",
            "Fizz\n",
            "37\n",
            "38\n",
            "Fizz\n",
            "Buzz\n",
            "41\n",
            "Fizz\n",
            "43\n",
            "44\n",
            "FizzBuzz\n",
            "46\n",
            "47\n",
            "Fizz\n",
            "49\n",
            "Buzz\n"
          ],
          "name": "stdout"
        }
      ]
    },
    {
      "cell_type": "code",
      "metadata": {
        "colab": {
          "base_uri": "https://localhost:8080/"
        },
        "id": "MYok-pJig8Kq",
        "outputId": "6b67d5e7-697b-4ec7-e4fd-95d7717df2b6"
      },
      "source": [
        "def get_first_value(*numbers):\n",
        "\tx = numbers[0]\n",
        "\tprint(x)\n",
        "get_first_value(1,2,3,4,5)"
      ],
      "execution_count": null,
      "outputs": [
        {
          "output_type": "stream",
          "text": [
            "1\n"
          ],
          "name": "stdout"
        }
      ]
    },
    {
      "cell_type": "code",
      "metadata": {
        "colab": {
          "base_uri": "https://localhost:8080/"
        },
        "id": "-l9ES1i5c_0T",
        "outputId": "c27b03c9-7f9e-4937-a433-90c21fbf3982"
      },
      "source": [
        "#LEAST COMMON MULTIPLE\n",
        "list1 = [1, 2, 3, 4, 5, 6, 7, 8, 9]\n",
        "def lcm(x):\n",
        "\tmax_value = max(list1)\n",
        "\twhile True:\n",
        "\t\ty = True\n",
        "\t\tfor i in list1:\n",
        "\t\t\tif max_value % i != 0:\n",
        "\t\t\t\ty = False\n",
        "\t\tif y:\n",
        "\t\t\treturn max_value\n",
        "\t\t\tbreak\n",
        "\t\telse:\n",
        "\t\t\tmax_value += 1\n",
        "print(lcm(list1))"
      ],
      "execution_count": null,
      "outputs": [
        {
          "output_type": "stream",
          "text": [
            "2520\n"
          ],
          "name": "stdout"
        }
      ]
    },
    {
      "cell_type": "code",
      "metadata": {
        "colab": {
          "base_uri": "https://localhost:8080/"
        },
        "id": "v43w4m2av8lo",
        "outputId": "52bd4969-aca3-48ff-e065-70891aeee2d0"
      },
      "source": [
        "h=[1,2,3,3,3,4,5]\n",
        "h.count(3) \n",
        "max(h)"
      ],
      "execution_count": null,
      "outputs": [
        {
          "output_type": "execute_result",
          "data": {
            "text/plain": [
              "5"
            ]
          },
          "metadata": {
            "tags": []
          },
          "execution_count": 35
        }
      ]
    },
    {
      "cell_type": "code",
      "metadata": {
        "colab": {
          "base_uri": "https://localhost:8080/",
          "height": 343
        },
        "id": "0pLDRtshsIa2",
        "outputId": "3d8bc492-0326-4654-e9cd-4233fe29eb74"
      },
      "source": [
        "h = []\n",
        "# Unless user types `ok`, get input of numbers from the user\n",
        "while True:\n",
        "  num = input(\"Type 'ok' when you are done: \")\n",
        "# if the input is not equal to `ok`, add the input number to the hei\n",
        "  if num != \"ok\":\n",
        "    height.append(int(num))\n",
        "# if the input equals to `ok`, get out of the while loop\n",
        "  else:\n",
        "    break\n",
        "n=len(h)\n",
        "a=0\n",
        "x=h.count(a)\n",
        "while a > max(h):\n",
        "  if h[a] > a and h[n-1] > a+1 : h.count(a) \n",
        "  a=a+1 \n",
        "print(x)\n",
        "#print(height)"
      ],
      "execution_count": null,
      "outputs": [
        {
          "output_type": "stream",
          "text": [
            "Type 'ok' when you are done: 2\n",
            "Type 'ok' when you are done: 0\n",
            "Type 'ok' when you are done: 1\n",
            "Type 'ok' when you are done: 2\n",
            "Type 'ok' when you are done: 3\n",
            "Type 'ok' when you are done: ok\n"
          ],
          "name": "stdout"
        },
        {
          "output_type": "error",
          "ename": "ValueError",
          "evalue": "ignored",
          "traceback": [
            "\u001b[0;31m---------------------------------------------------------------------------\u001b[0m",
            "\u001b[0;31mValueError\u001b[0m                                Traceback (most recent call last)",
            "\u001b[0;32m<ipython-input-37-6ec2709df9c5>\u001b[0m in \u001b[0;36m<module>\u001b[0;34m()\u001b[0m\n\u001b[1;32m     12\u001b[0m \u001b[0ma\u001b[0m\u001b[0;34m=\u001b[0m\u001b[0;36m0\u001b[0m\u001b[0;34m\u001b[0m\u001b[0;34m\u001b[0m\u001b[0m\n\u001b[1;32m     13\u001b[0m \u001b[0mx\u001b[0m\u001b[0;34m=\u001b[0m\u001b[0mh\u001b[0m\u001b[0;34m.\u001b[0m\u001b[0mcount\u001b[0m\u001b[0;34m(\u001b[0m\u001b[0ma\u001b[0m\u001b[0;34m)\u001b[0m\u001b[0;34m\u001b[0m\u001b[0;34m\u001b[0m\u001b[0m\n\u001b[0;32m---> 14\u001b[0;31m \u001b[0;32mwhile\u001b[0m \u001b[0ma\u001b[0m \u001b[0;34m>\u001b[0m \u001b[0mmax\u001b[0m\u001b[0;34m(\u001b[0m\u001b[0mh\u001b[0m\u001b[0;34m)\u001b[0m\u001b[0;34m:\u001b[0m\u001b[0;34m\u001b[0m\u001b[0;34m\u001b[0m\u001b[0m\n\u001b[0m\u001b[1;32m     15\u001b[0m   \u001b[0;32mif\u001b[0m \u001b[0mh\u001b[0m\u001b[0;34m[\u001b[0m\u001b[0ma\u001b[0m\u001b[0;34m]\u001b[0m \u001b[0;34m>\u001b[0m \u001b[0ma\u001b[0m \u001b[0;32mand\u001b[0m \u001b[0mh\u001b[0m\u001b[0;34m[\u001b[0m\u001b[0mn\u001b[0m\u001b[0;34m-\u001b[0m\u001b[0;36m1\u001b[0m\u001b[0;34m]\u001b[0m \u001b[0;34m>\u001b[0m \u001b[0ma\u001b[0m\u001b[0;34m+\u001b[0m\u001b[0;36m1\u001b[0m \u001b[0;34m:\u001b[0m \u001b[0mh\u001b[0m\u001b[0;34m.\u001b[0m\u001b[0mcount\u001b[0m\u001b[0;34m(\u001b[0m\u001b[0ma\u001b[0m\u001b[0;34m)\u001b[0m\u001b[0;34m\u001b[0m\u001b[0;34m\u001b[0m\u001b[0m\n\u001b[1;32m     16\u001b[0m   \u001b[0ma\u001b[0m\u001b[0;34m=\u001b[0m\u001b[0ma\u001b[0m\u001b[0;34m+\u001b[0m\u001b[0;36m1\u001b[0m\u001b[0;34m\u001b[0m\u001b[0;34m\u001b[0m\u001b[0m\n",
            "\u001b[0;31mValueError\u001b[0m: max() arg is an empty sequence"
          ]
        }
      ]
    },
    {
      "cell_type": "code",
      "metadata": {
        "colab": {
          "base_uri": "https://localhost:8080/"
        },
        "id": "eXJCY2ri7EMO",
        "outputId": "fe19656f-d119-4f6f-963d-7a354e0c8951"
      },
      "source": [
        "# ROBOT SÜPÜRGE HAREKETİ EN SON NEREDE DURUR\n",
        "x = y = 0\n",
        "C=[\"right 20\", \"right 30\", \"left 40\", \"up 35\", \"down 60\"]\n",
        "for i in range(len(C)) :\n",
        "    if C[i].startswith(\"r\") : x = x + int(C[i].split()[1])\n",
        "    elif C[i].startswith(\"l\") : x = x - int(C[i].split()[1])\n",
        "    elif C[i].startswith(\"u\") : y = y + int(C[i].split()[1])\n",
        "    elif C[i].startswith(\"d\") : y = y - int(C[i].split()[1])\n",
        "        \n",
        "[x, y]"
      ],
      "execution_count": null,
      "outputs": [
        {
          "output_type": "execute_result",
          "data": {
            "text/plain": [
              "[10, -25]"
            ]
          },
          "metadata": {
            "tags": []
          },
          "execution_count": 23
        }
      ]
    },
    {
      "cell_type": "code",
      "metadata": {
        "colab": {
          "base_uri": "https://localhost:8080/"
        },
        "id": "h3Zqb81f0Qx9",
        "outputId": "934f01da-049c-46bc-e566-c15536c67c4c"
      },
      "source": [
        "first_ten = ['a', 'b', 'c', 'd', 'e', 'f', 'g', 'h', 'i', 'j']\n",
        "wovels=[\"a\", \"i\", \"u\", \"e\", \"o\"]\n",
        "filtered_wovels=filter(lambda x: x in wovels, first_ten)\n",
        "print(*filtered_wovels)"
      ],
      "execution_count": null,
      "outputs": [
        {
          "output_type": "stream",
          "text": [
            "a e i\n"
          ],
          "name": "stdout"
        }
      ]
    },
    {
      "cell_type": "code",
      "metadata": {
        "colab": {
          "base_uri": "https://localhost:8080/"
        },
        "id": "WLq9GRf5zk8D",
        "outputId": "b2371aaf-85aa-4d82-82ae-b1c6d9751045"
      },
      "source": [
        "# harf sayısı 5 den küçük olan kelimeler\n",
        "words = [\"apple\", \"swim\", \"clock\", \"me\", \"kiwi\", \"banana\"]\n",
        "print(list(filter(lambda x: len(x) < 5, words)))"
      ],
      "execution_count": null,
      "outputs": [
        {
          "output_type": "stream",
          "text": [
            "['swim', 'me', 'kiwi']\n"
          ],
          "name": "stdout"
        }
      ]
    },
    {
      "cell_type": "code",
      "metadata": {
        "colab": {
          "base_uri": "https://localhost:8080/"
        },
        "id": "fClfTh3lwZ-a",
        "outputId": "ea22cdee-72d2-480f-a38b-92012f67da4c"
      },
      "source": [
        "words1=[\"you\", \"much\", \"hard\"]\n",
        "words2=[\"i\", \"you\", \"he\"]\n",
        "words3=[\"love\", \"ate\", \"works\"]\n",
        "sentence = map(lambda x, y, z: x+\" \"+y+\" \"+z, words2, words3, words1)\n",
        "print(list(sentence))"
      ],
      "execution_count": null,
      "outputs": [
        {
          "output_type": "stream",
          "text": [
            "['i love you', 'you ate much', 'he works hard']\n"
          ],
          "name": "stdout"
        }
      ]
    },
    {
      "cell_type": "code",
      "metadata": {
        "colab": {
          "base_uri": "https://localhost:8080/"
        },
        "id": "n4K_cUMQs7wC",
        "outputId": "24c9b577-d1d3-41d2-d43f-caeb16a5b550"
      },
      "source": [
        "kelimeler = [\"ali veli deli\", \"mehmet ağanın kuzeni\", \"cemilin-bacısı\"]\n",
        "uzunluk=map(lambda x: len(x), kelimeler)\n",
        "print(list(uzunluk))"
      ],
      "execution_count": null,
      "outputs": [
        {
          "output_type": "stream",
          "text": [
            "[13, 20, 14]\n"
          ],
          "name": "stdout"
        }
      ]
    },
    {
      "cell_type": "code",
      "metadata": {
        "colab": {
          "base_uri": "https://localhost:8080/"
        },
        "id": "ZjSpOn0HmXBv",
        "outputId": "863eb221-5fcd-4185-fe46-a4235078be2d"
      },
      "source": [
        "kelimeler = [\"ali veli deli\", \"mehmet ağanın kuzeni\", \"cemilin-bacısı\"]\n",
        "list(map(len, kelimeler))"
      ],
      "execution_count": null,
      "outputs": [
        {
          "output_type": "execute_result",
          "data": {
            "text/plain": [
              "[13, 20, 14]"
            ]
          },
          "metadata": {
            "tags": []
          },
          "execution_count": 11
        }
      ]
    },
    {
      "cell_type": "code",
      "metadata": {
        "colab": {
          "base_uri": "https://localhost:8080/"
        },
        "id": "QmgdGPKkdmFm",
        "outputId": "caddb00d-720d-4d42-fd60-b2c38f0e0568"
      },
      "source": [
        "for x in [1,2,3,4,5]:\n",
        "  print(x, \":\", (lambda x : \"even\" if x%2 == 0 else \"odd\")(x))"
      ],
      "execution_count": null,
      "outputs": [
        {
          "output_type": "stream",
          "text": [
            "1 : odd\n",
            "2 : even\n",
            "3 : odd\n",
            "4 : even\n",
            "5 : odd\n"
          ],
          "name": "stdout"
        }
      ]
    },
    {
      "cell_type": "code",
      "metadata": {
        "colab": {
          "base_uri": "https://localhost:8080/",
          "height": 35
        },
        "id": "qYgACL5DbssW",
        "outputId": "33fee152-3e88-4189-c100-25278ea2e574"
      },
      "source": [
        "\n",
        "(lambda x : x[::-1])(\"Adem\")"
      ],
      "execution_count": null,
      "outputs": [
        {
          "output_type": "execute_result",
          "data": {
            "application/vnd.google.colaboratory.intrinsic+json": {
              "type": "string"
            },
            "text/plain": [
              "'medA'"
            ]
          },
          "metadata": {
            "tags": []
          },
          "execution_count": 8
        }
      ]
    },
    {
      "cell_type": "code",
      "metadata": {
        "colab": {
          "base_uri": "https://localhost:8080/",
          "height": 220
        },
        "id": "u7ind5ilswUJ",
        "outputId": "7ce0eef0-e92a-44c2-bacf-e70782873b59"
      },
      "source": [
        "x = 'abcd'\n",
        "for i in range(len(x)):\n",
        "  i[x].upper()\n",
        "print (x)"
      ],
      "execution_count": null,
      "outputs": [
        {
          "output_type": "error",
          "ename": "NameError",
          "evalue": "ignored",
          "traceback": [
            "\u001b[0;31m---------------------------------------------------------------------------\u001b[0m",
            "\u001b[0;31mNameError\u001b[0m                                 Traceback (most recent call last)",
            "\u001b[0;32m<ipython-input-47-ba0ef1b97a3b>\u001b[0m in \u001b[0;36m<module>\u001b[0;34m()\u001b[0m\n\u001b[0;32m----> 1\u001b[0;31m \u001b[0mx\u001b[0m \u001b[0;34m=\u001b[0m \u001b[0;34m[\u001b[0m\u001b[0ma\u001b[0m\u001b[0;34m,\u001b[0m\u001b[0mb\u001b[0m\u001b[0;34m,\u001b[0m\u001b[0mc\u001b[0m\u001b[0;34m,\u001b[0m\u001b[0md\u001b[0m\u001b[0;34m]\u001b[0m\u001b[0;34m\u001b[0m\u001b[0;34m\u001b[0m\u001b[0m\n\u001b[0m\u001b[1;32m      2\u001b[0m \u001b[0;32mfor\u001b[0m \u001b[0mi\u001b[0m \u001b[0;32min\u001b[0m \u001b[0mrange\u001b[0m\u001b[0;34m(\u001b[0m\u001b[0mlen\u001b[0m\u001b[0;34m(\u001b[0m\u001b[0mx\u001b[0m\u001b[0;34m)\u001b[0m\u001b[0;34m)\u001b[0m\u001b[0;34m:\u001b[0m\u001b[0;34m\u001b[0m\u001b[0;34m\u001b[0m\u001b[0m\n\u001b[1;32m      3\u001b[0m   \u001b[0mi\u001b[0m\u001b[0;34m[\u001b[0m\u001b[0mx\u001b[0m\u001b[0;34m]\u001b[0m\u001b[0;34m.\u001b[0m\u001b[0mupper\u001b[0m\u001b[0;34m(\u001b[0m\u001b[0;34m)\u001b[0m\u001b[0;34m\u001b[0m\u001b[0;34m\u001b[0m\u001b[0m\n\u001b[1;32m      4\u001b[0m \u001b[0mprint\u001b[0m \u001b[0;34m(\u001b[0m\u001b[0mx\u001b[0m\u001b[0;34m)\u001b[0m\u001b[0;34m\u001b[0m\u001b[0;34m\u001b[0m\u001b[0m\n",
            "\u001b[0;31mNameError\u001b[0m: name 'b' is not defined"
          ]
        }
      ]
    },
    {
      "cell_type": "code",
      "metadata": {
        "colab": {
          "base_uri": "https://localhost:8080/"
        },
        "id": "fx_KZXe5plzo",
        "outputId": "a66617f6-69f5-4068-b60a-f5ab17f16ebb"
      },
      "source": [
        "i = 5\n",
        "while True:\n",
        "  if i%0xe == 0:\n",
        "    break\n",
        "  print(i)\n",
        "  i += 1"
      ],
      "execution_count": null,
      "outputs": [
        {
          "output_type": "stream",
          "text": [
            "5\n",
            "6\n",
            "7\n",
            "8\n",
            "9\n",
            "10\n",
            "11\n",
            "12\n",
            "13\n"
          ],
          "name": "stdout"
        }
      ]
    },
    {
      "cell_type": "markdown",
      "metadata": {
        "id": "QS6ARNb-V90l"
      },
      "source": [
        "x = 'abcd'\n",
        "for i in range(len(x)):\n",
        "  x[i].upper()\n",
        "  print (x[i])"
      ]
    },
    {
      "cell_type": "code",
      "metadata": {
        "colab": {
          "base_uri": "https://localhost:8080/"
        },
        "id": "5tFdoLIFXhf2",
        "outputId": "b242c882-53e0-4673-8cc2-f8c1f3f6e546"
      },
      "source": [
        "x = 'abcd'\n",
        "for i in range(len(x)):\n",
        "  x[i].upper()\n",
        "print (x)"
      ],
      "execution_count": null,
      "outputs": [
        {
          "output_type": "stream",
          "text": [
            "abcd\n"
          ],
          "name": "stdout"
        }
      ]
    },
    {
      "cell_type": "code",
      "metadata": {
        "colab": {
          "base_uri": "https://localhost:8080/"
        },
        "id": "o-O5nV4EXgD3",
        "outputId": "3a90ffd5-dae7-414f-bcb1-fcf46faf1680"
      },
      "source": [
        "x = 'abcd'\n",
        "for i in range(len(x)):\n",
        "  y=x[i].upper()\n",
        "  print (y)"
      ],
      "execution_count": null,
      "outputs": [
        {
          "output_type": "stream",
          "text": [
            "A\n",
            "B\n",
            "C\n",
            "D\n"
          ],
          "name": "stdout"
        }
      ]
    },
    {
      "cell_type": "code",
      "metadata": {
        "colab": {
          "base_uri": "https://localhost:8080/"
        },
        "id": "hNanaZPKo8g_",
        "outputId": "6b4711c9-2b1f-47e2-fc54-4fec7b52ba71"
      },
      "source": [
        "fruits = {'Apples': 5, 'Oranges': 3, 'Bananas': 4}\n",
        "fruit_names = [x for x in fruits.keys()]  # key'lerin list comprehension'ını verir.\n",
        "print(fruit_names)"
      ],
      "execution_count": null,
      "outputs": [
        {
          "output_type": "stream",
          "text": [
            "['Apples', 'Oranges', 'Bananas']\n"
          ],
          "name": "stdout"
        }
      ]
    },
    {
      "cell_type": "code",
      "metadata": {
        "colab": {
          "base_uri": "https://localhost:8080/"
        },
        "id": "27n3tIr4ojHY",
        "outputId": "cfd8a118-a333-4551-a22c-aca87d224a62"
      },
      "source": [
        "k=[2,3,4]\n",
        "list(reversed(k))"
      ],
      "execution_count": null,
      "outputs": [
        {
          "output_type": "execute_result",
          "data": {
            "text/plain": [
              "[4, 3, 2]"
            ]
          },
          "metadata": {
            "tags": []
          },
          "execution_count": 34
        }
      ]
    },
    {
      "cell_type": "code",
      "metadata": {
        "colab": {
          "base_uri": "https://localhost:8080/"
        },
        "id": "TGk257MGGXxw",
        "outputId": "111e66b6-52b1-4eb7-b6b6-03844e183a11"
      },
      "source": [
        "import random\n",
        "#a=[1, 22, 34, 45, 5, 56]\n",
        "print(random.random()) # 0-1 arasında seçer"
      ],
      "execution_count": null,
      "outputs": [
        {
          "output_type": "stream",
          "text": [
            "0.6447933864553134\n"
          ],
          "name": "stdout"
        }
      ]
    },
    {
      "cell_type": "code",
      "metadata": {
        "colab": {
          "base_uri": "https://localhost:8080/"
        },
        "id": "ajiv1_ZUXDxY",
        "outputId": "41badd29-cdbf-4c02-94ed-7a3f1895a6e5"
      },
      "source": [
        "from datetime import date\n",
        "from datetime import time\n",
        "from datetime import datetime\n",
        "print(date.today())       # date.today()\n",
        "print(date.today().day)   # date.today().day / month / year\n",
        "print(date.today().year, date.today().day, date.today().month)\n",
        "today=date.today()\n",
        "print(today.year, today.day, today.month)\n",
        "print(today.weekday())    #Haftanın kaçıncı günü? Pazardan başlar. date.today().weekday()\n",
        "date.today().weekday()\n",
        "days=[\"Mon\", \"Tue\", \"Wed\", \"Thu\", \"Fri\", \"Sat\", \"Sun\"]\n",
        "print(days[today.weekday()])\n",
        "today=datetime.now()      # datetime.now()\n",
        "print(today)\n",
        "t=datetime.time(datetime.now()) # datetime.time(datetime.now())  sadece saati verir\n",
        "print(t)"
      ],
      "execution_count": null,
      "outputs": [
        {
          "output_type": "stream",
          "text": [
            "2021-08-12\n",
            "12\n",
            "2021 12 8\n",
            "2021 12 8\n",
            "3\n",
            "Thu\n",
            "2021-08-12 08:41:38.951816\n",
            "08:41:38.951926\n"
          ],
          "name": "stdout"
        }
      ]
    },
    {
      "cell_type": "code",
      "metadata": {
        "colab": {
          "base_uri": "https://localhost:8080/"
        },
        "id": "AS0cz9KoojY0",
        "outputId": "7b6be672-b48d-4d15-fcf6-b1ac2b49c7c0"
      },
      "source": [
        "e=\"321\"\n",
        "element = \"\".join(sorted(e))\n",
        "print(element)"
      ],
      "execution_count": null,
      "outputs": [
        {
          "output_type": "stream",
          "text": [
            "123\n"
          ],
          "name": "stdout"
        }
      ]
    },
    {
      "cell_type": "code",
      "metadata": {
        "colab": {
          "base_uri": "https://localhost:8080/"
        },
        "id": "vgEMyr6FmzdV",
        "outputId": "6617e1ff-4185-45ad-df07-79f69d5e6c28"
      },
      "source": [
        "e=\"321\"\n",
        "element = \"efg\".join(sorted(e))\n",
        "print(element)"
      ],
      "execution_count": null,
      "outputs": [
        {
          "output_type": "stream",
          "text": [
            "1efg2efg3\n"
          ],
          "name": "stdout"
        }
      ]
    },
    {
      "cell_type": "code",
      "metadata": {
        "colab": {
          "base_uri": "https://localhost:8080/"
        },
        "id": "2h6UiFdwo_Zh",
        "outputId": "430085ca-f44f-4cb8-87a0-35511148821a"
      },
      "source": [
        "strs = [\"eat\", \"tea\", \"tan\", \"ate\", \"nat\", \"bat\", \"cat\", \"tac\"]\n",
        "for i in strs:\n",
        "  element = sorted(i)\n",
        "  print(element)"
      ],
      "execution_count": null,
      "outputs": [
        {
          "output_type": "stream",
          "text": [
            "['a', 'e', 't']\n",
            "['a', 'e', 't']\n",
            "['a', 'n', 't']\n",
            "['a', 'e', 't']\n",
            "['a', 'n', 't']\n",
            "['a', 'b', 't']\n",
            "['a', 'c', 't']\n",
            "['a', 'c', 't']\n"
          ],
          "name": "stdout"
        }
      ]
    },
    {
      "cell_type": "code",
      "metadata": {
        "colab": {
          "base_uri": "https://localhost:8080/"
        },
        "id": "MPv5ZvhvqU3I",
        "outputId": "ea2f7956-5511-4a21-d55b-bc2bb031118c"
      },
      "source": [
        "strs = [\"eat\", \"tea\", \"tan\", \"ate\", \"nat\", \"bat\", \"cat\", \"tac\"]\n",
        "for i in strs:\n",
        "  element = \"\".join(sorted(i))\n",
        "  print(element)"
      ],
      "execution_count": null,
      "outputs": [
        {
          "output_type": "stream",
          "text": [
            "aet\n",
            "aet\n",
            "ant\n",
            "aet\n",
            "ant\n",
            "abt\n",
            "act\n",
            "act\n"
          ],
          "name": "stdout"
        }
      ]
    },
    {
      "cell_type": "code",
      "metadata": {
        "id": "yxwvfwLLqU1M"
      },
      "source": [
        ""
      ],
      "execution_count": null,
      "outputs": []
    },
    {
      "cell_type": "code",
      "metadata": {
        "colab": {
          "base_uri": "https://localhost:8080/"
        },
        "id": "159OpmdKyh85",
        "outputId": "ccd7d416-16a1-47c2-9583-0d1800f720f2"
      },
      "source": [
        "anag = {}\n",
        "anag[\"anahtar\"]=[\"dert\"]        # anag[xyz]=[i]    for in ile bir listeden key atanır\n",
        "anag[\"anahtar\"].append(\"gün\")   # anag[xyz].append(i)     value atanır \n",
        "\n",
        "print(anag)"
      ],
      "execution_count": null,
      "outputs": [
        {
          "output_type": "stream",
          "text": [
            "{'anahtar': ['dert', 'gün']}\n"
          ],
          "name": "stdout"
        }
      ]
    },
    {
      "cell_type": "code",
      "metadata": {
        "id": "9Aex9GGxLLom",
        "colab": {
          "base_uri": "https://localhost:8080/"
        },
        "outputId": "72c7a8a6-341c-4d40-891b-fb5a38c75503"
      },
      "source": [
        "# GROUP ANAGRAMS\n",
        "strs = [\"eat\", \"tea\", \"tan\", \"ate\", \"nat\", \"bat\", \"cat\", \"tac\"]\n",
        "anag = {}\n",
        "for i in strs:\n",
        "  element = \"\".join(sorted(i))\n",
        "  if element in anag:\n",
        "    anag[element].append(i) # sözlüğe key olarak ekle\n",
        "  else:\n",
        "    anag[element] = [i]\n",
        "print(list(anag.values()))\n",
        "print(anag)"
      ],
      "execution_count": null,
      "outputs": [
        {
          "output_type": "stream",
          "text": [
            "[['eat', 'tea', 'ate'], ['tan', 'nat'], ['bat'], ['cat', 'tac']]\n",
            "{'aet': ['eat', 'tea', 'ate'], 'ant': ['tan', 'nat'], 'abt': ['bat'], 'act': ['cat', 'tac']}\n"
          ],
          "name": "stdout"
        }
      ]
    },
    {
      "cell_type": "code",
      "metadata": {
        "colab": {
          "base_uri": "https://localhost:8080/"
        },
        "id": "9ZB7eS0GNvdn",
        "outputId": "4590afd6-0a55-4f94-cb0e-8a346c1ee04f"
      },
      "source": [
        "a = int(input(\"How many numbers will you enter?\"))\n",
        "liste = list()\n",
        "for i in range(0, a):\n",
        "    b = int(input(\"Please enter the number:\"))\n",
        "    liste.append(b)\n",
        "print(f\"The largest number is : {sorted(liste)[-1]}\")7\n"
      ],
      "execution_count": null,
      "outputs": [
        {
          "output_type": "stream",
          "text": [
            "How many numbers will you enter?4\n",
            "Please enter the number:5\n",
            "Please enter the number:6\n",
            "Please enter the number:7\n",
            "Please enter the number:8\n",
            "The largest number is : 8\n"
          ],
          "name": "stdout"
        }
      ]
    },
    {
      "cell_type": "code",
      "metadata": {
        "id": "1L7LXz8HXtVs",
        "colab": {
          "base_uri": "https://localhost:8080/"
        },
        "outputId": "c9325b00-a046-4287-8768-142fd593b680"
      },
      "source": [
        "x=0\n",
        "y=int(input(\"How many numbers will you enter?:\"))\n",
        "N=0\n",
        "while x<y:\n",
        "  n=int(input(\"Please enter the number:\"))\n",
        "  x=x+1\n",
        "  if n>N:\n",
        "    N=n\n",
        "  else: continue\n",
        "print(\"The largest number is : \", N)\n",
        "\n"
      ],
      "execution_count": null,
      "outputs": [
        {
          "output_type": "stream",
          "text": [
            "How many numbers will you enter?:11\n",
            "Please enter the number:56\n",
            "Please enter the number:77\n",
            "Please enter the number:55\n",
            "Please enter the number:77\n",
            "Please enter the number:77\n",
            "Please enter the number:55\n",
            "Please enter the number:99\n",
            "Please enter the number:22\n",
            "Please enter the number:33\n",
            "Please enter the number:44\n",
            "Please enter the number:56\n",
            "The largest number is :  99\n"
          ],
          "name": "stdout"
        }
      ]
    },
    {
      "cell_type": "code",
      "metadata": {
        "colab": {
          "base_uri": "https://localhost:8080/"
        },
        "id": "wfTebpTwlv20",
        "outputId": "b1e7ec4b-1360-4e55-8712-88b653a6ddf0"
      },
      "source": [
        "count=0\n",
        "array=[]\n",
        "size = int(input(\"How many numbers will you enter? \"))\n",
        "while count < size:\n",
        "  number= int(input('Please enter the number: '))\n",
        "  array.append(number)\n",
        "  count = count +1\n",
        "largest = array[0]\n",
        "for i in array:\n",
        "  if i > largest:\n",
        "    largest = i\n",
        "print(\"The largest number is : \", largest)"
      ],
      "execution_count": null,
      "outputs": [
        {
          "output_type": "stream",
          "text": [
            "How many numbers will you enter? 4\n",
            "Please enter the number: 5\n",
            "Please enter the number: -8\n",
            "Please enter the number: 3\n",
            "Please enter the number: 6\n",
            "The largest number is :  6\n"
          ],
          "name": "stdout"
        }
      ]
    },
    {
      "cell_type": "code",
      "metadata": {
        "id": "q3UfQmxTdZgn",
        "colab": {
          "base_uri": "https://localhost:8080/"
        },
        "outputId": "01737bbf-c69e-42e3-dedb-a08ad1641fba"
      },
      "source": [
        "friends = { \"ali\" : 33, \"ahmet\": 44, \"rose\" : 22}\n",
        "def meaner(ali,ahmet,rose):\n",
        "    return f\"The avarege age :{(ali + ahmet + rose)/3}\"\n",
        "print(meaner(**friends))"
      ],
      "execution_count": null,
      "outputs": [
        {
          "output_type": "stream",
          "text": [
            "The avarege age :33.0\n"
          ],
          "name": "stdout"
        }
      ]
    },
    {
      "cell_type": "code",
      "metadata": {
        "colab": {
          "base_uri": "https://localhost:8080/",
          "height": 273
        },
        "id": "ZYKzpVs1IU--",
        "outputId": "d89175fc-8026-4dc4-a6a4-44f709f89e37"
      },
      "source": [
        "def brothers(bro1, bro2, bro3):\n",
        "    print('Here are the names of brothers :')\n",
        "    print(bro1, bro2, bro3, sep='\\n')\n",
        "brothers(\"tom\", \"sue\", \"tim\")   \n",
        "print(brothers()) "
      ],
      "execution_count": null,
      "outputs": [
        {
          "output_type": "stream",
          "text": [
            "Here are the names of brothers :\n",
            "tom\n",
            "sue\n",
            "tim\n"
          ],
          "name": "stdout"
        },
        {
          "output_type": "error",
          "ename": "TypeError",
          "evalue": "ignored",
          "traceback": [
            "\u001b[0;31m---------------------------------------------------------------------------\u001b[0m",
            "\u001b[0;31mTypeError\u001b[0m                                 Traceback (most recent call last)",
            "\u001b[0;32m<ipython-input-11-d55f6b3512ff>\u001b[0m in \u001b[0;36m<module>\u001b[0;34m()\u001b[0m\n\u001b[1;32m      3\u001b[0m     \u001b[0mprint\u001b[0m\u001b[0;34m(\u001b[0m\u001b[0mbro1\u001b[0m\u001b[0;34m,\u001b[0m \u001b[0mbro2\u001b[0m\u001b[0;34m,\u001b[0m \u001b[0mbro3\u001b[0m\u001b[0;34m,\u001b[0m \u001b[0msep\u001b[0m\u001b[0;34m=\u001b[0m\u001b[0;34m'\\n'\u001b[0m\u001b[0;34m)\u001b[0m\u001b[0;34m\u001b[0m\u001b[0;34m\u001b[0m\u001b[0m\n\u001b[1;32m      4\u001b[0m \u001b[0mbrothers\u001b[0m\u001b[0;34m(\u001b[0m\u001b[0;34m\"tom\"\u001b[0m\u001b[0;34m,\u001b[0m \u001b[0;34m\"sue\"\u001b[0m\u001b[0;34m,\u001b[0m \u001b[0;34m\"tim\"\u001b[0m\u001b[0;34m)\u001b[0m\u001b[0;34m\u001b[0m\u001b[0;34m\u001b[0m\u001b[0m\n\u001b[0;32m----> 5\u001b[0;31m \u001b[0mprint\u001b[0m\u001b[0;34m(\u001b[0m\u001b[0mbrothers\u001b[0m\u001b[0;34m(\u001b[0m\u001b[0;34m)\u001b[0m\u001b[0;34m)\u001b[0m\u001b[0;34m\u001b[0m\u001b[0;34m\u001b[0m\u001b[0m\n\u001b[0m",
            "\u001b[0;31mTypeError\u001b[0m: brothers() missing 3 required positional arguments: 'bro1', 'bro2', and 'bro3'"
          ]
        }
      ]
    },
    {
      "cell_type": "code",
      "metadata": {
        "colab": {
          "base_uri": "https://localhost:8080/"
        },
        "id": "f_vVkgrdCpKL",
        "outputId": "9cd0d0db-33d1-429c-da66-269ab16f1782"
      },
      "source": [
        "f=0\n",
        "def fonk():\n",
        "  #global f (burayı aktif yaparsak, fonk dışında da geçerli global bir değer tanımlamış oluruz.)\n",
        "  # print(f) de fonk() da her ikis \"başka\" sonucunu basar. Önceki global f ler hükümsüz kalır.\n",
        "  f=\"başka\"\n",
        "  print(f)\n",
        "fonk()\n",
        "print(f)"
      ],
      "execution_count": null,
      "outputs": [
        {
          "output_type": "stream",
          "text": [
            "başka\n",
            "0\n"
          ],
          "name": "stdout"
        }
      ]
    },
    {
      "cell_type": "code",
      "metadata": {
        "colab": {
          "base_uri": "https://localhost:8080/",
          "height": 202
        },
        "id": "ivP95RKy2VJH",
        "outputId": "3976ea5e-51ed-4265-b10a-e468bf7cb522"
      },
      "source": [
        "def who(first, last):\n",
        "  print(first, last)\n",
        "print(who(first))"
      ],
      "execution_count": null,
      "outputs": [
        {
          "output_type": "error",
          "ename": "NameError",
          "evalue": "ignored",
          "traceback": [
            "\u001b[0;31m---------------------------------------------------------------------------\u001b[0m",
            "\u001b[0;31mNameError\u001b[0m                                 Traceback (most recent call last)",
            "\u001b[0;32m<ipython-input-11-695b42893e1b>\u001b[0m in \u001b[0;36m<module>\u001b[0;34m()\u001b[0m\n\u001b[1;32m      1\u001b[0m \u001b[0;32mdef\u001b[0m \u001b[0mwho\u001b[0m\u001b[0;34m(\u001b[0m\u001b[0mfirst\u001b[0m\u001b[0;34m,\u001b[0m \u001b[0mlast\u001b[0m\u001b[0;34m)\u001b[0m\u001b[0;34m:\u001b[0m\u001b[0;34m\u001b[0m\u001b[0;34m\u001b[0m\u001b[0m\n\u001b[1;32m      2\u001b[0m   \u001b[0mprint\u001b[0m\u001b[0;34m(\u001b[0m\u001b[0mfirst\u001b[0m\u001b[0;34m,\u001b[0m \u001b[0mlast\u001b[0m\u001b[0;34m)\u001b[0m\u001b[0;34m\u001b[0m\u001b[0;34m\u001b[0m\u001b[0m\n\u001b[0;32m----> 3\u001b[0;31m \u001b[0mprint\u001b[0m\u001b[0;34m(\u001b[0m\u001b[0mwho\u001b[0m\u001b[0;34m(\u001b[0m\u001b[0mfirst\u001b[0m\u001b[0;34m)\u001b[0m\u001b[0;34m)\u001b[0m\u001b[0;34m\u001b[0m\u001b[0;34m\u001b[0m\u001b[0m\n\u001b[0m",
            "\u001b[0;31mNameError\u001b[0m: name 'first' is not defined"
          ]
        }
      ]
    },
    {
      "cell_type": "code",
      "metadata": {
        "colab": {
          "base_uri": "https://localhost:8080/"
        },
        "id": "FrDWk2D5tiub",
        "outputId": "b14ca059-b50f-4f39-a5b0-3db5d7d41743"
      },
      "source": [
        "def add(a, b):\n",
        "  return(a+b)\n",
        "add(2, 3)\n",
        "type(add(2, 3))"
      ],
      "execution_count": null,
      "outputs": [
        {
          "output_type": "execute_result",
          "data": {
            "text/plain": [
              "int"
            ]
          },
          "metadata": {
            "tags": []
          },
          "execution_count": 8
        }
      ]
    },
    {
      "cell_type": "code",
      "metadata": {
        "colab": {
          "base_uri": "https://localhost:8080/"
        },
        "id": "LDPHb_A5tqoC",
        "outputId": "9fc81585-8d58-4f40-e31b-ad973c747e72"
      },
      "source": [
        "data=[10,12,20,30,34,45,50]\n",
        "def Sum10th(data):\n",
        "  sum=0\n",
        "  for i,d in enumerate(data):\n",
        "    if (i % 10 == 0): sum=sum+d\n",
        "  return sum\n"
      ],
      "execution_count": null,
      "outputs": [
        {
          "output_type": "stream",
          "text": [
            "<built-in function sum>\n"
          ],
          "name": "stdout"
        }
      ]
    },
    {
      "cell_type": "code",
      "metadata": {
        "colab": {
          "base_uri": "https://localhost:8080/"
        },
        "id": "0YUg24eXqfY0",
        "outputId": "3b13e86a-841b-4332-fb44-f69f378ee8a6"
      },
      "source": [
        "def SetAnnual():\n",
        "  global annual\n",
        "  annual=10000\n",
        "def PrintMonthly():\n",
        "  print(\"Your monthly payment is \"+str(annual/12)+\" USD.\")\n",
        "SetAnnual()\n",
        "PrintMonthly()"
      ],
      "execution_count": null,
      "outputs": [
        {
          "output_type": "stream",
          "text": [
            "Your monthly payment is 833.3333333333334 USD.\n"
          ],
          "name": "stdout"
        }
      ]
    },
    {
      "cell_type": "code",
      "metadata": {
        "colab": {
          "base_uri": "https://localhost:8080/"
        },
        "id": "bcxmrvu4kayM",
        "outputId": "905409e9-73ea-4d89-ca82-21f1022d43f2"
      },
      "source": [
        "def inc(a,b=1):\n",
        "    return(a+b)\n",
        "a=inc(1)\n",
        "a=inc(a,a)\n",
        "print(a)"
      ],
      "execution_count": null,
      "outputs": [
        {
          "output_type": "stream",
          "text": [
            "4\n"
          ],
          "name": "stdout"
        }
      ]
    },
    {
      "cell_type": "code",
      "metadata": {
        "id": "HuJMorfGi_uZ"
      },
      "source": [
        "\n",
        "def Calc(currency,*rates):\n",
        "  for i in rates:\n",
        "    print(currency*i)"
      ],
      "execution_count": null,
      "outputs": []
    },
    {
      "cell_type": "code",
      "metadata": {
        "colab": {
          "base_uri": "https://localhost:8080/"
        },
        "id": "jaMw_-FEWtHY",
        "outputId": "79b6e474-2077-41b5-8b82-381c4f90a840"
      },
      "source": [
        "class myClass():\n",
        "  def method1(self):\n",
        "    print(\"myClass method1\")\n",
        "  def method2(self, someString):\n",
        "    print(\"myClass method2\" + someString)\n",
        "\n",
        "class anotherClass(myClass):\n",
        "  def method1(self):\n",
        "    myClass.method1(self)\n",
        "    print(\"anotherClass method1\")\n",
        "  def method2(self, someString):\n",
        "    print(\"anotherClass method2\")\n",
        "\n",
        "def main():\n",
        "  c=myClass()\n",
        "  c.method1()\n",
        "  c.method2(\"This is a string\")\n",
        "\n",
        "  c2=anotherClass()\n",
        "  c2.method1()\n",
        "  c2.method2(\"This is a string2\")\n",
        "\n",
        "\n",
        "print(main())"
      ],
      "execution_count": null,
      "outputs": [
        {
          "output_type": "stream",
          "text": [
            "myClass method1\n",
            "myClass method2This is a string\n",
            "myClass method1\n",
            "anotherClass method1\n",
            "anotherClass method2\n",
            "None\n"
          ],
          "name": "stdout"
        }
      ]
    },
    {
      "cell_type": "code",
      "metadata": {
        "colab": {
          "base_uri": "https://localhost:8080/"
        },
        "id": "XseorA4vOb84",
        "outputId": "84fa05fd-25bb-40ef-dd08-0307054ab4fd"
      },
      "source": [
        "days=[\"Pzt\", \"salı\", \"Çar\", \"Per\", \"Cuma\", \"Cts\", \"Pazar\"]\n",
        "for i, d in enumerate(days,1):\n",
        "  print(d,i)"
      ],
      "execution_count": null,
      "outputs": [
        {
          "output_type": "stream",
          "text": [
            "Pzt 1\n",
            "salı 2\n",
            "Çar 3\n",
            "Per 4\n",
            "Cuma 5\n",
            "Cts 6\n",
            "Pazar 7\n"
          ],
          "name": "stdout"
        }
      ]
    },
    {
      "cell_type": "code",
      "metadata": {
        "id": "eS7BDtI6MZJC"
      },
      "source": [
        ""
      ],
      "execution_count": null,
      "outputs": []
    },
    {
      "cell_type": "code",
      "metadata": {
        "colab": {
          "base_uri": "https://localhost:8080/"
        },
        "id": "1kLmcRQ0MaBY",
        "outputId": "35c2ecb0-6344-46e5-84ab-0ed015d32eff"
      },
      "source": [
        "days=[\"Pzt\", \"salı\", \"Çar\", \"Per\", \"Cuma\", \"Cts\", \"Pazar\"]\n",
        "for i, d in enumerate(days):\n",
        "  print(i,d)\n"
      ],
      "execution_count": null,
      "outputs": [
        {
          "output_type": "stream",
          "text": [
            "0 Pzt\n",
            "1 salı\n",
            "2 Çar\n",
            "3 Per\n",
            "4 Cuma\n",
            "5 Cts\n",
            "6 Pazar\n"
          ],
          "name": "stdout"
        }
      ]
    },
    {
      "cell_type": "code",
      "metadata": {
        "colab": {
          "base_uri": "https://localhost:8080/"
        },
        "id": "o6bCdPqVNt-l",
        "outputId": "c26f3011-c358-4d25-a9fc-b5e47fba39ec"
      },
      "source": [
        "days=[\"Pzt\", \"salı\", \"Çar\", \"Per\", \"Cuma\", \"Cts\", \"Pazar\"]\n",
        "print(list(enumerate(days,1)))"
      ],
      "execution_count": null,
      "outputs": [
        {
          "output_type": "stream",
          "text": [
            "[(1, 'Pzt'), (2, 'salı'), (3, 'Çar'), (4, 'Per'), (5, 'Cuma'), (6, 'Cts'), (7, 'Pazar')]\n"
          ],
          "name": "stdout"
        }
      ]
    },
    {
      "cell_type": "code",
      "metadata": {
        "colab": {
          "base_uri": "https://localhost:8080/"
        },
        "id": "xtc4z4f7ilZx",
        "outputId": "0405a4d9-02f4-4d35-f893-acc83ce79f26"
      },
      "source": [
        "def parrot(voltage, state='a stiff', action='voom', type='Norwegian Blue'):\n",
        "    print(\"-- This parrot wouldn't\", action, end=' ')\n",
        "    print(\"if you put\", voltage, \"volts through it.\")\n",
        "    print(\"-- Lovely plumage, the\", type)\n",
        "    print(\"-- It's\", state, \"!\")\n",
        "parrot(1000)\n",
        "print()\n",
        "parrot(voltage=1000000, action='VOOOOOM')\n",
        "print()\n",
        "parrot('a million', 'bereft of life', 'jump')\n",
        "print()\n",
        "parrot('a thousand', state='pushing up the daisies')"
      ],
      "execution_count": null,
      "outputs": [
        {
          "output_type": "stream",
          "text": [
            "-- This parrot wouldn't voom if you put 1000 volts through it.\n",
            "-- Lovely plumage, the Norwegian Blue\n",
            "-- It's a stiff !\n",
            "\n",
            "-- This parrot wouldn't VOOOOOM if you put 1000000 volts through it.\n",
            "-- Lovely plumage, the Norwegian Blue\n",
            "-- It's a stiff !\n",
            "\n",
            "-- This parrot wouldn't jump if you put a million volts through it.\n",
            "-- Lovely plumage, the Norwegian Blue\n",
            "-- It's bereft of life !\n",
            "\n",
            "-- This parrot wouldn't voom if you put a thousand volts through it.\n",
            "-- Lovely plumage, the Norwegian Blue\n",
            "-- It's pushing up the daisies !\n"
          ],
          "name": "stdout"
        }
      ]
    },
    {
      "cell_type": "code",
      "metadata": {
        "colab": {
          "base_uri": "https://localhost:8080/"
        },
        "id": "GV3JoDZ5jGph",
        "outputId": "c31226c1-1b13-47ca-c7a9-3558b38d363f"
      },
      "source": [
        "def parrot(voltage, state='a stiff', action='voom', type='Norwegian Blue'):\n",
        "    print(\"-- This parrot wouldn't\", action, end=' ')\n",
        "    print(\"if you put\", voltage, \"volts through it.\")\n",
        "    print(\"-- Lovely plumage, the\", type)\n",
        "    print(\"-- It's\", state, \"!\")\n",
        "parrot(voltage=1000000, action='VOOOOOM')\n"
      ],
      "execution_count": null,
      "outputs": [
        {
          "output_type": "stream",
          "text": [
            "-- This parrot wouldn't VOOOOOM if you put 1000000 volts through it.\n",
            "-- Lovely plumage, the Norwegian Blue\n",
            "-- It's a stiff !\n"
          ],
          "name": "stdout"
        }
      ]
    },
    {
      "cell_type": "code",
      "metadata": {
        "colab": {
          "base_uri": "https://localhost:8080/"
        },
        "id": "9tua_m2tYLSd",
        "outputId": "f32ea7b9-f18b-45e9-ccf3-4ef143fee947"
      },
      "source": [
        "a='i'\n",
        "b='love'\n",
        "c='you'\n",
        "def texter(c,a,b):\n",
        "  print(a,b,c)\n",
        "texter('you', 'i', 'love')"
      ],
      "execution_count": null,
      "outputs": [
        {
          "output_type": "stream",
          "text": [
            "i love you\n"
          ],
          "name": "stdout"
        }
      ]
    },
    {
      "cell_type": "code",
      "metadata": {
        "colab": {
          "base_uri": "https://localhost:8080/",
          "height": 132
        },
        "id": "OqfRtLefiZbi",
        "outputId": "8da0dc9c-8159-4782-ba7d-722144f35839"
      },
      "source": [
        "#import calendar\n",
        "print(calendar.month(2021,08))\n",
        "calendar "
      ],
      "execution_count": null,
      "outputs": [
        {
          "output_type": "error",
          "ename": "SyntaxError",
          "evalue": "ignored",
          "traceback": [
            "\u001b[0;36m  File \u001b[0;32m\"<ipython-input-39-f4b23c096c0a>\"\u001b[0;36m, line \u001b[0;32m2\u001b[0m\n\u001b[0;31m    print(calendar.month(2021,08))\u001b[0m\n\u001b[0m                               ^\u001b[0m\n\u001b[0;31mSyntaxError\u001b[0m\u001b[0;31m:\u001b[0m invalid token\n"
          ]
        }
      ]
    },
    {
      "cell_type": "code",
      "metadata": {
        "colab": {
          "base_uri": "https://localhost:8080/"
        },
        "id": "b4rPsIgNeURz",
        "outputId": "cae16ac9-f6aa-44a2-898b-5e97eb4e1cb4"
      },
      "source": [
        "college_years = ['Freshman', 'Sophomore', 'Junior', 'Senior']\n",
        "print(list(enumerate(college_years, 2019)))"
      ],
      "execution_count": null,
      "outputs": [
        {
          "output_type": "stream",
          "text": [
            "[(2019, 'Freshman'), (2020, 'Sophomore'), (2021, 'Junior'), (2022, 'Senior')]\n"
          ],
          "name": "stdout"
        }
      ]
    },
    {
      "cell_type": "code",
      "metadata": {
        "id": "a-Tb-tnCdg5O"
      },
      "source": [
        "count, fruit, price = (2, 'apple', 3.5) #tuple unpacking?"
      ],
      "execution_count": null,
      "outputs": []
    },
    {
      "cell_type": "code",
      "metadata": {
        "colab": {
          "base_uri": "https://localhost:8080/"
        },
        "id": "BL82NUqjcva7",
        "outputId": "b4fc6eac-4386-45a1-aa25-e2b584ab98e1"
      },
      "source": [
        "z=set('abc')\n",
        "z.add('san')\n",
        "z.update(set(['p', 'q']))\n",
        "print(z)"
      ],
      "execution_count": null,
      "outputs": [
        {
          "output_type": "stream",
          "text": [
            "{'q', 'p', 'b', 'c', 'san', 'a'}\n"
          ],
          "name": "stdout"
        }
      ]
    },
    {
      "cell_type": "code",
      "metadata": {
        "colab": {
          "base_uri": "https://localhost:8080/"
        },
        "id": "Xw4YYV47Xd1u",
        "outputId": "677cc178-a8cc-4607-b10b-5bb40a6e9d6b"
      },
      "source": [
        "a={}\n",
        "a['a']=1\n",
        "a['b']=[2,3,4]\n",
        "print(a)"
      ],
      "execution_count": null,
      "outputs": [
        {
          "output_type": "stream",
          "text": [
            "{'a': 1, 'b': [2, 3, 4]}\n"
          ],
          "name": "stdout"
        }
      ]
    },
    {
      "cell_type": "code",
      "metadata": {
        "colab": {
          "base_uri": "https://localhost:8080/"
        },
        "id": "nth7aFOlVru6",
        "outputId": "995b344b-531b-49f7-e3bf-4801a127bfa1"
      },
      "source": [
        "d = {\"john\":40, \"peter\":45}\n",
        "d[\"john\"]\n"
      ],
      "execution_count": null,
      "outputs": [
        {
          "output_type": "execute_result",
          "data": {
            "text/plain": [
              "40"
            ]
          },
          "metadata": {
            "tags": []
          },
          "execution_count": 24
        }
      ]
    },
    {
      "cell_type": "code",
      "metadata": {
        "colab": {
          "base_uri": "https://localhost:8080/"
        },
        "id": "1qUSCKd9UE9p",
        "outputId": "02743220-ecab-43ca-a4b0-2a5cd24dcb7f"
      },
      "source": [
        "d = {\"john\":40, \"peter\":45}\n",
        "print(list(d.keys()))"
      ],
      "execution_count": null,
      "outputs": [
        {
          "output_type": "stream",
          "text": [
            "['john', 'peter']\n"
          ],
          "name": "stdout"
        }
      ]
    },
    {
      "cell_type": "code",
      "metadata": {
        "colab": {
          "base_uri": "https://localhost:8080/"
        },
        "id": "R2iRomwITJhP",
        "outputId": "61035450-e4d2-4871-a1a1-3c40c1fc524f"
      },
      "source": [
        "for x in set('pqr'):\n",
        "  print(x*2)"
      ],
      "execution_count": null,
      "outputs": [
        {
          "output_type": "stream",
          "text": [
            "pp\n",
            "qq\n",
            "rr\n"
          ],
          "name": "stdout"
        }
      ]
    },
    {
      "cell_type": "code",
      "metadata": {
        "id": "BDO3oa7UTJfZ"
      },
      "source": [
        ""
      ],
      "execution_count": null,
      "outputs": []
    },
    {
      "cell_type": "code",
      "metadata": {
        "id": "9UzHKHb4QmVO",
        "colab": {
          "base_uri": "https://localhost:8080/"
        },
        "outputId": "f078f3e4-9f35-4244-f8ee-1fe275803e72"
      },
      "source": [
        "n=int(input(\"To list the prime numbers, pls enter a number  up to 1000 :\"))\n",
        "liste=[]\n",
        "for i in range(1,n):\n",
        "  for x in range(2,i):\n",
        "    if (i%x==0):\n",
        "      break\n",
        "  else:\n",
        "    liste.append(i)\n",
        "print(liste)"
      ],
      "execution_count": null,
      "outputs": [
        {
          "output_type": "stream",
          "text": [
            "To list the prime numbers, pls enter a number  up to 1000 :100\n",
            "[1, 2, 3, 5, 7, 11, 13, 17, 19, 23, 29, 31, 37, 41, 43, 47, 53, 59, 61, 67, 71, 73, 79, 83, 89, 97]\n"
          ],
          "name": "stdout"
        }
      ]
    },
    {
      "cell_type": "code",
      "metadata": {
        "colab": {
          "base_uri": "https://localhost:8080/"
        },
        "id": "KxMkAMSXWXOw",
        "outputId": "2eda8912-3b59-420f-9198-0b8f814cac90"
      },
      "source": [
        "# Fibonacci numbers\n",
        "listem=[1]\n",
        "x=0 \n",
        "y=1\n",
        "while x < 55:\n",
        "  x=x+y\n",
        "  y=y+x\n",
        "  listem.append(x)\n",
        "  listem.append(y)\n",
        "listem.remove(y)\n",
        "print(listem)\n"
      ],
      "execution_count": null,
      "outputs": [
        {
          "output_type": "stream",
          "text": [
            "[1, 1, 2, 3, 5, 8, 13, 21, 34, 55]\n"
          ],
          "name": "stdout"
        }
      ]
    },
    {
      "cell_type": "code",
      "metadata": {
        "id": "e_PZSOXGGDHE",
        "colab": {
          "base_uri": "https://localhost:8080/"
        },
        "outputId": "f6ff7944-09de-405a-ab52-4bc9fa9b3d0f"
      },
      "source": [
        "set1 = {1, 2, 3}\n",
        "set2 = set1.copy()\n",
        "set2.add(4)\n",
        "print(set1)"
      ],
      "execution_count": null,
      "outputs": [
        {
          "output_type": "stream",
          "text": [
            "{1, 2, 3}\n"
          ],
          "name": "stdout"
        }
      ]
    },
    {
      "cell_type": "code",
      "metadata": {
        "colab": {
          "base_uri": "https://localhost:8080/"
        },
        "id": "eaZx7Bk5F7Dw",
        "outputId": "047a107f-ce21-4b53-eb9b-0803e0f9661c"
      },
      "source": [
        "D = {1 : 1, 2 : '2', '1' : 1, '2' : 3}\n",
        "D['1'] = 2\n",
        "print(D[D[D[str(D[1])]]])"
      ],
      "execution_count": null,
      "outputs": [
        {
          "output_type": "stream",
          "text": [
            "3\n"
          ],
          "name": "stdout"
        }
      ]
    },
    {
      "cell_type": "code",
      "metadata": {
        "colab": {
          "base_uri": "https://localhost:8080/"
        },
        "id": "AZqa5IT3CQIV",
        "outputId": "2ad3a663-3de8-4c81-d27d-4686e8c74ef4"
      },
      "source": [
        "T = (1, 2, 3, 4, 5, 6, 7, 8)\n",
        "print(T[-1])\n",
        "print(T.index(5)) # kümedeki 5'in indeks sırası nedir? 0,1,2,3,(4)\n",
        "print(T[T.index(5)]) # kümede 4. indekste/sırada hangi rakam vardır? T[4]=5\n",
        "print(T[T.index(5)], end = \" \")\n",
        "print(T[T[T[6]-3]-6]) # T[-1]=8"
      ],
      "execution_count": null,
      "outputs": [
        {
          "output_type": "stream",
          "text": [
            "8\n",
            "4\n",
            "5\n",
            "5 8\n"
          ],
          "name": "stdout"
        }
      ]
    },
    {
      "cell_type": "code",
      "metadata": {
        "colab": {
          "base_uri": "https://localhost:8080/"
        },
        "id": "WryIGyStAOEd",
        "outputId": "58605ad0-bbb6-4086-8d69-2c72a650ccaa"
      },
      "source": [
        "L1 = []\n",
        "L1.append([1, [2, 3], 4])\n",
        "print(L1)\n",
        "L1.extend([7, 8, 9])\n",
        "print(L1)\n",
        "print(L1[0][1][1] + L1[2])"
      ],
      "execution_count": null,
      "outputs": [
        {
          "output_type": "stream",
          "text": [
            "[[1, [2, 3], 4]]\n",
            "[[1, [2, 3], 4], 7, 8, 9]\n",
            "11\n"
          ],
          "name": "stdout"
        }
      ]
    },
    {
      "cell_type": "code",
      "metadata": {
        "colab": {
          "base_uri": "https://localhost:8080/"
        },
        "id": "E4v8bla-_fnb",
        "outputId": "539dbc2d-54c4-40ec-eef6-70b87fafd5e4"
      },
      "source": [
        "a=[1,2,3,4]\n",
        "b=[sum(a[0:x+1]) for x in range(0,len(a))]\n",
        "print(b)"
      ],
      "execution_count": null,
      "outputs": [
        {
          "output_type": "stream",
          "text": [
            "[1, 3, 6, 10]\n"
          ],
          "name": "stdout"
        }
      ]
    },
    {
      "cell_type": "code",
      "metadata": {
        "id": "pPqmD-3Qi8Mt"
      },
      "source": [
        "filter()"
      ],
      "execution_count": null,
      "outputs": []
    },
    {
      "cell_type": "code",
      "metadata": {
        "colab": {
          "base_uri": "https://localhost:8080/"
        },
        "id": "lcQEbDUMi89V",
        "outputId": "536d2a2b-4aaa-4b60-e05c-340ecb6200ea"
      },
      "source": [
        "listem=[1,2,3,4,5,6]\n",
        "[i**2 for i in listem]\n"
      ],
      "execution_count": null,
      "outputs": [
        {
          "output_type": "execute_result",
          "data": {
            "text/plain": [
              "[1, 4, 9, 16, 25, 36]"
            ]
          },
          "metadata": {
            "tags": []
          },
          "execution_count": 22
        }
      ]
    },
    {
      "cell_type": "code",
      "metadata": {
        "colab": {
          "base_uri": "https://localhost:8080/"
        },
        "id": "MeKrhhMAhdkI",
        "outputId": "00296ef5-7d95-4afe-d1ca-75c15a4aa9cc"
      },
      "source": [
        "listem=[1,2,3,4,5,6]\n",
        "[i**2 for i in listem if i%2]"
      ],
      "execution_count": null,
      "outputs": [
        {
          "output_type": "execute_result",
          "data": {
            "text/plain": [
              "[1, 9, 25]"
            ]
          },
          "metadata": {
            "tags": []
          },
          "execution_count": 23
        }
      ]
    },
    {
      "cell_type": "code",
      "metadata": {
        "colab": {
          "base_uri": "https://localhost:8080/"
        },
        "id": "5T93iLZ1fpaS",
        "outputId": "10240e31-a386-4679-b6b9-09b4587ba7ff"
      },
      "source": [
        "[i**2 for i in range(5)]"
      ],
      "execution_count": null,
      "outputs": [
        {
          "output_type": "execute_result",
          "data": {
            "text/plain": [
              "[0, 1, 4, 9, 16]"
            ]
          },
          "metadata": {
            "tags": []
          },
          "execution_count": 16
        }
      ]
    },
    {
      "cell_type": "code",
      "metadata": {
        "colab": {
          "base_uri": "https://localhost:8080/"
        },
        "id": "aNpLAVPwdlhC",
        "outputId": "3eb85ab4-393c-4d0e-8905-f31d0b530288"
      },
      "source": [
        "[i for i in range(5)]"
      ],
      "execution_count": null,
      "outputs": [
        {
          "output_type": "execute_result",
          "data": {
            "text/plain": [
              "[0, 1, 2, 3, 4]"
            ]
          },
          "metadata": {
            "tags": []
          },
          "execution_count": 15
        }
      ]
    },
    {
      "cell_type": "code",
      "metadata": {
        "colab": {
          "base_uri": "https://localhost:8080/"
        },
        "id": "GvThV3M9cw19",
        "outputId": "9429ebf3-b3d2-4e4e-fa1c-e0b32b0d5ea6"
      },
      "source": [
        "listem=[]\n",
        "for i in range(5):\n",
        "  listem.append(i)\n",
        "listem"
      ],
      "execution_count": null,
      "outputs": [
        {
          "output_type": "execute_result",
          "data": {
            "text/plain": [
              "[0, 1, 2, 3, 4]"
            ]
          },
          "metadata": {
            "tags": []
          },
          "execution_count": 11
        }
      ]
    },
    {
      "cell_type": "code",
      "metadata": {
        "colab": {
          "base_uri": "https://localhost:8080/"
        },
        "id": "_N5E5TFbU8mK",
        "outputId": "e6b82f81-8cdd-4842-f976-a749ba4a57a3"
      },
      "source": [
        "names = [\"susan\", \"tom\", \"edward\"] \n",
        "mood = [\"happy\", \"sad\"]\n",
        "for i in names:\n",
        "  for j in mood:\n",
        "    print(i,j)"
      ],
      "execution_count": null,
      "outputs": [
        {
          "output_type": "stream",
          "text": [
            "susan happy\n",
            "susan sad\n",
            "tom happy\n",
            "tom sad\n",
            "edward happy\n",
            "edward sad\n"
          ],
          "name": "stdout"
        }
      ]
    },
    {
      "cell_type": "code",
      "metadata": {
        "colab": {
          "base_uri": "https://localhost:8080/"
        },
        "id": "4j7g7A1oU9Fu",
        "outputId": "24e1fa1b-056d-49ba-8f2c-b8def1e28a3e"
      },
      "source": [
        "liste=[11,2,24,61,48,33,31]\n",
        "even=0 \n",
        "odd=0\n",
        "for i in liste:\n",
        "  if i % 2 :\n",
        "    even+=1\n",
        "  else: odd+=1\n",
        "print(even,odd)"
      ],
      "execution_count": null,
      "outputs": [
        {
          "output_type": "stream",
          "text": [
            "4 3\n"
          ],
          "name": "stdout"
        }
      ]
    },
    {
      "cell_type": "code",
      "metadata": {
        "colab": {
          "base_uri": "https://localhost:8080/"
        },
        "id": "ij-OvIwASbWJ",
        "outputId": "3edce111-668a-4aab-862f-bf613cd95dd3"
      },
      "source": [
        "liste=[11,2,24,61,48,33,31]\n",
        "even=0 \n",
        "odd=0\n",
        "for i in liste:\n",
        "  if i % 2 == 0 :\n",
        "    even+=1\n",
        "  else: odd+=1\n",
        "print(even,odd)"
      ],
      "execution_count": null,
      "outputs": [
        {
          "output_type": "stream",
          "text": [
            "3 4\n"
          ],
          "name": "stdout"
        }
      ]
    },
    {
      "cell_type": "code",
      "metadata": {
        "id": "u_D5_3nTSbUk",
        "colab": {
          "base_uri": "https://localhost:8080/"
        },
        "outputId": "f955310e-444d-4272-8baa-f279049712a1"
      },
      "source": [
        "#amstrong sayı bulma\n",
        "while True:\n",
        "  number=input(\"enter a positive integer number: \")\n",
        "  digits=len(number)\n",
        "  summ=0\n",
        "  if not number.isdigit():\n",
        "    print(number,\"is invalid entry.\")\n",
        "  elif int(number)>0:\n",
        "    for i in range(digits):\n",
        "      summ=summ+int(number[i])**digits\n",
        "    if summ==int(number):\n",
        "      print(number,\"is an armstrong number\")\n",
        "      break\n",
        "    else :\n",
        "      print(number,\"is not an Armstrong number.Sorry\")\n",
        "      break"
      ],
      "execution_count": null,
      "outputs": [
        {
          "output_type": "stream",
          "text": [
            "enter a positive integer number: 1\n",
            "1 is an armstrong number\n"
          ],
          "name": "stdout"
        }
      ]
    },
    {
      "cell_type": "code",
      "metadata": {
        "colab": {
          "base_uri": "https://localhost:8080/"
        },
        "id": "TpRIqEh2Ol7-",
        "outputId": "dc604154-7fb3-4cbc-a8f7-fcb2723823f4"
      },
      "source": [
        "num = int(input(\"Enter a number: \"))\n",
        "if num > 1:\n",
        "  for i in range(2,num):\n",
        "    if (num % i) == 0:\n",
        "      print(num,\"is not a prime number\")\n",
        "      break\n",
        "  else:\n",
        "      print(num,\"is a prime number\")"
      ],
      "execution_count": null,
      "outputs": [
        {
          "output_type": "stream",
          "text": [
            "Enter a number: 11\n",
            "11 is a prime number\n"
          ],
          "name": "stdout"
        }
      ]
    },
    {
      "cell_type": "code",
      "metadata": {
        "id": "KGmUHT0pMays"
      },
      "source": [
        "# Program to check if a number is prime or not\n",
        "\n",
        "num = 29\n",
        "\n",
        "# To take input from the user\n",
        "#num = int(input(\"Enter a number: \"))\n",
        "\n",
        "# define a flag variable\n",
        "flag = False\n",
        "\n",
        "# prime numbers are greater than 1\n",
        "if num > 1:\n",
        "    # check for factors\n",
        "    for i in range(2, num):\n",
        "        if (num % i) == 0:\n",
        "            # if factor is found, set flag to True\n",
        "            flag = True\n",
        "            # break out of loop\n",
        "            break\n",
        "\n",
        "# check if flag is True\n",
        "if flag:\n",
        "    print(num, \"is not a prime number\")\n",
        "else:\n",
        "    print(num, \"is a prime number\")"
      ],
      "execution_count": null,
      "outputs": []
    },
    {
      "cell_type": "code",
      "metadata": {
        "id": "7Z_gEMBGMEDV"
      },
      "source": [
        "# Program to check if a number is prime or not\n",
        "\n",
        "num = 407\n",
        "\n",
        "# To take input from the user\n",
        "#num = int(input(\"Enter a number: \"))\n",
        "\n",
        "# prime numbers are greater than 1\n",
        "if num > 1:\n",
        "   # check for factors\n",
        "   for i in range(2,num):\n",
        "       if (num % i) == 0:\n",
        "           print(num,\"is not a prime number\")\n",
        "           print(i,\"times\",num//i,\"is\",num)\n",
        "           break\n",
        "   else:\n",
        "       print(num,\"is a prime number\")\n",
        "       \n",
        "# if input number is less than\n",
        "# or equal to 1, it is not prime\n",
        "else:"
      ],
      "execution_count": null,
      "outputs": []
    },
    {
      "cell_type": "code",
      "metadata": {
        "id": "EfnIRxQV1htH"
      },
      "source": [
        "x = input(Enter the age:)"
      ],
      "execution_count": null,
      "outputs": []
    },
    {
      "cell_type": "code",
      "metadata": {
        "colab": {
          "base_uri": "https://localhost:8080/",
          "height": 132
        },
        "id": "3xXciyZwuM0y",
        "outputId": "a0d9711b-885e-4921-efdc-adb31ebf74b3"
      },
      "source": [
        "# Create a function that takes in a list and returns a list of the accumulating sum.\n",
        "# accumulating_list([1, 2, 3, 4]) ➞ [1, 3, 6, 10]\n",
        "# [1, 3, 6, 10] can be written as  [1, 1 + 2, 1 + 2 + 3, 1 + 2 + 3 + 4]\n",
        "# accumulating_list([1, 5, 7]) ➞ [1, 6, 13]\n",
        "# accumulating_list([1, 0, 1, 0, 1]) ➞ [1, 1, 2, 2, 3]\n",
        "# accumulating_list([]) ➞ []\n",
        "\n",
        "num = [1, 2, 3, 4]\n",
        "new_list = []\n",
        "i = 0\n",
        "a = 0\n",
        "while i < len(num):\n",
        "    a += num[i]\n",
        "    i += 1\n",
        "    new_list.append(a)\n",
        "new_list"
      ],
      "execution_count": null,
      "outputs": [
        {
          "output_type": "error",
          "ename": "SyntaxError",
          "evalue": "ignored",
          "traceback": [
            "\u001b[0;36m  File \u001b[0;32m\"<ipython-input-1-4737770ded80>\"\u001b[0;36m, line \u001b[0;32m1\u001b[0m\n\u001b[0;31m    accumulating_list([1, 2, 3, 4]) ➞ [1, 3, 6, 10]\u001b[0m\n\u001b[0m                                    ^\u001b[0m\n\u001b[0;31mSyntaxError\u001b[0m\u001b[0;31m:\u001b[0m invalid character in identifier\n"
          ]
        }
      ]
    },
    {
      "cell_type": "code",
      "metadata": {
        "id": "aSTfyuAYve0C"
      },
      "source": [
        "def accumulating_list(lst):\n",
        "\tk=0\n",
        "\tt=[]\n",
        "\tfor i in range(len(lst)):\n",
        "\t\tk=k+lst[i]\n",
        "\t\tt.append(k)\n",
        "\treturn t"
      ],
      "execution_count": null,
      "outputs": []
    },
    {
      "cell_type": "code",
      "metadata": {
        "id": "7o9Hq8YyvgMk"
      },
      "source": [
        "def accumulating_list(lst):\n",
        "    return [sum(lst[:i+1]) for i in range(len(lst))]"
      ],
      "execution_count": null,
      "outputs": []
    },
    {
      "cell_type": "code",
      "metadata": {
        "colab": {
          "base_uri": "https://localhost:8080/"
        },
        "id": "ZDmxis1eGNfW",
        "outputId": "c965a598-2931-4413-f59e-8cd2332c09a0"
      },
      "source": [
        "names = [\"Ahmed\", \"Aisha\", \"Adam\", \"Joseph\", \"Gabriel\"]\n",
        "for i in names:\n",
        "  print(\"Hello\", i)"
      ],
      "execution_count": null,
      "outputs": [
        {
          "output_type": "stream",
          "text": [
            "hello Ahmed\n",
            "hello Aisha\n",
            "hello Adam\n",
            "hello Joseph\n",
            "hello Gabriel\n"
          ],
          "name": "stdout"
        }
      ]
    },
    {
      "cell_type": "code",
      "metadata": {
        "id": "V01UDPr13c9X",
        "colab": {
          "base_uri": "https://localhost:8080/"
        },
        "outputId": "f81302fa-f64b-4eb2-a7d5-e40662e28fd4"
      },
      "source": [
        "x = input(\"enter a positive integer number:\")\n",
        "xx = float(x)\n",
        "if xx < 0 or xx//1 != xx/1 : \n",
        "  print(\"It is an invalid entry. Don't use non-numeric, float, or negative values!\") \n",
        " \n",
        "else :  \n",
        "  liste = list(x)\n",
        "  n = len(liste)\n",
        "  y = 0\n",
        "  z = 0\n",
        "  while y < n :\n",
        "    z = z + (int(liste[y]))**n\n",
        "    y = y + 1\n",
        "  if z == int(x) : \n",
        "    print(\"{} is an armstrong number.\".format(z))\n",
        "  else :\n",
        "    print(\"{} is not an armstrong number.\".format(z))"
      ],
      "execution_count": null,
      "outputs": [
        {
          "output_type": "stream",
          "text": [
            "enter a positive integer number:9.8\n",
            "It is an invalid entry. Don't use non-numeric, float, or negative values!\n"
          ],
          "name": "stdout"
        }
      ]
    },
    {
      "cell_type": "code",
      "metadata": {
        "colab": {
          "base_uri": "https://localhost:8080/"
        },
        "id": "NXzr2RNaS2N4",
        "outputId": "b61d2fb4-2787-4c6e-d0ca-dc74780964f9"
      },
      "source": [
        "psw = \"Rock.43\"\n",
        "name = input(\"Enter your name:\")\n",
        "if name == \"Ahmet\" : print (\"Hello, Ahmet! The password is: Rock.43\")\n",
        "else : print(\"Hello {}! See you later.\".format(name))"
      ],
      "execution_count": null,
      "outputs": [
        {
          "output_type": "stream",
          "text": [
            "Enter your name:eren\n",
            "Hello eren! See you later.\n"
          ],
          "name": "stdout"
        }
      ]
    },
    {
      "cell_type": "code",
      "metadata": {
        "id": "MAkKK_kDUcUM",
        "colab": {
          "base_uri": "https://localhost:8080/"
        },
        "outputId": "6ab541c4-b80e-4ee1-ce67-a714f0f19509"
      },
      "source": [
        "college_years = ['Freshman', 'Sophomore', 'Junior', 'Senior']\n",
        "print(list(enumerate(college_years, 2019)))"
      ],
      "execution_count": null,
      "outputs": [
        {
          "output_type": "stream",
          "text": [
            "[(2019, 'Freshman'), (2020, 'Sophomore'), (2021, 'Junior'), (2022, 'Senior')]\n"
          ],
          "name": "stdout"
        }
      ]
    },
    {
      "cell_type": "code",
      "metadata": {
        "colab": {
          "base_uri": "https://localhost:8080/"
        },
        "id": "UPOHlh534En5",
        "outputId": "d8ba4f84-c9d0-4e05-a5d6-15b740f987f2"
      },
      "source": [
        "fruits = ['Apples', 'Oranges', 'Bananas']\n",
        "quantities = [5, 3, 4]\n",
        "prices = [1.50, 2.25, 0.89]\n",
        "groceries = zip(fruits, quantities, prices)\n",
        "print(list(groceries))"
      ],
      "execution_count": null,
      "outputs": [
        {
          "output_type": "stream",
          "text": [
            "[('Apples', 5, 1.5), ('Oranges', 3, 2.25), ('Bananas', 4, 0.89)]\n"
          ],
          "name": "stdout"
        }
      ]
    },
    {
      "cell_type": "code",
      "metadata": {
        "colab": {
          "base_uri": "https://localhost:8080/"
        },
        "id": "Z8B1ORhN6R6E",
        "outputId": "ad95d5b7-7437-4197-bde9-51fc69c57713"
      },
      "source": [
        "fruits = ['Apples', 'Oranges', 'Bananas']\n",
        "quantities = [5, 3, 4]\n",
        "prices = [1.50, 2.25, 0.89]\n",
        "output=[]\n",
        "fruit_tuple_0 = (fruits[0], quantities[0], prices[0])\n",
        "output.append(output)\n",
        "fruit_tuple_1 = (fruits[1], quantities[1], prices[1])\n",
        "output.append(output)\n",
        "fruit_tuple_2 = (fruits[2], quantities[2], prices[2])\n",
        "output.append(output)\n",
        "print(fruit_tuple_0, fruit_tuple_1, fruit_tuple_2)"
      ],
      "execution_count": null,
      "outputs": [
        {
          "output_type": "stream",
          "text": [
            "('Apples', 5, 1.5) ('Oranges', 3, 2.25) ('Bananas', 4, 0.89)\n"
          ],
          "name": "stdout"
        }
      ]
    },
    {
      "cell_type": "code",
      "metadata": {
        "colab": {
          "base_uri": "https://localhost:8080/"
        },
        "id": "VF4LI2DR7jNy",
        "outputId": "ef3f893b-7fcb-4a7f-ba75-ed7087af723f"
      },
      "source": [
        "fruits = ['Apples', 'Oranges', 'Bananas']\n",
        "quantities = [5, 3, 4]\n",
        "prices = [1.50, 2.25, 0.89]\n",
        "i = 0\n",
        "output = []\n",
        "for fruit in fruits:\n",
        "  for qty in quantities:\n",
        "    for price in prices:\n",
        "      output.append((fruit, qty, price))\n",
        "  i += 1\n",
        "print(output)"
      ],
      "execution_count": null,
      "outputs": [
        {
          "output_type": "stream",
          "text": [
            "[('Apples', 5, 1.5), ('Apples', 5, 2.25), ('Apples', 5, 0.89), ('Apples', 3, 1.5), ('Apples', 3, 2.25), ('Apples', 3, 0.89), ('Apples', 4, 1.5), ('Apples', 4, 2.25), ('Apples', 4, 0.89), ('Oranges', 5, 1.5), ('Oranges', 5, 2.25), ('Oranges', 5, 0.89), ('Oranges', 3, 1.5), ('Oranges', 3, 2.25), ('Oranges', 3, 0.89), ('Oranges', 4, 1.5), ('Oranges', 4, 2.25), ('Oranges', 4, 0.89), ('Bananas', 5, 1.5), ('Bananas', 5, 2.25), ('Bananas', 5, 0.89), ('Bananas', 3, 1.5), ('Bananas', 3, 2.25), ('Bananas', 3, 0.89), ('Bananas', 4, 1.5), ('Bananas', 4, 2.25), ('Bananas', 4, 0.89)]\n"
          ],
          "name": "stdout"
        }
      ]
    },
    {
      "cell_type": "code",
      "metadata": {
        "colab": {
          "base_uri": "https://localhost:8080/"
        },
        "id": "KXjhe2-96gDE",
        "outputId": "0233d9ca-af8d-4371-df71-dd35284cd727"
      },
      "source": [
        "fruits = ['Apples', 'Oranges', 'Bananas']\n",
        "quantities = [5, 3, 4]\n",
        "prices = [1.50, 2.25, 0.89]\n",
        "i = 0\n",
        "output = []\n",
        "for fruit in fruits:\n",
        "  temp_qty = quantities[i]\n",
        "  temp_price = prices[i]\n",
        "  output.append((fruit, temp_qty, temp_price))\n",
        "print(output)"
      ],
      "execution_count": null,
      "outputs": [
        {
          "output_type": "stream",
          "text": [
            "[('Apples', 5, 1.5), ('Oranges', 5, 1.5), ('Bananas', 5, 1.5)]\n"
          ],
          "name": "stdout"
        }
      ]
    },
    {
      "cell_type": "code",
      "metadata": {
        "colab": {
          "base_uri": "https://localhost:8080/"
        },
        "id": "HD1P4RLwbLPm",
        "outputId": "ba5126ca-4d57-4e96-c2ec-be13c23a548f"
      },
      "source": [
        "a, _, b, _ = (10, 20, 30, 40)\n",
        "_"
      ],
      "execution_count": null,
      "outputs": [
        {
          "output_type": "execute_result",
          "data": {
            "text/plain": [
              "40"
            ]
          },
          "metadata": {
            "tags": []
          },
          "execution_count": 24
        }
      ]
    },
    {
      "cell_type": "code",
      "metadata": {
        "colab": {
          "base_uri": "https://localhost:8080/"
        },
        "id": "_nAwabXCaolj",
        "outputId": "bb467d9e-c396-4a92-9bdc-0fdee49b6470"
      },
      "source": [
        "items = (10, 20)\n",
        "x, y = items\n",
        "x"
      ],
      "execution_count": null,
      "outputs": [
        {
          "output_type": "execute_result",
          "data": {
            "text/plain": [
              "10"
            ]
          },
          "metadata": {
            "tags": []
          },
          "execution_count": 23
        }
      ]
    },
    {
      "cell_type": "code",
      "metadata": {
        "id": "17dHfQJ7X6V5"
      },
      "source": [
        "a = int(input(\"Bir sayı giriniz= \"))\n",
        "b = int(input(\"Bir sayı giriniz= \"))\n",
        "if a > b:\n",
        "    print (\"{} den {} büyüktür\".format(a ,b))\n",
        "else:\n",
        "    print (\"{} den {} büyüktür\".format(b ,a))"
      ],
      "execution_count": null,
      "outputs": []
    },
    {
      "cell_type": "code",
      "metadata": {
        "colab": {
          "base_uri": "https://localhost:8080/"
        },
        "id": "_GCEG3duO_xa",
        "outputId": "ba0ec894-14c3-40b7-a0a8-a765c40a2bdc"
      },
      "source": [
        "A=input(\"A: Bir sayı giriniz\")\n",
        "B=input(\"B: Bir sayı giriniz\")\n",
        "C=input(\"C: Bir sayı giriniz\")\n",
        "if A>B and A>C: print(\"En büyük sayı A\")\n",
        "elif B>A and B>C: print(\"En büyük sayı B\")\n",
        "else: print(\"En büyük sayı C\")"
      ],
      "execution_count": null,
      "outputs": [
        {
          "output_type": "stream",
          "text": [
            "A: Bir sayı giriniz8\n",
            "B: Bir sayı giriniz7\n",
            "C: Bir sayı giriniz6\n",
            "En büyük sayı A\n"
          ],
          "name": "stdout"
        }
      ]
    },
    {
      "cell_type": "code",
      "metadata": {
        "colab": {
          "base_uri": "https://localhost:8080/"
        },
        "id": "VFjMbumOL8jv",
        "outputId": "8429adf4-1562-459d-aed7-9f71635d9a03"
      },
      "source": [
        "boolean_value = False\n",
        "if boolean_value : print(\"Yes\")\n",
        "else: print(\"No\")"
      ],
      "execution_count": null,
      "outputs": [
        {
          "output_type": "stream",
          "text": [
            "No\n"
          ],
          "name": "stdout"
        }
      ]
    },
    {
      "cell_type": "code",
      "metadata": {
        "id": "lZEp5SHkIcOv"
      },
      "source": [
        "saved_amount = int(input('Please enter your saved amount: '))\n",
        "if saved_amount <= ps4_price/2:\n",
        "    print('You must save more, keep saving!')\n",
        "elif saved_amount > ps4_price/2 and saved_amount < ps4_price:\n",
        "    print('You saved more than half, keep saving!')\n",
        "else:\n",
        "    print('Yippee! You can buy your PS4')"
      ],
      "execution_count": null,
      "outputs": []
    },
    {
      "cell_type": "code",
      "metadata": {
        "id": "SSo6m0_wIa95"
      },
      "source": [
        "math_mark = int(input('Please enter the mark: '))\n",
        "\n",
        "if math_mark >= 85:\n",
        "    print('A (Excellent)')\n",
        "elif math_mark < 85 and math_mark >= 70:\n",
        "    print('B (Good)')\n",
        "elif math_mark < 70 and math_mark >= 60:\n",
        "    print('C (Medium)')\n",
        "elif math_mark < 60 and math_mark >= 45:\n",
        "    print('D (Not Bad)')\n",
        "else:\n",
        "    print('F (Failed)')"
      ],
      "execution_count": null,
      "outputs": []
    },
    {
      "cell_type": "code",
      "metadata": {
        "id": "O7XZ8xBvIROb"
      },
      "source": [
        "saved_amount = int(input('Please enter your saved amount: '))\n",
        "if saved_amount <= ps4_price/2:\n",
        "    print('You must save more, keep saving!')\n",
        "elif saved_amount > ps4_price/2 and saved_amount < ps4_price:\n",
        "    print('You saved more than half, keep saving!')\n",
        "else:\n",
        "    print('Yippee! You can buy your PS4')"
      ],
      "execution_count": null,
      "outputs": []
    },
    {
      "cell_type": "code",
      "metadata": {
        "colab": {
          "base_uri": "https://localhost:8080/"
        },
        "id": "-iyxzIXLFNy1",
        "outputId": "bedaa16a-0a69-41ee-8616-820abbb2a5bc"
      },
      "source": [
        "math_mark = int(input('Please enter the mark: '))\n",
        "if math_mark >= 85 : print(\"A (Excellent)\")\n",
        "if math_mark >= 70 and math_mark < 85 : print(\"B (Good)\")\n",
        "if math_mark >= 60 and math_mark < 70 : print(\"C (Medium)\")\n",
        "if math_mark >= 45 and math_mark < 60 : print(\"D (Not Bad)\")\n",
        "else:\n",
        "  print(\"F (Failed)\")"
      ],
      "execution_count": null,
      "outputs": [
        {
          "output_type": "stream",
          "text": [
            "Please enter the mark: 66\n",
            "C (Medium)\n",
            "F (Failed)\n"
          ],
          "name": "stdout"
        }
      ]
    },
    {
      "cell_type": "code",
      "metadata": {
        "id": "mkXbE2lRLs3t"
      },
      "source": [
        ""
      ],
      "execution_count": null,
      "outputs": []
    },
    {
      "cell_type": "code",
      "metadata": {
        "colab": {
          "base_uri": "https://localhost:8080/"
        },
        "id": "FBfhpw2qK240",
        "outputId": "c0d7faf3-a85b-494f-88fa-6b037927f783"
      },
      "source": [
        "x = int(input(\"First Number: \"))\n",
        "y = int(input(\"Second Number: \"))\n",
        "if x > y:\n",
        "  print(f\"{x} is larger than {y}\")\n",
        "else:\n",
        "  print(f\"{y} is larger than {x}\")"
      ],
      "execution_count": null,
      "outputs": [
        {
          "output_type": "stream",
          "text": [
            "First Number: 45\n",
            "Second Number: 45\n",
            "45 is larger than 45\n"
          ],
          "name": "stdout"
        }
      ]
    },
    {
      "cell_type": "code",
      "metadata": {
        "colab": {
          "base_uri": "https://localhost:8080/"
        },
        "id": "epTkUUbAlfaf",
        "outputId": "0242b6cc-670c-4740-8f2f-65ff1c65d812"
      },
      "source": [
        "usernt=int(input(\"acs\"))%2==0\n",
        "if usernt:\n",
        "    print(\"even\")\n",
        "else:\n",
        "    print(\"odd\")"
      ],
      "execution_count": null,
      "outputs": [
        {
          "output_type": "stream",
          "text": [
            "acs56\n",
            "even\n"
          ],
          "name": "stdout"
        }
      ]
    },
    {
      "cell_type": "code",
      "metadata": {
        "id": "deAnNNy3k-Kh"
      },
      "source": [
        "AND ve OR larla ilgili küçük bir açıklama :\n",
        "Birden fazla \"OR\" işleme sokulduğunda value'lar içerisinde İLK True/Truty gördüğünde onu döndürür. \n",
        "Çünkü OR'un özelliği gereği nasılsa sonuç True/Truty çıkacak. geri kalanı False da olsa önemi yok!\n",
        "Birden fazla \"AND\" ile işleme sokulan \"True/Truty\" value'lardan SONUNCU True/Truty olanı döndürür \n",
        "çünkü value'lardan biri bile False olsa sonuç False döneceği için sonuna kadar gidip bakması gerekiyor \n",
        "ve sonuncu True/Truty'i döndürüyor."
      ],
      "execution_count": null,
      "outputs": []
    },
    {
      "cell_type": "code",
      "metadata": {
        "colab": {
          "base_uri": "https://localhost:8080/"
        },
        "id": "lyyBh2rajNLv",
        "outputId": "1cb6003d-8203-4295-cd99-ee5d16a81312"
      },
      "source": [
        "#0'dan 11'e kadar sayilarin karelerini while dongusu ve If kullanarak liste halinde cikaralim.\n",
        "list = [1, 2, 3, 4, 5, 6, 7, 8, 9, 10, 11, 12]\n",
        "for i in list :\n",
        "    print(i**2)"
      ],
      "execution_count": null,
      "outputs": [
        {
          "output_type": "stream",
          "text": [
            "1\n",
            "4\n",
            "9\n",
            "16\n",
            "25\n",
            "36\n",
            "49\n",
            "64\n",
            "81\n",
            "100\n",
            "121\n",
            "144\n"
          ],
          "name": "stdout"
        }
      ]
    },
    {
      "cell_type": "code",
      "metadata": {
        "colab": {
          "base_uri": "https://localhost:8080/"
        },
        "id": "T61WVB0Djj4X",
        "outputId": "e52495e4-f1f5-45b0-84db-7b1d1917b18c"
      },
      "source": [
        "print([i**2 for i in range(11)]) #bu da for lu list comprenhension"
      ],
      "execution_count": null,
      "outputs": [
        {
          "output_type": "stream",
          "text": [
            "[0, 1, 4, 9, 16, 25, 36, 49, 64, 81, 100]\n"
          ],
          "name": "stdout"
        }
      ]
    },
    {
      "cell_type": "code",
      "metadata": {
        "colab": {
          "base_uri": "https://localhost:8080/"
        },
        "id": "18lnqqyahutT",
        "outputId": "e6539d25-25b5-4228-ac50-6a992a1c556f"
      },
      "source": [
        "#A comfortable word is a word which you can type always alternating the hand you type with.\n",
        "#create a function which receives a word and returns true/True if it's a comfortable word and False otherwise.\n",
        "#The word will always be a string consisting of only ascii letters from a to z.\n",
        "left = {'q', 'w', 'e', 'r', 't', 'a', 's', 'd', 'f', 'g', 'z', 'x', 'c', 'v', 'b'}\n",
        "right = {'y', 'u', 'i', 'o', 'p', 'h', 'j', 'k', 'l', 'n', 'm'}\n",
        "word = input('Enter a word:')\n",
        "print((set(word) & left) != set() and  (set(word) & right) != set())"
      ],
      "execution_count": null,
      "outputs": [
        {
          "output_type": "stream",
          "text": [
            "Enter a word:ankara\n",
            "True\n"
          ],
          "name": "stdout"
        }
      ]
    },
    {
      "cell_type": "code",
      "metadata": {
        "colab": {
          "base_uri": "https://localhost:8080/"
        },
        "id": "afoPRz9L8FbA",
        "outputId": "2b897a4b-a6c9-4794-9103-ccdaf53cb4a4"
      },
      "source": [
        "left = {'q', 'w', 'e', 'r', 't', 'a', 's', 'd', 'f', 'g', 'z', 'x', 'c', 'v', 'b'}\n",
        "right = {'y', 'u', 'i', 'o', 'p', 'h', 'j', 'k', 'l', 'n', 'm'}\n",
        "word = set(input('Enter a word:'))\n",
        "print((word & left) != set() and  (word & right) != set())"
      ],
      "execution_count": null,
      "outputs": [
        {
          "output_type": "stream",
          "text": [
            "Enter a word:poh\n",
            "False\n"
          ],
          "name": "stdout"
        }
      ]
    },
    {
      "cell_type": "code",
      "metadata": {
        "id": "eVAg4mxhwMGE"
      },
      "source": [
        "left_hand = set(\"qwertasdfgzxcvb\")\n",
        "right_hand = set(\"yuıopğühjklşinmöç\")\n",
        "word = input(\"please one word writing :\")\n",
        "word2 = set(word)\n",
        "if  word2 in (word2&left_hand, word2&right_hand):\n",
        "    print(\"this word noncomfortable\")\n",
        "else:\n",
        "    print(\"this word comfortable\")"
      ],
      "execution_count": null,
      "outputs": []
    },
    {
      "cell_type": "code",
      "metadata": {
        "id": "1fOX0iGTwSWh"
      },
      "source": [
        "left_letter = [‘a’, ‘b’, ‘c’, ‘d’, ‘e’, ‘f’, ‘g’, ‘q’, ‘r’, ‘s’, ‘t’, ‘v’, ‘w’, ‘x’, ‘z’]\n",
        "right_letter = [‘h’, ‘i’, ‘j’, ‘k’, ‘l’, ‘m’, ‘n’, ‘o’, ‘p’, ‘u’, ‘y’]\n",
        "your_text = input(‘Please enter a text > ’)\n",
        "left_bool = False\n",
        "right_bool = False\n",
        "for i in your_text:\n",
        "    if i in left_letter:\n",
        "        left_bool = True\n",
        "    if i in right_letter:\n",
        "        right_bool = True\n",
        "if right_bool == True and left_bool == True:\n",
        "    print(‘Your text is a comfortable word.’)\n",
        "elif right_bool == True and left_bool == False:\n",
        "    print(‘Your text contains only right-hand letters.’)\n",
        "elif right_bool == False and left_bool == True:\n",
        "    print(‘Your text contains only left-hand letters.’)\n",
        "else:\n",
        "    print(‘Your text does not contain any letters.’)"
      ],
      "execution_count": null,
      "outputs": []
    },
    {
      "cell_type": "code",
      "metadata": {
        "id": "nQwd_RAdwX19"
      },
      "source": [
        "left_figer = [\"q\", \"w\", \"e\", \"r\", \"t\", \"a\", \"s\", \"d\", \"f\", \"g\", \"z\", \"x\", \"c\", \"v\", \"b\"]\n",
        "right_finger = [\"y\", \"u\", \"i\", \"o\", \"p\", \"h\", \"j\", \"k\", \"l\", \"n\", \"m\"]\n",
        "word = input(\"Please enter the word you want to know if it is comfortable\")\n",
        "for x in left_figer:\n",
        "    if x in list(word):\n",
        "        for y in right_finger:\n",
        "            if y in list(word):\n",
        "                print(\"The word you entered is comfortable number.\")\n",
        "                break\n",
        "            else:\n",
        "                print(\"The word you entered is not a comfortable number.\")\n",
        "                break\n",
        "    else:\n",
        "        print(\"The word you entered is not a comfortable number.\")\n",
        "        break"
      ],
      "execution_count": null,
      "outputs": []
    },
    {
      "cell_type": "code",
      "metadata": {
        "id": "lJmOZ8QtwlgL"
      },
      "source": [
        "left_hand = {‘q’,‘a’,‘z’,‘w’,‘s’,‘x’,‘e’,‘d’,‘c’,‘r’,‘f’,‘v’,‘t’,‘g’,‘b’}\n",
        "right_hand = {‘y’,‘h’,‘n’,‘u’,‘j’,‘m’,‘i’,‘k’,‘o’,‘l’,‘p’}\n",
        "word = set(input(‘enter word: ’).strip().lower())\n",
        "result = not(word.issubset(left_hand) or word.issubset(right_hand))\n",
        "print(result)"
      ],
      "execution_count": null,
      "outputs": []
    },
    {
      "cell_type": "code",
      "metadata": {
        "id": "zmPUdr8Vwwse"
      },
      "source": [
        "left = set(\"qwertasdfgzxcvb \")\n",
        "right = set(\"yuıopğhjklşinmöç \")\n",
        "word = input(\"Please input a word to check whether it is 'comfortable' or not :\")\n",
        "word_set = set(word.lower())\n",
        "comfortable = word_set.issubset(right) or word_set.issubset(left)\n",
        "print(comfortable)"
      ],
      "execution_count": null,
      "outputs": []
    },
    {
      "cell_type": "code",
      "metadata": {
        "id": "Lne1aDFcwykB"
      },
      "source": [
        "left_hand = [\"q\",\"a\",\"z\",\"w\",\"s\",\"x\",\"e\",\"d\",\"c\",\"r\",\"f\",\"v\",\"t\",\"g\",\"b\"] \n",
        "right_hand = [\"y\",\"h\",\"n\",\"u\",\"j\",\"m\",\"ı\",\"k\",\"o\",\"l\",\"p\",\"ö\",\"ç\",\"ş\",\"i\",\"ü\",\"ğ\"] \n",
        "print(\"This program will show you whether the word you enter is comfortable word for ten finger typing\\\n",
        "\\n(without any space) enter only one word:\") \n",
        "word = input() \n",
        "a = False \n",
        "b = False \n",
        "for i in range(len(list(word))) :\n",
        "    a = a or (word[i] in left_hand) \n",
        "    b = b or (word[i] in right_hand) \n",
        "if (a and b) == True : \n",
        "      print(f\"{a and b}\"+\" (uses both hand fingers)\") \n",
        "else : \n",
        "    if a == True : \n",
        "        print(f\"{not a}\"+\" (uses only left-hand fingers)\") \n",
        "    elif b == True : \n",
        "        print(f\"{not b}\"+\" (uses only right-hand fingers)\") "
      ],
      "execution_count": null,
      "outputs": []
    },
    {
      "cell_type": "code",
      "metadata": {
        "id": "7LuNHhTixAY1"
      },
      "source": [
        "word = bool(set(\"tester\").intersection(left_hand)) and bool(set(\"tester\").intersection(right_hand))"
      ],
      "execution_count": null,
      "outputs": []
    },
    {
      "cell_type": "code",
      "metadata": {
        "id": "YNPRMH7XxLij"
      },
      "source": [
        "left_hand = set('qwertasdfgzxcvb')\n",
        "right_hand = set('yuiophjklnm')\n",
        "word = set(input('Enter a word to be checked: '))\n",
        "left_check = len(word.difference(left_hand)) \n",
        "right_check = len(word.difference(right_hand))\n",
        "print((left_check==0 and 'Uses only left-hand fingers!') or \\\n",
        "      (right_check==0 and 'Uses only right-hand fingers!') or ('Uses both hand fingers!'))"
      ],
      "execution_count": null,
      "outputs": []
    },
    {
      "cell_type": "code",
      "metadata": {
        "id": "uvu3fIFbxQdI"
      },
      "source": [
        "left = ['q','w','e','r','t','a','s','d','f','g','z','x','c','v','b']\n",
        "right = ['y','u','i','o','p','h','j','k','l','n','m']\n",
        "word = input('bir kelime giriniz :  ')\n",
        "a = []\n",
        "for i in word:\n",
        "  a.append(i)\n",
        "print(bool((set(left) & set(a)) and (set(right) & set(a)) ))"
      ],
      "execution_count": null,
      "outputs": []
    },
    {
      "cell_type": "code",
      "metadata": {
        "id": "M8_FtrEtxXJd"
      },
      "source": [
        "Left_hand = [\"q\", \"w\", \"e\", \"r\", \"t\", \"a\", \"s\", \"d\", \"f\", \"g\", \"z\", \"x\", \"c\", \"v\", \"b\"]\n",
        "Right_hand = [\"y\", \"u\", \"i\", \"o\", \"p\", \"h\", \"j\", \"k\", \"l\", \"n\", \"m\"]\n",
        "set_left = set(Left_hand)\n",
        "set_right = set(Right_hand)\n",
        "word = input(\"Enter a word= \")\n",
        "set_word = set(word)\n",
        "son = (set_word.isdisjoint(set_right) == 0) and (set_word.isdisjoint(set_left) == 0)\n",
        "print(\"Is word comfortable ? : \" + str(son))"
      ],
      "execution_count": null,
      "outputs": []
    },
    {
      "cell_type": "code",
      "metadata": {
        "id": "bMJeDYiMxfZN"
      },
      "source": [
        "def comfortable_word(x):\n",
        "    left = [\"q\", \"w\", \"e\", \"r\", \"t\", \"a\", \"s\", \"d\", \"f\", \"g\", \"z\", \"x\", \"c\", \"v\", \"b\"]\n",
        "    y = set(x)\n",
        "    le = 0\n",
        "    ri = 0\n",
        "    for i in y:\n",
        "        if i in left:\n",
        "            le += 1\n",
        "        else:\n",
        "            ri += 1\n",
        "    if ri != 0 and le != 0:\n",
        "        return True\n",
        "    else:\n",
        "        return False\n",
        "print(comfortable_word(\"tester\"))\n",
        "print(comfortable_word(\"polly\"))\n",
        "print(comfortable_word(\"clarusway\"))"
      ],
      "execution_count": null,
      "outputs": []
    },
    {
      "cell_type": "code",
      "metadata": {
        "id": "DBqngkcMxhSB"
      },
      "source": [
        "text = (input(\"enter a word :\")).lower().strip()\n",
        "text1 = set(text)\n",
        "left = set('qwertasdfgzxcvb')\n",
        "right = set('yuıophjklnm')\n",
        "print((text1 - left == set()) or (text1 - right == set()))"
      ],
      "execution_count": null,
      "outputs": []
    },
    {
      "cell_type": "code",
      "metadata": {
        "id": "20YcB58uxnhK"
      },
      "source": [
        "left_hand = set(\"qwertasdfgzxcvb\")\n",
        "right_hand = set(\"yuıopğühjklşinmöç\")\n",
        "word = input(\"please one word writing :\")\n",
        "word2 = set(word)\n",
        "if  word2 in (word2&left_hand, word2&right_hand):\n",
        "    print(\"this word noncomfortable\")\n",
        "else:\n",
        "    print(\"this word comfortable\")"
      ],
      "execution_count": null,
      "outputs": []
    },
    {
      "cell_type": "code",
      "metadata": {
        "id": "jmhOd4qoxuOz"
      },
      "source": [
        "# Comfortable words\n",
        "left_hand = set(\"qwertasdfgzxcvb\")\n",
        "right_hand = set(\"yuıopğühjklşinmöç\")\n",
        "kelime = set(input(\"Enter a word: \"))\n",
        "if ((kelime & right_hand) and (kelime & left_hand)):\n",
        "  print(\"True\")\n",
        "else:\n",
        "  print(\"False\")"
      ],
      "execution_count": null,
      "outputs": []
    },
    {
      "cell_type": "code",
      "metadata": {
        "id": "vOQhcQHPxyXL"
      },
      "source": [
        "left_hand= set(\"qwertasdfgzxcvb\")\n",
        "right_hand= set(\"yuıopğühjklşinmöç\")\n",
        "word = input(\"Enter a word :\").title().strip()\n",
        "if (set(word)-left_hand) == set(word):\n",
        "    print(\"False : uses only right-hand fingers.\")\n",
        "elif (set(word)-right_hand) == set(word):\n",
        "  print(\"False : uses only left-hand fingers.\")\n",
        "else:\n",
        "  print(\"True : uses both hand fingers.\")"
      ],
      "execution_count": null,
      "outputs": []
    },
    {
      "cell_type": "code",
      "metadata": {
        "id": "XrkSq66bx24b"
      },
      "source": [
        "Left = {'q', 'w', 'e', 'r', 't', 'a', 's', 'd', 'f', 'g', 'z', 'x', 'c', 'v', 'b'}\n",
        "Right = {'y', 'u', 'i', 'o','p', 'h', 'j', 'k', 'l', 'n', 'm'}\n",
        "word = set(input(\"write a word: \").lower().strip())\n",
        "left = bool(word.intersection(Left))* \"False (uses only left-hand fingers)\"\n",
        "right = bool(word.intersection(Right))* \"False (uses only right-hand fingers)\"\n",
        "both = bool(left and right)* \"True (uses both hand fingers)\"\n",
        "both or right or left"
      ],
      "execution_count": null,
      "outputs": []
    },
    {
      "cell_type": "code",
      "metadata": {
        "id": "2kN41Ltyx75L"
      },
      "source": [
        "counter1 = 0\n",
        "counter2 = 0\n",
        "left_hand_letters = [\"q\",\"w\",\"e\",\"r\",\"t\",\"a\",\"s\",\"d\",\"f\",\"g\",\"z\",\"x\",\"c\",\"v\",\"b\"]\n",
        "right_hand_letters = [\"y\",\"u\",\"ı\",\"o\",\"p\",\"ğ\",\"ü\",\"h\",\"j\",\"k\",\"l\",\"ş\",\"i\",\"n\",\"m\",\"ö\",\"ç\"]\n",
        "comfortable_word = [\"q\",\"w\",\"e\",\"r\",\"t\",\"a\",\"s\",\"d\",\"f\",\"g\",\"z\",\"x\",\"c\",\"v\",\"b\",\"y\",\"u\",\"ı\",\"o\",\"p\",\"ğ\",\"ü\",\"h\",\"j\",\"k\",\"l\",\"ş\",\"i\",\"n\",\"m\",\"ö\",\"ç\"]\n",
        "a = list(input(\"Kelimeyi giriniz: \"))\n",
        "for i in a:\n",
        "   if i in left_hand_letters:\n",
        "       counter1 += 1\n",
        "   else:\n",
        "       counter2 += 1\n",
        "if counter1 == 0 or counter2 == 0:\n",
        "   print(False)\n",
        "else:\n",
        "   print(True)"
      ],
      "execution_count": null,
      "outputs": []
    },
    {
      "cell_type": "code",
      "metadata": {
        "id": "ynBUrhAPyBHz"
      },
      "source": [
        ""
      ],
      "execution_count": null,
      "outputs": []
    },
    {
      "cell_type": "code",
      "metadata": {
        "id": "6RJ5REo4v-o7"
      },
      "source": [
        "left_hand = set(\"qwertyasdfgzxcvb\")\n",
        "right_hand = set(\"uıopğühjklşinmöç\")\n",
        "a = set(input(\"enter a word : \"))\n",
        "if (a & right_hand) and (a & left_hand):\n",
        "  print(\"your word is comfotable\")\n",
        "else:\n",
        "  print(\"you word is not comfotable\")"
      ],
      "execution_count": null,
      "outputs": []
    },
    {
      "cell_type": "code",
      "metadata": {
        "id": "jjR05_tFfTbS"
      },
      "source": [
        " #you are given a string of space separated numbers, and have to return the highest and lowest number. \n",
        " #Example: highAndLow(\"1 2 3 4 5\"); // return \"5 1\"\n",
        " \n",
        " def high_and_low(str):\n",
        "    return f\"{max(str.split())} {min(str.split())}\"\n",
        "# eğer stringi boşluklara göre böldükten sonra sayıları int e çevirmezsek yanlış sonuç alırız \n",
        "# Mesala bu \"5 25 7 9\" stringinde max=9 min=25 bulur. Çünkü strdeki ilk rakama bakar. sayı değerine değil"
      ],
      "execution_count": null,
      "outputs": []
    },
    {
      "cell_type": "code",
      "metadata": {
        "id": "i6KS2OjFgJhV"
      },
      "source": [
        "def high_and_low(numbers):\n",
        "    a = [int(i) for i in numbers.split(\" \")]\n",
        "    return f\"{max(a)} {min(a)}\""
      ],
      "execution_count": null,
      "outputs": []
    },
    {
      "cell_type": "code",
      "metadata": {
        "colab": {
          "base_uri": "https://localhost:8080/"
        },
        "id": "bJERFPBQdtAF",
        "outputId": "2f44603c-dfc8-4c0b-ac94-62457f68b998"
      },
      "source": [
        "my_listst=[1,2,5,4,2,4,1,2,5,6,2,44,2,5,5,5,5]\n",
        "my_count=[my_listst.count(cnt) for cnt in my_listst]\n",
        "print(my_listst[my_count.index(max(my_count))])"
      ],
      "execution_count": null,
      "outputs": [
        {
          "output_type": "stream",
          "text": [
            "5\n"
          ],
          "name": "stdout"
        }
      ]
    },
    {
      "cell_type": "code",
      "metadata": {
        "id": "c_fRvFUJdNlq"
      },
      "source": [
        "def is_isogram(txt):\n",
        "    txt = txt.lower()\n",
        "    for letter in txt:\n",
        "        if txt.count(letter) > 1:\n",
        "            return False\n",
        "    return True"
      ],
      "execution_count": null,
      "outputs": []
    },
    {
      "cell_type": "code",
      "metadata": {
        "id": "fquR-iSRdWqP"
      },
      "source": [
        "def is_isogram(txt):\n",
        "  return len(txt) == len(set(txt.lower()))"
      ],
      "execution_count": null,
      "outputs": []
    },
    {
      "cell_type": "code",
      "metadata": {
        "colab": {
          "base_uri": "https://localhost:8080/"
        },
        "id": "29BoxX8Cc7LX",
        "outputId": "fd46872e-c7c1-4911-da82-274d817e8948"
      },
      "source": [
        "tuple1=tuple(range(1,11))\n",
        "tuple2=tuple(range(1,8))\n",
        "a,b,c=0,1,2\n",
        "while a<len(tuple1):\n",
        "     print( \"{} x {}={}\".format(tuple1[a],b,tuple1[a]*b))\n",
        "     a = a + 1\n",
        "a=0\n",
        "while a<len(tuple2):\n",
        "     print( \"{} x {}={}\".format(tuple1[a],c,tuple1[a]*c))\n",
        "     a = a + 1"
      ],
      "execution_count": null,
      "outputs": [
        {
          "output_type": "stream",
          "text": [
            "1 x 1=1\n",
            "2 x 1=2\n",
            "3 x 1=3\n",
            "4 x 1=4\n",
            "5 x 1=5\n",
            "6 x 1=6\n",
            "7 x 1=7\n",
            "8 x 1=8\n",
            "9 x 1=9\n",
            "10 x 1=10\n",
            "1 x 2=2\n",
            "2 x 2=4\n",
            "3 x 2=6\n",
            "4 x 2=8\n",
            "5 x 2=10\n",
            "6 x 2=12\n",
            "7 x 2=14\n"
          ],
          "name": "stdout"
        }
      ]
    },
    {
      "cell_type": "code",
      "metadata": {
        "colab": {
          "base_uri": "https://localhost:8080/"
        },
        "id": "aQIjsHnWcldx",
        "outputId": "5304c2a8-e894-4fe7-ad87-1e5cfc5060b7"
      },
      "source": [
        "for i in range(1,3):\n",
        "    for j in range(1,11):\n",
        "        print(\"{} x {} =\".format(i,j),i*j)\n",
        "        if i*j>=14:\n",
        "            break"
      ],
      "execution_count": null,
      "outputs": [
        {
          "output_type": "stream",
          "text": [
            "1 x 1 = 1\n",
            "1 x 2 = 2\n",
            "1 x 3 = 3\n",
            "1 x 4 = 4\n",
            "1 x 5 = 5\n",
            "1 x 6 = 6\n",
            "1 x 7 = 7\n",
            "1 x 8 = 8\n",
            "1 x 9 = 9\n",
            "1 x 10 = 10\n",
            "2 x 1 = 2\n",
            "2 x 2 = 4\n",
            "2 x 3 = 6\n",
            "2 x 4 = 8\n",
            "2 x 5 = 10\n",
            "2 x 6 = 12\n",
            "2 x 7 = 14\n"
          ],
          "name": "stdout"
        }
      ]
    },
    {
      "cell_type": "code",
      "metadata": {
        "colab": {
          "base_uri": "https://localhost:8080/"
        },
        "id": "fGIitlxYbr60",
        "outputId": "8c5dfe8d-c408-4db8-dd19-26d89deaaf5f"
      },
      "source": [
        "para = 1000\n",
        "gunluk_kazanc = enumerate([para*(1.07)**i for i in range(1,8)],1)\n",
        "print(list(gunluk_kazanc))"
      ],
      "execution_count": null,
      "outputs": [
        {
          "output_type": "stream",
          "text": [
            "[(1, 1070.0), (2, 1144.9), (3, 1225.0430000000001), (4, 1310.7960100000003), (5, 1402.5517307000005), (6, 1500.7303518490005), (7, 1605.7814764784307)]\n"
          ],
          "name": "stdout"
        }
      ]
    },
    {
      "cell_type": "code",
      "metadata": {
        "colab": {
          "base_uri": "https://localhost:8080/"
        },
        "id": "XpYS5l_IaknC",
        "outputId": "3e162b3d-7c0c-4d9f-e1ad-49cb151f1a4a"
      },
      "source": [
        "# Would you choose a $1,000,000 or a penny that doubles in value every day for 30 days? \n",
        "days_to_compare = int(input(\"How many days do you want to compare : \"))\n",
        "money_to_compare = int(input(\"How much money do you want to compare : \"))\n",
        "daily_increased_money__list = list(enumerate([0.01*(2**(i-1)) for i in range(1,days_to_compare+1)],1))\n",
        "#print(daily_increased_money__list)\n",
        "if money_to_compare <=  daily_increased_money__list[days_to_compare-1][1]:\n",
        "    print(\"I will choose daily money\")\n",
        "else:\n",
        "    print(\"I will choose initial big money\")"
      ],
      "execution_count": null,
      "outputs": [
        {
          "output_type": "stream",
          "text": [
            "How many days do you want to compare : 30\n",
            "How much money do you want to compare : 10000\n",
            "I will choose daily money\n"
          ],
          "name": "stdout"
        }
      ]
    },
    {
      "cell_type": "code",
      "metadata": {
        "colab": {
          "base_uri": "https://localhost:8080/"
        },
        "id": "oobvcVIkZZuI",
        "outputId": "f093ada6-6cb3-46b3-b136-1ad013639b83"
      },
      "source": [
        "dict_by_dict = {\"numbers\":[1,2,3],\"colours\":[\"red\", \"white\", \"black\"]}\n",
        "print(dict_by_dict.items(), dict_by_dict.keys(), dict_by_dict.values(), sep=\"\\n\") "
      ],
      "execution_count": null,
      "outputs": [
        {
          "output_type": "stream",
          "text": [
            "dict_items([('numbers', [1, 2, 3]), ('colours', ['red', 'white', 'black'])])\n",
            "dict_keys(['numbers', 'colours'])\n",
            "dict_values([[1, 2, 3], ['red', 'white', 'black']])\n"
          ],
          "name": "stdout"
        }
      ]
    },
    {
      "cell_type": "code",
      "metadata": {
        "colab": {
          "base_uri": "https://localhost:8080/"
        },
        "id": "lM2S6b9hWAph",
        "outputId": "06dc0a67-04f1-4963-d3e2-3bc740c76637"
      },
      "source": [
        "# mail = \"from Ahmet, mail to: abcxyz@gmail.com  15:1990:01\"\n",
        "# Yukarıdaki mail değişkenine atanan değerden, sadece \"gmail.com\" bölümünü çıktı verecek kodu yazınız.\n",
        "mail = \"from Ahmet, mail to: abcxyz@gmail.com 15:1990:01\"\n",
        "start = mail.find(\"@\") # Burada @'nin indexini buluyorum.\n",
        "end = mail.find(\"com\") # Burada \"com\" un indexini buluyorum\n",
        "end = end+3 # indexi \"com\"dan itibaren aldığım için c'nin indexini veriyor. ,\n",
        "# Bu yüzden üzerine 3 ekleyip istenilen aralığı alabileceğim indexi belirliyorum.\n",
        "print(mail[start+1:end]) # Result"
      ],
      "execution_count": null,
      "outputs": [
        {
          "output_type": "stream",
          "text": [
            "gmail.com\n"
          ],
          "name": "stdout"
        }
      ]
    },
    {
      "cell_type": "code",
      "metadata": {
        "colab": {
          "base_uri": "https://localhost:8080/"
        },
        "id": "_qMKU_stXA60",
        "outputId": "da8fef62-32fd-4cb1-b33f-702dd752b361"
      },
      "source": [
        "mail = \"from Ahmet, mail to: abcxyz@gmail.com  15:1990:01\"\n",
        "index = mail.find('@')\n",
        "print(mail[index+1:index+10])"
      ],
      "execution_count": null,
      "outputs": [
        {
          "output_type": "stream",
          "text": [
            "gmail.com\n"
          ],
          "name": "stdout"
        }
      ]
    },
    {
      "cell_type": "code",
      "metadata": {
        "colab": {
          "base_uri": "https://localhost:8080/"
        },
        "id": "l7xOQawOXP4u",
        "outputId": "f128063a-09aa-4b27-8108-1894fcb338ca"
      },
      "source": [
        "mail = \"from Ahmet, mail to: abcxyz@gmail.com  15:1990:01\"\n",
        "print(mail[28:37])"
      ],
      "execution_count": null,
      "outputs": [
        {
          "output_type": "stream",
          "text": [
            "gmail.com\n"
          ],
          "name": "stdout"
        }
      ]
    },
    {
      "cell_type": "code",
      "metadata": {
        "colab": {
          "base_uri": "https://localhost:8080/"
        },
        "id": "v-EmA8UkVMg8",
        "outputId": "9f7539fa-e6b2-4888-d159-a4253cc6f939"
      },
      "source": [
        "a, b, c = [], [], [[]]\n",
        "a.append(a)\n",
        "print(a)\n",
        "print(b)\n",
        "print(c)\n",
        "print(len(a))\n",
        "print(len(b))\n",
        "print(len(c))\n"
      ],
      "execution_count": null,
      "outputs": [
        {
          "output_type": "stream",
          "text": [
            "[[...]]\n",
            "[]\n",
            "[[]]\n",
            "1\n",
            "0\n",
            "1\n"
          ],
          "name": "stdout"
        }
      ]
    },
    {
      "cell_type": "code",
      "metadata": {
        "colab": {
          "base_uri": "https://localhost:8080/"
        },
        "id": "K_liQh3uNB7j",
        "outputId": "7178a66f-5dd0-4f78-fee0-b481594f50e1"
      },
      "source": [
        "a = set(\"twelve plus one\")\n",
        "b = set(\"eleven plus two\")\n",
        "if a == b:\n",
        "  print(\"we are the same!\")"
      ],
      "execution_count": null,
      "outputs": [
        {
          "output_type": "stream",
          "text": [
            "we are the same!\n"
          ],
          "name": "stdout"
        }
      ]
    },
    {
      "cell_type": "code",
      "metadata": {
        "colab": {
          "base_uri": "https://localhost:8080/"
        },
        "id": "lNY-BGUoMaMi",
        "outputId": "509d88a5-5e62-49fe-b2b9-a1d5fa87a358"
      },
      "source": [
        "a = []\n",
        "a.append(a)\n",
        "print(a in a)\n",
        "print(a)\n",
        "# 3 nokta göstermesinin nedeni elemanı olmayan bir listenin aynı zamanda başka bir listenin elemanı olması, \n",
        "# bir listenin, boş elemanlı bir listeden oluşan bir elemanı olmasından kaynaklanıyor."
      ],
      "execution_count": null,
      "outputs": [
        {
          "output_type": "stream",
          "text": [
            "True\n",
            "[[...]]\n"
          ],
          "name": "stdout"
        }
      ]
    },
    {
      "cell_type": "code",
      "metadata": {
        "colab": {
          "base_uri": "https://localhost:8080/"
        },
        "id": "Fstkm28KLRWI",
        "outputId": "c2140bf5-aace-4a81-d205-7f9d7ebe7fc8"
      },
      "source": [
        "str = \"Python Software Foundation\"\n",
        "s = str.split()\n",
        "s = sorted(s)\n",
        "s = \" \".join(s)\n",
        "print(s[2:5])"
      ],
      "execution_count": null,
      "outputs": [
        {
          "output_type": "stream",
          "text": [
            "und\n"
          ],
          "name": "stdout"
        }
      ]
    },
    {
      "cell_type": "code",
      "metadata": {
        "colab": {
          "base_uri": "https://localhost:8080/"
        },
        "id": "orZj8sEgFTQK",
        "outputId": "f3f6f1f3-b1cc-418c-cc1f-f4728bb07bc6"
      },
      "source": [
        "n = \"325\"\n",
        "n = int(n)\n",
        "d1 = n  % 10\n",
        "n = n // 10\n",
        "d2 = n % 10\n",
        "n = n // 10\n",
        "print (n + d1 + d2)\n",
        "# sırasıyla ; d1= 5  n = 32  d2=2  n=3   n+d1+d2=10"
      ],
      "execution_count": null,
      "outputs": [
        {
          "output_type": "stream",
          "text": [
            "10\n"
          ],
          "name": "stdout"
        }
      ]
    },
    {
      "cell_type": "code",
      "metadata": {
        "colab": {
          "base_uri": "https://localhost:8080/"
        },
        "id": "LdMqyxYNEd2Q",
        "outputId": "c447a8bf-f93b-4599-fef1-8c870018c01c"
      },
      "source": [
        "x = input(\"ilk orta ve son harfini yazdırmak iztediğiniz kelimeyi giriniz: harf sayısı tek olmalıdır!\")\n",
        "y = input(\"ilk orta ve son harfini yazdırmak iztediğiniz kelimeyi giriniz: harf sayısı tek olmalıdır!\")\n",
        "middle_ch_x= int(len(x) / 2)\n",
        "middle_ch_y= int(len(y) / 2)\n",
        "print(x[0]+y[0]+x[middle_ch_x]+y[middle_ch_y]+x[-1]+y[-1])"
      ],
      "execution_count": null,
      "outputs": [
        {
          "output_type": "stream",
          "text": [
            "ilk orta ve son harfini yazdırmak iztediğiniz kelimeyi giriniz: harf sayısı tek olmalıdır!ahmet\n",
            "ilk orta ve son harfini yazdırmak iztediğiniz kelimeyi giriniz: harf sayısı tek olmalıdır!hasan\n",
            "ahmstn\n"
          ],
          "name": "stdout"
        }
      ]
    },
    {
      "cell_type": "code",
      "metadata": {
        "colab": {
          "base_uri": "https://localhost:8080/"
        },
        "id": "5KdK9PTcD7Q8",
        "outputId": "f100e1db-57ad-4a03-dfb5-0370a9ab1dc3"
      },
      "source": [
        "x = input(\"ilk orta ve son harfini yazdırmak iztediğiniz kelimeyi giriniz: harf sayısı tek olmalıdır!\")\n",
        "y = input(\"ilk orta ve son harfini yazdırmak iztediğiniz kelimeyi giriniz: harf sayısı tek olmalıdır!\")\n",
        "middle_ch_x= int(len(x) / 2)\n",
        "middle_ch_y= int(len(y) / 2)\n",
        "last_ch_x = int(len(x)-1)\n",
        "last_ch_y = int(len(y)-1)\n",
        "print(x[0]+y[0]+x[middle_ch_x]+y[middle_ch_y]+x[last_ch_x]+y[last_ch_y])"
      ],
      "execution_count": null,
      "outputs": [
        {
          "output_type": "stream",
          "text": [
            "ilk orta ve son harfini yazdırmak iztediğiniz kelimeyi giriniz: harf sayısı tek olmalıdır!ahmet\n",
            "ilk orta ve son harfini yazdırmak iztediğiniz kelimeyi giriniz: harf sayısı tek olmalıdır!hasan\n",
            "ahmstn\n"
          ],
          "name": "stdout"
        }
      ]
    },
    {
      "cell_type": "code",
      "metadata": {
        "colab": {
          "base_uri": "https://localhost:8080/"
        },
        "id": "mqLKoWIpCm3z",
        "outputId": "3fda0d82-1c86-4956-e3e6-496d0796fbf2"
      },
      "source": [
        "# Given two strings, s1, and s2 return a new string made of the first, middle, and last characters each input string\n",
        "# Given: s1 = \"America\"   s2 = \"Japan\"    Output   AJrpan\n",
        "def ilkortason(strings):\n",
        "    middle_ch = int(len(strings) / 2)\n",
        "    first_middle_end = strings[::middle_ch]\n",
        "    print(first_middle_end)\n",
        "s1 = \"America\"\n",
        "s2 = \"Japan\"\n",
        "ilkortason(s1)\n",
        "ilkortason(s2)\n",
        "print(s1[0]+s2[0]+s1[3]+s2[2]+s1[6]+s2[4])\n"
      ],
      "execution_count": null,
      "outputs": [
        {
          "output_type": "stream",
          "text": [
            "Ara\n",
            "Jpn\n",
            "AJrpan\n"
          ],
          "name": "stdout"
        }
      ]
    },
    {
      "cell_type": "code",
      "metadata": {
        "colab": {
          "base_uri": "https://localhost:8080/"
        },
        "id": "wA_C5H02_nM2",
        "outputId": "34951567-8a45-4c27-8061-e584e5e61648"
      },
      "source": [
        "print([ x*2 for x in range(1,11) if x %2 ==0])"
      ],
      "execution_count": null,
      "outputs": [
        {
          "output_type": "stream",
          "text": [
            "[4, 8, 12, 16, 20]\n"
          ],
          "name": "stdout"
        }
      ]
    },
    {
      "cell_type": "code",
      "metadata": {
        "colab": {
          "base_uri": "https://localhost:8080/"
        },
        "id": "2wVs1n2m_ZZR",
        "outputId": "4ef62400-246e-4ae6-fd61-457de72214bc"
      },
      "source": [
        "print([ x*2 for x in range(1,11)])"
      ],
      "execution_count": null,
      "outputs": [
        {
          "output_type": "stream",
          "text": [
            "[2, 4, 6, 8, 10, 12, 14, 16, 18, 20]\n"
          ],
          "name": "stdout"
        }
      ]
    },
    {
      "cell_type": "code",
      "metadata": {
        "colab": {
          "base_uri": "https://localhost:8080/"
        },
        "id": "25hwx4jh9tqZ",
        "outputId": "a4b4a60e-8af2-4bb9-ee01-b8cf727d48da"
      },
      "source": [
        "# Python da bir formül yazdıktan sonra altına pythonu kullanarak bir emoji atmak çok havalı olmaz mı\n",
        "print(\"\\U0001F917\")\n",
        "print(\"\\U0001F637\")\n",
        "print(\"\\U0001F62A\")\n",
        "print(\"\\U0001F618\")\n",
        "print(\"\\U0001F600\")"
      ],
      "execution_count": null,
      "outputs": [
        {
          "output_type": "stream",
          "text": [
            "🤗\n",
            "😷\n",
            "😪\n",
            "😘\n",
            "😀\n"
          ],
          "name": "stdout"
        }
      ]
    },
    {
      "cell_type": "code",
      "metadata": {
        "colab": {
          "base_uri": "https://localhost:8080/"
        },
        "id": "KSe0_JgRz99v",
        "outputId": "03f1ef7b-a3f2-4ce9-bc7d-90e859ee713e"
      },
      "source": [
        "given_list = [1, 2, 3, 3, 3, 3, 4, 4, 5, 5]\n",
        "given_list"
      ],
      "execution_count": null,
      "outputs": [
        {
          "output_type": "execute_result",
          "data": {
            "text/plain": [
              "[1, 2, 3, 3, 3, 3, 4, 4, 5, 5]"
            ]
          },
          "metadata": {
            "tags": []
          },
          "execution_count": 9
        }
      ]
    },
    {
      "cell_type": "code",
      "metadata": {
        "colab": {
          "base_uri": "https://localhost:8080/"
        },
        "id": "q_dJ7cXF1D5R",
        "outputId": "558fd0aa-ec8a-4395-a589-9a95154d593e"
      },
      "source": [
        "test = {1, 2, 3, 3, 3, 3, 4, 4, 5, 5}\n",
        "test"
      ],
      "execution_count": null,
      "outputs": [
        {
          "output_type": "execute_result",
          "data": {
            "text/plain": [
              "{1, 2, 3, 4, 5}"
            ]
          },
          "metadata": {
            "tags": []
          },
          "execution_count": 11
        }
      ]
    },
    {
      "cell_type": "code",
      "metadata": {
        "colab": {
          "base_uri": "https://localhost:8080/"
        },
        "id": "NNjNJ2unxX5W",
        "outputId": "585359fb-6374-48fe-9ba1-2d103780340e"
      },
      "source": [
        "a = {'carnation', 'orchid', 'rose', 'violet'}\n",
        "b = {'rose', 'orchid', 'rose', 'violet', 'carnation'}\n",
        "a == b"
      ],
      "execution_count": null,
      "outputs": [
        {
          "output_type": "execute_result",
          "data": {
            "text/plain": [
              "True"
            ]
          },
          "metadata": {
            "tags": []
          },
          "execution_count": 5
        }
      ]
    },
    {
      "cell_type": "code",
      "metadata": {
        "colab": {
          "base_uri": "https://localhost:8080/"
        },
        "id": "LXSziSoiv-KU",
        "outputId": "9e89794f-fb67-49e4-e18b-48680c26b3e7"
      },
      "source": [
        "test = {1, \"bir\", 1.0}\n",
        "len(test)"
      ],
      "execution_count": null,
      "outputs": [
        {
          "output_type": "execute_result",
          "data": {
            "text/plain": [
              "2"
            ]
          },
          "metadata": {
            "tags": []
          },
          "execution_count": 3
        }
      ]
    },
    {
      "cell_type": "code",
      "metadata": {
        "colab": {
          "base_uri": "https://localhost:8080/"
        },
        "id": "Ut2WSMPNvwaT",
        "outputId": "1c5fb306-8bfa-441a-b084-5cff8e2380b9"
      },
      "source": [
        "letter = \"a b c d e f\".split()\n",
        "print(letter)\n",
        "print(set(letter))"
      ],
      "execution_count": null,
      "outputs": [
        {
          "output_type": "stream",
          "text": [
            "['a', 'b', 'c', 'd', 'e', 'f']\n",
            "{'f', 'd', 'e', 'c', 'a', 'b'}\n"
          ],
          "name": "stdout"
        }
      ]
    },
    {
      "cell_type": "code",
      "metadata": {
        "colab": {
          "base_uri": "https://localhost:8080/"
        },
        "id": "X5eBSTU6whwf",
        "outputId": "70144669-dba7-4a05-cb4f-fd5a83d86744"
      },
      "source": [
        "n = int(input('enter a number between 1-10'))\n",
        "\n",
        "for i in range(11):\n",
        "    print(\"%d * %d = %d\" %(n, i, n*i))"
      ],
      "execution_count": null,
      "outputs": [
        {
          "output_type": "stream",
          "text": [
            "enter a number between 1-109\n",
            "9 * 0 = 0\n",
            "9 * 1 = 9\n",
            "9 * 2 = 18\n",
            "9 * 3 = 27\n",
            "9 * 4 = 36\n",
            "9 * 5 = 45\n",
            "9 * 6 = 54\n",
            "9 * 7 = 63\n",
            "9 * 8 = 72\n",
            "9 * 9 = 81\n",
            "9 * 10 = 90\n"
          ],
          "name": "stdout"
        }
      ]
    },
    {
      "cell_type": "code",
      "metadata": {
        "colab": {
          "base_uri": "https://localhost:8080/"
        },
        "id": "mhWgn3RTtEcK",
        "outputId": "1e46adbf-b6a7-4ef1-cca0-261e4293fc0c"
      },
      "source": [
        "n = int(input('enter a number between 1-10'))\n",
        "\n",
        "for i in range(11):\n",
        "    print('{}x{} = '.format(n, i), n*i)"
      ],
      "execution_count": null,
      "outputs": [
        {
          "output_type": "stream",
          "text": [
            "enter a number between 1-109\n",
            "9x0 =  0\n",
            "9x1 =  9\n",
            "9x2 =  18\n",
            "9x3 =  27\n",
            "9x4 =  36\n",
            "9x5 =  45\n",
            "9x6 =  54\n",
            "9x7 =  63\n",
            "9x8 =  72\n",
            "9x9 =  81\n",
            "9x10 =  90\n"
          ],
          "name": "stdout"
        }
      ]
    },
    {
      "cell_type": "code",
      "metadata": {
        "colab": {
          "base_uri": "https://localhost:8080/"
        },
        "id": "j8uMcunrhCzs",
        "outputId": "aa08636a-0e4e-4d7f-814e-9e39958da342"
      },
      "source": [
        "iterable = [1, 2, 3, 4]\n",
        "for i in iterable :\n",
        "  print(i*i) \n",
        "   "
      ],
      "execution_count": null,
      "outputs": [
        {
          "output_type": "stream",
          "text": [
            "1\n",
            "4\n",
            "9\n",
            "16\n"
          ],
          "name": "stdout"
        }
      ]
    },
    {
      "cell_type": "code",
      "metadata": {
        "colab": {
          "base_uri": "https://localhost:8080/"
        },
        "id": "g9DUMbCjZUXD",
        "outputId": "5997e11b-2670-4e96-d2bc-bbb475d2a688"
      },
      "source": [
        "for i in {'n1' : 'one', 'n2' : 'two'} : print(i) "
      ],
      "execution_count": null,
      "outputs": [
        {
          "output_type": "stream",
          "text": [
            "n1\n",
            "n2\n"
          ],
          "name": "stdout"
        }
      ]
    },
    {
      "cell_type": "code",
      "metadata": {
        "colab": {
          "base_uri": "https://localhost:8080/"
        },
        "id": "H7-C7w0ZIipy",
        "outputId": "4d1df3aa-0fd6-4e7d-b089-9648fc5d8913"
      },
      "source": [
        "seasons = ['spring', 'summer', 'autumn', 'winter']\n",
        "\n",
        "for m in seasons :\n",
        "    print(m)"
      ],
      "execution_count": null,
      "outputs": [
        {
          "output_type": "stream",
          "text": [
            "spring\n",
            "summer\n",
            "autumn\n",
            "winter\n"
          ],
          "name": "stdout"
        }
      ]
    },
    {
      "cell_type": "code",
      "metadata": {
        "colab": {
          "base_uri": "https://localhost:8080/"
        },
        "id": "Vv4Qhr2VIZdp",
        "outputId": "19867956-7d50-46c5-c1c0-31160b45a381"
      },
      "source": [
        "for x in [1, 2, 3, 4, 5] :\n",
        "    print(x)"
      ],
      "execution_count": null,
      "outputs": [
        {
          "output_type": "stream",
          "text": [
            "1\n",
            "2\n",
            "3\n",
            "4\n",
            "5\n"
          ],
          "name": "stdout"
        }
      ]
    },
    {
      "cell_type": "code",
      "metadata": {
        "colab": {
          "base_uri": "https://localhost:8080/"
        },
        "id": "KnaT6A2zCnEY",
        "outputId": "89e22bef-9134-4018-8868-3d12c95aecf5"
      },
      "source": [
        "flowers = ['Rose', 'Orchid', 'Tulip']\n",
        "count1 = len(flowers)\n",
        "count2 = 0\n",
        "\n",
        "while count1 > 0 :\n",
        "    print(flowers[count2])\n",
        "    count1 -= 1\n",
        "    count2 += 1"
      ],
      "execution_count": null,
      "outputs": [
        {
          "output_type": "stream",
          "text": [
            "Rose\n",
            "Orchid\n",
            "Tulip\n"
          ],
          "name": "stdout"
        }
      ]
    },
    {
      "cell_type": "code",
      "metadata": {
        "colab": {
          "base_uri": "https://localhost:8080/"
        },
        "id": "5zmIaIf1_aD2",
        "outputId": "93cd8756-2f35-4154-97ae-0bc85af3508c"
      },
      "source": [
        "answer = 44\n",
        "\n",
        "question = 'What number am I thinking of?  '\n",
        "print (\"Let's play the guessing game!\")\n",
        "\n",
        "while True:\n",
        "    guess = int(input(question))\n",
        "\n",
        "    if guess < answer:\n",
        "        print('Little higher')\n",
        "    elif guess > answer:\n",
        "        print('Little lower')\n",
        "    else:  # guess == answer\n",
        "        print('Are you a MINDREADER!!!')\n",
        "        break"
      ],
      "execution_count": null,
      "outputs": [
        {
          "output_type": "stream",
          "text": [
            "Let's play the guessing game!\n",
            "What number am I thinking of?  40\n",
            "Little higher\n",
            "What number am I thinking of?  50\n",
            "Little lower\n",
            "What number am I thinking of?  45\n",
            "Little lower\n",
            "What number am I thinking of?  43\n",
            "Little higher\n",
            "What number am I thinking of?  44\n",
            "Are you a MINDREADER!!!\n"
          ],
          "name": "stdout"
        }
      ]
    },
    {
      "cell_type": "code",
      "metadata": {
        "colab": {
          "base_uri": "https://localhost:8080/"
        },
        "id": "7moh2AXen2zc",
        "outputId": "7ecc0041-e17b-4f33-f51d-6066be23567b"
      },
      "source": [
        "score = int (input(\"Enter your score :\"))\n",
        "\n",
        "if score >= 90:\n",
        "    if score >= 95:\n",
        "        Score_letter=\"A+\"\n",
        "    else:\n",
        "        Score_letter=\"A\"\n",
        "elif score >= 80:\n",
        "    if score >= 85:\n",
        "        Score_letter=\"B+\"\n",
        "    else:\n",
        "        Score_letter=\"B\"\n",
        "elif score >= 70:\n",
        "    if score >= 75:\n",
        "        Score_letter=\"C+\"\n",
        "    else:\n",
        "        Score_letter=\"C\"\n",
        "elif score >= 60:\n",
        "    if score >= 65:\n",
        "        Score_letter=\"D+\"\n",
        "    else:\n",
        "        Score_letter=\"D\"    \n",
        "elif score >= 50:\n",
        "    if score >= 55:\n",
        "        Score_letter=\"E+\"\n",
        "    else:\n",
        "        Score_letter=\"E\"           \n",
        "else:\n",
        "    Score_letter=\"F, dersi geçemediniz\"\n",
        "\n",
        "print (\"Your degree: %s\" % Score_letter)"
      ],
      "execution_count": null,
      "outputs": [
        {
          "output_type": "stream",
          "text": [
            "Enter your score :99\n",
            "Your degree: A+\n"
          ],
          "name": "stdout"
        }
      ]
    },
    {
      "cell_type": "code",
      "metadata": {
        "colab": {
          "base_uri": "https://localhost:8080/"
        },
        "id": "h2_yuNvblOaf",
        "outputId": "162db9a1-e279-4acb-91ff-7f27621ade5a"
      },
      "source": [
        "number = 23\n",
        "if number >= 10 :\n",
        "    print('The number is equal or greater than 10')\n",
        "else :\n",
        "    print('The number is less than 10')"
      ],
      "execution_count": null,
      "outputs": [
        {
          "output_type": "stream",
          "text": [
            "The number is equal or greater than 10\n"
          ],
          "name": "stdout"
        }
      ]
    },
    {
      "cell_type": "code",
      "metadata": {
        "id": "Us6rd5_Qspqk"
      },
      "source": [
        "numbers = [1, 3, 7, 4, 3, 0, 3, 6, 3]\n",
        "freq = {}\n",
        "for item in freq:\n",
        "    if (item in freq):\n",
        "        freq[item] += 1\n",
        "    else:\n",
        "        freq[item] = 1\n",
        " \n",
        "    for key, value in freq.items():\n",
        "        print (\"% d : % d\"%(key, value))"
      ],
      "execution_count": null,
      "outputs": []
    },
    {
      "cell_type": "code",
      "metadata": {
        "colab": {
          "base_uri": "https://localhost:8080/"
        },
        "id": "qLI0H79wcITq",
        "outputId": "9974166d-78b3-4e1b-8f74-d4ae4f7847e9"
      },
      "source": [
        "numbers = [1, 3, 7, 4, 3, 0, 3, 6, 3] \n",
        "tekrar_durumu = {i : numbers.count(i) for i in set(numbers)} \n",
        "\n",
        "def max_tekrar_eden(numbers): \n",
        "  return max(set(numbers), key = numbers.count) \n",
        "a = max_tekrar_eden(numbers) \n",
        "\n",
        "list_max_tekrar_sayısı = []\n",
        "for val in tekrar_durumu.values(): \n",
        "  list_max_tekrar_sayısı.append(val) \n",
        "b = max(list_max_tekrar_sayısı)\n",
        "\n",
        "print(\"Tekrar Durumu:\", tekrar_durumu)\n",
        "print(\"En çok tekrarlanan sayı:\", a, \",\", \"Tekrar sayısı:\", b)"
      ],
      "execution_count": null,
      "outputs": [
        {
          "output_type": "stream",
          "text": [
            "Tekrar Durumu: {0: 1, 1: 1, 3: 4, 4: 1, 6: 1, 7: 1}\n",
            "En çok tekrarlanan sayı: 3 , Tekrar sayısı: 4\n"
          ],
          "name": "stdout"
        }
      ]
    },
    {
      "cell_type": "code",
      "metadata": {
        "colab": {
          "base_uri": "https://localhost:8080/"
        },
        "id": "5GWBVfejoa4d",
        "outputId": "293e4752-dd30-44f5-d9a2-3060e3f69c38"
      },
      "source": [
        "numbers = [1, 3, 7, 4, 3, 0, 3, 6, 3] \n",
        "tekrar_durumu = {i : numbers.count(i) for i in set(numbers)} \n",
        "x = len(numbers)\n",
        "if i not in numbers : x-=1\n",
        "print(i)\n",
        "  \n",
        "#def max_tekrar_eden(numbers): \n",
        "#  return max(set(numbers), key = numbers.count) \n",
        "#a = max_tekrar_eden(numbers) \n",
        "\n",
        "#list_max_tekrar_sayısı = []\n",
        "#for val in tekrar_durumu.values(): \n",
        "#  list_max_tekrar_sayısı.append(val) \n",
        "#b = max(list_max_tekrar_sayısı)\n",
        "\n",
        "print(\"En çok tekrarlanan sayı:\", a, \",\", \"Tekrar sayısı:\", b)"
      ],
      "execution_count": null,
      "outputs": [
        {
          "output_type": "stream",
          "text": [
            "7\n",
            "En çok tekrarlanan sayı: 3 , Tekrar sayısı: 4\n"
          ],
          "name": "stdout"
        }
      ]
    },
    {
      "cell_type": "code",
      "metadata": {
        "colab": {
          "base_uri": "https://localhost:8080/"
        },
        "id": "q9Zb4v4mb0tm",
        "outputId": "9cbd7789-bffb-4a04-88ef-ef4559d9025c"
      },
      "source": [
        "numbers = [1, 3, 7, 4, 3, 0, 3, 6, 3]\n",
        "tekrar_durumu = {i : numbers.count(i) for i in set(numbers)}\n",
        "\n",
        "print(tekrar_durumu)\n"
      ],
      "execution_count": null,
      "outputs": [
        {
          "output_type": "stream",
          "text": [
            "{0: 1, 1: 1, 3: 4, 4: 1, 6: 1, 7: 1}\n"
          ],
          "name": "stdout"
        }
      ]
    },
    {
      "cell_type": "code",
      "metadata": {
        "colab": {
          "base_uri": "https://localhost:8080/"
        },
        "id": "G1bpTlYWoHnM",
        "outputId": "c72c9f3f-9ae2-42f9-dfd5-f18deae94ed2"
      },
      "source": [
        "numbers = [1, 3, 7, 4, 3, 0, 3, 6, 3]\n",
        "def most_frequent(numbers):\n",
        "    return max(set(numbers), key = numbers.count)\n",
        "print(most_frequent(numbers))"
      ],
      "execution_count": null,
      "outputs": [
        {
          "output_type": "stream",
          "text": [
            "3\n"
          ],
          "name": "stdout"
        }
      ]
    },
    {
      "cell_type": "code",
      "metadata": {
        "colab": {
          "base_uri": "https://localhost:8080/"
        },
        "id": "7DWcTIfFWjiH",
        "outputId": "2876504e-b3c4-4b6d-aad8-42a065163de4"
      },
      "source": [
        "sayılar = {\"tek\" : [],\n",
        "           \"çift\" :[]}\n",
        "sayılar[\"tek\"]"
      ],
      "execution_count": null,
      "outputs": [
        {
          "output_type": "execute_result",
          "data": {
            "text/plain": [
              "[]"
            ]
          },
          "metadata": {
            "tags": []
          },
          "execution_count": 15
        }
      ]
    },
    {
      "cell_type": "code",
      "metadata": {
        "colab": {
          "base_uri": "https://localhost:8080/",
          "height": 167
        },
        "id": "kXayxz31WjUi",
        "outputId": "df9df1d7-5909-4dbf-d07c-fb6643ead661"
      },
      "source": [
        "sayılar[\"tek\"]"
      ],
      "execution_count": null,
      "outputs": [
        {
          "output_type": "error",
          "ename": "NameError",
          "evalue": "ignored",
          "traceback": [
            "\u001b[0;31m---------------------------------------------------------------------------\u001b[0m",
            "\u001b[0;31mNameError\u001b[0m                                 Traceback (most recent call last)",
            "\u001b[0;32m<ipython-input-12-ea9700c4a686>\u001b[0m in \u001b[0;36m<module>\u001b[0;34m()\u001b[0m\n\u001b[0;32m----> 1\u001b[0;31m \u001b[0msayılar\u001b[0m\u001b[0;34m[\u001b[0m\u001b[0;34m\"tek\"\u001b[0m\u001b[0;34m]\u001b[0m\u001b[0;34m\u001b[0m\u001b[0;34m\u001b[0m\u001b[0m\n\u001b[0m",
            "\u001b[0;31mNameError\u001b[0m: name 'sayılar' is not defined"
          ]
        }
      ]
    },
    {
      "cell_type": "code",
      "metadata": {
        "id": "Pmh8EpTbFVpl"
      },
      "source": [
        "first_dict = {1 : \"one\", \"two\" : 2, False : [1,2,3]}"
      ],
      "execution_count": null,
      "outputs": []
    },
    {
      "cell_type": "code",
      "metadata": {
        "colab": {
          "base_uri": "https://localhost:8080/",
          "height": 167
        },
        "id": "IwO9lz_3FVhV",
        "outputId": "db9c9409-aa65-4e09-b145-dd5c4db12fee"
      },
      "source": [
        "first_dict"
      ],
      "execution_count": null,
      "outputs": [
        {
          "output_type": "error",
          "ename": "NameError",
          "evalue": "ignored",
          "traceback": [
            "\u001b[0;31m---------------------------------------------------------------------------\u001b[0m",
            "\u001b[0;31mNameError\u001b[0m                                 Traceback (most recent call last)",
            "\u001b[0;32m<ipython-input-5-2624ddfc6f50>\u001b[0m in \u001b[0;36m<module>\u001b[0;34m()\u001b[0m\n\u001b[0;32m----> 1\u001b[0;31m \u001b[0mfirst_dict\u001b[0m\u001b[0;34m\u001b[0m\u001b[0;34m\u001b[0m\u001b[0m\n\u001b[0m",
            "\u001b[0;31mNameError\u001b[0m: name 'first_dict' is not defined"
          ]
        }
      ]
    },
    {
      "cell_type": "code",
      "metadata": {
        "id": "MNSsPAXzFVYT"
      },
      "source": [
        "third_dict = {(1,2,3) : \"liste\", \"clarus\" : \"the best\"}"
      ],
      "execution_count": null,
      "outputs": []
    },
    {
      "cell_type": "code",
      "metadata": {
        "colab": {
          "base_uri": "https://localhost:8080/"
        },
        "id": "eo7vwrbCFVOE",
        "outputId": "8c8b9396-7885-4807-cefb-d219a2aee6c2"
      },
      "source": [
        "third_dict"
      ],
      "execution_count": null,
      "outputs": [
        {
          "output_type": "execute_result",
          "data": {
            "text/plain": [
              "{(1, 2, 3): 'liste', 'clarus': 'the best'}"
            ]
          },
          "metadata": {
            "tags": []
          },
          "execution_count": 7
        }
      ]
    },
    {
      "cell_type": "code",
      "metadata": {
        "colab": {
          "base_uri": "https://localhost:8080/",
          "height": 202
        },
        "id": "UpEtpYkwFVEG",
        "outputId": "b9e49e6b-74c1-4ea9-aa8b-d7c2373509c9"
      },
      "source": [
        "family = {\"name1\" : \"ay\",\n",
        "          \"name2\" : \"haso\",\n",
        "          \"name3\" : \"taso\"}\n",
        "print(familiy)    "
      ],
      "execution_count": null,
      "outputs": [
        {
          "output_type": "error",
          "ename": "NameError",
          "evalue": "ignored",
          "traceback": [
            "\u001b[0;31m---------------------------------------------------------------------------\u001b[0m",
            "\u001b[0;31mNameError\u001b[0m                                 Traceback (most recent call last)",
            "\u001b[0;32m<ipython-input-11-125a85c41adc>\u001b[0m in \u001b[0;36m<module>\u001b[0;34m()\u001b[0m\n\u001b[1;32m      2\u001b[0m           \u001b[0;34m\"name2\"\u001b[0m \u001b[0;34m:\u001b[0m \u001b[0;34m\"haso\"\u001b[0m\u001b[0;34m,\u001b[0m\u001b[0;34m\u001b[0m\u001b[0;34m\u001b[0m\u001b[0m\n\u001b[1;32m      3\u001b[0m           \"name3\" : \"taso\"}\n\u001b[0;32m----> 4\u001b[0;31m \u001b[0mprint\u001b[0m\u001b[0;34m(\u001b[0m\u001b[0mfamiliy\u001b[0m\u001b[0;34m)\u001b[0m\u001b[0;34m\u001b[0m\u001b[0;34m\u001b[0m\u001b[0m\n\u001b[0m",
            "\u001b[0;31mNameError\u001b[0m: name 'familiy' is not defined"
          ]
        }
      ]
    },
    {
      "cell_type": "code",
      "metadata": {
        "colab": {
          "base_uri": "https://localhost:8080/",
          "height": 167
        },
        "id": "WXRQUsfVFU25",
        "outputId": "0178b3f7-5845-4ad8-b94b-953c484f87ff"
      },
      "source": [
        "print(family)"
      ],
      "execution_count": null,
      "outputs": [
        {
          "output_type": "error",
          "ename": "NameError",
          "evalue": "ignored",
          "traceback": [
            "\u001b[0;31m---------------------------------------------------------------------------\u001b[0m",
            "\u001b[0;31mNameError\u001b[0m                                 Traceback (most recent call last)",
            "\u001b[0;32m<ipython-input-10-647b3f72b59c>\u001b[0m in \u001b[0;36m<module>\u001b[0;34m()\u001b[0m\n\u001b[0;32m----> 1\u001b[0;31m \u001b[0mprint\u001b[0m\u001b[0;34m(\u001b[0m\u001b[0mfamily\u001b[0m\u001b[0;34m)\u001b[0m\u001b[0;34m\u001b[0m\u001b[0;34m\u001b[0m\u001b[0m\n\u001b[0m",
            "\u001b[0;31mNameError\u001b[0m: name 'family' is not defined"
          ]
        }
      ]
    },
    {
      "cell_type": "code",
      "metadata": {
        "colab": {
          "base_uri": "https://localhost:8080/"
        },
        "id": "rr6mYZLwfTUo",
        "outputId": "8b1f8a98-807b-405c-8086-e827a36e78a1"
      },
      "source": [
        "print(\"xyyzxyyzxzxyy\".count('yy', 2))"
      ],
      "execution_count": null,
      "outputs": [
        {
          "output_type": "stream",
          "text": [
            "2\n"
          ],
          "name": "stdout"
        }
      ]
    },
    {
      "cell_type": "code",
      "metadata": {
        "colab": {
          "base_uri": "https://localhost:8080/"
        },
        "id": "bTjzj9ffd0pD",
        "outputId": "8d613746-44f2-4fde-d866-c13f1a3c6dbc"
      },
      "source": [
        "print(format(\"Welcome\", \"10s\"))\n",
        "\n",
        "print(format(111, \"7d\"), end = '#')\n",
        "\n",
        "print(format(924.656, \".2f\"))"
      ],
      "execution_count": null,
      "outputs": [
        {
          "output_type": "stream",
          "text": [
            "Welcome   \n",
            "    111#924.66\n"
          ],
          "name": "stdout"
        }
      ]
    },
    {
      "cell_type": "code",
      "metadata": {
        "colab": {
          "base_uri": "https://localhost:8080/"
        },
        "id": "PVEkNH3xLjbG",
        "outputId": "e31c6ecb-9806-46c6-f056-369aaf8d31bf"
      },
      "source": [
        "example=\"snow world\"\n",
        "print(\"%s\" % example[4:7])"
      ],
      "execution_count": null,
      "outputs": [
        {
          "output_type": "stream",
          "text": [
            " wo\n"
          ],
          "name": "stdout"
        }
      ]
    },
    {
      "cell_type": "code",
      "metadata": {
        "colab": {
          "base_uri": "https://localhost:8080/"
        },
        "id": "SIFXRyfnDuLu",
        "outputId": "b27cb273-c0a2-4695-c0a1-269a61c8f156"
      },
      "source": [
        "list_1 = ['one', 'four', 'nine']\n",
        "list_2 = ['@', '*-', 'False']\n",
        "list_3 = [True, False]\n",
        "list_4 = [[3], [44], [-12]]\n",
        "list_5 = [[1, 3], [44, -40], [-12, 1]]\n",
        "list_2.sort()\n",
        "list_2\n",
        "list_5.sort()\n",
        "list_5"
      ],
      "execution_count": null,
      "outputs": [
        {
          "output_type": "execute_result",
          "data": {
            "text/plain": [
              "[[-12, 1], [1, 3], [44, -40]]"
            ]
          },
          "metadata": {
            "tags": []
          },
          "execution_count": 7
        }
      ]
    },
    {
      "cell_type": "code",
      "metadata": {
        "colab": {
          "base_uri": "https://localhost:8080/"
        },
        "id": "mtPtEl0sDuId",
        "outputId": "0508fe50-8182-4888-85c0-806844878991"
      },
      "source": [
        "list_1 = ['one', 'four', 'nine']\n",
        "list_1.sort()\n",
        "list_1"
      ],
      "execution_count": null,
      "outputs": [
        {
          "output_type": "execute_result",
          "data": {
            "text/plain": [
              "['four', 'nine', 'one']"
            ]
          },
          "metadata": {
            "tags": []
          },
          "execution_count": 2
        }
      ]
    },
    {
      "cell_type": "code",
      "metadata": {
        "colab": {
          "base_uri": "https://localhost:8080/"
        },
        "id": "5-535Q0bDuFh",
        "outputId": "d45dd54b-df8a-425f-86b4-d71f34356678"
      },
      "source": [
        "len(\"a b\")"
      ],
      "execution_count": null,
      "outputs": [
        {
          "output_type": "execute_result",
          "data": {
            "text/plain": [
              "3"
            ]
          },
          "metadata": {
            "tags": []
          },
          "execution_count": 8
        }
      ]
    },
    {
      "cell_type": "code",
      "metadata": {
        "colab": {
          "base_uri": "https://localhost:8080/"
        },
        "id": "wV10pq5LDuC4",
        "outputId": "0d8211af-582a-4557-80eb-79ba8b43a631"
      },
      "source": [
        "len([\"a b\"])"
      ],
      "execution_count": null,
      "outputs": [
        {
          "output_type": "execute_result",
          "data": {
            "text/plain": [
              "1"
            ]
          },
          "metadata": {
            "tags": []
          },
          "execution_count": 9
        }
      ]
    },
    {
      "cell_type": "code",
      "metadata": {
        "colab": {
          "base_uri": "https://localhost:8080/"
        },
        "id": "k_snR0KMDt__",
        "outputId": "9ebf929e-a904-4116-9a85-0762a42e4c36"
      },
      "source": [
        "len([\"a b\", False, None, []])"
      ],
      "execution_count": null,
      "outputs": [
        {
          "output_type": "execute_result",
          "data": {
            "text/plain": [
              "4"
            ]
          },
          "metadata": {
            "tags": []
          },
          "execution_count": 10
        }
      ]
    },
    {
      "cell_type": "code",
      "metadata": {
        "colab": {
          "base_uri": "https://localhost:8080/",
          "height": 167
        },
        "id": "poSw1ihjDt82",
        "outputId": "cb452d05-0b85-439d-954d-3fe913022c67"
      },
      "source": [
        "len(1234) # integer iterable değil, elemanlarına ayrılamaz"
      ],
      "execution_count": null,
      "outputs": [
        {
          "output_type": "error",
          "ename": "TypeError",
          "evalue": "ignored",
          "traceback": [
            "\u001b[0;31m---------------------------------------------------------------------------\u001b[0m",
            "\u001b[0;31mTypeError\u001b[0m                                 Traceback (most recent call last)",
            "\u001b[0;32m<ipython-input-11-ec67a52704b7>\u001b[0m in \u001b[0;36m<module>\u001b[0;34m()\u001b[0m\n\u001b[0;32m----> 1\u001b[0;31m \u001b[0mlen\u001b[0m\u001b[0;34m(\u001b[0m\u001b[0;36m1234\u001b[0m\u001b[0;34m)\u001b[0m\u001b[0;34m\u001b[0m\u001b[0;34m\u001b[0m\u001b[0m\n\u001b[0m",
            "\u001b[0;31mTypeError\u001b[0m: object of type 'int' has no len()"
          ]
        }
      ]
    },
    {
      "cell_type": "code",
      "metadata": {
        "colab": {
          "base_uri": "https://localhost:8080/"
        },
        "id": "O9g_dwJaDt1t",
        "outputId": "8495daae-6a94-4a66-edfd-fd70d48cc03a"
      },
      "source": [
        "[1,3,6,9][2] #listeyi bir değişkene atamadan doğrudan indeksleyebiliriz\n",
        "# listenin 2. elemanını ver"
      ],
      "execution_count": null,
      "outputs": [
        {
          "output_type": "execute_result",
          "data": {
            "text/plain": [
              "6"
            ]
          },
          "metadata": {
            "tags": []
          },
          "execution_count": 12
        }
      ]
    },
    {
      "cell_type": "code",
      "metadata": {
        "colab": {
          "base_uri": "https://localhost:8080/"
        },
        "id": "cHyLh-OoDtmA",
        "outputId": "4b90bb2a-4b1a-4d24-92c7-1ab99b0ab621"
      },
      "source": [
        "liste=[1,[1,3,5,7,9,11],4]\n",
        "liste[1][::2]"
      ],
      "execution_count": null,
      "outputs": [
        {
          "output_type": "execute_result",
          "data": {
            "text/plain": [
              "[1, 5, 9]"
            ]
          },
          "metadata": {
            "tags": []
          },
          "execution_count": 13
        }
      ]
    },
    {
      "cell_type": "code",
      "metadata": {
        "id": "ucWUvCT9COzb",
        "colab": {
          "base_uri": "https://localhost:8080/",
          "height": 35
        },
        "outputId": "77fbf8d5-0bc8-45d3-ee27-fd7512945b6a"
      },
      "source": [
        "text='tyou can learn almost everything in pre-classz'\n",
        "text_1=text.lstrip(\"t\").rstrip(\"z\").upper()\n",
        "text_1"
      ],
      "execution_count": null,
      "outputs": [
        {
          "output_type": "execute_result",
          "data": {
            "application/vnd.google.colaboratory.intrinsic+json": {
              "type": "string"
            },
            "text/plain": [
              "'YOU CAN LEARN ALMOST EVERYTHING IN PRE-CLASS'"
            ]
          },
          "metadata": {
            "tags": []
          },
          "execution_count": 4
        }
      ]
    },
    {
      "cell_type": "code",
      "metadata": {
        "id": "sgB51zvWVwD1",
        "colab": {
          "base_uri": "https://localhost:8080/",
          "height": 35
        },
        "outputId": "f953f231-bf1e-4987-ca3f-e59f54df00bf"
      },
      "source": [
        "pwd\n"
      ],
      "execution_count": null,
      "outputs": [
        {
          "output_type": "execute_result",
          "data": {
            "application/vnd.google.colaboratory.intrinsic+json": {
              "type": "string"
            },
            "text/plain": [
              "'/content'"
            ]
          },
          "metadata": {
            "tags": []
          },
          "execution_count": 14
        }
      ]
    },
    {
      "cell_type": "code",
      "metadata": {
        "colab": {
          "base_uri": "https://localhost:8080/"
        },
        "id": "Py6ALyUHrG8a",
        "outputId": "290e722f-8d66-4bc1-9f26-fd3b87ffe61c"
      },
      "source": [
        "ls\n"
      ],
      "execution_count": null,
      "outputs": [
        {
          "output_type": "stream",
          "text": [
            "\u001b[0m\u001b[01;34msample_data\u001b[0m/\n"
          ],
          "name": "stdout"
        }
      ]
    },
    {
      "cell_type": "code",
      "metadata": {
        "id": "iKAZ-H2A_FNz",
        "colab": {
          "base_uri": "https://localhost:8080/"
        },
        "outputId": "04d5ca1d-2fd7-44cf-ab25-9c0e659a808f"
      },
      "source": [
        "# Assignment 3. All variables have either True or False\n",
        "age = False  # Are you a cigarette addict older than 75 years old?\n",
        "chronic = False  # Do you have a severe chronic disease?\n",
        "immune = True  # Is your immune system too weak? False means immune system is strong enough\n",
        "risk = ((age or chronic) and immune) or immune  # if True, there is a risk\n",
        "print(risk)"
      ],
      "execution_count": null,
      "outputs": [
        {
          "output_type": "stream",
          "text": [
            "True\n"
          ],
          "name": "stdout"
        }
      ]
    },
    {
      "cell_type": "code",
      "metadata": {
        "colab": {
          "base_uri": "https://localhost:8080/"
        },
        "id": "o7Ty3wmImRP0",
        "outputId": "35fd3f69-b7a0-4c1b-a85d-164186613000"
      },
      "source": [
        "# Assignment 3. All variables have either True or False\n",
        "age = True  # Are you a cigarette addict older than 75 years old?\n",
        "chronic = True  # Do you have a severe chronic disease?\n",
        "immune = True  # Is your immune system too weak? True means immune system is too weak\n",
        "risk = age or chronic or immune # if True, there is a risk\n",
        "print(risk)"
      ],
      "execution_count": null,
      "outputs": [
        {
          "output_type": "stream",
          "text": [
            "True\n"
          ],
          "name": "stdout"
        }
      ]
    },
    {
      "cell_type": "code",
      "metadata": {
        "id": "r8295FLpYq04",
        "colab": {
          "base_uri": "https://localhost:8080/",
          "height": 132
        },
        "outputId": "3f8e2255-982e-4b19-c418-add3e3f1ae81"
      },
      "source": [
        "my_list = list (range(1,11))\n",
        "for n in range(1,11,-1))\n",
        "print(n)\n"
      ],
      "execution_count": null,
      "outputs": [
        {
          "output_type": "error",
          "ename": "SyntaxError",
          "evalue": "ignored",
          "traceback": [
            "\u001b[0;36m  File \u001b[0;32m\"<ipython-input-61-19a9b93983de>\"\u001b[0;36m, line \u001b[0;32m2\u001b[0m\n\u001b[0;31m    for n in range(1,11,-1))\u001b[0m\n\u001b[0m                           ^\u001b[0m\n\u001b[0;31mSyntaxError\u001b[0m\u001b[0;31m:\u001b[0m invalid syntax\n"
          ]
        }
      ]
    },
    {
      "cell_type": "code",
      "metadata": {
        "colab": {
          "base_uri": "https://localhost:8080/"
        },
        "id": "RDOFfk_1x4rJ",
        "outputId": "40e9d502-f02f-4237-c6b1-738f40f82310"
      },
      "source": [
        "set((1,2,2,3,4,5))"
      ],
      "execution_count": null,
      "outputs": [
        {
          "output_type": "execute_result",
          "data": {
            "text/plain": [
              "{1, 2, 3, 4, 5}"
            ]
          },
          "metadata": {
            "tags": []
          },
          "execution_count": 30
        }
      ]
    },
    {
      "cell_type": "code",
      "metadata": {
        "id": "9LomP_f8DrBD"
      },
      "source": [
        "my_list=list(range(1,11))\n",
        "my_list=my_list.sort()\n",
        "print(my_list[::-1])"
      ],
      "execution_count": null,
      "outputs": []
    },
    {
      "cell_type": "code",
      "metadata": {
        "colab": {
          "base_uri": "https://localhost:8080/"
        },
        "id": "DELzN0r4l1w9",
        "outputId": "affc2f87-787f-4637-9f1a-a4c666a031eb"
      },
      "source": [
        "a = 1\n",
        "print(-a)"
      ],
      "execution_count": null,
      "outputs": [
        {
          "output_type": "stream",
          "text": [
            "-1\n"
          ],
          "name": "stdout"
        }
      ]
    },
    {
      "cell_type": "code",
      "metadata": {
        "id": "mDxJM_rHmrIA"
      },
      "source": [
        "a = 3"
      ],
      "execution_count": null,
      "outputs": []
    },
    {
      "cell_type": "code",
      "metadata": {
        "colab": {
          "base_uri": "https://localhost:8080/"
        },
        "id": "-6krbMHQmU9Q",
        "outputId": "fe085e17-d146-4fee-a739-d5d77983c5f2"
      },
      "source": [
        "b=-11\n",
        "print(-b)"
      ],
      "execution_count": null,
      "outputs": [
        {
          "output_type": "stream",
          "text": [
            "11\n"
          ],
          "name": "stdout"
        }
      ]
    },
    {
      "cell_type": "code",
      "metadata": {
        "colab": {
          "base_uri": "https://localhost:8080/"
        },
        "id": "-OVi5r8jmBZL",
        "outputId": "81824dfd-71d2-4944-bd6d-37ec2c65cbf7"
      },
      "source": [
        "a = 3\n",
        "b = 4\n",
        "print(\"The sum of {} + {} is {}\".format(a, b, a+b))"
      ],
      "execution_count": null,
      "outputs": [
        {
          "output_type": "stream",
          "text": [
            "The sum of 3 + 4 is 7\n"
          ],
          "name": "stdout"
        }
      ]
    },
    {
      "cell_type": "code",
      "metadata": {
        "colab": {
          "base_uri": "https://localhost:8080/"
        },
        "id": "v2wwS5VvnLDl",
        "outputId": "1638d679-ed0e-4661-83ee-189fa9ff106a"
      },
      "source": [
        "text = \"{:.2f}, {:.3f}, {:.4f}\".format(3.1463, 5.367, 7.324324)\n",
        "print(text)"
      ],
      "execution_count": null,
      "outputs": [
        {
          "output_type": "stream",
          "text": [
            "3.15, 5.367, 7.3243\n"
          ],
          "name": "stdout"
        }
      ]
    },
    {
      "cell_type": "code",
      "metadata": {
        "colab": {
          "base_uri": "https://localhost:8080/"
        },
        "id": "jYSEC_NcogBo",
        "outputId": "4fa7aaa7-f255-49df-a9f2-729a33540d51"
      },
      "source": [
        "text = \"{:.2s}, {:.3s}, {:.4s}\".format(\"a3.1463\", \"5.b367\", \"7.324324c\")\n",
        "print(text)"
      ],
      "execution_count": null,
      "outputs": [
        {
          "output_type": "stream",
          "text": [
            "a3, 5.b, 7.32\n"
          ],
          "name": "stdout"
        }
      ]
    },
    {
      "cell_type": "code",
      "metadata": {
        "colab": {
          "base_uri": "https://localhost:8080/"
        },
        "id": "_7uScozzpNia",
        "outputId": "db141f07-4c89-487a-8cda-294d1f69d90d"
      },
      "source": [
        "text = \"{:.2}, {:.3}, {:.4}\".format(\"3.1463\", \"a5.367\", \"7.324324\")\n",
        "print(text)"
      ],
      "execution_count": null,
      "outputs": [
        {
          "output_type": "stream",
          "text": [
            "3., a5., 7.32\n"
          ],
          "name": "stdout"
        }
      ]
    },
    {
      "cell_type": "code",
      "metadata": {
        "colab": {
          "base_uri": "https://localhost:8080/",
          "height": 35
        },
        "id": "L2pupjDxqjxq",
        "outputId": "90007cce-ccab-45c6-e026-79d5602b80ea"
      },
      "source": [
        "text = \"{:>10}\".format(\"test\")  # 10 karakterlik bir alanda sağa yaslama\n",
        "text"
      ],
      "execution_count": null,
      "outputs": [
        {
          "output_type": "execute_result",
          "data": {
            "application/vnd.google.colaboratory.intrinsic+json": {
              "type": "string"
            },
            "text/plain": [
              "'      test'"
            ]
          },
          "metadata": {
            "tags": []
          },
          "execution_count": 11
        }
      ]
    },
    {
      "cell_type": "code",
      "metadata": {
        "colab": {
          "base_uri": "https://localhost:8080/",
          "height": 35
        },
        "id": "LB1vGJZ0q6CX",
        "outputId": "804b3eae-8380-4b99-f58d-cabfd8486428"
      },
      "source": [
        "text = \"{:<10}\".format(\"test\")\n",
        "text\n"
      ],
      "execution_count": null,
      "outputs": [
        {
          "output_type": "execute_result",
          "data": {
            "application/vnd.google.colaboratory.intrinsic+json": {
              "type": "string"
            },
            "text/plain": [
              "'test      '"
            ]
          },
          "metadata": {
            "tags": []
          },
          "execution_count": 14
        }
      ]
    },
    {
      "cell_type": "code",
      "metadata": {
        "colab": {
          "base_uri": "https://localhost:8080/",
          "height": 35
        },
        "id": "CMT5Bo6mrtD3",
        "outputId": "8577c408-d3f5-49f8-fd24-4dbb55485707"
      },
      "source": [
        "text = \"bla bla {:<15} formatlama cümleciği\".format(\"ökkeş\")\n",
        "text"
      ],
      "execution_count": null,
      "outputs": [
        {
          "output_type": "execute_result",
          "data": {
            "application/vnd.google.colaboratory.intrinsic+json": {
              "type": "string"
            },
            "text/plain": [
              "'bla bla ökkeş           formatlama cümleciği'"
            ]
          },
          "metadata": {
            "tags": []
          },
          "execution_count": 16
        }
      ]
    },
    {
      "cell_type": "code",
      "metadata": {
        "colab": {
          "base_uri": "https://localhost:8080/",
          "height": 35
        },
        "id": "qUW_mxOIsLhc",
        "outputId": "196ef56f-dd86-4d52-86dc-d81613780ea7"
      },
      "source": [
        "text = \"{:^20}\".format(\"abc\")  # 20 karakterleik alan içine ortalama\n",
        "text"
      ],
      "execution_count": null,
      "outputs": [
        {
          "output_type": "execute_result",
          "data": {
            "application/vnd.google.colaboratory.intrinsic+json": {
              "type": "string"
            },
            "text/plain": [
              "'        abc         '"
            ]
          },
          "metadata": {
            "tags": []
          },
          "execution_count": 17
        }
      ]
    },
    {
      "cell_type": "code",
      "metadata": {
        "colab": {
          "base_uri": "https://localhost:8080/",
          "height": 35
        },
        "id": "qgB3SC8Gsi7I",
        "outputId": "f54a7235-c1a0-4478-a804-52e3d8cacc55"
      },
      "source": [
        "\"{:10.5}\".format(\"hippopotamus\")  #  5 karakterini"
      ],
      "execution_count": null,
      "outputs": [
        {
          "output_type": "execute_result",
          "data": {
            "application/vnd.google.colaboratory.intrinsic+json": {
              "type": "string"
            },
            "text/plain": [
              "'hippo     '"
            ]
          },
          "metadata": {
            "tags": []
          },
          "execution_count": 20
        }
      ]
    },
    {
      "cell_type": "code",
      "metadata": {
        "colab": {
          "base_uri": "https://localhost:8080/",
          "height": 35
        },
        "id": "DBxvcUuTtIbY",
        "outputId": "60035b9d-37af-4fbc-f9d9-b62d34f122ef"
      },
      "source": [
        "\"{:>15.5}\".format(\"hippopotamus\")"
      ],
      "execution_count": null,
      "outputs": [
        {
          "output_type": "execute_result",
          "data": {
            "application/vnd.google.colaboratory.intrinsic+json": {
              "type": "string"
            },
            "text/plain": [
              "'          hippo'"
            ]
          },
          "metadata": {
            "tags": []
          },
          "execution_count": 21
        }
      ]
    },
    {
      "cell_type": "code",
      "metadata": {
        "colab": {
          "base_uri": "https://localhost:8080/",
          "height": 35
        },
        "id": "k9FFijywtVSf",
        "outputId": "b41f369b-2ced-4e00-ede4-d214194a07ec"
      },
      "source": [
        "\"{:+d}\".format(115)  # +115"
      ],
      "execution_count": null,
      "outputs": [
        {
          "output_type": "execute_result",
          "data": {
            "application/vnd.google.colaboratory.intrinsic+json": {
              "type": "string"
            },
            "text/plain": [
              "'+115'"
            ]
          },
          "metadata": {
            "tags": []
          },
          "execution_count": 22
        }
      ]
    },
    {
      "cell_type": "code",
      "metadata": {
        "colab": {
          "base_uri": "https://localhost:8080/"
        },
        "id": "w2nlzzBu8pMY",
        "outputId": "1ebf78c5-fce2-4409-a283-ea807ad998d5"
      },
      "source": [
        "a=[\"2020's hard\"]\n",
        "print(a)"
      ],
      "execution_count": null,
      "outputs": [
        {
          "output_type": "stream",
          "text": [
            "[\"2020's hard\"]\n"
          ],
          "name": "stdout"
        }
      ]
    },
    {
      "cell_type": "code",
      "metadata": {
        "colab": {
          "base_uri": "https://localhost:8080/"
        },
        "id": "AejmeH6mNUDR",
        "outputId": "517385b6-4b0a-4437-8c9b-a775493f929f"
      },
      "source": [
        "sayılar=[3,5,7]\n",
        "sayılar.remove(3)\n",
        "sayılar"
      ],
      "execution_count": null,
      "outputs": [
        {
          "output_type": "execute_result",
          "data": {
            "text/plain": [
              "[5, 7]"
            ]
          },
          "metadata": {
            "tags": []
          },
          "execution_count": 29
        }
      ]
    }
  ]
}